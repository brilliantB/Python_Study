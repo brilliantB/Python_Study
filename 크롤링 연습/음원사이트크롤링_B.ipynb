{
 "cells": [
  {
   "cell_type": "markdown",
   "id": "c06649a0",
   "metadata": {},
   "source": [
    "# 미니프로젝트 | 음원사이트 크롤링\n",
    "\n",
    "- 1) 멜론, 지니, 벅스 음원사이트에서 순위 탑100 음원들의 노래제목, 가수이름을 크롤링해서 딕셔너리로 저장\n",
    "- 2) 각 사이트에서 크롤링한 음원 순위 데이터를 비교 분석해보시오\n",
    "- 3) 사용 툴 : BeautifulSoup, Selenium\n",
    "- 4) url : https://www.melon.com/chart/index.htm /https://www.genie.co.kr/chart/top200 /  https://music.bugs.co.kr/chart"
   ]
  },
  {
   "cell_type": "code",
   "execution_count": 3,
   "id": "c4c4c32b",
   "metadata": {
    "scrolled": true
   },
   "outputs": [
    {
     "name": "stdout",
     "output_type": "stream",
     "text": [
      "Requirement already satisfied: selenium in c:\\users\\user\\anaconda3\\lib\\site-packages (4.0.0)\n",
      "Requirement already satisfied: urllib3[secure]~=1.26 in c:\\users\\user\\anaconda3\\lib\\site-packages (from selenium) (1.26.4)\n",
      "Requirement already satisfied: trio~=0.17 in c:\\users\\user\\anaconda3\\lib\\site-packages (from selenium) (0.19.0)\n",
      "Requirement already satisfied: trio-websocket~=0.9 in c:\\users\\user\\anaconda3\\lib\\site-packages (from selenium) (0.9.2)\n",
      "Requirement already satisfied: outcome in c:\\users\\user\\anaconda3\\lib\\site-packages (from trio~=0.17->selenium) (1.1.0)\n",
      "Requirement already satisfied: attrs>=19.2.0 in c:\\users\\user\\anaconda3\\lib\\site-packages (from trio~=0.17->selenium) (20.3.0)\n",
      "Requirement already satisfied: sortedcontainers in c:\\users\\user\\anaconda3\\lib\\site-packages (from trio~=0.17->selenium) (2.3.0)\n",
      "Requirement already satisfied: sniffio in c:\\users\\user\\anaconda3\\lib\\site-packages (from trio~=0.17->selenium) (1.2.0)\n",
      "Requirement already satisfied: idna in c:\\users\\user\\anaconda3\\lib\\site-packages (from trio~=0.17->selenium) (2.10)\n",
      "Requirement already satisfied: cffi>=1.14 in c:\\users\\user\\anaconda3\\lib\\site-packages (from trio~=0.17->selenium) (1.14.5)\n",
      "Requirement already satisfied: async-generator>=1.9 in c:\\users\\user\\anaconda3\\lib\\site-packages (from trio~=0.17->selenium) (1.10)\n",
      "Requirement already satisfied: pycparser in c:\\users\\user\\anaconda3\\lib\\site-packages (from cffi>=1.14->trio~=0.17->selenium) (2.20)\n",
      "Requirement already satisfied: wsproto>=0.14 in c:\\users\\user\\anaconda3\\lib\\site-packages (from trio-websocket~=0.9->selenium) (1.0.0)\n",
      "Requirement already satisfied: pyOpenSSL>=0.14 in c:\\users\\user\\anaconda3\\lib\\site-packages (from urllib3[secure]~=1.26->selenium) (20.0.1)\n",
      "Requirement already satisfied: cryptography>=1.3.4 in c:\\users\\user\\anaconda3\\lib\\site-packages (from urllib3[secure]~=1.26->selenium) (3.4.7)\n",
      "Requirement already satisfied: certifi in c:\\users\\user\\anaconda3\\lib\\site-packages (from urllib3[secure]~=1.26->selenium) (2020.12.5)\n",
      "Requirement already satisfied: six>=1.5.2 in c:\\users\\user\\anaconda3\\lib\\site-packages (from pyOpenSSL>=0.14->urllib3[secure]~=1.26->selenium) (1.15.0)\n",
      "Requirement already satisfied: h11<1,>=0.9.0 in c:\\users\\user\\anaconda3\\lib\\site-packages (from wsproto>=0.14->trio-websocket~=0.9->selenium) (0.12.0)\n"
     ]
    }
   ],
   "source": [
    "# 동적 크롤링을 위한 Selenium 설치\n",
    "!pip install selenium"
   ]
  },
  {
   "cell_type": "code",
   "execution_count": 11,
   "id": "7b25aff0",
   "metadata": {},
   "outputs": [],
   "source": [
    "# 크롤링을 위한 기본 셋팅 import\n",
    "import requests\n",
    "import pandas as pd\n",
    "import urllib.request\n",
    "from time import sleep\n",
    "from datetime import datetime\n",
    "\n",
    "# 멜론, 지니, 벅스 사이트 접속하기 및 라이브러리 불러오기\n",
    "from selenium import webdriver\n",
    "from bs4 import BeautifulSoup"
   ]
  },
  {
   "cell_type": "code",
   "execution_count": 12,
   "id": "4c432a9b",
   "metadata": {},
   "outputs": [],
   "source": [
    "# 웹 드라이버 실행\n",
    "driver = webdriver.Chrome(\"chromedriver\")"
   ]
  },
  {
   "cell_type": "markdown",
   "id": "0c38d55e",
   "metadata": {},
   "source": [
    "## 멜론 차트 순위 불러오기"
   ]
  },
  {
   "cell_type": "code",
   "execution_count": 30,
   "id": "3aaab39e",
   "metadata": {},
   "outputs": [
    {
     "name": "stdout",
     "output_type": "stream",
     "text": [
      "strawberry moon 아이유\n",
      "Savage aespa\n",
      "STAY The Kid LAROI, Justin Bieber\n",
      "신호등 이무진\n",
      "사랑은 늘 도망가 임영웅\n",
      "My Universe Coldplay, 방탄소년단\n",
      "Next Level aespa\n",
      "다정히 내 이름을 부르면 경서예지, 전건호\n",
      "OHAYO MY NIGHT 디핵 (D-Hack), PATEKO (파테코)\n",
      "낙하 (with 아이유) AKMU (악뮤)\n",
      "Rock with you 세븐틴\n",
      "Permission to Dance 방탄소년단\n",
      "바라만 본다 MSG워너비(M.O.M)\n",
      "Butter 방탄소년단\n",
      "너를 생각해 주시크 (Joosiq)\n",
      "Weekend 태연 (TAEYEON)\n",
      "Bad Habits Ed Sheeran\n",
      "이제 나만 믿어요 임영웅\n",
      "Peaches (Feat. Daniel Caesar & Giveon) Justin Bieber\n",
      "Dynamite 방탄소년단\n",
      "헤픈 우연 헤이즈 (Heize)\n",
      "고백 멜로망스\n",
      "그대라는 사치 임영웅\n",
      "Favorite (Vampire) NCT 127\n",
      "좋아좋아 조정석\n",
      "시간을 거슬러 (낮에 뜨는 달 X 케이윌) 케이윌\n",
      "별빛 같은 나의 사랑아 임영웅\n",
      "라일락 아이유\n",
      "다시 사랑한다면 (김필 Ver.) 임영웅\n",
      "여전히 아름다운지 세븐틴\n",
      "Celebrity 아이유\n",
      "HERO 임영웅\n",
      "Queendom Red Velvet (레드벨벳)\n",
      "DUMB DUMB 전소미\n",
      "나비효과 볼빨간사춘기\n",
      "잊었니 임영웅\n",
      "찰나가 영원이 될 때 (The Eternal Moment) 마크툽 (MAKTUB)\n",
      "끝사랑 임영웅\n",
      "롤린 (Rollin') 브레이브걸스\n",
      "Bk Love 임영웅\n",
      "사이렌 Remix (Feat. UNEDUCATED KID, Paul Blanco) 호미들\n",
      "소용돌이 세븐틴\n",
      "Dun Dun Dance 오마이걸 (OH MY GIRL)\n",
      "가을 타나 봐 이무진\n",
      "비와 당신 이무진\n",
      "내 손을 잡아 아이유\n",
      "Crush 세븐틴\n",
      "비가 오는 날엔 (2021) 헤이즈 (Heize)\n",
      "Off My Face Justin Bieber\n",
      "Savage Love (Laxed - Siren Beat) (BTS Remix) Jawsh 685, Jason Derulo, 방탄소년단\n",
      "ASAP STAYC(스테이씨)\n",
      "밝게 빛나는 별이 되어 비춰줄게 송이한\n",
      "매일 그대라서 행복하다 세븐틴\n",
      "Cold Blooded 제시 (Jessi)\n",
      "색안경 (STEREOTYPE) STAYC(스테이씨)\n",
      "어떻게 이별까지 사랑하겠어, 널 사랑하는 거지 AKMU (악뮤)\n",
      "나의 첫사랑 다비치\n",
      "작은 것들을 위한 시 (Boy With Luv) (Feat. Halsey) 방탄소년단\n",
      "그리워하는 것까지 세븐틴\n",
      "하루만 더 빅마마\n",
      "추억은 만남보다 이별에 남아 정동하\n",
      "너는 내 세상이었어 볼빨간사춘기\n",
      "Blueming 아이유\n",
      "LOCO ITZY (있지)\n",
      "PANG! 세븐틴\n",
      "모든 날, 모든 순간 (Every day, Every Moment) 폴킴\n",
      "밤하늘의 별을(2020) 경서\n",
      "2 MINUS 1 (Digital Only) 세븐틴\n",
      "봄날 방탄소년단\n",
      "Lovesick Girls BLACKPINK\n",
      "가을 우체국 앞에서 김대명\n",
      "멜로디 ASH ISLAND\n",
      "에잇(Prod.&Feat. SUGA of BTS) 아이유\n",
      "계단말고 엘리베이터 임영웅\n",
      "Hey Mama (Feat. Nicki Minaj, Bebe Rexha & Afrojack) David Guetta\n",
      "나 그댈위해 시 한편을 쓰겠어 케이시 (Kassy)\n",
      "오늘도 빛나는 너에게 (To You My Light) (Feat.이라온) 마크툽 (MAKTUB)\n",
      "취기를 빌려 (취향저격 그녀 X 산들) 산들\n",
      "그날에 나는 맘이 편했을까 이예준\n",
      "Sticker NCT 127\n",
      "Life Goes On 방탄소년단\n",
      "잠이 오질 않네요 장범준\n",
      "METEOR 창모 (CHANGMO)\n",
      "흔들리는 꽃들 속에서 네 샴푸향이 느껴진거야 장범준\n",
      "오래된 노래 스탠딩 에그\n",
      "아로하 조정석\n",
      "2002 Anne-Marie\n",
      "어푸 (Ah puh) 아이유\n",
      "Timeless SG 워너비\n",
      "운전만해 (We Ride) 브레이브걸스\n",
      "Ready to love 세븐틴\n",
      "안녕 (Hello) 조이 (JOY)\n",
      "치맛바람 (Chi Mat Ba Ram) 브레이브걸스\n",
      "그리워 그리워 이예준\n",
      "사랑은 언제나 목마르다 (N번째 연애 X 이해리 (다비치)) 이해리 (다비치)\n",
      "역겹겠지만 (Remember me) B.I\n",
      "고백 신용재 (2F)\n",
      "Alcohol-Free TWICE (트와이스)\n",
      "사실 나는 (Feat.전건호) 경서예지\n",
      "너의 번호를 누르고 (Prod. 영화처럼) #안녕\n"
     ]
    }
   ],
   "source": [
    "sleep(5)\n",
    "\n",
    "#def melon_chart(result_melon):\n",
    "\n",
    "driver.get('https://www.melon.com/chart/index.htm')         # 사이트에 접속한다\n",
    "soup = BeautifulSoup(driver.page_source)                    # bs4 쓰려면 페이지소스를 가져와서 작업하기\n",
    "for i in range(100):\n",
    "    songs = soup.select('div.rank01 > span > a')[i].text\n",
    "    singer = soup.select('div.rank02')[i].span.text\n",
    "    print(songs, singer)\n",
    "    \n",
    "    \n",
    "#     for song in songs :\n",
    "        \n",
    "#         singer = soup.select('div.rank02')[0].text             # 가수 가져오기\n",
    "\n",
    "#         for li_tag in singer :                                 # 태그의 수 만큼 반복한다\n",
    "#             song_singer = li_tag.text.strip()                  # 가수 이름을 가져온다\n",
    "#             half = int(len(song_singer)/2)\n",
    "#             song_singer = song_singer[:half]\n",
    "#             print(song_singer)\n",
    "            \n",
    "# d_melon = {}                                                     # 딕셔너리에 저장\n",
    "\n",
    "# for n in range(100):\n",
    "#     song_title = title[n].text.strip()                          # 가수\n",
    "#     song_singer = singer[n].text.strip()                        # 노래\n",
    "#     half = int(len(song_singer) / 2)\n",
    "#     song_singer = song_singer[:half]\n",
    "    \n",
    "#     d_melon[n+1] = []                                            # n+1 인 이유 : index 값이 0 부터 시작됨으로\n",
    "#     d_melon[n+1].append(song_title)\n",
    "#     d_melon[n+1].append(song_singer)"
   ]
  },
  {
   "cell_type": "code",
   "execution_count": 33,
   "id": "e365c792",
   "metadata": {},
   "outputs": [],
   "source": [
    "# 멜론 csv 파일로 100순위 노래와 가수를 출력하세요\n",
    "with open('melon_top.csv', 'w') as f:\n",
    "    f.write('rank, title, singer \\n')\n",
    "    for i in range(100) :\n",
    "        f.write('{0}, {1}, {2}\\n'.format(i+1 ,soup.select('div.rank01 > span > a')[i].text, soup.select('div.rank02')[i].span.text))"
   ]
  },
  {
   "cell_type": "markdown",
   "id": "3abeaedb",
   "metadata": {},
   "source": [
    "### 지니 차트 순위 불러오기"
   ]
  },
  {
   "cell_type": "code",
   "execution_count": 11,
   "id": "71dbac3d",
   "metadata": {},
   "outputs": [],
   "source": [
    "sleep(5)\n",
    "\n",
    "def genie_chart(result_genie):\n",
    "    driver.get(\"https://www.genie.co.kr/chart/top200?ditc=D&ymd=20211028&hh=15&rtm=Y&pg=%d\") %page   # 사이트에 접속한다\n",
    "    soup = BeautifulSoup(driver.page_source)                    # bs4 쓰려면 페이지소스를 가져와서 작업하기\n",
    "    \n",
    "    wd = webdriver.Chrome('chromedriver')\n",
    "    wb.get(genie_URL)\n",
    "    html = wb.page_source\n",
    "    soup = BeautifulSoup(html, 'html.parser')\n",
    "    \n",
    "    rank = 1\n",
    "    songs = soup.select('table > tbody > tr')\n",
    "    for song in songs :\n",
    "        title = song.select('a.title')[0].text\n",
    "        singer = song.select('a.artist')[0].text\n",
    "        result_genie.append(['genie', rank, title, singer])\n",
    "        rank += 1\n",
    "    \n",
    "    dic_genie = {}\n",
    "    for a, b, c, d in result_genie:\n",
    "        dic_genie[b] = [c,d]\n",
    "        \n",
    "    return dic_genie"
   ]
  },
  {
   "cell_type": "code",
   "execution_count": null,
   "id": "d03e7ec3",
   "metadata": {},
   "outputs": [],
   "source": [
    "sleep(5)\n",
    "\n",
    "def genie_chart(result_genie):\n",
    "    driver.get(\"https://www.genie.co.kr/chart/top200?ditc=D&ymd=20211028&hh=15&rtm=Y&pg=%d\") %page   # 사이트에 접속한다\n",
    "    soup = BeautifulSoup(driver.page_source)                    # bs4 쓰려면 페이지소스를 가져와서 작업하기\n",
    "\n",
    "    \n",
    "    chart = soup.find_all(\"a\",{\"class\":\"title ellipsis\"})\n",
    "    singer = soup.find_all(\"a\",{\"class\":\"artist ellipsis\"})\n",
    "    \n",
    "    \n",
    "    songs = soup.select('table > tbody > tr')\n",
    "    for song in songs :\n",
    "        title = soup.select('div.rank01 > span > a')[0].text   # 노래제목 가져오기\n",
    "        singer = soup.select('div.rank02')[0].text             # 가수 가져오기\n",
    "\n",
    "        for li_tag in singer :                                 # 태그의 수 만큼 반복한다\n",
    "            song_singer = li_tag.text.strip()                  # 가수 이름을 가져온다\n",
    "            half = int(len(song_singer)/2)\n",
    "            song_singer = song_singer[:half]\n",
    "            print(song_singer)\n",
    "            \n",
    "d_melon = {}                                                       # 딕셔너리에 저장\n",
    "\n",
    "for n in range(100):\n",
    "    song_title = title[n].text.strip()                          # 가수\n",
    "    song_singer = singer[n].text.strip()                        # 노래\n",
    "    half = int(len(song_singer) / 2)\n",
    "    song_singer = song_singer[:half]\n",
    "    \n",
    "    d_melon[n+1] = []                                              # n+1 인 이유 : index 값이 0 부터 시작됨으로\n",
    "    d_melon[n+1].append(song_title)\n",
    "    d_melon[n+1].append(song_singer)"
   ]
  },
  {
   "cell_type": "code",
   "execution_count": 12,
   "id": "42099df6",
   "metadata": {},
   "outputs": [
    {
     "name": "stdout",
     "output_type": "stream",
     "text": [
      "####################################################################################################\n",
      "지니 실시간 차트 순위 \n",
      "####################################################################################################\n"
     ]
    },
    {
     "ename": "NameError",
     "evalue": "name 'genie_Chart' is not defined",
     "output_type": "error",
     "traceback": [
      "\u001b[1;31m---------------------------------------------------------------------------\u001b[0m",
      "\u001b[1;31mNameError\u001b[0m                                 Traceback (most recent call last)",
      "\u001b[1;32m<ipython-input-12-1a17fb8ef54c>\u001b[0m in \u001b[0;36m<module>\u001b[1;34m\u001b[0m\n\u001b[0;32m      2\u001b[0m \u001b[0mprint\u001b[0m\u001b[1;33m(\u001b[0m\u001b[1;34m'지니 실시간 차트 순위 '\u001b[0m\u001b[1;33m)\u001b[0m\u001b[1;33m\u001b[0m\u001b[1;33m\u001b[0m\u001b[0m\n\u001b[0;32m      3\u001b[0m \u001b[0mprint\u001b[0m\u001b[1;33m(\u001b[0m\u001b[1;34m\"#\"\u001b[0m\u001b[1;33m*\u001b[0m\u001b[1;36m100\u001b[0m\u001b[1;33m)\u001b[0m\u001b[1;33m\u001b[0m\u001b[1;33m\u001b[0m\u001b[0m\n\u001b[1;32m----> 4\u001b[1;33m \u001b[0mgenie_Chart\u001b[0m\u001b[1;33m(\u001b[0m\u001b[0mresult_genie\u001b[0m\u001b[1;33m)\u001b[0m\u001b[1;33m\u001b[0m\u001b[1;33m\u001b[0m\u001b[0m\n\u001b[0m\u001b[0;32m      5\u001b[0m \u001b[0mgenie_tbl\u001b[0m \u001b[1;33m=\u001b[0m \u001b[0mpd\u001b[0m\u001b[1;33m.\u001b[0m\u001b[0mDataFrame\u001b[0m\u001b[1;33m(\u001b[0m\u001b[0mresult_genie\u001b[0m\u001b[1;33m,\u001b[0m \u001b[0mcolumns\u001b[0m \u001b[1;33m=\u001b[0m \u001b[1;33m(\u001b[0m\u001b[1;34m'서비스'\u001b[0m\u001b[1;33m,\u001b[0m \u001b[1;34m'순위'\u001b[0m\u001b[1;33m,\u001b[0m \u001b[1;34m'곡정보'\u001b[0m\u001b[1;33m,\u001b[0m \u001b[1;34m'가수'\u001b[0m\u001b[1;33m)\u001b[0m\u001b[1;33m)\u001b[0m\u001b[1;33m\u001b[0m\u001b[1;33m\u001b[0m\u001b[0m\n\u001b[0;32m      6\u001b[0m \u001b[0mgenie_tbl\u001b[0m\u001b[1;33m.\u001b[0m\u001b[0mto_csv\u001b[0m\u001b[1;33m(\u001b[0m\u001b[1;34m'Genie_chart.csv'\u001b[0m\u001b[1;33m,\u001b[0m \u001b[0mencoding\u001b[0m\u001b[1;33m=\u001b[0m\u001b[1;34m'utf-8'\u001b[0m\u001b[1;33m)\u001b[0m\u001b[1;33m\u001b[0m\u001b[1;33m\u001b[0m\u001b[0m\n",
      "\u001b[1;31mNameError\u001b[0m: name 'genie_Chart' is not defined"
     ]
    }
   ],
   "source": [
    "print(\"#\"*100)\n",
    "print('지니 실시간 차트 순위 ')\n",
    "print(\"#\"*100)\n",
    "genie_Chart(result_genie)\n",
    "genie_tbl = pd.DataFrame(result_genie, columns = ('서비스', '순위', '곡정보', '가수'))\n",
    "genie_tbl.to_csv('Genie_chart.csv', encoding='utf-8')"
   ]
  },
  {
   "cell_type": "markdown",
   "id": "70e2980d",
   "metadata": {},
   "source": [
    "### 벅스 차트 순위 불러오기"
   ]
  },
  {
   "cell_type": "code",
   "execution_count": 13,
   "id": "f6e66692",
   "metadata": {},
   "outputs": [],
   "source": [
    "# 벅스 차트 순위 불러오기\n",
    "def bugs_chart(result_bugs):\n",
    "    bugs_URL = 'https://music.bugs.co.kr/chart/track/realtime/total'     # 사이트에 접속한다\n",
    "    soup = BeautifulSoup(driver.page_source)  \n",
    "    \n",
    "    wd = webdriver.Chrome('chromedriver')\n",
    "    wb.get(Genie_URL)\n",
    "    html = wb.page_source\n",
    "    soup = BeautifulSoup(html, 'html.parser')\n",
    "    \n",
    "    rank = 1\n",
    "    songs = soup.select('table > tbody > tr')\n",
    "    for song in songs :\n",
    "        title = song.select('a.title')[0].text\n",
    "        singer = song.select('a.artist')[0].text\n",
    "        result_bugs.append(['bugs', rank, title, singer])\n",
    "        rank += 1\n",
    "    \n",
    "    dic_bugs = {}\n",
    "    for a, b, c, d in result_bugs:\n",
    "        dic_bugs[b] = [c,d]\n",
    "        \n",
    "    return dic_bugs    "
   ]
  },
  {
   "cell_type": "code",
   "execution_count": 14,
   "id": "4f308d03",
   "metadata": {},
   "outputs": [
    {
     "name": "stdout",
     "output_type": "stream",
     "text": [
      "####################################################################################################\n",
      "벅스 실시간 차트 순위 \n",
      "####################################################################################################\n"
     ]
    },
    {
     "ename": "NameError",
     "evalue": "name 'result_bugs' is not defined",
     "output_type": "error",
     "traceback": [
      "\u001b[1;31m---------------------------------------------------------------------------\u001b[0m",
      "\u001b[1;31mNameError\u001b[0m                                 Traceback (most recent call last)",
      "\u001b[1;32m<ipython-input-14-6f04c01bae99>\u001b[0m in \u001b[0;36m<module>\u001b[1;34m\u001b[0m\n\u001b[0;32m      2\u001b[0m \u001b[0mprint\u001b[0m\u001b[1;33m(\u001b[0m\u001b[1;34m'벅스 실시간 차트 순위 '\u001b[0m\u001b[1;33m)\u001b[0m\u001b[1;33m\u001b[0m\u001b[1;33m\u001b[0m\u001b[0m\n\u001b[0;32m      3\u001b[0m \u001b[0mprint\u001b[0m\u001b[1;33m(\u001b[0m\u001b[1;34m\"#\"\u001b[0m\u001b[1;33m*\u001b[0m\u001b[1;36m100\u001b[0m\u001b[1;33m)\u001b[0m\u001b[1;33m\u001b[0m\u001b[1;33m\u001b[0m\u001b[0m\n\u001b[1;32m----> 4\u001b[1;33m \u001b[0mbugs_chart\u001b[0m\u001b[1;33m(\u001b[0m\u001b[0mresult_bugs\u001b[0m\u001b[1;33m)\u001b[0m\u001b[1;33m\u001b[0m\u001b[1;33m\u001b[0m\u001b[0m\n\u001b[0m\u001b[0;32m      5\u001b[0m \u001b[0mbugs_tbl\u001b[0m \u001b[1;33m=\u001b[0m \u001b[0mpd\u001b[0m\u001b[1;33m.\u001b[0m\u001b[0mDataFrame\u001b[0m\u001b[1;33m(\u001b[0m\u001b[0mresult_bugs\u001b[0m\u001b[1;33m,\u001b[0m \u001b[0mcolumns\u001b[0m \u001b[1;33m=\u001b[0m \u001b[1;33m(\u001b[0m\u001b[1;34m'서비스'\u001b[0m\u001b[1;33m,\u001b[0m \u001b[1;34m'순위'\u001b[0m\u001b[1;33m,\u001b[0m \u001b[1;34m'곡정보'\u001b[0m\u001b[1;33m,\u001b[0m \u001b[1;34m'가수'\u001b[0m\u001b[1;33m)\u001b[0m\u001b[1;33m)\u001b[0m\u001b[1;33m\u001b[0m\u001b[1;33m\u001b[0m\u001b[0m\n\u001b[0;32m      6\u001b[0m \u001b[0mbugs_tbl\u001b[0m\u001b[1;33m.\u001b[0m\u001b[0mto_csv\u001b[0m\u001b[1;33m(\u001b[0m\u001b[1;34m'Genie_chart.csv'\u001b[0m\u001b[1;33m,\u001b[0m \u001b[0mencoding\u001b[0m\u001b[1;33m=\u001b[0m\u001b[1;34m'utf-8'\u001b[0m\u001b[1;33m)\u001b[0m\u001b[1;33m\u001b[0m\u001b[1;33m\u001b[0m\u001b[0m\n",
      "\u001b[1;31mNameError\u001b[0m: name 'result_bugs' is not defined"
     ]
    }
   ],
   "source": [
    "print(\"#\"*100)\n",
    "print('벅스 실시간 차트 순위 ')\n",
    "print(\"#\"*100)\n",
    "bugs_chart(result_bugs)\n",
    "bugs_tbl = pd.DataFrame(result_bugs, columns = ('서비스', '순위', '곡정보', '가수'))\n",
    "bugs_tbl.to_csv('Genie_chart.csv', encoding='utf-8')"
   ]
  },
  {
   "cell_type": "code",
   "execution_count": null,
   "id": "ed1f7ce1",
   "metadata": {},
   "outputs": [],
   "source": [
    "with pd.ExcelWriter('Music_Chart.xlsx') as writer:\n",
    "        melon_chart().to_excel(writer, encoding = 'utf-8', sheet_name='멜론차트')\n",
    "        genie_chart().to_excel(writer, encoding = 'utf-8', sheet_name='지니차트')\n",
    "        bugs_chart().to_excel(writer, encoding = 'utf-8', sheet_name='벅스차트')"
   ]
  }
 ],
 "metadata": {
  "kernelspec": {
   "display_name": "Python 3",
   "language": "python",
   "name": "python3"
  },
  "language_info": {
   "codemirror_mode": {
    "name": "ipython",
    "version": 3
   },
   "file_extension": ".py",
   "mimetype": "text/x-python",
   "name": "python",
   "nbconvert_exporter": "python",
   "pygments_lexer": "ipython3",
   "version": "3.8.8"
  }
 },
 "nbformat": 4,
 "nbformat_minor": 5
}
