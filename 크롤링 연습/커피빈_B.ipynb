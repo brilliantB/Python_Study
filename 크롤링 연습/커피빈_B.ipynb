{
 "cells": [
  {
   "cell_type": "markdown",
   "id": "18f6a473",
   "metadata": {},
   "source": [
    "## 동적 웹 페이지 크롤링"
   ]
  },
  {
   "cell_type": "markdown",
   "id": "ee33ad40",
   "metadata": {},
   "source": [
    "### 커피빈 매장 정보 찾기 (https://www.coffeebeankorea.com/store/store.asp)"
   ]
  },
  {
   "cell_type": "code",
   "execution_count": 1,
   "id": "03cf0ef3",
   "metadata": {},
   "outputs": [
    {
     "name": "stdout",
     "output_type": "stream",
     "text": [
      "Requirement already satisfied: selenium in c:\\users\\user\\anaconda3\\lib\\site-packages (4.0.0)\n",
      "Requirement already satisfied: urllib3[secure]~=1.26 in c:\\users\\user\\anaconda3\\lib\\site-packages (from selenium) (1.26.4)\n",
      "Requirement already satisfied: trio~=0.17 in c:\\users\\user\\anaconda3\\lib\\site-packages (from selenium) (0.19.0)\n",
      "Requirement already satisfied: trio-websocket~=0.9 in c:\\users\\user\\anaconda3\\lib\\site-packages (from selenium) (0.9.2)\n",
      "Requirement already satisfied: outcome in c:\\users\\user\\anaconda3\\lib\\site-packages (from trio~=0.17->selenium) (1.1.0)\n",
      "Requirement already satisfied: idna in c:\\users\\user\\anaconda3\\lib\\site-packages (from trio~=0.17->selenium) (2.10)\n",
      "Requirement already satisfied: async-generator>=1.9 in c:\\users\\user\\anaconda3\\lib\\site-packages (from trio~=0.17->selenium) (1.10)\n",
      "Requirement already satisfied: sortedcontainers in c:\\users\\user\\anaconda3\\lib\\site-packages (from trio~=0.17->selenium) (2.3.0)\n",
      "Requirement already satisfied: attrs>=19.2.0 in c:\\users\\user\\anaconda3\\lib\\site-packages (from trio~=0.17->selenium) (20.3.0)\n",
      "Requirement already satisfied: sniffio in c:\\users\\user\\anaconda3\\lib\\site-packages (from trio~=0.17->selenium) (1.2.0)\n",
      "Requirement already satisfied: cffi>=1.14 in c:\\users\\user\\anaconda3\\lib\\site-packages (from trio~=0.17->selenium) (1.14.5)\n",
      "Requirement already satisfied: pycparser in c:\\users\\user\\anaconda3\\lib\\site-packages (from cffi>=1.14->trio~=0.17->selenium) (2.20)\n",
      "Requirement already satisfied: wsproto>=0.14 in c:\\users\\user\\anaconda3\\lib\\site-packages (from trio-websocket~=0.9->selenium) (1.0.0)\n",
      "Requirement already satisfied: cryptography>=1.3.4 in c:\\users\\user\\anaconda3\\lib\\site-packages (from urllib3[secure]~=1.26->selenium) (3.4.7)\n",
      "Requirement already satisfied: pyOpenSSL>=0.14 in c:\\users\\user\\anaconda3\\lib\\site-packages (from urllib3[secure]~=1.26->selenium) (20.0.1)\n",
      "Requirement already satisfied: certifi in c:\\users\\user\\anaconda3\\lib\\site-packages (from urllib3[secure]~=1.26->selenium) (2020.12.5)\n",
      "Requirement already satisfied: six>=1.5.2 in c:\\users\\user\\anaconda3\\lib\\site-packages (from pyOpenSSL>=0.14->urllib3[secure]~=1.26->selenium) (1.15.0)\n",
      "Requirement already satisfied: h11<1,>=0.9.0 in c:\\users\\user\\anaconda3\\lib\\site-packages (from wsproto>=0.14->trio-websocket~=0.9->selenium) (0.12.0)\n"
     ]
    }
   ],
   "source": [
    "!pip install selenium"
   ]
  },
  {
   "cell_type": "code",
   "execution_count": 3,
   "id": "ad2ea56c",
   "metadata": {},
   "outputs": [],
   "source": [
    "# 동적 웹 페이지 크롤링 기본 셋팅 - import\n",
    "\n",
    "from bs4 import BeautifulSoup\n",
    "import urllib.request\n",
    "import pandas as pd\n",
    "import datetime\n",
    "from selenium import webdriver\n",
    "import time"
   ]
  },
  {
   "cell_type": "code",
   "execution_count": 10,
   "id": "ab0ff031",
   "metadata": {},
   "outputs": [],
   "source": [
    "# [CODE 1]\n",
    "def CoffeeBean_store(result):\n",
    "    CoffeeBean_URL = \"https://www.coffeebeankorea.com/store/store.asp\"\n",
    "    # wd = webdriver.Chorme('WebDriver설치경로/chromedriver.exe')   \n",
    "    wd = webdriver.Chrome('chromedriver')\n",
    "    for i in range(1, 30) :   # 매장 수 만큼 반복\n",
    "        wd.get(CoffeeBean_URL)\n",
    "        time.sleep(1)    # 웹페이지 연결할 동안 1초 대기\n",
    "        try :\n",
    "            wd.execute_script(\"storePop2(%d)\" %i)      # storePop : 파이썬 코드가 아닌 자바스크립트 코드를 호출해서 팝업을 시켜주기 위해서(동적  웹 클로링의 행위를 주기 위해,) 관용적 표현\n",
    "            time.sleep(1) # 스크립트 실행할 동안 1초 대기\n",
    "            html = wd.page_source\n",
    "            soupCB = BeautifulSoup(html, 'html.parser')\n",
    "            \n",
    "            store_name_h2 = soupCB.select(\"div.store_txt > h2\")  # tag 확인해서 선택\n",
    "            store_name = store_name_h2[0].string  # 매장 이름 [0]\n",
    "            print(store_name)  #매장 이름 출력하기\n",
    "            \n",
    "            store_info = soupCB.select(\"div.store_txt > table.store_table > tbody > tr > td\")  # tag 확인해서 선택\n",
    "            store_address_list = list(store_info[2])\n",
    "            store_address = store_address_list[0]  #전화번호 가져오기\n",
    "            store_phone = store_info[3].string\n",
    "            \n",
    "            result.append([store_name] + [store_address] + [store_phone])  # 매장이름, 주소, 전화번호 append 사용\n",
    "        except:\n",
    "            continue\n",
    "    return"
   ]
  },
  {
   "cell_type": "code",
   "execution_count": 13,
   "id": "5d9d675e",
   "metadata": {},
   "outputs": [],
   "source": [
    "# [CODE 0]\n",
    "def main():\n",
    "    result = []\n",
    "    print('CoffeeBean store crawling >>>>>>>>>>>>>>>>>')\n",
    "    CoffeeBean_store(result)   #[CODE 1]\n",
    "    print(\"<<<<<<<<종료>>>>>>>>>>>\")\n",
    "    \n",
    "    CB_tbl = pd.DataFrame(result, columns = ('store', 'address', 'phone'))\n",
    "    CB_tbl.to_csv('CoffeeBean.csv', encoding = 'utf-8', mode = 'w', index = True)"
   ]
  },
  {
   "cell_type": "code",
   "execution_count": 14,
   "id": "f5a0ca34",
   "metadata": {},
   "outputs": [
    {
     "name": "stdout",
     "output_type": "stream",
     "text": [
      "CoffeeBean store crawling >>>>>>>>>>>>>>>>>\n",
      "학동역 DT점\n",
      "차병원점\n",
      "강남대로점\n",
      "강남에스점\n",
      "청담에스점\n",
      "신사점\n",
      "압구정역점\n",
      "역삼점\n",
      "양재스포타임점\n",
      "청담성당점\n",
      "영동점\n",
      "도곡점\n",
      "영동고앞점\n",
      "공항터미널앞점\n",
      "대치한티점\n",
      "압구정시티점\n",
      "압구정로데오점\n",
      "서초우성점\n",
      "논현팍스타워점\n",
      "삼성오크우드점\n",
      "<<<<<<<<종료>>>>>>>>>>>\n"
     ]
    }
   ],
   "source": [
    "main()"
   ]
  },
  {
   "cell_type": "code",
   "execution_count": null,
   "id": "aae996b6",
   "metadata": {},
   "outputs": [],
   "source": []
  }
 ],
 "metadata": {
  "kernelspec": {
   "display_name": "Python 3",
   "language": "python",
   "name": "python3"
  },
  "language_info": {
   "codemirror_mode": {
    "name": "ipython",
    "version": 3
   },
   "file_extension": ".py",
   "mimetype": "text/x-python",
   "name": "python",
   "nbconvert_exporter": "python",
   "pygments_lexer": "ipython3",
   "version": "3.8.8"
  }
 },
 "nbformat": 4,
 "nbformat_minor": 5
}
