{
 "cells": [
  {
   "cell_type": "code",
   "execution_count": 12,
   "id": "256d50b0",
   "metadata": {},
   "outputs": [],
   "source": [
    "# 셋팅하기 - 필요한 모듈 / 라이브러리 모두 호출하기\n",
    "\n",
    "import os\n",
    "import sys\n",
    "import urllib.request\n",
    "import datetime\n",
    "import time\n",
    "import json"
   ]
  },
  {
   "cell_type": "code",
   "execution_count": 13,
   "id": "f576137d",
   "metadata": {},
   "outputs": [],
   "source": [
    "# 네이버 개발자에서 생성한 개인 API 호출 ID, Pw 가져오기\n",
    "client_id = \"YellkARyLJJYKf4fyvdt\"         \n",
    "client_secret = \"wnf62f1Uiv\""
   ]
  },
  {
   "cell_type": "code",
   "execution_count": 19,
   "id": "fb966516",
   "metadata": {},
   "outputs": [],
   "source": [
    "# [CODE 1]\n",
    "# getRequestUrl 함수를 정의하여서 생성\n",
    "def getRequestUrl(url):\n",
    "    \n",
    "    # urllib.request.Request(url) => url 요청 = 호출\n",
    "    req = urllib.request.Request(url) # url 불러오기\n",
    "    req.add_header(\"X-Naver-Client-Id\", client_id)  # Naver api 사용 id를 검색 url header에 넣어줘야 함\n",
    "    req.add_header(\"X-Naver-Client-Secret\", client_secret)\n",
    "    \n",
    "    # 예외처리문으로 구성해서 네이버 서버의 응답을 확인\n",
    "    # 서버 코드 200 = Success !\n",
    "    \n",
    "    try: # 실행\n",
    "        response = urllib.request.urlopen(req)     \n",
    "        if response.getcode() == 200:  # 성공적 응답은 서버 코드 200\n",
    "            print(\"[%s] Url Request Success\" % datetime.datetime.now())\n",
    "            return response.read().decode('utf-8')\n",
    "    except Exception as e: # 에러 예외 처리\n",
    "        print(e)\n",
    "        print(\"[%s] Error for URL : %s\" % (datetime.datetime.now(), url))\n",
    "        return None"
   ]
  },
  {
   "cell_type": "code",
   "execution_count": 20,
   "id": "b4bd197c",
   "metadata": {},
   "outputs": [],
   "source": [
    "# [CODE 2]\n",
    "def getNaverSearch(node, scrText, start, display):   # node = 뉴스, ....\n",
    "    \n",
    "    #네이버 검색 API 정보로 URL을 구성 함 \n",
    "    base = \"https://openapi.naver.com/v1/search\"\n",
    "    node = \"/%s.json\" % node\n",
    "    parameters = \"?query=%s&start=%s&display=%s\" % (urllib.parse.quote(scrText), start, display)\n",
    "    \n",
    "    url = base + node + parameters\n",
    "    \n",
    "    # 만들어진 URL을 이용하여 getRequestUrl() 호출해서 받은 utf-8 디코드 응답을 responseDecode 에 저장\n",
    "    responseDecode = getRequestUrl(url)  # [CODE 1]\n",
    "    \n",
    "    if (responseDecode == None):\n",
    "        return None\n",
    "    else:\n",
    "        # 서버에서 받은 JSON 형태의 응답객체를 파이썬 객체로 로드하여 반환\n",
    "        return json.loads(responseDecode) "
   ]
  },
  {
   "cell_type": "code",
   "execution_count": 21,
   "id": "ba5ef96c",
   "metadata": {},
   "outputs": [],
   "source": [
    "# [CODE 3]\n",
    "def getPostData(post, jsonResult, cnt):  # cnt = 검색된 count 숫자 \n",
    "    title = post['title']\n",
    "    description = post['description']\n",
    "    org_link = post['originallink']\n",
    "    link = post['link']\n",
    "    \n",
    "    # 네이버 제공하는 시간형식을 우리가 필요한 형식으로 전환\n",
    "    # Tue, 14 Feb 2017 18:46:00 +0900\n",
    "    pDate = datetime.datetime.strptime(post['pubDate'], '%a, %d %b %Y %H:%M:%S +0900')\n",
    "    pDate = pDate.strftime('%Y-%m-%d %H:%M:%S')  # 연, 월, 일, 시:분:초\n",
    "    \n",
    "    jsonResult.append({'cnt':cnt, 'title':title, 'description': description, 'org_link':org_link, 'link':link, 'pDate':pDate })\n",
    "    \n",
    "    # 딕셔너리 형태의 {키:값}으로 구성해서 jsonResult로 구성\n",
    "    return"
   ]
  },
  {
   "cell_type": "code",
   "execution_count": 22,
   "id": "1a650666",
   "metadata": {},
   "outputs": [],
   "source": [
    "# [CODE 4]\n",
    "\n",
    "def main():\n",
    "    node = 'news'  # 크롤링할 대상\n",
    "    srcText = input('검색어를 입력하세요: ')\n",
    "    cnt = 0\n",
    "    jsonResult = []\n",
    "    \n",
    "    jsonResponse = getNaverSearch(node, srcText, 1, 100)   # [CODE 2]\n",
    "    total = jsonResponse['total']\n",
    "    \n",
    "    while ((jsonResponse != None) and (jsonResponse['display'] != 0)):\n",
    "        for post in jsonResponse['items']:\n",
    "            cnt += 1\n",
    "            getPostData(post, jsonResult, cnt)  # [CODE 3]\n",
    "            \n",
    "        start = jsonResponse['start'] + jsonResponse['display']\n",
    "        jsonResponse = getNaverSearch(node, srcText, start, 100) # [CODE 2]\n",
    "        \n",
    "    print('전체 검색 : %d 건' %total)\n",
    "    \n",
    "    with open('%s_naver_%s.json' % (srcText, node), 'w', encoding='utf-8') as outfile:\n",
    "        jsonFile = json.dumps(jsonResult, indent=4, sort_keys=True, ensure_ascii=False)\n",
    "        outfile.write(jsonFile)\n",
    "        \n",
    "    print(\"가져온 데이터 : %d 건\" %(cnt))\n",
    "    print('%s_naver_%s.json SAVED' % (srcText, node))"
   ]
  },
  {
   "cell_type": "code",
   "execution_count": 23,
   "id": "102bc2a9",
   "metadata": {
    "scrolled": true
   },
   "outputs": [
    {
     "name": "stdout",
     "output_type": "stream",
     "text": [
      "검색어를 입력하세요: 오징어게임\n",
      "[2021-10-26 11:49:16.880727] Url Request Success\n",
      "[2021-10-26 11:49:17.182713] Url Request Success\n",
      "[2021-10-26 11:49:17.474117] Url Request Success\n",
      "[2021-10-26 11:49:17.786526] Url Request Success\n",
      "[2021-10-26 11:49:18.079002] Url Request Success\n",
      "[2021-10-26 11:49:18.382057] Url Request Success\n",
      "[2021-10-26 11:49:18.675557] Url Request Success\n",
      "[2021-10-26 11:49:19.033331] Url Request Success\n",
      "[2021-10-26 11:49:19.318684] Url Request Success\n",
      "[2021-10-26 11:49:19.658588] Url Request Success\n",
      "HTTP Error 400: Bad Request\n",
      "[2021-10-26 11:49:19.830506] Error for URL : https://openapi.naver.com/v1/search/news.json?query=%EC%98%A4%EC%A7%95%EC%96%B4%EA%B2%8C%EC%9E%84&start=1001&display=100\n",
      "전체 검색 : 24468 건\n",
      "가져온 데이터 : 1000 건\n",
      "오징어게임_naver_news.json SAVED\n"
     ]
    }
   ],
   "source": [
    "# [CODE 5]\n",
    "main()"
   ]
  },
  {
   "cell_type": "code",
   "execution_count": null,
   "id": "0e50167a",
   "metadata": {},
   "outputs": [],
   "source": []
  }
 ],
 "metadata": {
  "kernelspec": {
   "display_name": "Python 3",
   "language": "python",
   "name": "python3"
  },
  "language_info": {
   "codemirror_mode": {
    "name": "ipython",
    "version": 3
   },
   "file_extension": ".py",
   "mimetype": "text/x-python",
   "name": "python",
   "nbconvert_exporter": "python",
   "pygments_lexer": "ipython3",
   "version": "3.8.8"
  }
 },
 "nbformat": 4,
 "nbformat_minor": 5
}
