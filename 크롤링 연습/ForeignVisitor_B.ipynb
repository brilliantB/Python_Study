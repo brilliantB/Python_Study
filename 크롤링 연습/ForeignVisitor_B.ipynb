{
 "cells": [
  {
   "cell_type": "code",
   "execution_count": 1,
   "id": "f93f0101",
   "metadata": {},
   "outputs": [
    {
     "name": "stdout",
     "output_type": "stream",
     "text": [
      "Requirement already satisfied: config in c:\\users\\user\\anaconda3\\lib\\site-packages (0.5.1)\n"
     ]
    }
   ],
   "source": [
    "#주피터 노트북에서 해당 모듈을 설치할때는 pip명령어를 사용 ex) !pip install *** or pip install ***\n",
    "!pip install config "
   ]
  },
  {
   "cell_type": "code",
   "execution_count": 12,
   "id": "d3e57332",
   "metadata": {},
   "outputs": [],
   "source": [
    "# 기본 셋팅!!! 사용할 import를 전부 설정\n",
    "import os\n",
    "import sys\n",
    "import urllib.request\n",
    "import datetime\n",
    "import pandas as pd\n",
    "import time\n",
    "import json\n",
    "from config import *\n",
    "\n",
    "import matplotlib.pyplot as plt\n",
    "import matplotlib"
   ]
  },
  {
   "cell_type": "code",
   "execution_count": 13,
   "id": "77166b80",
   "metadata": {},
   "outputs": [],
   "source": [
    "# End Point : http://openapi.tour.go.kr/openapi/service \n",
    "# 서비스URL : http://openapi.tour.go.kr/openapi/service/EdrcntTourismStatsService/getEdrcntTourismStatsList "
   ]
  },
  {
   "cell_type": "code",
   "execution_count": 14,
   "id": "ab0f8064",
   "metadata": {},
   "outputs": [],
   "source": [
    "# import requests\n",
    "\n",
    "# url = 'http://openapi.tour.go.kr/openapi/service/EdrcntTourismStatsService/getEdrcntTourismStatsList'\n",
    "# params ={'serviceKey' : '서비스키', 'YM' : '201201', 'NAT_CD' : '112', 'ED_CD' : 'D' }\n",
    "\n",
    "# response = requests.get(url, params=params)\n",
    "# print(response.content)"
   ]
  },
  {
   "cell_type": "code",
   "execution_count": 15,
   "id": "0a956c4a",
   "metadata": {},
   "outputs": [],
   "source": [
    "ServiceKey = \"ijX6kzodqkYyP3LcfZHNeBTnsCLanyelanXYMGfhPAU5El4tXY5IHevDCGyTIXXJIsFs98ro7YoJjDyuc66txg%3D%3D\""
   ]
  },
  {
   "cell_type": "code",
   "execution_count": 16,
   "id": "f5b848b8",
   "metadata": {},
   "outputs": [],
   "source": [
    "# 강사님 Key값\n",
    "# ServiceKey = \"utjhR9RqKrAojKs8Bq57OxR2E28NLhynjLMOb4r%2FJPSB38yp8QAQoZNoB1EKnFNw9p17Kg%2BTwiYMvwCibLqCzg%3D%3D\""
   ]
  },
  {
   "cell_type": "code",
   "execution_count": 17,
   "id": "6c535fec",
   "metadata": {},
   "outputs": [],
   "source": [
    "# [CODE 1]\n",
    "def getRequestUrl(url):\n",
    "    req = urllib.request.Request(url) \n",
    "    try: \n",
    "        response = urllib.request.urlopen(req)     \n",
    "        if response.getcode() == 200:  \n",
    "            print(\"[%s] Url Request Success\" % datetime.datetime.now())\n",
    "            return response.read().decode('utf-8')\n",
    "    except Exception as e: \n",
    "        print(e)\n",
    "        print(\"[%s] Error for URL : %s\" % (datetime.datetime.now(), url))\n",
    "        return None"
   ]
  },
  {
   "cell_type": "code",
   "execution_count": 18,
   "id": "2a403ff1",
   "metadata": {},
   "outputs": [],
   "source": [
    "# [CODE 2]\n",
    "\n",
    "def getTourismStatsltem(yyyymm, nat_cd, ed_cd):\n",
    "    #공공데이터에서 신청된 이후 제공하는 url 주소를 불러오기\n",
    "    service_url = \"http://openapi.tour.go.kr/openapi/service/EdrcntTourismStatsService/getEdrcntTourismStatsList \"\n",
    "    \n",
    "    parameters = \"?_type=json&serviceKey=\" + ServiceKey #인증키\n",
    "    parameters += \"&YM\" + yyyymm\n",
    "    parameters += \"&NAT_CD=\" + nat_cd\n",
    "    parameters += \"&ED_CD\" + ed_cd\n",
    "    \n",
    "    url = service_url + parameters\n",
    "    \n",
    "    responseDecode = getRequestUrl(url)   # [CODE 1]\n",
    "    \n",
    "    if (responseDecode == None):\n",
    "        return None\n",
    "    else:\n",
    "        return json.loads(responseDecode)    "
   ]
  },
  {
   "cell_type": "code",
   "execution_count": 19,
   "id": "feff7e82",
   "metadata": {},
   "outputs": [],
   "source": [
    "# [CODE 3]\n",
    "\n",
    "def getTourismStatsService(nat_cd, ed_cd, nStartYear, nEndYear):\n",
    "    jsonResult = []\n",
    "    result = []\n",
    "    netName = \"\"\n",
    "    ed = []\n",
    "    dataEnd = []    \n",
    "    \n",
    "    for year in range(nStartYear, nEndYear+1):\n",
    "        for month in range(1, 13):\n",
    "            yyyymm = \"{0}{1:0>2}\".format(str(year), str(month))\n",
    "            jsonData = getTourismStatsltem(yyyymm, nat_cd, ed_cd)\n",
    "            if (jsonData['response']['header']['resultMsg'] == 'OK'):\n",
    "                # 데이터가 없는 마지막 항목인 경우 ----------------------\n",
    "                if jsonData['response']['body']['items'] == '':\n",
    "                    dataEND = \"{0}{1:0>2}\".format(str(year), str(month-1))\n",
    "                    print(\"데이터 없음....\\n 제공되는 통계 데이터는 %s년 %s월까지입니다\" %(str(year), str(month-1)))\n",
    "                    break\n",
    "                # jsonData를 출력하여 확인 -------------------------------\n",
    "                    print(json.dumps(jsonData, indent = 4, sort_keys = True, ensure_ascii = False))\n",
    "                    dataEND=yyyymm\n",
    "                    natName = jsonData['response']['body']['items']['item']['notKorNm']\n",
    "                    natName = natName.replace(' ', '')\n",
    "                    num = jsonData['response']['body']['items']['item']['num']\n",
    "                    ed = jsonData['response']['body']['items']['item']['ed']\n",
    "                    print('[%s_%s : %s]' %(natName, yyyymm, num))\n",
    "                    print('------------------------------------')\n",
    "                    jsonResult.append({'nar_name': natName, 'nat_cd': nat_cd, 'yyyymm': yyyymm, 'visit_cnt': num})\n",
    "                    result.append([natName, nat_dd, yyyymm, num])\n",
    "                    \n",
    "    return jsonResult, result, natName, ed, dataEnd"
   ]
  },
  {
   "cell_type": "code",
   "execution_count": 20,
   "id": "ad56c397",
   "metadata": {},
   "outputs": [],
   "source": [
    "def main():\n",
    "    \n",
    "    #중국 : 112 / 일본 : 130 / 미국 : 275\n",
    "    print(\"<<국내 입국한 외국인의 통계 데이터를 수집합니다.>>\")\n",
    "    nat_cd = input('국가 코드를 입력하세요(중국: 112 / 일본: 130/ 미국: 275):')\n",
    "    nStartYear = int(input('데이터를 몇 년부터 수집할까요? :'))\n",
    "    nEndYear = int(input('데이터를 몇 년까지 수집할까요? :'))\n",
    "    ed_cd = \"E\"  # E:  방항외래관광객, D: 해외출국\n",
    "    \n",
    "    jsonResult, result, natName, ed, dataEND = getTourismStatsService(nat_cd, ed_cd, nStartYear, nEndYear) # [CODE 3]\n",
    "    \n",
    "    with open('./%s_%s_해외방문객정보_%d_%s.json' % (natName, ed_cd, nStartYear, dataEND), 'w', encoding = 'utf-8') as outfile:\n",
    "        jsonFile = json.dumps(jsonResult, indent = 4, sort_keys = True, ensure_ascii = False)\n",
    "        outfile.write(jsonFile)\n",
    "        \n",
    "    #파일저장 2  : csv 파일\n",
    "    columns = [\"입국자국가\", \"국가코드\", \"입국년월\", \"입국자 수\"]\n",
    "    result_df = pd.DataFrame(result, columns = columns)\n",
    "    result_df.to_csv('./%s_%s_%d_%s.csv' % (natName, ed, nStartYear, dataEND), index=False, encoding='cp949')"
   ]
  },
  {
   "cell_type": "code",
   "execution_count": 21,
   "id": "291d5374",
   "metadata": {},
   "outputs": [
    {
     "name": "stdout",
     "output_type": "stream",
     "text": [
      "<<국내 입국한 외국인의 통계 데이터를 수집합니다.>>\n",
      "국가 코드를 입력하세요(중국: 112 / 일본: 130/ 미국: 275):130\n",
      "데이터를 몇 년부터 수집할까요? :2020\n",
      "데이터를 몇 년까지 수집할까요? :2021\n",
      "URL can't contain control characters. '/openapi/service/EdrcntTourismStatsService/getEdrcntTourismStatsList ?_type=json&serviceKey=ijX6kzodqkYyP3LcfZHNeBTnsCLanyelanXYMGfhPAU5El4tXY5IHevDCGyTIXXJIsFs98ro7YoJjDyuc66txg%3D%3D&YM202001&NAT_CD=130&ED_CDE' (found at least ' ')\n",
      "[2021-10-26 14:59:33.226159] Error for URL : http://openapi.tour.go.kr/openapi/service/EdrcntTourismStatsService/getEdrcntTourismStatsList ?_type=json&serviceKey=ijX6kzodqkYyP3LcfZHNeBTnsCLanyelanXYMGfhPAU5El4tXY5IHevDCGyTIXXJIsFs98ro7YoJjDyuc66txg%3D%3D&YM202001&NAT_CD=130&ED_CDE\n"
     ]
    },
    {
     "ename": "TypeError",
     "evalue": "'NoneType' object is not subscriptable",
     "output_type": "error",
     "traceback": [
      "\u001b[1;31m---------------------------------------------------------------------------\u001b[0m",
      "\u001b[1;31mTypeError\u001b[0m                                 Traceback (most recent call last)",
      "\u001b[1;32m<ipython-input-21-263240bbee7e>\u001b[0m in \u001b[0;36m<module>\u001b[1;34m\u001b[0m\n\u001b[1;32m----> 1\u001b[1;33m \u001b[0mmain\u001b[0m\u001b[1;33m(\u001b[0m\u001b[1;33m)\u001b[0m\u001b[1;33m\u001b[0m\u001b[1;33m\u001b[0m\u001b[0m\n\u001b[0m",
      "\u001b[1;32m<ipython-input-20-b254ce90adc3>\u001b[0m in \u001b[0;36mmain\u001b[1;34m()\u001b[0m\n\u001b[0;32m      8\u001b[0m     \u001b[0med_cd\u001b[0m \u001b[1;33m=\u001b[0m \u001b[1;34m\"E\"\u001b[0m  \u001b[1;31m# E:  방항외래관광객, D: 해외출국\u001b[0m\u001b[1;33m\u001b[0m\u001b[1;33m\u001b[0m\u001b[0m\n\u001b[0;32m      9\u001b[0m \u001b[1;33m\u001b[0m\u001b[0m\n\u001b[1;32m---> 10\u001b[1;33m     \u001b[0mjsonResult\u001b[0m\u001b[1;33m,\u001b[0m \u001b[0mresult\u001b[0m\u001b[1;33m,\u001b[0m \u001b[0mnatName\u001b[0m\u001b[1;33m,\u001b[0m \u001b[0med\u001b[0m\u001b[1;33m,\u001b[0m \u001b[0mdataEND\u001b[0m \u001b[1;33m=\u001b[0m \u001b[0mgetTourismStatsService\u001b[0m\u001b[1;33m(\u001b[0m\u001b[0mnat_cd\u001b[0m\u001b[1;33m,\u001b[0m \u001b[0med_cd\u001b[0m\u001b[1;33m,\u001b[0m \u001b[0mnStartYear\u001b[0m\u001b[1;33m,\u001b[0m \u001b[0mnEndYear\u001b[0m\u001b[1;33m)\u001b[0m \u001b[1;31m# [CODE 3]\u001b[0m\u001b[1;33m\u001b[0m\u001b[1;33m\u001b[0m\u001b[0m\n\u001b[0m\u001b[0;32m     11\u001b[0m \u001b[1;33m\u001b[0m\u001b[0m\n\u001b[0;32m     12\u001b[0m     \u001b[1;32mwith\u001b[0m \u001b[0mopen\u001b[0m\u001b[1;33m(\u001b[0m\u001b[1;34m'./%s_%s_해외방문객정보_%d_%s.json'\u001b[0m \u001b[1;33m%\u001b[0m \u001b[1;33m(\u001b[0m\u001b[0mnatName\u001b[0m\u001b[1;33m,\u001b[0m \u001b[0med_cd\u001b[0m\u001b[1;33m,\u001b[0m \u001b[0mnStartYear\u001b[0m\u001b[1;33m,\u001b[0m \u001b[0mdataEND\u001b[0m\u001b[1;33m)\u001b[0m\u001b[1;33m,\u001b[0m \u001b[1;34m'w'\u001b[0m\u001b[1;33m,\u001b[0m \u001b[0mencoding\u001b[0m \u001b[1;33m=\u001b[0m \u001b[1;34m'utf-8'\u001b[0m\u001b[1;33m)\u001b[0m \u001b[1;32mas\u001b[0m \u001b[0moutfile\u001b[0m\u001b[1;33m:\u001b[0m\u001b[1;33m\u001b[0m\u001b[1;33m\u001b[0m\u001b[0m\n",
      "\u001b[1;32m<ipython-input-19-00adcfe142f7>\u001b[0m in \u001b[0;36mgetTourismStatsService\u001b[1;34m(nat_cd, ed_cd, nStartYear, nEndYear)\u001b[0m\n\u001b[0;32m     12\u001b[0m             \u001b[0myyyymm\u001b[0m \u001b[1;33m=\u001b[0m \u001b[1;34m\"{0}{1:0>2}\"\u001b[0m\u001b[1;33m.\u001b[0m\u001b[0mformat\u001b[0m\u001b[1;33m(\u001b[0m\u001b[0mstr\u001b[0m\u001b[1;33m(\u001b[0m\u001b[0myear\u001b[0m\u001b[1;33m)\u001b[0m\u001b[1;33m,\u001b[0m \u001b[0mstr\u001b[0m\u001b[1;33m(\u001b[0m\u001b[0mmonth\u001b[0m\u001b[1;33m)\u001b[0m\u001b[1;33m)\u001b[0m\u001b[1;33m\u001b[0m\u001b[1;33m\u001b[0m\u001b[0m\n\u001b[0;32m     13\u001b[0m             \u001b[0mjsonData\u001b[0m \u001b[1;33m=\u001b[0m \u001b[0mgetTourismStatsltem\u001b[0m\u001b[1;33m(\u001b[0m\u001b[0myyyymm\u001b[0m\u001b[1;33m,\u001b[0m \u001b[0mnat_cd\u001b[0m\u001b[1;33m,\u001b[0m \u001b[0med_cd\u001b[0m\u001b[1;33m)\u001b[0m\u001b[1;33m\u001b[0m\u001b[1;33m\u001b[0m\u001b[0m\n\u001b[1;32m---> 14\u001b[1;33m             \u001b[1;32mif\u001b[0m \u001b[1;33m(\u001b[0m\u001b[0mjsonData\u001b[0m\u001b[1;33m[\u001b[0m\u001b[1;34m'response'\u001b[0m\u001b[1;33m]\u001b[0m\u001b[1;33m[\u001b[0m\u001b[1;34m'header'\u001b[0m\u001b[1;33m]\u001b[0m\u001b[1;33m[\u001b[0m\u001b[1;34m'resultMsg'\u001b[0m\u001b[1;33m]\u001b[0m \u001b[1;33m==\u001b[0m \u001b[1;34m'OK'\u001b[0m\u001b[1;33m)\u001b[0m\u001b[1;33m:\u001b[0m\u001b[1;33m\u001b[0m\u001b[1;33m\u001b[0m\u001b[0m\n\u001b[0m\u001b[0;32m     15\u001b[0m                 \u001b[1;31m# 데이터가 없는 마지막 항목인 경우 ----------------------\u001b[0m\u001b[1;33m\u001b[0m\u001b[1;33m\u001b[0m\u001b[1;33m\u001b[0m\u001b[0m\n\u001b[0;32m     16\u001b[0m                 \u001b[1;32mif\u001b[0m \u001b[0mjsonData\u001b[0m\u001b[1;33m[\u001b[0m\u001b[1;34m'response'\u001b[0m\u001b[1;33m]\u001b[0m\u001b[1;33m[\u001b[0m\u001b[1;34m'body'\u001b[0m\u001b[1;33m]\u001b[0m\u001b[1;33m[\u001b[0m\u001b[1;34m'items'\u001b[0m\u001b[1;33m]\u001b[0m \u001b[1;33m==\u001b[0m \u001b[1;34m''\u001b[0m\u001b[1;33m:\u001b[0m\u001b[1;33m\u001b[0m\u001b[1;33m\u001b[0m\u001b[0m\n",
      "\u001b[1;31mTypeError\u001b[0m: 'NoneType' object is not subscriptable"
     ]
    }
   ],
   "source": [
    "main()"
   ]
  },
  {
   "cell_type": "code",
   "execution_count": null,
   "id": "3369b1ea",
   "metadata": {},
   "outputs": [],
   "source": []
  }
 ],
 "metadata": {
  "kernelspec": {
   "display_name": "Python 3",
   "language": "python",
   "name": "python3"
  },
  "language_info": {
   "codemirror_mode": {
    "name": "ipython",
    "version": 3
   },
   "file_extension": ".py",
   "mimetype": "text/x-python",
   "name": "python",
   "nbconvert_exporter": "python",
   "pygments_lexer": "ipython3",
   "version": "3.8.8"
  }
 },
 "nbformat": 4,
 "nbformat_minor": 5
}
