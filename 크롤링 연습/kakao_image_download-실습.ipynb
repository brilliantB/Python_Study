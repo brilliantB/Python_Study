{
 "cells": [
  {
   "cell_type": "markdown",
   "metadata": {
    "id": "2RHNJgB3RlDM"
   },
   "source": [
    "# 1장. 카카오를 통해 이미지 크롤링 프로젝트"
   ]
  },
  {
   "cell_type": "markdown",
   "metadata": {
    "id": "N4u-Y2-oRlDO"
   },
   "source": [
    "## 1.2.1 회원가입\n",
    "- 카카오 개발자 사이트 : https://developers.kakao.com"
   ]
  },
  {
   "cell_type": "markdown",
   "metadata": {
    "id": "h6EL60oDRlDS"
   },
   "source": [
    "## 1.3.1 파일 읽고, 쓰기"
   ]
  },
  {
   "cell_type": "code",
   "execution_count": 1,
   "metadata": {},
   "outputs": [],
   "source": [
    "# 파일 쓰기 \n",
    "# data = \"hello\"\n",
    "# with open(\"text.txt\", \"w\") as f:\n",
    "#     f.write(data)\n",
    "    \n",
    "# 파일 읽기\n",
    "# with open(\"text.txt\", 'r') as f:\n",
    "#     print(f.read())"
   ]
  },
  {
   "cell_type": "markdown",
   "metadata": {
    "id": "iqBCEdMtRlDV"
   },
   "source": [
    "## 1.3.2 웹에 있는 이미지 파일을 저장하는 방법\n",
    "- https://search1.kakaocdn.net/argon/600x0_65_wr/ImZk3b2X1w8"
   ]
  },
  {
   "cell_type": "code",
   "execution_count": 2,
   "metadata": {},
   "outputs": [],
   "source": [
    "import requests"
   ]
  },
  {
   "cell_type": "code",
   "execution_count": 3,
   "metadata": {
    "id": "dUr1VglmRlDW"
   },
   "outputs": [
    {
     "name": "stdout",
     "output_type": "stream",
     "text": [
      "==============[이미지 저장]==============\n"
     ]
    }
   ],
   "source": [
    "# 이미지가 있는 url 주소\n",
    "url = \"https://search1.kakaocdn.net/argon/600x0_65_wr/ImZk3b2X1w8\" \n",
    "\n",
    "# 해당 url로 서버에게 요청\n",
    "img_response = requests.get(url)\n",
    "\n",
    "# 요청에 성공했다면,\n",
    "if img_response.status_code == 200:  #서버접속 성공\n",
    "    #print(img_response.content)\n",
    "    \n",
    "    print('==============[이미지 저장]==============')\n",
    "    \n",
    "    with open(\"test.jpg\", \"wb\") as f:\n",
    "         f.write(img_response.content)\n",
    " "
   ]
  },
  {
   "cell_type": "markdown",
   "metadata": {
    "id": "9NesVX5zRlDX"
   },
   "source": [
    "# 1.4 구현하기"
   ]
  },
  {
   "cell_type": "markdown",
   "metadata": {
    "id": "M__xMVJZRlDY"
   },
   "source": [
    "## Step 1) 카카오 이미지 검색 OpenAPI 호출하기\n",
    "- 카카오 이미지 검색 OpenAPI 문서 : https://developers.kakao.com/docs/latest/ko/daum-search/dev-guide#search-image"
   ]
  },
  {
   "cell_type": "code",
   "execution_count": 4,
   "metadata": {
    "id": "AviUIaBWRlDZ",
    "scrolled": false
   },
   "outputs": [
    {
     "name": "stdout",
     "output_type": "stream",
     "text": [
      "error! because  {'errorType': 'MissingParameter', 'message': 'query parameter required'}\n"
     ]
    }
   ],
   "source": [
    "import requests\n",
    "import json\n",
    "\n",
    "keyword = ''\n",
    "\n",
    "# 이미지 검색\n",
    "url = \"https://dapi.kakao.com/v2/search/image\"\n",
    "headers = {\n",
    "#     \"Authorization\" : \"KakaoAK <REST_API 앱 키를 입력하세요>\"\n",
    "        \"Authorization\" :'KakaoAK 3b882b7e31d4fe5da09b53377d8d35f0'\n",
    "}\n",
    "\n",
    "data = {\n",
    "    \"query\" : keyword \n",
    "}\n",
    "\n",
    "# 이미지 검색 요청\n",
    "response = requests.post(url, headers=headers, data=data)\n",
    "\n",
    "# 요청에 실패했다면,\n",
    "if response.status_code != 200:\n",
    "    print(\"error! because \", response.json())\n",
    "    \n",
    "else: # 성공했다면,\n",
    "    count = 0\n",
    "    for image_info in response.json()['documents']:\n",
    "        print(f\"[{count}th] image_url =\", image_info['image_url'])\n",
    "        # 저장될 이미지 파일명 설정\n",
    "        count = count + 1"
   ]
  },
  {
   "cell_type": "markdown",
   "metadata": {
    "id": "qqJAuwawRlDb"
   },
   "source": [
    "## Step 2) 이미지 파일 저장하기"
   ]
  },
  {
   "cell_type": "code",
   "execution_count": 5,
   "metadata": {
    "id": "NuG8RKkCRlDb"
   },
   "outputs": [],
   "source": [
    "# 이미지가 있는 image_url을 통해 file_name 파일로 저장하는 함수\n",
    "def save_image(image_url, file_name):\n",
    "    img_response = requests.get(image_url)\n",
    "    # 요청에 성공했다면,\n",
    "    if img_response.status_code == 200:\n",
    "        # 파일 저장\n",
    "        with open(file_name, 'wb') as f:\n",
    "            f.write(img_response.content)"
   ]
  },
  {
   "cell_type": "code",
   "execution_count": null,
   "metadata": {},
   "outputs": [],
   "source": []
  },
  {
   "cell_type": "markdown",
   "metadata": {},
   "source": [
    "## Step 3) 사진을 저장할 폴더 생성 "
   ]
  },
  {
   "cell_type": "code",
   "execution_count": 6,
   "metadata": {},
   "outputs": [],
   "source": [
    "# 사진을 저장할 폴더 생성 \n",
    "def createFolder(keyword):\n",
    "    try:\n",
    "        if not os.path.exists(keyword):\n",
    "            os.makedirs(keyword)\n",
    "    except OSError:\n",
    "        print('Error: Creating directory. ' + keyword)"
   ]
  },
  {
   "cell_type": "markdown",
   "metadata": {
    "id": "vsdm4MsjRlDd"
   },
   "source": [
    "## Step 3) 전체 코드 완성하기"
   ]
  },
  {
   "cell_type": "code",
   "execution_count": 8,
   "metadata": {
    "id": "_kHoygVBRlDe"
   },
   "outputs": [
    {
     "name": "stdout",
     "output_type": "stream",
     "text": [
      "검색 키워드를 입력 하세요 새우깡\n",
      "[0th] image_url = http://postfiles13.naver.net/20120907_140/hunterinfo_1347023625165gm3kS_PNG/%BB%F5%BF%EC%B1%F8.png?type=w2\n",
      "[1th] image_url = http://t1.daumcdn.net/cfile/tistory/2377384E56A5A22219\n",
      "[2th] image_url = http://cafefiles.naver.net/data3/2004/10/10/61/%BB%F5%BF%EC%B1%F8.jpg\n",
      "[3th] image_url = http://postfiles11.naver.net/20151020_250/sensemaniawon_14453023992265l72L_JPEG/%BB%F5%BF%EC%B1%F84.jpg?type=w1\n",
      "[4th] image_url = http://postfiles10.naver.net/20121103_89/klk233_13519329432943bXvD_JPEG/%BB%F5%BF%EC%B1%F8.jpg?type=w3\n",
      "[5th] image_url = http://postfiles5.naver.net/20130304_84/youngdae_77_1362376037416JSOKB_JPEG/%BB%F5%BF%EC%B1%F8.jpg?type=w3\n",
      "[6th] image_url = http://postfiles6.naver.net/20100316_53/rlarkdms07_1268747734847LkuCg_jpg/%EC%83%88%EC%9A%B0%EA%B9%A111_rlarkdms07.jpg?type=w1\n",
      "[7th] image_url = http://postfiles1.naver.net/data2/2004/4/22/64/%BC%FB%BE%EE%C0%D6%B4%C2%BB%F5%BF%EC%B1%F8.jpg?type=w3\n",
      "[8th] image_url = http://postfiles2.naver.net/20150204_113/ongeering_1423040667055nDGu2_JPEG/%B8%C5%BF%EE%BB%F5%BF%EC%B1%F8_%281%29.jpg?type=w2\n",
      "[9th] image_url = http://cafefiles.naver.net/data7/2005/3/25/46/%BC%FB%B0%DC%C1%F8_%BB%F5%BF%EC%B1%F8.jpg\n",
      "[10th] image_url = http://file2.instiz.net/data/file2/2017/05/11/6/9/1/6913480d3e55bf7d8f93e40bdf6af615.jpg\n",
      "[11th] image_url = http://cafefiles.naver.net/data7/2005/3/28/268/%C3%A3%C0%BA_%BB%F5%BF%EC%B1%F8.jpg\n",
      "[12th] image_url = http://file2.instiz.net/data/file2/2017/05/11/a/8/d/a8d22dd1cf3b0274b1295c412be29ffd.jpg\n",
      "[13th] image_url = http://file2.instiz.net/data/file2/2017/05/11/6/5/4/654eb0e2832709b2ecfeeeda27371865.jpg\n",
      "[14th] image_url = http://blogfiles13.naver.net/data14/2006/3/27/28/%BF%F5%C1%F82_1-jheui13.jpg\n",
      "[15th] image_url = http://blogfiles2.naver.net/data14/2006/3/27/33/%B7%CE%B0%ED2_1-jheui13.jpg\n",
      "[16th] image_url = http://blogfiles8.naver.net/data14/2006/3/27/119/%BF%F5%C1%F8_1-jheui13.jpg\n",
      "[17th] image_url = https://t1.daumcdn.net/news/202006/24/seoul/20200624093606464sgyc.jpg\n",
      "[18th] image_url = http://postfiles11.naver.net/20100813_154/s9356s_1281701811741SzA0p_jpg/%EC%83%88%EC%9A%B0%EA%B9%A1_%EC%8C%80%EB%B2%8C%EB%A0%88_s9356s.jpg?type=w3\n",
      "[19th] image_url = http://www.biztribune.co.kr/news/photo/202006/240658_99572_5110.jpg\n",
      "[20th] image_url = https://t1.daumcdn.net/news/201805/31/dailian/20180531095206842ahtp.jpg\n",
      "[21th] image_url = http://cfile287.uf.daum.net/image/2419AC345778BA962D0450\n",
      "[22th] image_url = http://postfiles2.naver.net/20140810_289/pmang0401_1407640519191GNoSN_JPEG/%BB%F5%BF%EC%B1%F8.jpg?type=w2\n",
      "[23th] image_url = https://t1.daumcdn.net/news/201907/25/seoul/20190725201103299cywk.jpg\n",
      "[24th] image_url = https://t1.daumcdn.net/cafeattach/1YmK3/24783eda03eaa64c8e1120f3996f8550992b0fb0\n",
      "[25th] image_url = http://postfiles11.naver.net/20140922_170/hs_kuma_1411369101083bdI8s_JPEG/%BB%F5%BF%EC%B1%F8.JPG?type=w2\n",
      "[26th] image_url = http://postfiles5.naver.net/20160108_276/worlinglnsd_1452232659508jMye5_JPEG/%BB%F5%BF%EC%B1%F81.jpg?type=w1\n",
      "[27th] image_url = http://cfile266.uf.daum.net/image/2518444458DBA72E0295A8\n",
      "[28th] image_url = http://pds3.cafe.daum.net/download.php?grpid=1kt&fldid=3K2I&dataid=8931&fileid=2&regdt=20061128013735&disk=17&grpcode=slim&dncnt=N&.bmp&.bmp\n",
      "[29th] image_url = http://cfile247.uf.daum.net/image/2546864158DBA7260D1F7E\n",
      "[30th] image_url = http://cfile289.uf.daum.net/image/2734694158DBA72F0FD827\n",
      "[31th] image_url = http://pds2.cafe.daum.net/out_download.php?disk=30&id=456513bd9b618\n",
      "[32th] image_url = http://postfiles9.naver.net/20091215_264/tomato2130_1260811000819c5iPh_jpg/12.14-%BB%F5%BF%EC%B1%F87_tomato2130.jpg?type=w1\n",
      "[33th] image_url = http://cafe119.daum.net/_c21_/pds_down_hdn?grpid=avIL&fldid=_album&dataid=187&grpcode=sinhaLove&realfile=(%E3%89%B3%ED%99%9Ca.jpg\n",
      "[34th] image_url = http://postfiles11.naver.net/20091215_202/tomato2130_1260810979168IYlwI_jpg/12.14-%BB%F5%BF%EC%B1%F81-1_tomato2130.jpg?type=w1\n",
      "[35th] image_url = http://postfiles5.naver.net/20100813_84/leonapol_1281690722975EbQtB_jpg/%EC%8C%80%EB%B2%8C%EB%A0%88%EC%83%88%EC%9A%B0%EA%B9%A1_leonapol.jpg?type=w3\n",
      "[36th] image_url = http://postfiles11.naver.net/20091215_266/tomato2130_1260810810521_X4qHw5_JPG/12.14-%BB%F5%BF%EC%B1%F88.JPG?type=w1\n",
      "[37th] image_url = https://upload3.inven.co.kr/upload/2021/07/10/bbs/i13523522477.jpg\n",
      "[38th] image_url = http://postfiles10.naver.net/20140810_73/pmang0401_1407640502923APL4z_JPEG/%BB%F5%BF%EC%B1%F8_2.jpg?type=w2\n",
      "[39th] image_url = http://dthumb.phinf.naver.net/?src=%22https%3A%2F%2Fi.ytimg.com%2Fvi%2FqwVfzbH2qio%2Fmaxresdefault.jpg%22&type=f560_336\n",
      "[40th] image_url = http://blogfiles16.naver.net/data13/2006/3/27/159/%B7%CE%B0%ED4_1-jheui13.jpg\n",
      "[41th] image_url = http://pds8.cafe.daum.net/download.php?grpid=nlOG&fldid=TrKl&dataid=1786&fileid=1&regdt=20051202092533&disk=26&grpcode=68lovelyfriend&dncnt=N&.jpg\n",
      "[42th] image_url = https://t1.daumcdn.net/cafeattach/1Yo7K/398ff23c1cd7f6b09a6266fc267ad4972b06e1aa\n",
      "[43th] image_url = http://cfile256.uf.daum.net/image/1262EA0D4BAAE6AF87DD26\n",
      "[44th] image_url = http://postfiles13.naver.net/20140417_268/padam7_1397725034017H4bbJ_JPEG/%B9%CE%B9%B0%BB%F5%BF%EC%B1%F82%28%B8%AE%BB%E7%C0%CC%C1%EE%29.jpg?type=w2\n",
      "[45th] image_url = http://pds11.cafe.daum.net/download.php?grpid=bFJQ&fldid=JAyr&dataid=705&fileid=1&regdt=20050223112331&disk=13&grpcode=ezdrum1&dncnt=N&.jpg\n",
      "[46th] image_url = http://blogfiles1.naver.net/data14/2006/3/27/288/%B7%CE%B0%ED3_1-jheui13.jpg\n",
      "[47th] image_url = http://cfile227.uf.daum.net/image/1179651A4C134CA73D69F3\n",
      "[48th] image_url = http://postfiles10.naver.net/20110402_73/aran1228_1301673052514xkGJL_JPEG/%B8%C5%BF%EE%BB%F5%BF%EC%B1%F89.jpg?type=w1\n",
      "[49th] image_url = http://postfiles7.naver.net/20100312_150/totos1207_126836308363541k95_jpg/%EC%83%88%EC%9A%B0%EA%B9%A1-%EC%9D%B4%EC%82%AD%ED%86%A0%EC%8A%A4%ED%8A%B8_03_totos1207.jpg?type=w1\n",
      "[50th] image_url = http://image.chosun.com/sitedata/image/201402/06/2014020604371_0.jpg\n",
      "[51th] image_url = http://postfiles8.naver.net/20100312_151/totos1207_12683630830125oh9u_jpg/%EC%83%88%EC%9A%B0%EA%B9%A1-%EC%9D%B4%EC%82%AD%ED%86%A0%EC%8A%A4%ED%8A%B8_01_totos1207.jpg?type=w1\n",
      "[52th] image_url = http://postfiles16.naver.net/20120523_79/itworld1004_13377541791595SqDN_PNG/%BB%F5%BF%EC%B1%F83.png?type=w2\n",
      "[53th] image_url = http://blogfiles13.naver.net/data13/2006/3/27/92/%B7%CE%B0%ED1_1-jheui13.jpg\n",
      "[54th] image_url = http://news.tongplus.com/site/data/img_dir/2017/09/21/2017092101797_0.jpg\n",
      "[55th] image_url = https://file1.bobaedream.co.kr/strange/2021/09/15/22/GA4R1631714385_13417600.jpg\n",
      "[56th] image_url = http://cfile233.uf.daum.net/image/1621A00F49C6C5841DA6F7\n",
      "[57th] image_url = http://postfiles15.naver.net/20100312_46/totos1207_126836308335263Xx8_jpg/%EC%83%88%EC%9A%B0%EA%B9%A1-%EC%9D%B4%EC%82%AD%ED%86%A0%EC%8A%A4%ED%8A%B8_02_totos1207.jpg?type=w1\n",
      "[58th] image_url = http://postfiles7.naver.net/20160303_70/ghkdlxld2337_1457008082926i6KLS_JPEG/%BB%F5%BF%EC%B1%F8_%B3%AA%C0%CC_%BE%CB%B0%ED%C0%D6%B3%AA%BF%E41.JPG?type=w1\n",
      "[59th] image_url = http://postfiles11.naver.net/data1/2004/1/6/26/%C3%A3%C0%BD.jpg?type=w3\n",
      "[60th] image_url = https://t1.daumcdn.net/cafeattach/1Yo7K/b8ca87cb80a2957d7136ded69076021dc6b8743d\n",
      "[61th] image_url = http://postfiles10.naver.net/MjAxODAzMDhfMjky/MDAxNTIwNTA5Mzk3MDg4.Pzkep3VfPdFV1KQ2PBIVOTAaTlV77P1k0jj-roWytssg.NN09f_gQmBmFIIpfvEYBuNuan4pihvEuaNRm0-Yql7kg.JPEG.daydreamer_79/2017-01-18_09%3B44%3B42.jpg?type=w773\n",
      "[62th] image_url = http://cfile245.uf.daum.net/image/996CD2375B51865311B8D1\n",
      "[63th] image_url = https://k.kakaocdn.net/dn/AOxAo/btqw9OHjfJQ/pt7YOTfxDrAM9dNkK32GI1/img.png\n",
      "[64th] image_url = https://dthumb-phinf.pstatic.net/?src=%22https%3A%2F%2Fblogthumb.pstatic.net%2FMjAxODEyMTdfMTY3%2FMDAxNTQ1MDUyMzM5NzE1.ImXOE28V2ia8X0HDgKke1dullioqNzwVp8hfYLhyoAEg.Y76IJFq8v1YhZHPsRL9BNq1EfihC8_kOVnEfB8iKM9Ug.JPEG.1979uni%2F%25BB%25F5%25BF%25EC%25B1%25F8_%25B8%25B6%25B8%25A5%25BB%25F5%25BF%25EC_%252821%2529.JPG%3Ftype%3Dw2%22&type=ff500_300\n",
      "[65th] image_url = http://cafefiles.naver.net/data3/2004/4/29/54/12345.jpg\n",
      "[66th] image_url = http://cfile243.uf.daum.net/image/024EBA3E5181CABA216749\n",
      "[67th] image_url = http://cfs5.blog.daum.net/upload_control/download.blog?fhandle=MEFWcTdAZnM1LmJsb2cuZGF1bS5uZXQ6L0lNQUdFLzAvMS5qcGcudGh1bWI=&filename=1.jpg\n"
     ]
    },
    {
     "name": "stdout",
     "output_type": "stream",
     "text": [
      "[68th] image_url = http://cfile229.uf.daum.net/image/1120170F49C6C0E50AE945\n",
      "[69th] image_url = https://k.kakaocdn.net/dn/cTEQtm/btqW8GlhlnI/gdeZK7chU8LxuYp6zvLWlK/img.jpg\n",
      "[70th] image_url = http://postfiles13.naver.net/20150527_156/yaya1254_14327313042006K0Lt_JPEG/%B8%C6%C1%D6%BE%C8%C1%D6_%BB%F5%BF%EC%B1%F8_%BF%C0%C2%A1%BE%EE__%282%29.jpg?type=w1\n",
      "[71th] image_url = http://cfile209.uf.daum.net/image/1968980C49C6C4AE2CDB28\n",
      "[72th] image_url = http://cfile295.uf.daum.net/image/18513C1A4C9237BA40D7EE\n",
      "[73th] image_url = http://cfile226.uf.daum.net/image/1368980C49C6C4B13142E5\n",
      "[74th] image_url = http://postfiles9.naver.net/MjAxOTAyMDdfMjA4/MDAxNTQ5NTI2MDk5Nzg2.r3TkqyU1pSbh3TIo78rOlfRt67YTU5S36a1L_HpxOJYg.vzjazKMTa_YVrGWSSNTNHHUhMnVbPkWBoN3rxWaZ-7sg.JPEG.cyberjn75/%EC%83%88%EC%9A%B0%EA%B9%A1_%EC%B9%BC%EB%A1%9C%EB%A6%AC_%EC%96%B4%EB%8A%90%EC%A0%95%EB%8F%84%EC%9D%BC%EA%B9%8C_(1).jpg?type=w966\n",
      "[75th] image_url = https://t1.daumcdn.net/tistoryfile/fs8/17_17_29_29_blog208060_attach_1_155.jpg?original\n",
      "[76th] image_url = http://cfile233.uf.daum.net/image/205D8F0E49C6C1F71A0039\n",
      "[77th] image_url = http://cfile240.uf.daum.net/image/125D8F0E49C6C1F719022C\n",
      "[78th] image_url = http://cfile205.uf.daum.net/image/1168980C49C6C4B03039D2\n",
      "[79th] image_url = http://pds12.cafe.daum.net/image/14/cafe/2007/06/06/03/28/4665ab327119d\n"
     ]
    }
   ],
   "source": [
    "import requests\n",
    "import json\n",
    "import os \n",
    "\n",
    "\n",
    "# 이미지가 있는 image_url을 통해 file_name 파일로 저장하는 함수\n",
    "def save_image(image_url, file_name):\n",
    "    img_response = requests.get(image_url)\n",
    "    # 요청에 성공했다면,\n",
    "    if img_response.status_code == 200:\n",
    "        # 파일 저장\n",
    "        with open(file_name, 'wb') as f:\n",
    "            f.write(img_response.content)\n",
    "\n",
    "# 이미지 검색\n",
    "url = \"https://dapi.kakao.com/v2/search/image\"\n",
    "headers = {\n",
    "#     \"Authorization\" : \"KakaoAK <REST_API 앱 키를 입력하세요>\"\n",
    "    \"Authorization\" :'KakaoAK 3b882b7e31d4fe5da09b53377d8d35f0'\n",
    "}\n",
    "\n",
    "keyword=input('검색 키워드를 입력 하세요 ')\n",
    "\n",
    "# 사진을 저장할 폴더 생성  함수를 실행\n",
    "createFolder(keyword)\n",
    "# def createFolder(keyword):\n",
    "#     try:\n",
    "#         if not os.path.exists(keyword):\n",
    "#             os.makedirs(keyword)\n",
    "#     except OSError:\n",
    "#         print('Error: Creating directory. ' + keyword)\n",
    "        \n",
    "data = {\n",
    "    \"query\" : keyword\n",
    "}\n",
    "\n",
    "# 이미지 검색 요청\n",
    "response = requests.post(url, headers=headers, data=data)\n",
    "\n",
    "# 요청에 실패했다면,\n",
    "if response.status_code != 200:\n",
    "    print(\"error! because\", response.json())\n",
    "else: # 성공했다면,\n",
    "    count = 0\n",
    "    for image_info in response.json()['documents']:\n",
    "        print(f\"[{count}th] image_url =\", image_info['image_url'])\n",
    "        # 저장될 이미지 파일명 설정\n",
    "        count = count + 1\n",
    "        file_name = f\"{keyword}_{count}.jpg\"\n",
    "\n",
    "        # 이미지 저장\n",
    "        save_image(image_info['image_url'], f'{keyword}/{file_name}')    \n",
    "        "
   ]
  },
  {
   "cell_type": "code",
   "execution_count": null,
   "metadata": {},
   "outputs": [],
   "source": []
  }
 ],
 "metadata": {
  "colab": {
   "collapsed_sections": [],
   "name": "image_download.ipynb",
   "provenance": []
  },
  "kernelspec": {
   "display_name": "Python 3",
   "language": "python",
   "name": "python3"
  },
  "language_info": {
   "codemirror_mode": {
    "name": "ipython",
    "version": 3
   },
   "file_extension": ".py",
   "mimetype": "text/x-python",
   "name": "python",
   "nbconvert_exporter": "python",
   "pygments_lexer": "ipython3",
   "version": "3.8.8"
  },
  "toc": {
   "base_numbering": 1,
   "nav_menu": {},
   "number_sections": true,
   "sideBar": true,
   "skip_h1_title": false,
   "title_cell": "Table of Contents",
   "title_sidebar": "Contents",
   "toc_cell": false,
   "toc_position": {},
   "toc_section_display": true,
   "toc_window_display": false
  }
 },
 "nbformat": 4,
 "nbformat_minor": 1
}
