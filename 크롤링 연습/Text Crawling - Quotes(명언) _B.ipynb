{
 "cells": [
  {
   "cell_type": "code",
   "execution_count": 1,
   "id": "48f7e689",
   "metadata": {},
   "outputs": [
    {
     "name": "stdout",
     "output_type": "stream",
     "text": [
      "Requirement already satisfied: beautifulsoup4 in c:\\users\\user\\anaconda3\\lib\\site-packages (4.9.3)\n",
      "Requirement already satisfied: soupsieve>1.2 in c:\\users\\user\\anaconda3\\lib\\site-packages (from beautifulsoup4) (2.2.1)\n"
     ]
    }
   ],
   "source": [
    "!pip install beautifulsoup4"
   ]
  },
  {
   "cell_type": "code",
   "execution_count": 2,
   "id": "649c76d3",
   "metadata": {},
   "outputs": [
    {
     "name": "stdout",
     "output_type": "stream",
     "text": [
      "“The world as we have created it is a process of our thinking. It cannot be changed without changing our thinking.”\n"
     ]
    }
   ],
   "source": [
    "#import os , re, usecsv\n",
    "import urllib.request as ur\n",
    "from bs4 import BeautifulSoup as bs\n",
    "\n",
    "url = 'http://quotes.toscrape.com/' \n",
    "html = ur.urlopen(url)\n",
    "soup = bs(html.read(), 'html.parser')\n",
    "\n",
    "soup\n",
    "\n",
    "#명언 하나만 가져오기\n",
    "print(soup.select('.col-md-8 > div:nth-child(1) > span.text')[0].text)"
   ]
  },
  {
   "cell_type": "markdown",
   "id": "ba878323",
   "metadata": {},
   "source": [
    "- quote 명언 하나만 가져오기"
   ]
  },
  {
   "cell_type": "code",
   "execution_count": 3,
   "id": "2e579bf2",
   "metadata": {},
   "outputs": [
    {
     "name": "stdout",
     "output_type": "stream",
     "text": [
      "“The world as we have created it is a process of our thinking. It cannot be changed without changing our thinking.”\n"
     ]
    }
   ],
   "source": [
    "# quote 명언 하나만 가져오기\n",
    "print(soup.find_all('div', {'class' : 'quote'})[0].span.text)    #김용범님버전"
   ]
  },
  {
   "cell_type": "code",
   "execution_count": 4,
   "id": "98ac11c8",
   "metadata": {},
   "outputs": [
    {
     "name": "stdout",
     "output_type": "stream",
     "text": [
      "“The world as we have created it is a process of our thinking. It cannot be changed without changing our thinking.”\n"
     ]
    }
   ],
   "source": [
    "print(soup.find('span').text)          # 오주환님버전"
   ]
  },
  {
   "cell_type": "code",
   "execution_count": 5,
   "id": "4faaf5e2",
   "metadata": {},
   "outputs": [
    {
     "name": "stdout",
     "output_type": "stream",
     "text": [
      "“The world as we have created it is a process of our thinking. It cannot be changed without changing our thinking.”\n"
     ]
    }
   ],
   "source": [
    "print(soup.find_all('span')[0].text)    # 강사님버전"
   ]
  },
  {
   "cell_type": "code",
   "execution_count": 6,
   "id": "1634daf0",
   "metadata": {},
   "outputs": [],
   "source": [
    "#임도훈님버전\n",
    "# from bs4 import BeautifulSoup as bs\n",
    "# url = 'http://quotes.toscrape.com/' \n",
    "# html = ur.urlopen(url)\n",
    "# soup = bs(html.read(), 'html.parser')\n",
    "# print(soup)\n",
    "\n",
    "# f = open('myung.txt','w')\n",
    "\n",
    "# for i in soup.find_all('span', {'class':'text'}):\n",
    "#     try:\n",
    "#         f.write(i.text+'\\n')\n",
    "#     except:\n",
    "#         pass\n",
    "# f.close()\n",
    "# f = open('myung.txt', 'r')\n",
    "# a = f.readlines()[0]\n",
    "# a.replace('\\n','')"
   ]
  },
  {
   "cell_type": "code",
   "execution_count": 7,
   "id": "f0174df6",
   "metadata": {},
   "outputs": [],
   "source": [
    "# 이민희님버전\n",
    "# 굳이 class name이라고 안붙여도 class name으로 인식하더군요\n",
    "# quotes=soup.find_all('div','quote')"
   ]
  },
  {
   "cell_type": "code",
   "execution_count": 8,
   "id": "cffffbd2",
   "metadata": {},
   "outputs": [],
   "source": [
    "# 오원주님버전\n",
    "# quote 명언 하나만 가져오기\n",
    "# quote = []\n",
    "# author = []\n",
    "# for i in soup.find_all(\"span\",{\"class\":\"text\"}):\n",
    "#     #print(i.text + \"\\n\")\n",
    "#     quote.append(i.text)\n",
    "\n",
    "# for j in soup.find_all(\"small\",{\"class\":\"author\"}):   \n",
    "#     #print(j.text + \"\\n\")\n",
    "#     author.append(j.text)\n",
    "    \n",
    "# for i in zip(quote, author):      # zip 사용해서 전체 출력\n",
    "#     print(i)"
   ]
  },
  {
   "cell_type": "markdown",
   "id": "6f88ff00",
   "metadata": {},
   "source": [
    "- 해당 페이지의 명언 모두 출력하기"
   ]
  },
  {
   "cell_type": "code",
   "execution_count": 9,
   "id": "50ee0c4b",
   "metadata": {},
   "outputs": [
    {
     "name": "stdout",
     "output_type": "stream",
     "text": [
      "\n",
      "“The world as we have created it is a process of our thinking. It cannot be changed without changing our thinking.”\n",
      "by Albert Einstein\n",
      "(about)\n",
      "\n",
      "\n",
      "            Tags:\n",
      "            \n",
      "change\n",
      "deep-thoughts\n",
      "thinking\n",
      "world\n",
      "\n",
      "\n",
      "\n",
      "“It is our choices, Harry, that show what we truly are, far more than our abilities.”\n",
      "by J.K. Rowling\n",
      "(about)\n",
      "\n",
      "\n",
      "            Tags:\n",
      "            \n",
      "abilities\n",
      "choices\n",
      "\n",
      "\n",
      "\n",
      "“There are only two ways to live your life. One is as though nothing is a miracle. The other is as though everything is a miracle.”\n",
      "by Albert Einstein\n",
      "(about)\n",
      "\n",
      "\n",
      "            Tags:\n",
      "            \n",
      "inspirational\n",
      "life\n",
      "live\n",
      "miracle\n",
      "miracles\n",
      "\n",
      "\n",
      "\n",
      "“The person, be it gentleman or lady, who has not pleasure in a good novel, must be intolerably stupid.”\n",
      "by Jane Austen\n",
      "(about)\n",
      "\n",
      "\n",
      "            Tags:\n",
      "            \n",
      "aliteracy\n",
      "books\n",
      "classic\n",
      "humor\n",
      "\n",
      "\n",
      "\n",
      "“Imperfection is beauty, madness is genius and it's better to be absolutely ridiculous than absolutely boring.”\n",
      "by Marilyn Monroe\n",
      "(about)\n",
      "\n",
      "\n",
      "            Tags:\n",
      "            \n",
      "be-yourself\n",
      "inspirational\n",
      "\n",
      "\n",
      "\n",
      "“Try not to become a man of success. Rather become a man of value.”\n",
      "by Albert Einstein\n",
      "(about)\n",
      "\n",
      "\n",
      "            Tags:\n",
      "            \n",
      "adulthood\n",
      "success\n",
      "value\n",
      "\n",
      "\n",
      "\n",
      "“It is better to be hated for what you are than to be loved for what you are not.”\n",
      "by André Gide\n",
      "(about)\n",
      "\n",
      "\n",
      "            Tags:\n",
      "            \n",
      "life\n",
      "love\n",
      "\n",
      "\n",
      "\n",
      "“I have not failed. I've just found 10,000 ways that won't work.”\n",
      "by Thomas A. Edison\n",
      "(about)\n",
      "\n",
      "\n",
      "            Tags:\n",
      "            \n",
      "edison\n",
      "failure\n",
      "inspirational\n",
      "paraphrased\n",
      "\n",
      "\n",
      "\n",
      "“A woman is like a tea bag; you never know how strong it is until it's in hot water.”\n",
      "by Eleanor Roosevelt\n",
      "(about)\n",
      "\n",
      "\n",
      "            Tags:\n",
      "            \n",
      "misattributed-eleanor-roosevelt\n",
      "\n",
      "\n",
      "\n",
      "“A day without sunshine is like, you know, night.”\n",
      "by Steve Martin\n",
      "(about)\n",
      "\n",
      "\n",
      "            Tags:\n",
      "            \n",
      "humor\n",
      "obvious\n",
      "simile\n",
      "\n",
      "\n"
     ]
    }
   ],
   "source": [
    "# 해당 페이지의 명언 모두 출력하기\n",
    "for i in soup.find_all('div', {\"class\" : \"quote\"}):\n",
    "    print(i.text)"
   ]
  },
  {
   "cell_type": "code",
   "execution_count": 10,
   "id": "10f8778e",
   "metadata": {},
   "outputs": [],
   "source": [
    "# 오주환님버전\n",
    "# select 사용\n",
    "# for i in soup.select('.text'):\n",
    "#     print(i.text)\n",
    "    \n",
    "# find 사용\n",
    "# for i in soup.find_all('span','text'):\n",
    "#     print(i.text)"
   ]
  },
  {
   "cell_type": "markdown",
   "id": "8383ce4d",
   "metadata": {},
   "source": [
    "- 해당 페이지의 명언 파일로 출력하기 (txt)"
   ]
  },
  {
   "cell_type": "code",
   "execution_count": 11,
   "id": "269a6c74",
   "metadata": {},
   "outputs": [],
   "source": [
    "f = open('quotes.txt', 'w')\n",
    "for i in soup.find_all('span','text'):\n",
    "    f.write(i.text + '\\n')\n",
    "f.close()"
   ]
  },
  {
   "cell_type": "code",
   "execution_count": 12,
   "id": "6ef48538",
   "metadata": {},
   "outputs": [],
   "source": [
    "# 오주환님버전\n",
    "# f = open('quotes.txt', 'w')\n",
    "# for i in soup.select('.text'):\n",
    "#     try:\n",
    "#         f.write(i.text + '\\n')\n",
    "#     except Exception as e:\n",
    "#         print(e)\n",
    "#         pass\n",
    "# f.close()"
   ]
  },
  {
   "cell_type": "code",
   "execution_count": 13,
   "id": "b27cd2d3",
   "metadata": {},
   "outputs": [],
   "source": [
    "# 이민희님버전\n",
    "# quotes=soup.find_all('div','quote')\n",
    "# authors=soup.find_all('small','author')\n",
    "\n",
    "# f=open('quotes.txt','w', encoding='utf-8')\n",
    "\n",
    "# for i in list(zip(quotes,authors)):\n",
    "#     f.write(i[0].span.text+' - '+i[1].text+'\\n')\n",
    "\n",
    "# f.close()"
   ]
  },
  {
   "cell_type": "code",
   "execution_count": 14,
   "id": "28e40845",
   "metadata": {},
   "outputs": [],
   "source": [
    "# 주영웅님버전\n",
    "# f = open('quotes.txt', 'w')\n",
    "# for i in soup.find_all('span','text'):\n",
    "#     f.write(i.text + '\\n')\n",
    "# f.close()"
   ]
  },
  {
   "cell_type": "code",
   "execution_count": 15,
   "id": "e29dc070",
   "metadata": {},
   "outputs": [],
   "source": [
    "# 송우제님버전\n",
    "# with open(\"quotes.txt\", \"w\", encoding=\"utf-8\") as f:\n",
    "#     for quotes in soup.find_all('span', {'class': 'text'}):\n",
    "#         f.write(quotes.text + \"\\n\")"
   ]
  },
  {
   "cell_type": "code",
   "execution_count": null,
   "id": "30a6e68a",
   "metadata": {},
   "outputs": [],
   "source": []
  }
 ],
 "metadata": {
  "kernelspec": {
   "display_name": "Python 3",
   "language": "python",
   "name": "python3"
  },
  "language_info": {
   "codemirror_mode": {
    "name": "ipython",
    "version": 3
   },
   "file_extension": ".py",
   "mimetype": "text/x-python",
   "name": "python",
   "nbconvert_exporter": "python",
   "pygments_lexer": "ipython3",
   "version": "3.8.8"
  }
 },
 "nbformat": 4,
 "nbformat_minor": 5
}
