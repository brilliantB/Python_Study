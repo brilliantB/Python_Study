{
 "cells": [
  {
   "cell_type": "markdown",
   "id": "86e10c3f",
   "metadata": {},
   "source": [
    "# 정적 웹 크롤링"
   ]
  },
  {
   "cell_type": "markdown",
   "id": "24d3a4f5",
   "metadata": {},
   "source": [
    "## html 파싱해서 추출하기"
   ]
  },
  {
   "cell_type": "code",
   "execution_count": 1,
   "id": "a11feb2a",
   "metadata": {},
   "outputs": [],
   "source": [
    "# Beautifulsoup\n",
    "from bs4 import BeautifulSoup"
   ]
  },
  {
   "cell_type": "code",
   "execution_count": 2,
   "id": "53c677c9",
   "metadata": {},
   "outputs": [],
   "source": [
    "# html을 불러와서 진행해보자\n",
    "\n",
    "html = open('wiki.html', 'rt', encoding='utf-8').read()"
   ]
  },
  {
   "cell_type": "code",
   "execution_count": 3,
   "id": "57881519",
   "metadata": {},
   "outputs": [
    {
     "name": "stdout",
     "output_type": "stream",
     "text": [
      "<h1 id=\"title\">\n",
      " 위키-위키백과, 우리 모두의 백과사전\n",
      "</h1>\n",
      "<div class=\"top\">\n",
      " <ul class=\"menu\">\n",
      "  <li>\n",
      "   <a href=\"https://ko.wikipedia.org/wiki/%EC%9C%84%ED%82%A4\">\n",
      "    계정만들기\n",
      "   </a>\n",
      "  </li>\n",
      "  <li>\n",
      "   <a href=\"https://ko.wikipedia.org/wiki/\">\n",
      "    wiki\n",
      "   </a>\n",
      "  </li>\n",
      " </ul>\n",
      " <div>\n",
      " </div>\n",
      "</div>\n"
     ]
    }
   ],
   "source": [
    "soup = BeautifulSoup(html, 'html.parser')\n",
    "print(soup.prettify())"
   ]
  },
  {
   "cell_type": "code",
   "execution_count": null,
   "id": "abfebe65",
   "metadata": {},
   "outputs": [],
   "source": [
    "# 태그 파싱하기 - 지정된 한 개의 태그만 파싱"
   ]
  },
  {
   "cell_type": "code",
   "execution_count": 5,
   "id": "f7afc0a9",
   "metadata": {},
   "outputs": [
    {
     "name": "stdout",
     "output_type": "stream",
     "text": [
      "<h1 id=\"title\">\n",
      " 위키-위키백과, 우리 모두의 백과사전\n",
      "</h1>\n"
     ]
    }
   ],
   "source": [
    "tag_h1 = soup.h1\n",
    "print(tag_h1)"
   ]
  },
  {
   "cell_type": "code",
   "execution_count": 6,
   "id": "8c2f3d1d",
   "metadata": {},
   "outputs": [
    {
     "name": "stdout",
     "output_type": "stream",
     "text": [
      "<div class=\"top\">\n",
      "<ul class=\"menu\">\n",
      "<li>\n",
      "<a href=\"https://ko.wikipedia.org/wiki/%EC%9C%84%ED%82%A4\">\n",
      "    계정만들기\n",
      "   </a>\n",
      "</li>\n",
      "<li>\n",
      "<a href=\"https://ko.wikipedia.org/wiki/\">\n",
      "    wiki\n",
      "   </a>\n",
      "</li>\n",
      "</ul>\n",
      "<div>\n",
      "</div>\n",
      "</div>\n"
     ]
    }
   ],
   "source": [
    "tag_div = soup.div\n",
    "print(tag_div)"
   ]
  },
  {
   "cell_type": "code",
   "execution_count": 7,
   "id": "c499f77c",
   "metadata": {},
   "outputs": [
    {
     "name": "stdout",
     "output_type": "stream",
     "text": [
      "<ul class=\"menu\">\n",
      "<li>\n",
      "<a href=\"https://ko.wikipedia.org/wiki/%EC%9C%84%ED%82%A4\">\n",
      "    계정만들기\n",
      "   </a>\n",
      "</li>\n",
      "<li>\n",
      "<a href=\"https://ko.wikipedia.org/wiki/\">\n",
      "    wiki\n",
      "   </a>\n",
      "</li>\n",
      "</ul>\n"
     ]
    }
   ],
   "source": [
    "tag_ul = soup.ul\n",
    "print(tag_ul)"
   ]
  },
  {
   "cell_type": "code",
   "execution_count": 9,
   "id": "8ab74c49",
   "metadata": {},
   "outputs": [
    {
     "name": "stdout",
     "output_type": "stream",
     "text": [
      "<li>\n",
      "<a href=\"https://ko.wikipedia.org/wiki/%EC%9C%84%ED%82%A4\">\n",
      "    계정만들기\n",
      "   </a>\n",
      "</li>\n"
     ]
    }
   ],
   "source": [
    "tag_li = soup.li\n",
    "print(tag_li)"
   ]
  },
  {
   "cell_type": "code",
   "execution_count": 10,
   "id": "34ad10f0",
   "metadata": {},
   "outputs": [
    {
     "name": "stdout",
     "output_type": "stream",
     "text": [
      "<a href=\"https://ko.wikipedia.org/wiki/%EC%9C%84%ED%82%A4\">\n",
      "    계정만들기\n",
      "   </a>\n"
     ]
    }
   ],
   "source": [
    "tag_a = soup.a\n",
    "print(tag_a)"
   ]
  },
  {
   "cell_type": "code",
   "execution_count": null,
   "id": "edf0d449",
   "metadata": {},
   "outputs": [],
   "source": [
    "# 태그 파싱하기 - 지정된 태그를 모두 파싱"
   ]
  },
  {
   "cell_type": "code",
   "execution_count": 11,
   "id": "373328e3",
   "metadata": {},
   "outputs": [
    {
     "data": {
      "text/plain": [
       "[<ul class=\"menu\">\n",
       " <li>\n",
       " <a href=\"https://ko.wikipedia.org/wiki/%EC%9C%84%ED%82%A4\">\n",
       "     계정만들기\n",
       "    </a>\n",
       " </li>\n",
       " <li>\n",
       " <a href=\"https://ko.wikipedia.org/wiki/\">\n",
       "     wiki\n",
       "    </a>\n",
       " </li>\n",
       " </ul>]"
      ]
     },
     "execution_count": 11,
     "metadata": {},
     "output_type": "execute_result"
    }
   ],
   "source": [
    "tag_ul_all = soup.find_all(\"ul\")\n",
    "tag_ul_all"
   ]
  },
  {
   "cell_type": "code",
   "execution_count": 12,
   "id": "eb2e2712",
   "metadata": {},
   "outputs": [
    {
     "data": {
      "text/plain": [
       "[<li>\n",
       " <a href=\"https://ko.wikipedia.org/wiki/%EC%9C%84%ED%82%A4\">\n",
       "     계정만들기\n",
       "    </a>\n",
       " </li>,\n",
       " <li>\n",
       " <a href=\"https://ko.wikipedia.org/wiki/\">\n",
       "     wiki\n",
       "    </a>\n",
       " </li>]"
      ]
     },
     "execution_count": 12,
     "metadata": {},
     "output_type": "execute_result"
    }
   ],
   "source": [
    "tag_li_all = soup.find_all(\"li\")\n",
    "tag_li_all"
   ]
  },
  {
   "cell_type": "code",
   "execution_count": null,
   "id": "d224f4f9",
   "metadata": {},
   "outputs": [],
   "source": [
    "# 속성을 이용하여 파싱"
   ]
  },
  {
   "cell_type": "code",
   "execution_count": 14,
   "id": "c5ae4d97",
   "metadata": {},
   "outputs": [
    {
     "data": {
      "text/plain": [
       "<h1 id=\"title\">\n",
       " 위키-위키백과, 우리 모두의 백과사전\n",
       "</h1>"
      ]
     },
     "execution_count": 14,
     "metadata": {},
     "output_type": "execute_result"
    }
   ],
   "source": [
    "tag_a.attrs\n",
    "tag_a['href']\n",
    "tag_div['class']\n",
    "title = soup.find(id=\"title\")\n",
    "title"
   ]
  },
  {
   "cell_type": "code",
   "execution_count": 15,
   "id": "e44433f9",
   "metadata": {},
   "outputs": [
    {
     "data": {
      "text/plain": [
       "[<li>\n",
       " <a href=\"https://ko.wikipedia.org/wiki/%EC%9C%84%ED%82%A4\">\n",
       "     계정만들기\n",
       "    </a>\n",
       " </li>,\n",
       " <li>\n",
       " <a href=\"https://ko.wikipedia.org/wiki/\">\n",
       "     wiki\n",
       "    </a>\n",
       " </li>]"
      ]
     },
     "execution_count": 15,
     "metadata": {},
     "output_type": "execute_result"
    }
   ],
   "source": [
    "tag_a.attrs\n",
    "tag_a['href']\n",
    "tag_div['class']\n",
    "\n",
    "title = soup.find(id=\"title\")\n",
    "title\n",
    "\n",
    "title.string\n",
    "li_list = soup.select(\"div>ul>li\")\n",
    "li_list"
   ]
  },
  {
   "cell_type": "code",
   "execution_count": 22,
   "id": "31815c7a",
   "metadata": {},
   "outputs": [
    {
     "name": "stdout",
     "output_type": "stream",
     "text": [
      "\n",
      "    계정만들기\n",
      "   \n",
      "\n",
      "    wiki\n",
      "   \n"
     ]
    }
   ],
   "source": [
    "for li in li_list:\n",
    "    print(li.a.string)"
   ]
  },
  {
   "cell_type": "code",
   "execution_count": null,
   "id": "bca51acc",
   "metadata": {},
   "outputs": [],
   "source": []
  }
 ],
 "metadata": {
  "kernelspec": {
   "display_name": "Python 3",
   "language": "python",
   "name": "python3"
  },
  "language_info": {
   "codemirror_mode": {
    "name": "ipython",
    "version": 3
   },
   "file_extension": ".py",
   "mimetype": "text/x-python",
   "name": "python",
   "nbconvert_exporter": "python",
   "pygments_lexer": "ipython3",
   "version": "3.8.8"
  }
 },
 "nbformat": 4,
 "nbformat_minor": 5
}
