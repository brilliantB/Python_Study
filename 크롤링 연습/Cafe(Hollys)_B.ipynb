{
 "cells": [
  {
   "cell_type": "markdown",
   "id": "2e0c69b6",
   "metadata": {},
   "source": [
    "## 할리스 커피 매장 정보 가져오기"
   ]
  },
  {
   "cell_type": "markdown",
   "id": "1521371e",
   "metadata": {},
   "source": [
    "https://www.hollys.co.kr/store/korea/korStore2.do?pageNo=1&sido=%EC%84%9C%EC%9A%B8&gugun=&store="
   ]
  },
  {
   "cell_type": "code",
   "execution_count": 1,
   "id": "95c3cdbf",
   "metadata": {},
   "outputs": [],
   "source": [
    "#라이브러리 가져오기\n",
    "from bs4 import BeautifulSoup   # 정적웹크롤링 Lib\n",
    "import urllib.request   # 웹사이트 호출 Lib\n",
    "import pandas as pd\n",
    "import datetime"
   ]
  },
  {
   "cell_type": "code",
   "execution_count": null,
   "id": "473e6b17",
   "metadata": {},
   "outputs": [],
   "source": [
    "# html 소스를 확인한 결과 > tr(각 매장별) > td ()\n",
    "# 매장은 수시로 개점과 폐점이 있으므로, 웹상에서 현재 Store 수를 확인하여 range에 반영"
   ]
  },
  {
   "cell_type": "code",
   "execution_count": 9,
   "id": "56efa9e3",
   "metadata": {},
   "outputs": [],
   "source": [
    "# [CODE 1]\n",
    "\n",
    "def hollys_store(result):\n",
    "    for page in range(1, 57):   # 해당 Store가 웹상에 56페이지까지 존재함 => 추출 대상은 1 ~ 56\n",
    "        Hollys_url = 'https://www.hollys.co.kr/store/korea/korStore2.do?pageNo=%d1&sido=&gugun=&store=' % page\n",
    "        print(Hollys_url) # Hollys 커피 매장 주소의 URL 출력\n",
    "        html = urllib.request.urlopen(Hollys_url) # 웹사이트 URL 호출\n",
    "        soupHollys = BeautifulSoup(html, 'html.parser')\n",
    "        tag_tbody = soupHollys.find('tbody')\n",
    "        \n",
    "        # 할리스매장 소스 코드 확인 (소스코드보기 > tbody) tobody tag 밑 각 매장은 tr tag <tr> ~ </tr> 로 구분 되어 있음\n",
    "        # find_all 함수로 전 매장을 계속 찾음\n",
    "        \n",
    "        for store in tag_tbody.find_all('tr'):\n",
    "            if len(store) <= 3 :   # 하나의 매장 정보가 올바르게 불러와 지지 않으면 Break하고 다른 Store로 넘어감 \n",
    "                break\n",
    "                \n",
    "            store_td = store.find_all('td')\n",
    "            store_name = store_td[1].string    # 지점명\n",
    "            store_sido = store_td[0].string    # 시도\n",
    "            store_address = store_td[3].string   # 주소\n",
    "            store_phone = store_td[5].string   #전화번호\n",
    "            result.append([store_name] + [store_sido] + [store_address] + [store_phone])\n",
    "    return"
   ]
  },
  {
   "cell_type": "code",
   "execution_count": 12,
   "id": "6753f30c",
   "metadata": {},
   "outputs": [],
   "source": [
    "# [CODE 0]\n",
    "\n",
    "def main():\n",
    "    result = []\n",
    "    print('할리스 커피 크롤링 작업 시작')\n",
    "    hollys_store(result)  # [CODE 1] 호출\n",
    "    print('할리스 커피 크롤링 작업 끝')\n",
    "    hollys_tbl = pd.DataFrame(result, columns = ('store', 'sido-gu', 'address', 'phone'))\n",
    "    hollys_tbl.to_csv('hollys.csv', encoding = 'utf-8', mode = 'w', index = True) # 한글 cp949, mode = w (쓰기로 설정)\n",
    "    del result[:]"
   ]
  },
  {
   "cell_type": "code",
   "execution_count": 13,
   "id": "bb41aa27",
   "metadata": {},
   "outputs": [
    {
     "name": "stdout",
     "output_type": "stream",
     "text": [
      "할리스 커피 크롤링 작업 시작\n",
      "https://www.hollys.co.kr/store/korea/korStore2.do?pageNo=11&sido=&gugun=&store=\n",
      "https://www.hollys.co.kr/store/korea/korStore2.do?pageNo=21&sido=&gugun=&store=\n",
      "https://www.hollys.co.kr/store/korea/korStore2.do?pageNo=31&sido=&gugun=&store=\n",
      "https://www.hollys.co.kr/store/korea/korStore2.do?pageNo=41&sido=&gugun=&store=\n",
      "https://www.hollys.co.kr/store/korea/korStore2.do?pageNo=51&sido=&gugun=&store=\n",
      "https://www.hollys.co.kr/store/korea/korStore2.do?pageNo=61&sido=&gugun=&store=\n",
      "https://www.hollys.co.kr/store/korea/korStore2.do?pageNo=71&sido=&gugun=&store=\n",
      "https://www.hollys.co.kr/store/korea/korStore2.do?pageNo=81&sido=&gugun=&store=\n",
      "https://www.hollys.co.kr/store/korea/korStore2.do?pageNo=91&sido=&gugun=&store=\n",
      "https://www.hollys.co.kr/store/korea/korStore2.do?pageNo=101&sido=&gugun=&store=\n",
      "https://www.hollys.co.kr/store/korea/korStore2.do?pageNo=111&sido=&gugun=&store=\n",
      "https://www.hollys.co.kr/store/korea/korStore2.do?pageNo=121&sido=&gugun=&store=\n",
      "https://www.hollys.co.kr/store/korea/korStore2.do?pageNo=131&sido=&gugun=&store=\n",
      "https://www.hollys.co.kr/store/korea/korStore2.do?pageNo=141&sido=&gugun=&store=\n",
      "https://www.hollys.co.kr/store/korea/korStore2.do?pageNo=151&sido=&gugun=&store=\n",
      "https://www.hollys.co.kr/store/korea/korStore2.do?pageNo=161&sido=&gugun=&store=\n",
      "https://www.hollys.co.kr/store/korea/korStore2.do?pageNo=171&sido=&gugun=&store=\n",
      "https://www.hollys.co.kr/store/korea/korStore2.do?pageNo=181&sido=&gugun=&store=\n",
      "https://www.hollys.co.kr/store/korea/korStore2.do?pageNo=191&sido=&gugun=&store=\n",
      "https://www.hollys.co.kr/store/korea/korStore2.do?pageNo=201&sido=&gugun=&store=\n",
      "https://www.hollys.co.kr/store/korea/korStore2.do?pageNo=211&sido=&gugun=&store=\n",
      "https://www.hollys.co.kr/store/korea/korStore2.do?pageNo=221&sido=&gugun=&store=\n",
      "https://www.hollys.co.kr/store/korea/korStore2.do?pageNo=231&sido=&gugun=&store=\n",
      "https://www.hollys.co.kr/store/korea/korStore2.do?pageNo=241&sido=&gugun=&store=\n",
      "https://www.hollys.co.kr/store/korea/korStore2.do?pageNo=251&sido=&gugun=&store=\n",
      "https://www.hollys.co.kr/store/korea/korStore2.do?pageNo=261&sido=&gugun=&store=\n",
      "https://www.hollys.co.kr/store/korea/korStore2.do?pageNo=271&sido=&gugun=&store=\n",
      "https://www.hollys.co.kr/store/korea/korStore2.do?pageNo=281&sido=&gugun=&store=\n",
      "https://www.hollys.co.kr/store/korea/korStore2.do?pageNo=291&sido=&gugun=&store=\n",
      "https://www.hollys.co.kr/store/korea/korStore2.do?pageNo=301&sido=&gugun=&store=\n",
      "https://www.hollys.co.kr/store/korea/korStore2.do?pageNo=311&sido=&gugun=&store=\n",
      "https://www.hollys.co.kr/store/korea/korStore2.do?pageNo=321&sido=&gugun=&store=\n",
      "https://www.hollys.co.kr/store/korea/korStore2.do?pageNo=331&sido=&gugun=&store=\n",
      "https://www.hollys.co.kr/store/korea/korStore2.do?pageNo=341&sido=&gugun=&store=\n",
      "https://www.hollys.co.kr/store/korea/korStore2.do?pageNo=351&sido=&gugun=&store=\n",
      "https://www.hollys.co.kr/store/korea/korStore2.do?pageNo=361&sido=&gugun=&store=\n",
      "https://www.hollys.co.kr/store/korea/korStore2.do?pageNo=371&sido=&gugun=&store=\n",
      "https://www.hollys.co.kr/store/korea/korStore2.do?pageNo=381&sido=&gugun=&store=\n",
      "https://www.hollys.co.kr/store/korea/korStore2.do?pageNo=391&sido=&gugun=&store=\n",
      "https://www.hollys.co.kr/store/korea/korStore2.do?pageNo=401&sido=&gugun=&store=\n",
      "https://www.hollys.co.kr/store/korea/korStore2.do?pageNo=411&sido=&gugun=&store=\n",
      "https://www.hollys.co.kr/store/korea/korStore2.do?pageNo=421&sido=&gugun=&store=\n",
      "https://www.hollys.co.kr/store/korea/korStore2.do?pageNo=431&sido=&gugun=&store=\n",
      "https://www.hollys.co.kr/store/korea/korStore2.do?pageNo=441&sido=&gugun=&store=\n",
      "https://www.hollys.co.kr/store/korea/korStore2.do?pageNo=451&sido=&gugun=&store=\n",
      "https://www.hollys.co.kr/store/korea/korStore2.do?pageNo=461&sido=&gugun=&store=\n",
      "https://www.hollys.co.kr/store/korea/korStore2.do?pageNo=471&sido=&gugun=&store=\n",
      "https://www.hollys.co.kr/store/korea/korStore2.do?pageNo=481&sido=&gugun=&store=\n",
      "https://www.hollys.co.kr/store/korea/korStore2.do?pageNo=491&sido=&gugun=&store=\n",
      "https://www.hollys.co.kr/store/korea/korStore2.do?pageNo=501&sido=&gugun=&store=\n",
      "https://www.hollys.co.kr/store/korea/korStore2.do?pageNo=511&sido=&gugun=&store=\n",
      "https://www.hollys.co.kr/store/korea/korStore2.do?pageNo=521&sido=&gugun=&store=\n",
      "https://www.hollys.co.kr/store/korea/korStore2.do?pageNo=531&sido=&gugun=&store=\n",
      "https://www.hollys.co.kr/store/korea/korStore2.do?pageNo=541&sido=&gugun=&store=\n",
      "https://www.hollys.co.kr/store/korea/korStore2.do?pageNo=551&sido=&gugun=&store=\n",
      "https://www.hollys.co.kr/store/korea/korStore2.do?pageNo=561&sido=&gugun=&store=\n",
      "할리스 커피 크롤링 작업 끝\n"
     ]
    }
   ],
   "source": [
    "main()"
   ]
  },
  {
   "cell_type": "markdown",
   "id": "7f07d979",
   "metadata": {},
   "source": []
  }
 ],
 "metadata": {
  "kernelspec": {
   "display_name": "Python 3",
   "language": "python",
   "name": "python3"
  },
  "language_info": {
   "codemirror_mode": {
    "name": "ipython",
    "version": 3
   },
   "file_extension": ".py",
   "mimetype": "text/x-python",
   "name": "python",
   "nbconvert_exporter": "python",
   "pygments_lexer": "ipython3",
   "version": "3.8.8"
  }
 },
 "nbformat": 4,
 "nbformat_minor": 5
}
