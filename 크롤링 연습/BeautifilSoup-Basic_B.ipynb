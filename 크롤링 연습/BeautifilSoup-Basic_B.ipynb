{
 "cells": [
  {
   "cell_type": "markdown",
   "id": "b3fc0c9b",
   "metadata": {},
   "source": [
    "- 크롤링은 웹페이지에 접근하여 html문서의 태그와 속성들을 이용해서 필요한 데이터들을 수집하는 행위 \n",
    "- BeautifulSoup / 정적웹Crawling"
   ]
  },
  {
   "cell_type": "markdown",
   "id": "7c2cca3c",
   "metadata": {},
   "source": [
    "## (1) 파이썬에서 BeautifulSoup 불러오기"
   ]
  },
  {
   "cell_type": "code",
   "execution_count": 4,
   "id": "dde044b2",
   "metadata": {},
   "outputs": [],
   "source": [
    "# 파이썬에서 크롤링을 하기 위한 세싱에서 1순위 => BeautifulSoup > bs4\n",
    "\n",
    "from bs4 import BeautifulSoup"
   ]
  },
  {
   "cell_type": "code",
   "execution_count": 5,
   "id": "0c7d9ac6",
   "metadata": {},
   "outputs": [],
   "source": [
    "html = \"\"\"<html><body><div><span>\\\n",
    "        <a href=http://www.naver.com>naver</a>\\\n",
    "        <a href=http://www.google.com>google</a>\\\n",
    "        <a href=http://www.daum.net>daum</a>\\\n",
    "        </span></div></body></html>\"\"\""
   ]
  },
  {
   "cell_type": "code",
   "execution_count": 8,
   "id": "c258c40a",
   "metadata": {},
   "outputs": [
    {
     "data": {
      "text/plain": [
       "<html><body><div><span> <a href=\"http://www.naver.com\">naver</a> <a href=\"http://www.google.com\">google</a> <a href=\"http://www.daum.net\">daum</a> </span></div></body></html>"
      ]
     },
     "execution_count": 8,
     "metadata": {},
     "output_type": "execute_result"
    }
   ],
   "source": [
    "soup = BeautifulSoup(html, 'lxml')\n",
    "soup"
   ]
  },
  {
   "cell_type": "code",
   "execution_count": 9,
   "id": "a01e973b",
   "metadata": {},
   "outputs": [],
   "source": [
    "# 테스트용 HTML 코드\n",
    "# html = \"\"\"<html><body><div><span>\\\n",
    "#         <a href=http://www.naver.com>naver</a>\\\n",
    "#         <a href=http://www.google.com>google</a>\\\n",
    "#         <a href=http://www.daum.net>daum</a>\\\n",
    "#         </span></div></body></html>\"\"\"\n",
    "\n",
    "# # with open('test.html', 'r') as f:\n",
    "# #      soup"
   ]
  },
  {
   "cell_type": "markdown",
   "id": "7eb553aa",
   "metadata": {},
   "source": [
    "## (2) 예쁘게 Html 소스를 파싱하기"
   ]
  },
  {
   "cell_type": "code",
   "execution_count": 11,
   "id": "7838ce45",
   "metadata": {},
   "outputs": [
    {
     "name": "stdout",
     "output_type": "stream",
     "text": [
      "<html>\n",
      " <body>\n",
      "  <div>\n",
      "   <span>\n",
      "    <a href=\"http://www.naver.com\">\n",
      "     naver\n",
      "    </a>\n",
      "    <a href=\"http://www.google.com\">\n",
      "     google\n",
      "    </a>\n",
      "    <a href=\"http://www.daum.net\">\n",
      "     daum\n",
      "    </a>\n",
      "   </span>\n",
      "  </div>\n",
      " </body>\n",
      "</html>\n"
     ]
    }
   ],
   "source": [
    "print(soup.prettify())"
   ]
  },
  {
   "cell_type": "markdown",
   "id": "7e0d6786",
   "metadata": {},
   "source": [
    "## (3) 'a' 태그로 되어있는 부분을 파싱하기"
   ]
  },
  {
   "cell_type": "code",
   "execution_count": 15,
   "id": "8c783b9c",
   "metadata": {},
   "outputs": [
    {
     "data": {
      "text/plain": [
       "<a href=\"http://www.naver.com\">naver</a>"
      ]
     },
     "execution_count": 15,
     "metadata": {},
     "output_type": "execute_result"
    }
   ],
   "source": [
    "soup.find('a')  # 'a' 태그에 해당하는 내용을 찾는 첫번째만 가져옴"
   ]
  },
  {
   "cell_type": "code",
   "execution_count": 16,
   "id": "21d924fc",
   "metadata": {},
   "outputs": [],
   "source": [
    "soup.find('f')"
   ]
  },
  {
   "cell_type": "code",
   "execution_count": 17,
   "id": "9e6a8a8f",
   "metadata": {},
   "outputs": [],
   "source": [
    "soup.find('n')"
   ]
  },
  {
   "cell_type": "markdown",
   "id": "8cc31237",
   "metadata": {},
   "source": [
    "## (4) 'a' 태그로 되어있는 부분 모두 가져오기"
   ]
  },
  {
   "cell_type": "code",
   "execution_count": 19,
   "id": "9c416512",
   "metadata": {},
   "outputs": [
    {
     "data": {
      "text/plain": [
       "[<a href=\"http://www.naver.com\">naver</a>,\n",
       " <a href=\"http://www.google.com\">google</a>,\n",
       " <a href=\"http://www.daum.net\">daum</a>]"
      ]
     },
     "execution_count": 19,
     "metadata": {},
     "output_type": "execute_result"
    }
   ],
   "source": [
    "soup.find_all('a')"
   ]
  },
  {
   "cell_type": "markdown",
   "id": "476322cb",
   "metadata": {},
   "source": [
    "## (5) 'a' 태그에 해당하는 값 가져오기"
   ]
  },
  {
   "cell_type": "code",
   "execution_count": 20,
   "id": "47f5972e",
   "metadata": {},
   "outputs": [
    {
     "data": {
      "text/plain": [
       "'naver'"
      ]
     },
     "execution_count": 20,
     "metadata": {},
     "output_type": "execute_result"
    }
   ],
   "source": [
    "soup.find('a').get_text()"
   ]
  },
  {
   "cell_type": "markdown",
   "id": "2e664eb1",
   "metadata": {},
   "source": [
    "## (6) 'a' 태그에 해당하는 값 모두 가져오기 (for반복문)"
   ]
  },
  {
   "cell_type": "code",
   "execution_count": 23,
   "id": "bba099d6",
   "metadata": {},
   "outputs": [
    {
     "name": "stdout",
     "output_type": "stream",
     "text": [
      "naver\n",
      "google\n",
      "daum\n"
     ]
    }
   ],
   "source": [
    "site_names = soup.find_all('a')\n",
    "for site_name in site_names :\n",
    "    print(site_name.get_text())"
   ]
  },
  {
   "cell_type": "code",
   "execution_count": null,
   "id": "da14ee76",
   "metadata": {},
   "outputs": [],
   "source": []
  }
 ],
 "metadata": {
  "kernelspec": {
   "display_name": "Python 3",
   "language": "python",
   "name": "python3"
  },
  "language_info": {
   "codemirror_mode": {
    "name": "ipython",
    "version": 3
   },
   "file_extension": ".py",
   "mimetype": "text/x-python",
   "name": "python",
   "nbconvert_exporter": "python",
   "pygments_lexer": "ipython3",
   "version": "3.8.8"
  }
 },
 "nbformat": 4,
 "nbformat_minor": 5
}
