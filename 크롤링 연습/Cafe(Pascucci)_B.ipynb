{
 "cells": [
  {
   "cell_type": "markdown",
   "id": "7984dd5c",
   "metadata": {},
   "source": [
    "##  파스쿠찌 커피 매장 정보 가져오기"
   ]
  },
  {
   "cell_type": "markdown",
   "id": "f85f048d",
   "metadata": {},
   "source": [
    "#### 수업 중에 학슴하고 실습한 할리스 사례를 기반으로하여 추가적으로 파스쿠찌 매장에 적용해보기\n",
    "\n",
    "- 파스쿠찌 매장 검색\n",
    "- 경기도 매장만 검색해서 출력하세요\n",
    "- 주차가능 매장을 찾아서 출력하고 .csv 파일로 저장해주세요\n",
    "- 전국 매장의 모든 정보를 csv로 출력하세요\n",
    "\n",
    "\n",
    "- 방법1) URL로 접근하기 > main 추가 생성해서 해결 - 오원주님\n",
    "- 방법2) find로 주소 인덱싱하기 - 김용범님\n",
    "- 방법3) 파싱방법으로 접근하기 - 송우제님"
   ]
  },
  {
   "cell_type": "code",
   "execution_count": 23,
   "id": "806494a1",
   "metadata": {},
   "outputs": [],
   "source": [
    "#라이브러리 가져오기\n",
    "from bs4 import BeautifulSoup   # 정적웹크롤링 Lib\n",
    "import urllib.request   # 웹사이트 호출 Lib\n",
    "import pandas as pd\n",
    "import datetime"
   ]
  },
  {
   "cell_type": "code",
   "execution_count": 24,
   "id": "2bd0114b",
   "metadata": {},
   "outputs": [],
   "source": [
    "# 경기도 매장만 검색해서 출력하기\n",
    "def pascucci_gyeonggi_store(result):\n",
    "    for page in range(1, 9):\n",
    "        pascucci_url = 'https://www.caffe-pascucci.co.kr/store/storeList.asp?searchSmoking=&searchParking=&searchInternet=&searchNewStore=&search24Store=&searchCatering=&searchDrivethrough=&searchKey=&page=%d&searchRegion=20041000&searchGugun=&searchValue=' % page\n",
    "        print(pascucci_url)\n",
    "        html = urllib.request.urlopen(pascucci_url)\n",
    "        soupHollys = BeautifulSoup(html, 'html.parser')\n",
    "        tag_tbody = soupHollys.find('tbody')\n",
    "\n",
    "        for store in tag_tbody.find_all('tr'):\n",
    "            if len(store) <= 3 :  \n",
    "                break\n",
    "                \n",
    "            store_td = store.find_all('td')\n",
    "            store_name = store_td[1].string    # 지점명\n",
    "            store_sido = store_td[2].string    # 시도\n",
    "            store_address = store_td[4].p.string   # 주소\n",
    "            store_phone = store_td[5].span.string   #전화번호\n",
    "            result.append([store_name] + [store_sido] + [store_address] + [store_phone])\n",
    "    return"
   ]
  },
  {
   "cell_type": "code",
   "execution_count": 25,
   "id": "fd67cdab",
   "metadata": {},
   "outputs": [
    {
     "name": "stdout",
     "output_type": "stream",
     "text": [
      "파스쿠찌 경기도 매장 크롤링 작업 시작\n",
      "https://www.caffe-pascucci.co.kr/store/storeList.asp?searchSmoking=&searchParking=&searchInternet=&searchNewStore=&search24Store=&searchCatering=&searchDrivethrough=&searchKey=&page=1&searchRegion=20041000&searchGugun=&searchValue=\n",
      "https://www.caffe-pascucci.co.kr/store/storeList.asp?searchSmoking=&searchParking=&searchInternet=&searchNewStore=&search24Store=&searchCatering=&searchDrivethrough=&searchKey=&page=2&searchRegion=20041000&searchGugun=&searchValue=\n",
      "https://www.caffe-pascucci.co.kr/store/storeList.asp?searchSmoking=&searchParking=&searchInternet=&searchNewStore=&search24Store=&searchCatering=&searchDrivethrough=&searchKey=&page=3&searchRegion=20041000&searchGugun=&searchValue=\n",
      "https://www.caffe-pascucci.co.kr/store/storeList.asp?searchSmoking=&searchParking=&searchInternet=&searchNewStore=&search24Store=&searchCatering=&searchDrivethrough=&searchKey=&page=4&searchRegion=20041000&searchGugun=&searchValue=\n",
      "https://www.caffe-pascucci.co.kr/store/storeList.asp?searchSmoking=&searchParking=&searchInternet=&searchNewStore=&search24Store=&searchCatering=&searchDrivethrough=&searchKey=&page=5&searchRegion=20041000&searchGugun=&searchValue=\n",
      "https://www.caffe-pascucci.co.kr/store/storeList.asp?searchSmoking=&searchParking=&searchInternet=&searchNewStore=&search24Store=&searchCatering=&searchDrivethrough=&searchKey=&page=6&searchRegion=20041000&searchGugun=&searchValue=\n",
      "https://www.caffe-pascucci.co.kr/store/storeList.asp?searchSmoking=&searchParking=&searchInternet=&searchNewStore=&search24Store=&searchCatering=&searchDrivethrough=&searchKey=&page=7&searchRegion=20041000&searchGugun=&searchValue=\n",
      "https://www.caffe-pascucci.co.kr/store/storeList.asp?searchSmoking=&searchParking=&searchInternet=&searchNewStore=&search24Store=&searchCatering=&searchDrivethrough=&searchKey=&page=8&searchRegion=20041000&searchGugun=&searchValue=\n",
      "파스쿠찌 경기도 매장 크롤링 작업 끝\n"
     ]
    }
   ],
   "source": [
    "def main():\n",
    "    result = []\n",
    "    print('파스쿠찌 경기도 매장 크롤링 작업 시작')\n",
    "    pascucci_gyeonggi_store(result)  \n",
    "    print('파스쿠찌 경기도 매장 크롤링 작업 끝')\n",
    "    pascucci_tbl = pd.DataFrame(result, columns = ('store', 'sido-gu', 'address', 'phone'))\n",
    "#     pascucci_tbl.to_csv('pascucci_gyeonggi.csv', encoding = 'utf-8', mode = 'w', index = True)\n",
    "    del result[:]\n",
    "main()"
   ]
  },
  {
   "cell_type": "code",
   "execution_count": 26,
   "id": "848dd8a9",
   "metadata": {},
   "outputs": [],
   "source": [
    "# 전국 주차가능 매장 출력하고 csv 파일로 저장\n",
    "def pascucci_parking(result):\n",
    "    for page in range(1, 44):\n",
    "        pascucci_url = 'https://www.caffe-pascucci.co.kr/store/storeList.asp?searchSmoking=&searchParking=Y&searchInternet=&searchNewStore=&search24Store=&searchCatering=&searchDrivethrough=&searchKey=&page=%d&searchRegion=&searchGugun=&searchValue=#' % page\n",
    "        print(pascucci_url)\n",
    "        html = urllib.request.urlopen(pascucci_url)\n",
    "        soupHollys = BeautifulSoup(html, 'html.parser')\n",
    "        tag_tbody = soupHollys.find('tbody')\n",
    "\n",
    "        for store in tag_tbody.find_all('tr'):\n",
    "            if len(store) <= 3 :  \n",
    "                break\n",
    "                \n",
    "            store_td = store.find_all('td')\n",
    "            store_name = store_td[1].string    # 지점명\n",
    "            store_sido = store_td[2].string    # 시도\n",
    "            store_address = store_td[4].p.string   # 주소\n",
    "            store_phone = store_td[5].span.string   #전화번호\n",
    "            result.append([store_name] + [store_sido] + [store_address] + [store_phone])\n",
    "    return"
   ]
  },
  {
   "cell_type": "code",
   "execution_count": 27,
   "id": "9631bae4",
   "metadata": {},
   "outputs": [
    {
     "name": "stdout",
     "output_type": "stream",
     "text": [
      "파스쿠찌 경기도 주차가능 매장 크롤링 작업 시작\n",
      "https://www.caffe-pascucci.co.kr/store/storeList.asp?searchSmoking=&searchParking=Y&searchInternet=&searchNewStore=&search24Store=&searchCatering=&searchDrivethrough=&searchKey=&page=1&searchRegion=&searchGugun=&searchValue=#\n",
      "https://www.caffe-pascucci.co.kr/store/storeList.asp?searchSmoking=&searchParking=Y&searchInternet=&searchNewStore=&search24Store=&searchCatering=&searchDrivethrough=&searchKey=&page=2&searchRegion=&searchGugun=&searchValue=#\n",
      "https://www.caffe-pascucci.co.kr/store/storeList.asp?searchSmoking=&searchParking=Y&searchInternet=&searchNewStore=&search24Store=&searchCatering=&searchDrivethrough=&searchKey=&page=3&searchRegion=&searchGugun=&searchValue=#\n",
      "https://www.caffe-pascucci.co.kr/store/storeList.asp?searchSmoking=&searchParking=Y&searchInternet=&searchNewStore=&search24Store=&searchCatering=&searchDrivethrough=&searchKey=&page=4&searchRegion=&searchGugun=&searchValue=#\n",
      "https://www.caffe-pascucci.co.kr/store/storeList.asp?searchSmoking=&searchParking=Y&searchInternet=&searchNewStore=&search24Store=&searchCatering=&searchDrivethrough=&searchKey=&page=5&searchRegion=&searchGugun=&searchValue=#\n",
      "https://www.caffe-pascucci.co.kr/store/storeList.asp?searchSmoking=&searchParking=Y&searchInternet=&searchNewStore=&search24Store=&searchCatering=&searchDrivethrough=&searchKey=&page=6&searchRegion=&searchGugun=&searchValue=#\n",
      "https://www.caffe-pascucci.co.kr/store/storeList.asp?searchSmoking=&searchParking=Y&searchInternet=&searchNewStore=&search24Store=&searchCatering=&searchDrivethrough=&searchKey=&page=7&searchRegion=&searchGugun=&searchValue=#\n",
      "https://www.caffe-pascucci.co.kr/store/storeList.asp?searchSmoking=&searchParking=Y&searchInternet=&searchNewStore=&search24Store=&searchCatering=&searchDrivethrough=&searchKey=&page=8&searchRegion=&searchGugun=&searchValue=#\n",
      "https://www.caffe-pascucci.co.kr/store/storeList.asp?searchSmoking=&searchParking=Y&searchInternet=&searchNewStore=&search24Store=&searchCatering=&searchDrivethrough=&searchKey=&page=9&searchRegion=&searchGugun=&searchValue=#\n",
      "https://www.caffe-pascucci.co.kr/store/storeList.asp?searchSmoking=&searchParking=Y&searchInternet=&searchNewStore=&search24Store=&searchCatering=&searchDrivethrough=&searchKey=&page=10&searchRegion=&searchGugun=&searchValue=#\n",
      "https://www.caffe-pascucci.co.kr/store/storeList.asp?searchSmoking=&searchParking=Y&searchInternet=&searchNewStore=&search24Store=&searchCatering=&searchDrivethrough=&searchKey=&page=11&searchRegion=&searchGugun=&searchValue=#\n",
      "https://www.caffe-pascucci.co.kr/store/storeList.asp?searchSmoking=&searchParking=Y&searchInternet=&searchNewStore=&search24Store=&searchCatering=&searchDrivethrough=&searchKey=&page=12&searchRegion=&searchGugun=&searchValue=#\n",
      "https://www.caffe-pascucci.co.kr/store/storeList.asp?searchSmoking=&searchParking=Y&searchInternet=&searchNewStore=&search24Store=&searchCatering=&searchDrivethrough=&searchKey=&page=13&searchRegion=&searchGugun=&searchValue=#\n",
      "https://www.caffe-pascucci.co.kr/store/storeList.asp?searchSmoking=&searchParking=Y&searchInternet=&searchNewStore=&search24Store=&searchCatering=&searchDrivethrough=&searchKey=&page=14&searchRegion=&searchGugun=&searchValue=#\n",
      "https://www.caffe-pascucci.co.kr/store/storeList.asp?searchSmoking=&searchParking=Y&searchInternet=&searchNewStore=&search24Store=&searchCatering=&searchDrivethrough=&searchKey=&page=15&searchRegion=&searchGugun=&searchValue=#\n",
      "https://www.caffe-pascucci.co.kr/store/storeList.asp?searchSmoking=&searchParking=Y&searchInternet=&searchNewStore=&search24Store=&searchCatering=&searchDrivethrough=&searchKey=&page=16&searchRegion=&searchGugun=&searchValue=#\n",
      "https://www.caffe-pascucci.co.kr/store/storeList.asp?searchSmoking=&searchParking=Y&searchInternet=&searchNewStore=&search24Store=&searchCatering=&searchDrivethrough=&searchKey=&page=17&searchRegion=&searchGugun=&searchValue=#\n",
      "https://www.caffe-pascucci.co.kr/store/storeList.asp?searchSmoking=&searchParking=Y&searchInternet=&searchNewStore=&search24Store=&searchCatering=&searchDrivethrough=&searchKey=&page=18&searchRegion=&searchGugun=&searchValue=#\n",
      "https://www.caffe-pascucci.co.kr/store/storeList.asp?searchSmoking=&searchParking=Y&searchInternet=&searchNewStore=&search24Store=&searchCatering=&searchDrivethrough=&searchKey=&page=19&searchRegion=&searchGugun=&searchValue=#\n",
      "https://www.caffe-pascucci.co.kr/store/storeList.asp?searchSmoking=&searchParking=Y&searchInternet=&searchNewStore=&search24Store=&searchCatering=&searchDrivethrough=&searchKey=&page=20&searchRegion=&searchGugun=&searchValue=#\n",
      "https://www.caffe-pascucci.co.kr/store/storeList.asp?searchSmoking=&searchParking=Y&searchInternet=&searchNewStore=&search24Store=&searchCatering=&searchDrivethrough=&searchKey=&page=21&searchRegion=&searchGugun=&searchValue=#\n",
      "https://www.caffe-pascucci.co.kr/store/storeList.asp?searchSmoking=&searchParking=Y&searchInternet=&searchNewStore=&search24Store=&searchCatering=&searchDrivethrough=&searchKey=&page=22&searchRegion=&searchGugun=&searchValue=#\n",
      "https://www.caffe-pascucci.co.kr/store/storeList.asp?searchSmoking=&searchParking=Y&searchInternet=&searchNewStore=&search24Store=&searchCatering=&searchDrivethrough=&searchKey=&page=23&searchRegion=&searchGugun=&searchValue=#\n",
      "https://www.caffe-pascucci.co.kr/store/storeList.asp?searchSmoking=&searchParking=Y&searchInternet=&searchNewStore=&search24Store=&searchCatering=&searchDrivethrough=&searchKey=&page=24&searchRegion=&searchGugun=&searchValue=#\n",
      "https://www.caffe-pascucci.co.kr/store/storeList.asp?searchSmoking=&searchParking=Y&searchInternet=&searchNewStore=&search24Store=&searchCatering=&searchDrivethrough=&searchKey=&page=25&searchRegion=&searchGugun=&searchValue=#\n",
      "https://www.caffe-pascucci.co.kr/store/storeList.asp?searchSmoking=&searchParking=Y&searchInternet=&searchNewStore=&search24Store=&searchCatering=&searchDrivethrough=&searchKey=&page=26&searchRegion=&searchGugun=&searchValue=#\n",
      "https://www.caffe-pascucci.co.kr/store/storeList.asp?searchSmoking=&searchParking=Y&searchInternet=&searchNewStore=&search24Store=&searchCatering=&searchDrivethrough=&searchKey=&page=27&searchRegion=&searchGugun=&searchValue=#\n",
      "https://www.caffe-pascucci.co.kr/store/storeList.asp?searchSmoking=&searchParking=Y&searchInternet=&searchNewStore=&search24Store=&searchCatering=&searchDrivethrough=&searchKey=&page=28&searchRegion=&searchGugun=&searchValue=#\n",
      "https://www.caffe-pascucci.co.kr/store/storeList.asp?searchSmoking=&searchParking=Y&searchInternet=&searchNewStore=&search24Store=&searchCatering=&searchDrivethrough=&searchKey=&page=29&searchRegion=&searchGugun=&searchValue=#\n",
      "https://www.caffe-pascucci.co.kr/store/storeList.asp?searchSmoking=&searchParking=Y&searchInternet=&searchNewStore=&search24Store=&searchCatering=&searchDrivethrough=&searchKey=&page=30&searchRegion=&searchGugun=&searchValue=#\n",
      "https://www.caffe-pascucci.co.kr/store/storeList.asp?searchSmoking=&searchParking=Y&searchInternet=&searchNewStore=&search24Store=&searchCatering=&searchDrivethrough=&searchKey=&page=31&searchRegion=&searchGugun=&searchValue=#\n",
      "https://www.caffe-pascucci.co.kr/store/storeList.asp?searchSmoking=&searchParking=Y&searchInternet=&searchNewStore=&search24Store=&searchCatering=&searchDrivethrough=&searchKey=&page=32&searchRegion=&searchGugun=&searchValue=#\n",
      "https://www.caffe-pascucci.co.kr/store/storeList.asp?searchSmoking=&searchParking=Y&searchInternet=&searchNewStore=&search24Store=&searchCatering=&searchDrivethrough=&searchKey=&page=33&searchRegion=&searchGugun=&searchValue=#\n",
      "https://www.caffe-pascucci.co.kr/store/storeList.asp?searchSmoking=&searchParking=Y&searchInternet=&searchNewStore=&search24Store=&searchCatering=&searchDrivethrough=&searchKey=&page=34&searchRegion=&searchGugun=&searchValue=#\n",
      "https://www.caffe-pascucci.co.kr/store/storeList.asp?searchSmoking=&searchParking=Y&searchInternet=&searchNewStore=&search24Store=&searchCatering=&searchDrivethrough=&searchKey=&page=35&searchRegion=&searchGugun=&searchValue=#\n",
      "https://www.caffe-pascucci.co.kr/store/storeList.asp?searchSmoking=&searchParking=Y&searchInternet=&searchNewStore=&search24Store=&searchCatering=&searchDrivethrough=&searchKey=&page=36&searchRegion=&searchGugun=&searchValue=#\n",
      "https://www.caffe-pascucci.co.kr/store/storeList.asp?searchSmoking=&searchParking=Y&searchInternet=&searchNewStore=&search24Store=&searchCatering=&searchDrivethrough=&searchKey=&page=37&searchRegion=&searchGugun=&searchValue=#\n"
     ]
    },
    {
     "name": "stdout",
     "output_type": "stream",
     "text": [
      "https://www.caffe-pascucci.co.kr/store/storeList.asp?searchSmoking=&searchParking=Y&searchInternet=&searchNewStore=&search24Store=&searchCatering=&searchDrivethrough=&searchKey=&page=38&searchRegion=&searchGugun=&searchValue=#\n",
      "https://www.caffe-pascucci.co.kr/store/storeList.asp?searchSmoking=&searchParking=Y&searchInternet=&searchNewStore=&search24Store=&searchCatering=&searchDrivethrough=&searchKey=&page=39&searchRegion=&searchGugun=&searchValue=#\n",
      "https://www.caffe-pascucci.co.kr/store/storeList.asp?searchSmoking=&searchParking=Y&searchInternet=&searchNewStore=&search24Store=&searchCatering=&searchDrivethrough=&searchKey=&page=40&searchRegion=&searchGugun=&searchValue=#\n",
      "https://www.caffe-pascucci.co.kr/store/storeList.asp?searchSmoking=&searchParking=Y&searchInternet=&searchNewStore=&search24Store=&searchCatering=&searchDrivethrough=&searchKey=&page=41&searchRegion=&searchGugun=&searchValue=#\n",
      "https://www.caffe-pascucci.co.kr/store/storeList.asp?searchSmoking=&searchParking=Y&searchInternet=&searchNewStore=&search24Store=&searchCatering=&searchDrivethrough=&searchKey=&page=42&searchRegion=&searchGugun=&searchValue=#\n",
      "https://www.caffe-pascucci.co.kr/store/storeList.asp?searchSmoking=&searchParking=Y&searchInternet=&searchNewStore=&search24Store=&searchCatering=&searchDrivethrough=&searchKey=&page=43&searchRegion=&searchGugun=&searchValue=#\n",
      "파스쿠찌 경기도 주차가능 매장 작업 끝\n"
     ]
    }
   ],
   "source": [
    "def main2():\n",
    "    result = []\n",
    "    print('파스쿠찌 경기도 주차가능 매장 크롤링 작업 시작')\n",
    "    pascucci_parking(result)  \n",
    "    print('파스쿠찌 경기도 주차가능 매장 작업 끝')\n",
    "    pascucci_tbl = pd.DataFrame(result, columns = ('store', 'sido-gu', 'address', 'phone'))\n",
    "    pascucci_tbl.to_csv('pascucci_parking.csv', encoding = 'utf-8', mode = 'w', index = True)\n",
    "    del result[:]\n",
    "main2()"
   ]
  },
  {
   "cell_type": "code",
   "execution_count": 28,
   "id": "fcb0cb6b",
   "metadata": {},
   "outputs": [],
   "source": [
    "# 전국 매장 모든 정보를 csv로 출력하기\n",
    "\n",
    "def pascucci_all_store(result):\n",
    "    for page in range(1, 54):\n",
    "        pascucci_url = 'https://www.caffe-pascucci.co.kr/store/storeList.asp?searchSmoking=&searchParking=&searchInternet=&searchNewStore=&search24Store=&searchCatering=&searchDrivethrough=&searchKey=&page=%d&searchRegion=&searchGugun=&searchValue=' % page\n",
    "        print(pascucci_url)\n",
    "        html = urllib.request.urlopen(pascucci_url)\n",
    "        soupHollys = BeautifulSoup(html, 'html.parser')\n",
    "        tag_tbody = soupHollys.find('tbody')\n",
    "\n",
    "        for store in tag_tbody.find_all('tr'):\n",
    "            if len(store) <= 3 :  \n",
    "                break\n",
    "                \n",
    "            store_td = store.find_all('td')\n",
    "            store_name = store_td[1].string    # 지점명\n",
    "            store_sido = store_td[2].string    # 시도\n",
    "            store_address = store_td[4].p.string   # 주소\n",
    "            store_phone = store_td[5].span.string   #전화번호\n",
    "            result.append([store_name] + [store_sido] + [store_address] + [store_phone])\n",
    "    return"
   ]
  },
  {
   "cell_type": "code",
   "execution_count": 29,
   "id": "e18c0705",
   "metadata": {},
   "outputs": [
    {
     "name": "stdout",
     "output_type": "stream",
     "text": [
      "파스쿠찌 전국 모든 매장 크롤링 작업 시작\n",
      "https://www.caffe-pascucci.co.kr/store/storeList.asp?searchSmoking=&searchParking=&searchInternet=&searchNewStore=&search24Store=&searchCatering=&searchDrivethrough=&searchKey=&page=1&searchRegion=&searchGugun=&searchValue=\n",
      "https://www.caffe-pascucci.co.kr/store/storeList.asp?searchSmoking=&searchParking=&searchInternet=&searchNewStore=&search24Store=&searchCatering=&searchDrivethrough=&searchKey=&page=2&searchRegion=&searchGugun=&searchValue=\n",
      "https://www.caffe-pascucci.co.kr/store/storeList.asp?searchSmoking=&searchParking=&searchInternet=&searchNewStore=&search24Store=&searchCatering=&searchDrivethrough=&searchKey=&page=3&searchRegion=&searchGugun=&searchValue=\n",
      "https://www.caffe-pascucci.co.kr/store/storeList.asp?searchSmoking=&searchParking=&searchInternet=&searchNewStore=&search24Store=&searchCatering=&searchDrivethrough=&searchKey=&page=4&searchRegion=&searchGugun=&searchValue=\n",
      "https://www.caffe-pascucci.co.kr/store/storeList.asp?searchSmoking=&searchParking=&searchInternet=&searchNewStore=&search24Store=&searchCatering=&searchDrivethrough=&searchKey=&page=5&searchRegion=&searchGugun=&searchValue=\n",
      "https://www.caffe-pascucci.co.kr/store/storeList.asp?searchSmoking=&searchParking=&searchInternet=&searchNewStore=&search24Store=&searchCatering=&searchDrivethrough=&searchKey=&page=6&searchRegion=&searchGugun=&searchValue=\n",
      "https://www.caffe-pascucci.co.kr/store/storeList.asp?searchSmoking=&searchParking=&searchInternet=&searchNewStore=&search24Store=&searchCatering=&searchDrivethrough=&searchKey=&page=7&searchRegion=&searchGugun=&searchValue=\n",
      "https://www.caffe-pascucci.co.kr/store/storeList.asp?searchSmoking=&searchParking=&searchInternet=&searchNewStore=&search24Store=&searchCatering=&searchDrivethrough=&searchKey=&page=8&searchRegion=&searchGugun=&searchValue=\n",
      "https://www.caffe-pascucci.co.kr/store/storeList.asp?searchSmoking=&searchParking=&searchInternet=&searchNewStore=&search24Store=&searchCatering=&searchDrivethrough=&searchKey=&page=9&searchRegion=&searchGugun=&searchValue=\n",
      "https://www.caffe-pascucci.co.kr/store/storeList.asp?searchSmoking=&searchParking=&searchInternet=&searchNewStore=&search24Store=&searchCatering=&searchDrivethrough=&searchKey=&page=10&searchRegion=&searchGugun=&searchValue=\n",
      "https://www.caffe-pascucci.co.kr/store/storeList.asp?searchSmoking=&searchParking=&searchInternet=&searchNewStore=&search24Store=&searchCatering=&searchDrivethrough=&searchKey=&page=11&searchRegion=&searchGugun=&searchValue=\n",
      "https://www.caffe-pascucci.co.kr/store/storeList.asp?searchSmoking=&searchParking=&searchInternet=&searchNewStore=&search24Store=&searchCatering=&searchDrivethrough=&searchKey=&page=12&searchRegion=&searchGugun=&searchValue=\n",
      "https://www.caffe-pascucci.co.kr/store/storeList.asp?searchSmoking=&searchParking=&searchInternet=&searchNewStore=&search24Store=&searchCatering=&searchDrivethrough=&searchKey=&page=13&searchRegion=&searchGugun=&searchValue=\n",
      "https://www.caffe-pascucci.co.kr/store/storeList.asp?searchSmoking=&searchParking=&searchInternet=&searchNewStore=&search24Store=&searchCatering=&searchDrivethrough=&searchKey=&page=14&searchRegion=&searchGugun=&searchValue=\n",
      "https://www.caffe-pascucci.co.kr/store/storeList.asp?searchSmoking=&searchParking=&searchInternet=&searchNewStore=&search24Store=&searchCatering=&searchDrivethrough=&searchKey=&page=15&searchRegion=&searchGugun=&searchValue=\n",
      "https://www.caffe-pascucci.co.kr/store/storeList.asp?searchSmoking=&searchParking=&searchInternet=&searchNewStore=&search24Store=&searchCatering=&searchDrivethrough=&searchKey=&page=16&searchRegion=&searchGugun=&searchValue=\n",
      "https://www.caffe-pascucci.co.kr/store/storeList.asp?searchSmoking=&searchParking=&searchInternet=&searchNewStore=&search24Store=&searchCatering=&searchDrivethrough=&searchKey=&page=17&searchRegion=&searchGugun=&searchValue=\n",
      "https://www.caffe-pascucci.co.kr/store/storeList.asp?searchSmoking=&searchParking=&searchInternet=&searchNewStore=&search24Store=&searchCatering=&searchDrivethrough=&searchKey=&page=18&searchRegion=&searchGugun=&searchValue=\n",
      "https://www.caffe-pascucci.co.kr/store/storeList.asp?searchSmoking=&searchParking=&searchInternet=&searchNewStore=&search24Store=&searchCatering=&searchDrivethrough=&searchKey=&page=19&searchRegion=&searchGugun=&searchValue=\n",
      "https://www.caffe-pascucci.co.kr/store/storeList.asp?searchSmoking=&searchParking=&searchInternet=&searchNewStore=&search24Store=&searchCatering=&searchDrivethrough=&searchKey=&page=20&searchRegion=&searchGugun=&searchValue=\n",
      "https://www.caffe-pascucci.co.kr/store/storeList.asp?searchSmoking=&searchParking=&searchInternet=&searchNewStore=&search24Store=&searchCatering=&searchDrivethrough=&searchKey=&page=21&searchRegion=&searchGugun=&searchValue=\n",
      "https://www.caffe-pascucci.co.kr/store/storeList.asp?searchSmoking=&searchParking=&searchInternet=&searchNewStore=&search24Store=&searchCatering=&searchDrivethrough=&searchKey=&page=22&searchRegion=&searchGugun=&searchValue=\n",
      "https://www.caffe-pascucci.co.kr/store/storeList.asp?searchSmoking=&searchParking=&searchInternet=&searchNewStore=&search24Store=&searchCatering=&searchDrivethrough=&searchKey=&page=23&searchRegion=&searchGugun=&searchValue=\n",
      "https://www.caffe-pascucci.co.kr/store/storeList.asp?searchSmoking=&searchParking=&searchInternet=&searchNewStore=&search24Store=&searchCatering=&searchDrivethrough=&searchKey=&page=24&searchRegion=&searchGugun=&searchValue=\n",
      "https://www.caffe-pascucci.co.kr/store/storeList.asp?searchSmoking=&searchParking=&searchInternet=&searchNewStore=&search24Store=&searchCatering=&searchDrivethrough=&searchKey=&page=25&searchRegion=&searchGugun=&searchValue=\n",
      "https://www.caffe-pascucci.co.kr/store/storeList.asp?searchSmoking=&searchParking=&searchInternet=&searchNewStore=&search24Store=&searchCatering=&searchDrivethrough=&searchKey=&page=26&searchRegion=&searchGugun=&searchValue=\n",
      "https://www.caffe-pascucci.co.kr/store/storeList.asp?searchSmoking=&searchParking=&searchInternet=&searchNewStore=&search24Store=&searchCatering=&searchDrivethrough=&searchKey=&page=27&searchRegion=&searchGugun=&searchValue=\n",
      "https://www.caffe-pascucci.co.kr/store/storeList.asp?searchSmoking=&searchParking=&searchInternet=&searchNewStore=&search24Store=&searchCatering=&searchDrivethrough=&searchKey=&page=28&searchRegion=&searchGugun=&searchValue=\n",
      "https://www.caffe-pascucci.co.kr/store/storeList.asp?searchSmoking=&searchParking=&searchInternet=&searchNewStore=&search24Store=&searchCatering=&searchDrivethrough=&searchKey=&page=29&searchRegion=&searchGugun=&searchValue=\n",
      "https://www.caffe-pascucci.co.kr/store/storeList.asp?searchSmoking=&searchParking=&searchInternet=&searchNewStore=&search24Store=&searchCatering=&searchDrivethrough=&searchKey=&page=30&searchRegion=&searchGugun=&searchValue=\n",
      "https://www.caffe-pascucci.co.kr/store/storeList.asp?searchSmoking=&searchParking=&searchInternet=&searchNewStore=&search24Store=&searchCatering=&searchDrivethrough=&searchKey=&page=31&searchRegion=&searchGugun=&searchValue=\n",
      "https://www.caffe-pascucci.co.kr/store/storeList.asp?searchSmoking=&searchParking=&searchInternet=&searchNewStore=&search24Store=&searchCatering=&searchDrivethrough=&searchKey=&page=32&searchRegion=&searchGugun=&searchValue=\n",
      "https://www.caffe-pascucci.co.kr/store/storeList.asp?searchSmoking=&searchParking=&searchInternet=&searchNewStore=&search24Store=&searchCatering=&searchDrivethrough=&searchKey=&page=33&searchRegion=&searchGugun=&searchValue=\n",
      "https://www.caffe-pascucci.co.kr/store/storeList.asp?searchSmoking=&searchParking=&searchInternet=&searchNewStore=&search24Store=&searchCatering=&searchDrivethrough=&searchKey=&page=34&searchRegion=&searchGugun=&searchValue=\n",
      "https://www.caffe-pascucci.co.kr/store/storeList.asp?searchSmoking=&searchParking=&searchInternet=&searchNewStore=&search24Store=&searchCatering=&searchDrivethrough=&searchKey=&page=35&searchRegion=&searchGugun=&searchValue=\n",
      "https://www.caffe-pascucci.co.kr/store/storeList.asp?searchSmoking=&searchParking=&searchInternet=&searchNewStore=&search24Store=&searchCatering=&searchDrivethrough=&searchKey=&page=36&searchRegion=&searchGugun=&searchValue=\n",
      "https://www.caffe-pascucci.co.kr/store/storeList.asp?searchSmoking=&searchParking=&searchInternet=&searchNewStore=&search24Store=&searchCatering=&searchDrivethrough=&searchKey=&page=37&searchRegion=&searchGugun=&searchValue=\n"
     ]
    },
    {
     "name": "stdout",
     "output_type": "stream",
     "text": [
      "https://www.caffe-pascucci.co.kr/store/storeList.asp?searchSmoking=&searchParking=&searchInternet=&searchNewStore=&search24Store=&searchCatering=&searchDrivethrough=&searchKey=&page=38&searchRegion=&searchGugun=&searchValue=\n",
      "https://www.caffe-pascucci.co.kr/store/storeList.asp?searchSmoking=&searchParking=&searchInternet=&searchNewStore=&search24Store=&searchCatering=&searchDrivethrough=&searchKey=&page=39&searchRegion=&searchGugun=&searchValue=\n",
      "https://www.caffe-pascucci.co.kr/store/storeList.asp?searchSmoking=&searchParking=&searchInternet=&searchNewStore=&search24Store=&searchCatering=&searchDrivethrough=&searchKey=&page=40&searchRegion=&searchGugun=&searchValue=\n",
      "https://www.caffe-pascucci.co.kr/store/storeList.asp?searchSmoking=&searchParking=&searchInternet=&searchNewStore=&search24Store=&searchCatering=&searchDrivethrough=&searchKey=&page=41&searchRegion=&searchGugun=&searchValue=\n",
      "https://www.caffe-pascucci.co.kr/store/storeList.asp?searchSmoking=&searchParking=&searchInternet=&searchNewStore=&search24Store=&searchCatering=&searchDrivethrough=&searchKey=&page=42&searchRegion=&searchGugun=&searchValue=\n",
      "https://www.caffe-pascucci.co.kr/store/storeList.asp?searchSmoking=&searchParking=&searchInternet=&searchNewStore=&search24Store=&searchCatering=&searchDrivethrough=&searchKey=&page=43&searchRegion=&searchGugun=&searchValue=\n",
      "https://www.caffe-pascucci.co.kr/store/storeList.asp?searchSmoking=&searchParking=&searchInternet=&searchNewStore=&search24Store=&searchCatering=&searchDrivethrough=&searchKey=&page=44&searchRegion=&searchGugun=&searchValue=\n",
      "https://www.caffe-pascucci.co.kr/store/storeList.asp?searchSmoking=&searchParking=&searchInternet=&searchNewStore=&search24Store=&searchCatering=&searchDrivethrough=&searchKey=&page=45&searchRegion=&searchGugun=&searchValue=\n",
      "https://www.caffe-pascucci.co.kr/store/storeList.asp?searchSmoking=&searchParking=&searchInternet=&searchNewStore=&search24Store=&searchCatering=&searchDrivethrough=&searchKey=&page=46&searchRegion=&searchGugun=&searchValue=\n",
      "https://www.caffe-pascucci.co.kr/store/storeList.asp?searchSmoking=&searchParking=&searchInternet=&searchNewStore=&search24Store=&searchCatering=&searchDrivethrough=&searchKey=&page=47&searchRegion=&searchGugun=&searchValue=\n",
      "https://www.caffe-pascucci.co.kr/store/storeList.asp?searchSmoking=&searchParking=&searchInternet=&searchNewStore=&search24Store=&searchCatering=&searchDrivethrough=&searchKey=&page=48&searchRegion=&searchGugun=&searchValue=\n",
      "https://www.caffe-pascucci.co.kr/store/storeList.asp?searchSmoking=&searchParking=&searchInternet=&searchNewStore=&search24Store=&searchCatering=&searchDrivethrough=&searchKey=&page=49&searchRegion=&searchGugun=&searchValue=\n",
      "https://www.caffe-pascucci.co.kr/store/storeList.asp?searchSmoking=&searchParking=&searchInternet=&searchNewStore=&search24Store=&searchCatering=&searchDrivethrough=&searchKey=&page=50&searchRegion=&searchGugun=&searchValue=\n",
      "https://www.caffe-pascucci.co.kr/store/storeList.asp?searchSmoking=&searchParking=&searchInternet=&searchNewStore=&search24Store=&searchCatering=&searchDrivethrough=&searchKey=&page=51&searchRegion=&searchGugun=&searchValue=\n",
      "https://www.caffe-pascucci.co.kr/store/storeList.asp?searchSmoking=&searchParking=&searchInternet=&searchNewStore=&search24Store=&searchCatering=&searchDrivethrough=&searchKey=&page=52&searchRegion=&searchGugun=&searchValue=\n",
      "https://www.caffe-pascucci.co.kr/store/storeList.asp?searchSmoking=&searchParking=&searchInternet=&searchNewStore=&search24Store=&searchCatering=&searchDrivethrough=&searchKey=&page=53&searchRegion=&searchGugun=&searchValue=\n",
      "파스쿠찌 전국 모든 매장 크롤링 작업 끝\n"
     ]
    }
   ],
   "source": [
    "def main3():\n",
    "    result = []\n",
    "    print('파스쿠찌 전국 모든 매장 크롤링 작업 시작')\n",
    "    pascucci_all_store(result)  \n",
    "    print('파스쿠찌 전국 모든 매장 크롤링 작업 끝')\n",
    "    pascucci_tbl = pd.DataFrame(result, columns = ('store', 'sido-gu', 'address', 'phone'))\n",
    "    pascucci_tbl.to_csv('pascucci_all.csv', encoding = 'utf-8', mode = 'w', index = True)\n",
    "    del result[:]\n",
    "main3()"
   ]
  },
  {
   "cell_type": "code",
   "execution_count": null,
   "id": "c871cd99",
   "metadata": {},
   "outputs": [],
   "source": []
  }
 ],
 "metadata": {
  "kernelspec": {
   "display_name": "Python 3",
   "language": "python",
   "name": "python3"
  },
  "language_info": {
   "codemirror_mode": {
    "name": "ipython",
    "version": 3
   },
   "file_extension": ".py",
   "mimetype": "text/x-python",
   "name": "python",
   "nbconvert_exporter": "python",
   "pygments_lexer": "ipython3",
   "version": "3.8.8"
  }
 },
 "nbformat": 4,
 "nbformat_minor": 5
}
