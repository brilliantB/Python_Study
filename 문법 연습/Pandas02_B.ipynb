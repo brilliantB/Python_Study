{
 "cells": [
  {
   "cell_type": "markdown",
   "id": "369a1ffe",
   "metadata": {},
   "source": [
    "# 데이터 프레임\n",
    "### 환자 명세서 데이터 프레임 생성\n",
    "- 2차원 배열로 구성된 데이터 프레임을 생성하기 위해 다음 표와 같이 필요한 환자 코드, 연령, 성별, 거주지 데이터를 제시"
   ]
  },
  {
   "cell_type": "code",
   "execution_count": 2,
   "id": "974bec0b",
   "metadata": {},
   "outputs": [
    {
     "name": "stdout",
     "output_type": "stream",
     "text": [
      "Requirement already satisfied: numpy in c:\\users\\user\\anaconda3\\lib\\site-packages (1.20.1)\n"
     ]
    }
   ],
   "source": [
    "!pip install numpy"
   ]
  },
  {
   "cell_type": "code",
   "execution_count": 3,
   "id": "bad32631",
   "metadata": {},
   "outputs": [],
   "source": [
    "import pandas as pd"
   ]
  },
  {
   "cell_type": "code",
   "execution_count": 4,
   "id": "1c3c0698",
   "metadata": {},
   "outputs": [
    {
     "name": "stdout",
     "output_type": "stream",
     "text": [
      "{'gender': {'남자': 23, '여자': 53}, 'code': ['A00301', 'D00809'], 'address': ['서울특별시', '제주특별자치도']}\n"
     ]
    }
   ],
   "source": [
    "data = { 'gender' : {'남자':23 , '여자': 53},\n",
    "         'code' : ['A00301', 'D00809'],\n",
    "         'address' : ['서울특별시', '제주특별자치도']}\n",
    "\n",
    "print(data)"
   ]
  },
  {
   "cell_type": "code",
   "execution_count": 5,
   "id": "c2ba8f4d",
   "metadata": {},
   "outputs": [
    {
     "name": "stdout",
     "output_type": "stream",
     "text": [
      "      0       1        2\n",
      "0  환자코드  A00301   D00809\n",
      "1    연령      23       53\n",
      "2    성별       남        여\n",
      "3   거주지   서울특별시  제주특별자치도\n"
     ]
    }
   ],
   "source": [
    "# 강사님 버전\n",
    "\n",
    "# DF 열에 맞추어서 생성하기\n",
    "df = pd.DataFrame([['환자코드', '연령', '성별', '거주지'], \n",
    "                   ['A00301', 23, '남', '서울특별시'],\n",
    "                   ['D00809', 53, '여', '제주특별자치도']]).T\n",
    "\n",
    "print(df)  # 데이터 프레임 출력"
   ]
  },
  {
   "cell_type": "markdown",
   "id": "535bf2d0",
   "metadata": {},
   "source": [
    "### DataFrame() 함수의 인자로 전달\n",
    "- DataFrame 은 우리의 동지, 자나깨나 생각나야한다고 함"
   ]
  },
  {
   "cell_type": "code",
   "execution_count": 6,
   "id": "6545a1ec",
   "metadata": {},
   "outputs": [
    {
     "name": "stdout",
     "output_type": "stream",
     "text": [
      "        0   1   2        3\n",
      "0    환자코드  연령  성별      거주지\n",
      "1  A00301  25   남    서울특별시\n",
      "2  D00809  19   여  제주특별자치도\n"
     ]
    }
   ],
   "source": [
    "df =pd.DataFrame([['환자코드', '연령', '성별', '거주지'],\n",
    "                  ['A00301', 25, '남', '서울특별시'],\n",
    "                  ['D00809', 19, '여', '제주특별자치도']])\n",
    "\n",
    "print(df)"
   ]
  },
  {
   "cell_type": "code",
   "execution_count": 7,
   "id": "9b01e388",
   "metadata": {},
   "outputs": [
    {
     "name": "stdout",
     "output_type": "stream",
     "text": [
      "        연령 성별      거주지\n",
      "A00301  23  남    서울특별시\n",
      "D00809  53  여  제주특별자치도\n",
      "\n",
      "\n",
      "Index(['A00301', 'D00809'], dtype='object')\n",
      "Index(['연령', '성별', '거주지'], dtype='object')\n"
     ]
    }
   ],
   "source": [
    "# 데이터 프레임의 행 인덱스와 열 이름 설정 후 각각 출력하기\n",
    "# 환자 명세서에 대한 데이터 프레임의 행 인덱스와 열 이름을 출력하기 위해 다음과 같이 소스 코드 작성\n",
    "\n",
    "df =pd.DataFrame([[23, '남', '서울특별시'],\n",
    "                  [53, '여', '제주특별자치도']],\n",
    "                  index = ['A00301','D00809'],\n",
    "                  columns = ['연령', '성별', '거주지'])\n",
    "\n",
    "print(df)           # 데이터 프레임 출력\n",
    "print('\\n')         # 한 줄 띄우기\n",
    "print(df.index)     # 행 인덱스 출력\n",
    "print(df.columns)   # 열 이름 출력"
   ]
  },
  {
   "cell_type": "markdown",
   "id": "7ca19785",
   "metadata": {},
   "source": [
    "### rename() 메소드"
   ]
  },
  {
   "cell_type": "code",
   "execution_count": 8,
   "id": "da1d8988",
   "metadata": {},
   "outputs": [
    {
     "name": "stdout",
     "output_type": "stream",
     "text": [
      "     age gender     addr\n",
      "환자1   23      남    서울특별시\n",
      "환자2   53      여  제주특별자치도\n"
     ]
    }
   ],
   "source": [
    "# 행 인덱스의 환자코드를 '환자1', '환자2'로 변경\n",
    "df.rename(index={'A00301':'환자1', 'D00809':'환자2'}, inplace=True)\n",
    "\n",
    "# 열 이름 중 '연령'은 'age', '성별'은 'gender', '거주지'는 'addr'로 변경\n",
    "df.rename(columns={'연령':'age', '성별': 'gender', '거주지': 'addr'}, inplace=True)\n",
    "\n",
    "#변경된 데이터 프레임 df 출력\n",
    "print(df)"
   ]
  },
  {
   "cell_type": "markdown",
   "id": "021c2ccd",
   "metadata": {},
   "source": [
    "### 행 데이터 선택"
   ]
  },
  {
   "cell_type": "code",
   "execution_count": 27,
   "id": "ba3c480c",
   "metadata": {},
   "outputs": [
    {
     "name": "stdout",
     "output_type": "stream",
     "text": [
      "      성명  나이 성별    키  체중\n",
      "이겨레  이겨레  25  남  185  89\n",
      "조약돌  조약돌  19  여  163  53\n"
     ]
    }
   ],
   "source": [
    "# 건강관리 대상자의 생체 데이터\n",
    "\n",
    "df =pd.DataFrame([['이겨레', 25, '남', 185, 89],\n",
    "                  ['조약돌', 19, '여', 163, 53]],\n",
    "                  index = ['이겨레', '조약돌'],      # index를 넣어야 loc 가 출력된다.\n",
    "                  columns = ['성명', '나이', '성별', '키', '체중'])\n",
    "\n",
    "print(df)"
   ]
  },
  {
   "cell_type": "code",
   "execution_count": 28,
   "id": "8bd5f0cb",
   "metadata": {},
   "outputs": [
    {
     "data": {
      "text/plain": [
       "성명    이겨레\n",
       "나이     25\n",
       "성별      남\n",
       "키     185\n",
       "체중     89\n",
       "Name: 이겨레, dtype: object"
      ]
     },
     "execution_count": 28,
     "metadata": {},
     "output_type": "execute_result"
    }
   ],
   "source": [
    "# loc 인덱서 사용 : 인덱스의 이름(특정 레이블)을 기준으로 선택\n",
    "\n",
    "df.loc['이겨레']"
   ]
  },
  {
   "cell_type": "code",
   "execution_count": 29,
   "id": "6ba9ea91",
   "metadata": {},
   "outputs": [
    {
     "data": {
      "text/html": [
       "<div>\n",
       "<style scoped>\n",
       "    .dataframe tbody tr th:only-of-type {\n",
       "        vertical-align: middle;\n",
       "    }\n",
       "\n",
       "    .dataframe tbody tr th {\n",
       "        vertical-align: top;\n",
       "    }\n",
       "\n",
       "    .dataframe thead th {\n",
       "        text-align: right;\n",
       "    }\n",
       "</style>\n",
       "<table border=\"1\" class=\"dataframe\">\n",
       "  <thead>\n",
       "    <tr style=\"text-align: right;\">\n",
       "      <th></th>\n",
       "      <th>성명</th>\n",
       "      <th>나이</th>\n",
       "      <th>성별</th>\n",
       "      <th>키</th>\n",
       "      <th>체중</th>\n",
       "    </tr>\n",
       "  </thead>\n",
       "  <tbody>\n",
       "    <tr>\n",
       "      <th>이겨레</th>\n",
       "      <td>이겨레</td>\n",
       "      <td>25</td>\n",
       "      <td>남</td>\n",
       "      <td>185</td>\n",
       "      <td>89</td>\n",
       "    </tr>\n",
       "  </tbody>\n",
       "</table>\n",
       "</div>"
      ],
      "text/plain": [
       "      성명  나이 성별    키  체중\n",
       "이겨레  이겨레  25  남  185  89"
      ]
     },
     "execution_count": 29,
     "metadata": {},
     "output_type": "execute_result"
    }
   ],
   "source": [
    "# iloc 인덱스 사용 : 특정 위치를 인덱스의 정수값으로 지정하여 선택\n",
    "\n",
    "df.iloc[[0]]"
   ]
  },
  {
   "cell_type": "code",
   "execution_count": 30,
   "id": "80cf649a",
   "metadata": {},
   "outputs": [
    {
     "data": {
      "text/html": [
       "<div>\n",
       "<style scoped>\n",
       "    .dataframe tbody tr th:only-of-type {\n",
       "        vertical-align: middle;\n",
       "    }\n",
       "\n",
       "    .dataframe tbody tr th {\n",
       "        vertical-align: top;\n",
       "    }\n",
       "\n",
       "    .dataframe thead th {\n",
       "        text-align: right;\n",
       "    }\n",
       "</style>\n",
       "<table border=\"1\" class=\"dataframe\">\n",
       "  <thead>\n",
       "    <tr style=\"text-align: right;\">\n",
       "      <th></th>\n",
       "      <th>성명</th>\n",
       "      <th>나이</th>\n",
       "      <th>성별</th>\n",
       "      <th>키</th>\n",
       "      <th>체중</th>\n",
       "    </tr>\n",
       "  </thead>\n",
       "  <tbody>\n",
       "    <tr>\n",
       "      <th>이겨레</th>\n",
       "      <td>이겨레</td>\n",
       "      <td>25</td>\n",
       "      <td>남</td>\n",
       "      <td>185</td>\n",
       "      <td>89</td>\n",
       "    </tr>\n",
       "    <tr>\n",
       "      <th>조약돌</th>\n",
       "      <td>조약돌</td>\n",
       "      <td>19</td>\n",
       "      <td>여</td>\n",
       "      <td>163</td>\n",
       "      <td>53</td>\n",
       "    </tr>\n",
       "  </tbody>\n",
       "</table>\n",
       "</div>"
      ],
      "text/plain": [
       "      성명  나이 성별    키  체중\n",
       "이겨레  이겨레  25  남  185  89\n",
       "조약돌  조약돌  19  여  163  53"
      ]
     },
     "execution_count": 30,
     "metadata": {},
     "output_type": "execute_result"
    }
   ],
   "source": [
    "df.iloc[[0,1]]"
   ]
  },
  {
   "cell_type": "code",
   "execution_count": 31,
   "id": "268edadc",
   "metadata": {},
   "outputs": [
    {
     "data": {
      "text/html": [
       "<div>\n",
       "<style scoped>\n",
       "    .dataframe tbody tr th:only-of-type {\n",
       "        vertical-align: middle;\n",
       "    }\n",
       "\n",
       "    .dataframe tbody tr th {\n",
       "        vertical-align: top;\n",
       "    }\n",
       "\n",
       "    .dataframe thead th {\n",
       "        text-align: right;\n",
       "    }\n",
       "</style>\n",
       "<table border=\"1\" class=\"dataframe\">\n",
       "  <thead>\n",
       "    <tr style=\"text-align: right;\">\n",
       "      <th></th>\n",
       "      <th>성명</th>\n",
       "      <th>나이</th>\n",
       "      <th>성별</th>\n",
       "      <th>키</th>\n",
       "      <th>체중</th>\n",
       "    </tr>\n",
       "  </thead>\n",
       "  <tbody>\n",
       "    <tr>\n",
       "      <th>이겨레</th>\n",
       "      <td>이겨레</td>\n",
       "      <td>25</td>\n",
       "      <td>남</td>\n",
       "      <td>185</td>\n",
       "      <td>89</td>\n",
       "    </tr>\n",
       "    <tr>\n",
       "      <th>조약돌</th>\n",
       "      <td>조약돌</td>\n",
       "      <td>19</td>\n",
       "      <td>여</td>\n",
       "      <td>163</td>\n",
       "      <td>53</td>\n",
       "    </tr>\n",
       "  </tbody>\n",
       "</table>\n",
       "</div>"
      ],
      "text/plain": [
       "      성명  나이 성별    키  체중\n",
       "이겨레  이겨레  25  남  185  89\n",
       "조약돌  조약돌  19  여  163  53"
      ]
     },
     "execution_count": 31,
     "metadata": {},
     "output_type": "execute_result"
    }
   ],
   "source": [
    "df.iloc[0:2]"
   ]
  },
  {
   "cell_type": "code",
   "execution_count": 34,
   "id": "0ee8fbde",
   "metadata": {},
   "outputs": [
    {
     "name": "stdout",
     "output_type": "stream",
     "text": [
      "     나이 성별    키  체중\n",
      "이겨레  25  남  185  89\n",
      "조약돌  19  여  163  53\n",
      "\n",
      "\n"
     ]
    }
   ],
   "source": [
    "# 강사님 버전\n",
    "\n",
    "bio_data = {'나이':[25, 19], '성별':['남', '여'], \n",
    "            '키':[185, 163], '체중':[89, 53]}\n",
    "\n",
    "# DataFrame()함수를 사용하고 성멸을 인덱스로 설정하여 변수 df 에 저장\n",
    "df = pd.DataFrame(bio_data, index=['이겨레', '조약돌'])\n",
    "\n",
    "print(df)       # 데이터 프레임 df 출력\n",
    "print('\\n')"
   ]
  },
  {
   "cell_type": "code",
   "execution_count": 36,
   "id": "8b174f46",
   "metadata": {},
   "outputs": [
    {
     "name": "stdout",
     "output_type": "stream",
     "text": [
      "나이     25\n",
      "성별      남\n",
      "키     185\n",
      "체중     89\n",
      "Name: 이겨레, dtype: object\n",
      "\n",
      "\n",
      "나이     19\n",
      "성별      여\n",
      "키     163\n",
      "체중     53\n",
      "Name: 조약돌, dtype: object\n"
     ]
    }
   ],
   "source": [
    "# 특정 데이터만 선택하기\n",
    "\n",
    "# '이겨레'는 loc 인덱서, '조약돌'은 iloc 인덱서를 사용하여 행 데이터 선택\n",
    "search_01 = df.loc['이겨레']\n",
    "position_01 = df.iloc[1]  # 인덱스는 0부터 시작하므로 조약돌의 인덱스는 1\n",
    "\n",
    "# '이겨레'는 loc 인덱서, '조약돌'은 iloc 인덱서를 사용하여 행 데이터 선택\n",
    "print(search_01)      # 이겨레 행 데이터 출력\n",
    "print('\\n')\n",
    "print(position_01)    # 조약돌 행 데이터 출력"
   ]
  },
  {
   "cell_type": "code",
   "execution_count": 37,
   "id": "e69973f8",
   "metadata": {},
   "outputs": [
    {
     "name": "stdout",
     "output_type": "stream",
     "text": [
      "     나이 성별    키  체중\n",
      "이겨레  25  남  185  89\n",
      "조약돌  19  여  163  53\n",
      "\n",
      "\n",
      "     나이 성별    키  체중\n",
      "이겨레  25  남  185  89\n",
      "조약돌  19  여  163  53\n"
     ]
    }
   ],
   "source": [
    "# 리스트를 사용하여 여러 개의 행 데이터 선택\n",
    "search_02 = df.loc[['이겨레', '조약돌']]\n",
    "position_02 = df.iloc[[0, 1]]         # 인덱스 2개를 정수형으로 선택\n",
    "\n",
    "# 이겨레는 loc 인덱서, 조약돌은 iloc 인덱서를 사용하여 행 데이터 출력\n",
    "print(search_02)      # loc로 범위를 설정한 2개의 행 데이터 출력\n",
    "print('\\n')\n",
    "print(position_02)    # iloc로 범위를 설정한 2개의 행 데이터 출력"
   ]
  },
  {
   "cell_type": "code",
   "execution_count": 41,
   "id": "f4dcc2ab",
   "metadata": {},
   "outputs": [
    {
     "name": "stdout",
     "output_type": "stream",
     "text": [
      "     나이 성별    키  체중\n",
      "이겨레  25  남  185  89\n",
      "조약돌  19  여  163  53\n",
      "\n",
      "\n",
      "     나이 성별    키  체중\n",
      "이겨레  25  남  185  89\n",
      "조약돌  19  여  163  53\n"
     ]
    }
   ],
   "source": [
    "# 슬라이싱 기법을 사용하여 여러 개의 행 데이터 선택\n",
    "search_03 = df.loc['이겨레':'조약돌']\n",
    "position_03 = df.iloc[0:2]    # 마지막 검색 범위는 불포함\n",
    "\n",
    "# 이겨레는 loc 인덱서, 조약돌은 iloc 인덱서를 사용하여 행 데이터 출력\n",
    "print(search_03)     # loc로 범위를 설정한 2개의 행 데이터 출력\n",
    "print('\\n')\n",
    "print(position_03)   # iloc로 범위를 설정한 2개의 행 데이터 출력"
   ]
  },
  {
   "cell_type": "code",
   "execution_count": null,
   "id": "58835501",
   "metadata": {},
   "outputs": [],
   "source": []
  }
 ],
 "metadata": {
  "kernelspec": {
   "display_name": "Python 3",
   "language": "python",
   "name": "python3"
  },
  "language_info": {
   "codemirror_mode": {
    "name": "ipython",
    "version": 3
   },
   "file_extension": ".py",
   "mimetype": "text/x-python",
   "name": "python",
   "nbconvert_exporter": "python",
   "pygments_lexer": "ipython3",
   "version": "3.8.8"
  },
  "toc": {
   "base_numbering": 1,
   "nav_menu": {},
   "number_sections": true,
   "sideBar": true,
   "skip_h1_title": false,
   "title_cell": "Table of Contents",
   "title_sidebar": "Contents",
   "toc_cell": false,
   "toc_position": {},
   "toc_section_display": true,
   "toc_window_display": false
  }
 },
 "nbformat": 4,
 "nbformat_minor": 5
}
