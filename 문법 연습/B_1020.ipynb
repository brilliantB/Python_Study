{
 "cells": [
  {
   "cell_type": "code",
   "execution_count": 1,
   "id": "8380038e",
   "metadata": {},
   "outputs": [
    {
     "name": "stdout",
     "output_type": "stream",
     "text": [
      "날짜 입력 : 2400\n",
      "윤년\n"
     ]
    }
   ],
   "source": [
    "year = int(input(\"날짜 입력 : \"))\n",
    " \n",
    "if year % 4 == 0 and year % 100 != 0 or year % 400 == 0:\n",
    "    print(\"윤년\")\n",
    "else:\n",
    "    print(\"평년\")"
   ]
  },
  {
   "cell_type": "code",
   "execution_count": 2,
   "id": "feee5520",
   "metadata": {},
   "outputs": [
    {
     "name": "stdout",
     "output_type": "stream",
     "text": [
      "날짜 입력 : 2500\n",
      "평년\n"
     ]
    }
   ],
   "source": [
    "year = int(input('날짜 입력 : '))\n",
    "\n",
    "if year % 4 == 0 and year % 100 != 0 or year % 400 == 0:\n",
    "    print(\"윤년\")\n",
    "else:\n",
    "    print(\"평년\")"
   ]
  },
  {
   "cell_type": "code",
   "execution_count": 5,
   "id": "3586cf00",
   "metadata": {},
   "outputs": [
    {
     "name": "stdout",
     "output_type": "stream",
     "text": [
      "Write the following sentence in English.\n",
      "\n",
      "그들은 교실에 있다. \n",
      "\n"
     ]
    },
    {
     "ename": "KeyboardInterrupt",
     "evalue": "Interrupted by user",
     "output_type": "error",
     "traceback": [
      "\u001b[1;31m---------------------------------------------------------------------------\u001b[0m",
      "\u001b[1;31mKeyboardInterrupt\u001b[0m                         Traceback (most recent call last)",
      "\u001b[1;32m<ipython-input-5-ea80492119e1>\u001b[0m in \u001b[0;36m<module>\u001b[1;34m\u001b[0m\n\u001b[0;32m     29\u001b[0m \u001b[0mprint\u001b[0m\u001b[1;33m(\u001b[0m\u001b[0mko\u001b[0m\u001b[1;33m[\u001b[0m\u001b[0mnum\u001b[0m\u001b[1;33m]\u001b[0m\u001b[1;33m,\u001b[0m \u001b[1;34m\"\\n\"\u001b[0m\u001b[1;33m)\u001b[0m\u001b[1;33m\u001b[0m\u001b[1;33m\u001b[0m\u001b[0m\n\u001b[0;32m     30\u001b[0m \u001b[1;33m\u001b[0m\u001b[0m\n\u001b[1;32m---> 31\u001b[1;33m \u001b[0manswer\u001b[0m \u001b[1;33m=\u001b[0m \u001b[0minput\u001b[0m\u001b[1;33m(\u001b[0m\u001b[1;34m\"your answer: \"\u001b[0m\u001b[1;33m)\u001b[0m\u001b[1;33m\u001b[0m\u001b[1;33m\u001b[0m\u001b[0m\n\u001b[0m\u001b[0;32m     32\u001b[0m \u001b[0mprint\u001b[0m\u001b[1;33m(\u001b[0m\u001b[1;34m\"=\"\u001b[0m\u001b[1;33m*\u001b[0m\u001b[1;36m40\u001b[0m\u001b[1;33m)\u001b[0m\u001b[1;33m\u001b[0m\u001b[1;33m\u001b[0m\u001b[0m\n\u001b[0;32m     33\u001b[0m \u001b[1;33m\u001b[0m\u001b[0m\n",
      "\u001b[1;32m~\\anaconda3\\lib\\site-packages\\ipykernel\\kernelbase.py\u001b[0m in \u001b[0;36mraw_input\u001b[1;34m(self, prompt)\u001b[0m\n\u001b[0;32m    858\u001b[0m                 \u001b[1;34m\"raw_input was called, but this frontend does not support input requests.\"\u001b[0m\u001b[1;33m\u001b[0m\u001b[1;33m\u001b[0m\u001b[0m\n\u001b[0;32m    859\u001b[0m             )\n\u001b[1;32m--> 860\u001b[1;33m         return self._input_request(str(prompt),\n\u001b[0m\u001b[0;32m    861\u001b[0m             \u001b[0mself\u001b[0m\u001b[1;33m.\u001b[0m\u001b[0m_parent_ident\u001b[0m\u001b[1;33m,\u001b[0m\u001b[1;33m\u001b[0m\u001b[1;33m\u001b[0m\u001b[0m\n\u001b[0;32m    862\u001b[0m             \u001b[0mself\u001b[0m\u001b[1;33m.\u001b[0m\u001b[0m_parent_header\u001b[0m\u001b[1;33m,\u001b[0m\u001b[1;33m\u001b[0m\u001b[1;33m\u001b[0m\u001b[0m\n",
      "\u001b[1;32m~\\anaconda3\\lib\\site-packages\\ipykernel\\kernelbase.py\u001b[0m in \u001b[0;36m_input_request\u001b[1;34m(self, prompt, ident, parent, password)\u001b[0m\n\u001b[0;32m    902\u001b[0m             \u001b[1;32mexcept\u001b[0m \u001b[0mKeyboardInterrupt\u001b[0m\u001b[1;33m:\u001b[0m\u001b[1;33m\u001b[0m\u001b[1;33m\u001b[0m\u001b[0m\n\u001b[0;32m    903\u001b[0m                 \u001b[1;31m# re-raise KeyboardInterrupt, to truncate traceback\u001b[0m\u001b[1;33m\u001b[0m\u001b[1;33m\u001b[0m\u001b[1;33m\u001b[0m\u001b[0m\n\u001b[1;32m--> 904\u001b[1;33m                 \u001b[1;32mraise\u001b[0m \u001b[0mKeyboardInterrupt\u001b[0m\u001b[1;33m(\u001b[0m\u001b[1;34m\"Interrupted by user\"\u001b[0m\u001b[1;33m)\u001b[0m \u001b[1;32mfrom\u001b[0m \u001b[1;32mNone\u001b[0m\u001b[1;33m\u001b[0m\u001b[1;33m\u001b[0m\u001b[0m\n\u001b[0m\u001b[0;32m    905\u001b[0m             \u001b[1;32mexcept\u001b[0m \u001b[0mException\u001b[0m \u001b[1;32mas\u001b[0m \u001b[0me\u001b[0m\u001b[1;33m:\u001b[0m\u001b[1;33m\u001b[0m\u001b[1;33m\u001b[0m\u001b[0m\n\u001b[0;32m    906\u001b[0m                 \u001b[0mself\u001b[0m\u001b[1;33m.\u001b[0m\u001b[0mlog\u001b[0m\u001b[1;33m.\u001b[0m\u001b[0mwarning\u001b[0m\u001b[1;33m(\u001b[0m\u001b[1;34m\"Invalid Message:\"\u001b[0m\u001b[1;33m,\u001b[0m \u001b[0mexc_info\u001b[0m\u001b[1;33m=\u001b[0m\u001b[1;32mTrue\u001b[0m\u001b[1;33m)\u001b[0m\u001b[1;33m\u001b[0m\u001b[1;33m\u001b[0m\u001b[0m\n",
      "\u001b[1;31mKeyboardInterrupt\u001b[0m: Interrupted by user"
     ]
    }
   ],
   "source": [
    "# 영어 퀴즈\n",
    "\n",
    "import random\n",
    "\n",
    "print(\"Write the following sentence in English.\\n\")\n",
    "\n",
    "# 텍스트 파일 리스트로 담아오기\n",
    "# md: markdown 확장자명 - 저는 \"typora\"라는 응용프로그램 씁니다.\n",
    "# 저는 보통 terminal에서 \"touch 파일명\"으로 생성\n",
    "# 만든 파일 열어서 txt파일 복붙\n",
    "# 파일경로는 파일이 기본으로 저장되는 경로가 아래와 같아서 다음과 같이 경로 설정\n",
    "f = open(\"/Users/user/ko_en.txt\", \"r\")\n",
    "quiz = f.readlines()[1:] \n",
    "\n",
    "# 리스트 분해해서 각 리스트로\n",
    "ko = []\n",
    "en = []\n",
    "for i in quiz:\n",
    "    i = i.split(\"\\t\")\n",
    "    ko.append(i[0])\n",
    "    en.append(i[1][:-1])\n",
    "    \n",
    "# print(ko)\n",
    "# print(en)\n",
    "\n",
    "# quiz\n",
    "num = random.randint(1, len(ko))\n",
    "\n",
    "print(ko[num], \"\\n\")\n",
    "\n",
    "answer = input(\"your answer: \")\n",
    "print(\"=\"*40)\n",
    "\n",
    "if answer == en[num]:\n",
    "    print(\"result: Correct!\")\n",
    "else:\n",
    "    print(\"result: Not correct!\")\n",
    "    print(\"right answer: \", en[num])"
   ]
  },
  {
   "cell_type": "code",
   "execution_count": null,
   "id": "02f91cf2",
   "metadata": {},
   "outputs": [],
   "source": [
    "# random 라이브러리\n",
    "import random\n",
    "import math\n",
    "\n",
    "# 파일 import\n",
    "f = open('ko_en.txt', 'r',encoding='CP949')\n",
    "\n",
    "# 파일 전체 내용 읽어오기\n",
    "lines = f.readlines()\n",
    "\n",
    "# 리스트에 넣기(ko, en 빼기)\n",
    "lines = lines[1:]\n",
    "\n",
    "# 한국어용 빈 list\n",
    "question_list = []\n",
    "\n",
    "# 빈 dic\n",
    "dic = {}\n",
    "\n",
    "# 리스트 돌면서 split & replace\n",
    "for line in lines:\n",
    "    kor, eng = line.split('\\t')\n",
    "    eng = eng.replace('\\n','')\n",
    "    dic[kor] = eng\n",
    "    question_list = kor\n",
    "    \n",
    "# 한국어만 있는 dic을 list형태로 바꾸어서 변수에 저장\n",
    "question_list = list(dic.keys())\n",
    "# 길이\n",
    "question_len = len(question_list)\n",
    "# 랜덤 번호 뽑기(random함수 + trunc함수 ->랜덤 + 소수점 짜르기)\n",
    "random_number = int((math.trunc(random.random()*question_len)))\n",
    "# 한국어 dic에서 랜덤 value 뽑기 -> 질문으로 출력하기 위함\n",
    "question = question_list[random_number]\n",
    "# 질문 출력\n",
    "print(question)\n",
    "# 사용자 입력 받기\n",
    "eng_in = input('영어문장을 입력해주세요(문장 끝. 포함): ')\n",
    "# 사용자 입력 = 질문의 value 같으면 True 리턴\n",
    "if dic[question] == eng_in:\n",
    "    print(True)\n",
    "else :\n",
    "    print(False)"
   ]
  },
  {
   "cell_type": "code",
   "execution_count": 2,
   "id": "18bb2cf0",
   "metadata": {},
   "outputs": [
    {
     "ename": "ValueError",
     "evalue": "not enough values to unpack (expected 2, got 1)",
     "output_type": "error",
     "traceback": [
      "\u001b[1;31m---------------------------------------------------------------------------\u001b[0m",
      "\u001b[1;31mValueError\u001b[0m                                Traceback (most recent call last)",
      "\u001b[1;32m<ipython-input-2-6b6be02a3626>\u001b[0m in \u001b[0;36m<module>\u001b[1;34m\u001b[0m\n\u001b[0;32m      9\u001b[0m \u001b[1;33m\u001b[0m\u001b[0m\n\u001b[0;32m     10\u001b[0m \u001b[1;32mfor\u001b[0m \u001b[0mline\u001b[0m \u001b[1;32min\u001b[0m \u001b[0mlines\u001b[0m\u001b[1;33m:\u001b[0m\u001b[1;33m\u001b[0m\u001b[1;33m\u001b[0m\u001b[0m\n\u001b[1;32m---> 11\u001b[1;33m     \u001b[0mkor\u001b[0m\u001b[1;33m,\u001b[0m \u001b[0meng\u001b[0m \u001b[1;33m=\u001b[0m \u001b[0mline\u001b[0m\u001b[1;33m.\u001b[0m\u001b[0msplit\u001b[0m\u001b[1;33m(\u001b[0m\u001b[1;34m'Wt'\u001b[0m\u001b[1;33m)\u001b[0m\u001b[1;33m\u001b[0m\u001b[1;33m\u001b[0m\u001b[0m\n\u001b[0m\u001b[0;32m     12\u001b[0m     \u001b[0meng\u001b[0m \u001b[1;33m=\u001b[0m \u001b[0meng\u001b[0m\u001b[1;33m.\u001b[0m\u001b[0mreplace\u001b[0m\u001b[1;33m(\u001b[0m\u001b[1;34m'wn'\u001b[0m\u001b[1;33m,\u001b[0m\u001b[1;34m''\u001b[0m\u001b[1;33m)\u001b[0m\u001b[1;33m\u001b[0m\u001b[1;33m\u001b[0m\u001b[0m\n\u001b[0;32m     13\u001b[0m     \u001b[0mdic\u001b[0m\u001b[1;33m[\u001b[0m\u001b[0mkor\u001b[0m\u001b[1;33m]\u001b[0m \u001b[1;33m=\u001b[0m \u001b[0meng\u001b[0m\u001b[1;33m\u001b[0m\u001b[1;33m\u001b[0m\u001b[0m\n",
      "\u001b[1;31mValueError\u001b[0m: not enough values to unpack (expected 2, got 1)"
     ]
    }
   ],
   "source": [
    "import random\n",
    "import math\n",
    "\n",
    "f = open('/Users/user/ko_en.txt', 'r',encoding='CP949')\n",
    "lines = f.readlines()\n",
    "lines = lines[1:]\n",
    "kor_list = []\n",
    "dic={}\n",
    "\n",
    "for line in lines:\n",
    "    kor, eng = line.split('Wt')\n",
    "    eng = eng.replace('wn','')\n",
    "    dic[kor] = eng\n",
    "    kor_list = kor\n",
    "    \n",
    "kor_list = list(dic.keys())\n",
    "kor_len = len(kor_list)\n",
    "random_number = int((math.trunc(random.random()*kon_len)))\n",
    "kor1 = kor_list[random_number]\n",
    "print(kor1)\n",
    "eng_in = input('영어문장을 입력해주세요(문장 끝. 포함): ')\n",
    "if dic[question] == eng_in:\n",
    "    print(True)\n",
    "else:\n",
    "    print(False)"
   ]
  },
  {
   "cell_type": "code",
   "execution_count": null,
   "id": "1508c513",
   "metadata": {},
   "outputs": [],
   "source": []
  }
 ],
 "metadata": {
  "kernelspec": {
   "display_name": "Python 3",
   "language": "python",
   "name": "python3"
  },
  "language_info": {
   "codemirror_mode": {
    "name": "ipython",
    "version": 3
   },
   "file_extension": ".py",
   "mimetype": "text/x-python",
   "name": "python",
   "nbconvert_exporter": "python",
   "pygments_lexer": "ipython3",
   "version": "3.8.8"
  }
 },
 "nbformat": 4,
 "nbformat_minor": 5
}
