{
 "cells": [
  {
   "cell_type": "markdown",
   "metadata": {
    "id": "Wk37-n5j2z44"
   },
   "source": [
    "# 2021 10 20"
   ]
  },
  {
   "cell_type": "markdown",
   "metadata": {
    "id": "kQoKze7v2z46"
   },
   "source": [
    "## number1.txt라는 파일을 만들고 'coffee tea coffee tea coffee coffee coffee tea coffee coffee coffee coffee coffee coffee tea'라는 문장을 생성하시오. "
   ]
  },
  {
   "cell_type": "code",
   "execution_count": 9,
   "metadata": {
    "id": "2Q2xTDz02z47"
   },
   "outputs": [],
   "source": [
    "f = open(\"number1.txt\", 'w')\n",
    "f.write(\"coffee tea coffee tea coffee coffee coffee tea coffee coffee coffee coffee coffee coffee tea\")\n",
    "f.close()"
   ]
  },
  {
   "cell_type": "markdown",
   "metadata": {
    "id": "wemXf60T2z48"
   },
   "source": [
    "### 강사님 버전"
   ]
  },
  {
   "cell_type": "code",
   "execution_count": null,
   "metadata": {},
   "outputs": [],
   "source": [
    "# 파일 생성법\n",
    "# open은 암기처럼 생각하고 기억하자 => 생성시 'w'(write) 필요"
   ]
  },
  {
   "cell_type": "markdown",
   "metadata": {
    "id": "94IelKzX2z48"
   },
   "source": [
    "## number1.txt 파일을 불러와서 파일 안의 coffee와 tea 단어 개수를 구하시오 "
   ]
  },
  {
   "cell_type": "code",
   "execution_count": 11,
   "metadata": {
    "id": "rkrQXVde2z48"
   },
   "outputs": [
    {
     "ename": "TypeError",
     "evalue": "read expected at most 1 argument, got 2",
     "output_type": "error",
     "traceback": [
      "\u001b[1;31m---------------------------------------------------------------------------\u001b[0m",
      "\u001b[1;31mTypeError\u001b[0m                                 Traceback (most recent call last)",
      "\u001b[1;32m<ipython-input-11-fd0b6ea6c8d4>\u001b[0m in \u001b[0;36m<module>\u001b[1;34m\u001b[0m\n\u001b[0;32m      1\u001b[0m \u001b[0mf\u001b[0m \u001b[1;33m=\u001b[0m \u001b[0mopen\u001b[0m\u001b[1;33m(\u001b[0m\u001b[1;34m\"number1.txt\"\u001b[0m\u001b[1;33m,\u001b[0m \u001b[1;34m'r'\u001b[0m\u001b[1;33m)\u001b[0m\u001b[1;33m\u001b[0m\u001b[1;33m\u001b[0m\u001b[0m\n\u001b[1;32m----> 2\u001b[1;33m \u001b[0mbody\u001b[0m \u001b[1;33m=\u001b[0m \u001b[0mf\u001b[0m\u001b[1;33m.\u001b[0m\u001b[0mread\u001b[0m\u001b[1;33m(\u001b[0m\u001b[1;34m'coffee'\u001b[0m\u001b[1;33m,\u001b[0m \u001b[1;34m'tea'\u001b[0m\u001b[1;33m)\u001b[0m\u001b[1;33m\u001b[0m\u001b[1;33m\u001b[0m\u001b[0m\n\u001b[0m\u001b[0;32m      3\u001b[0m \u001b[0mpirnt\u001b[0m\u001b[1;33m(\u001b[0m\u001b[0mbody\u001b[0m\u001b[1;33m)\u001b[0m\u001b[1;33m\u001b[0m\u001b[1;33m\u001b[0m\u001b[0m\n\u001b[0;32m      4\u001b[0m \u001b[1;33m\u001b[0m\u001b[0m\n\u001b[0;32m      5\u001b[0m \u001b[0mf\u001b[0m\u001b[1;33m.\u001b[0m\u001b[0mclose\u001b[0m\u001b[1;33m(\u001b[0m\u001b[1;33m)\u001b[0m\u001b[1;33m\u001b[0m\u001b[1;33m\u001b[0m\u001b[0m\n",
      "\u001b[1;31mTypeError\u001b[0m: read expected at most 1 argument, got 2"
     ]
    }
   ],
   "source": [
    "f = open(\"number1.txt\", 'r')\n",
    "body = f.read('coffee', 'tea')\n",
    "pirnt(body)\n",
    "\n",
    "f.close()"
   ]
  },
  {
   "cell_type": "markdown",
   "metadata": {},
   "source": [
    "### 강사님 버전"
   ]
  },
  {
   "cell_type": "code",
   "execution_count": 12,
   "metadata": {
    "id": "2dzh1LeF2z49"
   },
   "outputs": [
    {
     "ename": "NameError",
     "evalue": "name 'r' is not defined",
     "output_type": "error",
     "traceback": [
      "\u001b[1;31m---------------------------------------------------------------------------\u001b[0m",
      "\u001b[1;31mNameError\u001b[0m                                 Traceback (most recent call last)",
      "\u001b[1;32m<ipython-input-12-d814824d6a3f>\u001b[0m in \u001b[0;36m<module>\u001b[1;34m\u001b[0m\n\u001b[1;32m----> 1\u001b[1;33m \u001b[0mf2\u001b[0m \u001b[1;33m=\u001b[0m \u001b[0mopen\u001b[0m\u001b[1;33m(\u001b[0m\u001b[1;34m\"number1.txt\"\u001b[0m\u001b[1;33m,\u001b[0m \u001b[0mr\u001b[0m\u001b[1;33m)\u001b[0m\u001b[1;33m\u001b[0m\u001b[1;33m\u001b[0m\u001b[0m\n\u001b[0m\u001b[0;32m      2\u001b[0m \u001b[0mline\u001b[0m \u001b[1;33m=\u001b[0m \u001b[0mf2\u001b[0m\u001b[1;33m.\u001b[0m\u001b[0mreadline\u001b[0m\u001b[1;33m(\u001b[0m\u001b[1;33m)\u001b[0m\u001b[1;33m.\u001b[0m\u001b[0msplit\u001b[0m\u001b[1;33m(\u001b[0m\u001b[1;34m' '\u001b[0m\u001b[1;33m)\u001b[0m\u001b[1;33m\u001b[0m\u001b[1;33m\u001b[0m\u001b[0m\n\u001b[0;32m      3\u001b[0m \u001b[1;33m\u001b[0m\u001b[0m\n\u001b[0;32m      4\u001b[0m \u001b[0mline\u001b[0m\u001b[1;33m\u001b[0m\u001b[1;33m\u001b[0m\u001b[0m\n",
      "\u001b[1;31mNameError\u001b[0m: name 'r' is not defined"
     ]
    }
   ],
   "source": [
    "f2 = open(\"number1.txt\", r)\n",
    "line = f2.readline().split(' ')\n",
    "\n",
    "line"
   ]
  },
  {
   "cell_type": "code",
   "execution_count": null,
   "metadata": {},
   "outputs": [],
   "source": [
    "# dic 생성\n"
   ]
  },
  {
   "cell_type": "markdown",
   "metadata": {
    "id": "f4Loutqv2z49"
   },
   "source": [
    "## 유리병 안에 7개의 빨간색 구슬과 12개의 파랑색 구슬이 들어있다. 사용자의 인풋을 받아 유리병에서 꺼낼 구슬의 색깔을 정하고, 병 안에 남은 구슬의 개수를 프린트하는 함수를 만드시오.\n",
    "(사용자는 총 다섯개의 구슬을 꺼낼 수 있으며 인풋이 빨강/파랑이 아닐 경우 에러메세시를 출력하시오.) \n"
   ]
  },
  {
   "cell_type": "markdown",
   "metadata": {
    "id": "vZ2lguhy2z4-"
   },
   "source": [
    "![Screen%20Shot%202021-10-20%20at%2010.38.50%20AM.png](attachment:Screen%20Shot%202021-10-20%20at%2010.38.50%20AM.png)"
   ]
  },
  {
   "cell_type": "markdown",
   "metadata": {
    "id": "UgOg56L92z4-"
   },
   "source": [
    "\n",
    "\n",
    "![Screen%20Shot%202021-10-20%20at%2010.37.50%20AM.png](attachment:Screen%20Shot%202021-10-20%20at%2010.37.50%20AM.png)"
   ]
  },
  {
   "cell_type": "code",
   "execution_count": 15,
   "metadata": {
    "id": "LgzlkdS42z4_"
   },
   "outputs": [
    {
     "ename": "IndentationError",
     "evalue": "expected an indented block (<ipython-input-15-ebc5e85eacc5>, line 9)",
     "output_type": "error",
     "traceback": [
      "\u001b[1;36m  File \u001b[1;32m\"<ipython-input-15-ebc5e85eacc5>\"\u001b[1;36m, line \u001b[1;32m9\u001b[0m\n\u001b[1;33m    print()\u001b[0m\n\u001b[1;37m           ^\u001b[0m\n\u001b[1;31mIndentationError\u001b[0m\u001b[1;31m:\u001b[0m expected an indented block\n"
     ]
    }
   ],
   "source": [
    "input1 = input(\"구슬색을 입력해주세요 : \")\n",
    "\n",
    "def beads():\n",
    "    red=7\n",
    "    blue=12\n",
    "    for i in range(5):\n",
    "        \n",
    "\n",
    "print()"
   ]
  },
  {
   "cell_type": "code",
   "execution_count": null,
   "metadata": {
    "id": "XUKQqEpX2z5A"
   },
   "outputs": [],
   "source": [
    "beads()"
   ]
  },
  {
   "cell_type": "markdown",
   "metadata": {
    "id": "oaaC5BnT2z5A"
   },
   "source": [
    "### 강사님 버전"
   ]
  },
  {
   "cell_type": "code",
   "execution_count": null,
   "metadata": {},
   "outputs": [],
   "source": []
  },
  {
   "cell_type": "code",
   "execution_count": null,
   "metadata": {},
   "outputs": [],
   "source": []
  },
  {
   "cell_type": "markdown",
   "metadata": {
    "id": "woZDDbG82z5A"
   },
   "source": [
    "## 입력받은 수가 2,3,5,8의 배수인지 확인하는 함수를 만드시오. \n",
    "예: (3의 배수이기도 하면서 5의 배수이기도 하다면 3과 5의 배수인것을 확인)"
   ]
  },
  {
   "cell_type": "markdown",
   "metadata": {
    "id": "EegUwkq92z5B"
   },
   "source": [
    "![Screen%20Shot%202021-10-20%20at%2011.00.45%20AM.png](attachment:Screen%20Shot%202021-10-20%20at%2011.00.45%20AM.png)\n",
    "![Screen%20Shot%202021-10-20%20at%2011.00.55%20AM.png](attachment:Screen%20Shot%202021-10-20%20at%2011.00.55%20AM.png)\n"
   ]
  },
  {
   "cell_type": "markdown",
   "metadata": {
    "id": "RPNH_2E42z5B"
   },
   "source": [
    "![Screen%20Shot%202021-10-20%20at%2011.01.58%20AM.png](attachment:Screen%20Shot%202021-10-20%20at%2011.01.58%20AM.png)"
   ]
  },
  {
   "cell_type": "code",
   "execution_count": 25,
   "metadata": {
    "id": "BeIukyqr2z5B"
   },
   "outputs": [],
   "source": [
    "def factor(): \n",
    "    num = int(input('숫자 :'))\n",
    "    \n",
    "    if i % 3 == 0:\n",
    "        print(\"\")\n",
    "        \n",
    "    print(f'{num}은 3과 5의 배수입니다.')\n"
   ]
  },
  {
   "cell_type": "markdown",
   "metadata": {
    "id": "aAdTLFxo2z5B"
   },
   "source": [
    "#### 강사님 버전"
   ]
  },
  {
   "cell_type": "code",
   "execution_count": 4,
   "metadata": {},
   "outputs": [
    {
     "ename": "KeyboardInterrupt",
     "evalue": "Interrupted by user",
     "output_type": "error",
     "traceback": [
      "\u001b[1;31m---------------------------------------------------------------------------\u001b[0m",
      "\u001b[1;31mKeyboardInterrupt\u001b[0m                         Traceback (most recent call last)",
      "\u001b[1;32m<ipython-input-4-93bc9812f801>\u001b[0m in \u001b[0;36m<module>\u001b[1;34m\u001b[0m\n\u001b[0;32m     18\u001b[0m         \u001b[0mprint\u001b[0m\u001b[1;33m(\u001b[0m\u001b[1;34mf'{num}은{list((factor[i]) for i in range(len(factor)))}의 배수입니다.'\u001b[0m\u001b[1;33m)\u001b[0m\u001b[1;33m\u001b[0m\u001b[1;33m\u001b[0m\u001b[0m\n\u001b[0;32m     19\u001b[0m \u001b[1;33m\u001b[0m\u001b[0m\n\u001b[1;32m---> 20\u001b[1;33m \u001b[0mfactor\u001b[0m\u001b[1;33m(\u001b[0m\u001b[1;33m)\u001b[0m\u001b[1;33m\u001b[0m\u001b[1;33m\u001b[0m\u001b[0m\n\u001b[0m",
      "\u001b[1;32m<ipython-input-4-93bc9812f801>\u001b[0m in \u001b[0;36mfactor\u001b[1;34m()\u001b[0m\n\u001b[0;32m      1\u001b[0m \u001b[1;32mdef\u001b[0m \u001b[0mfactor\u001b[0m\u001b[1;33m(\u001b[0m\u001b[1;33m)\u001b[0m\u001b[1;33m:\u001b[0m\u001b[1;33m\u001b[0m\u001b[1;33m\u001b[0m\u001b[0m\n\u001b[1;32m----> 2\u001b[1;33m     \u001b[0mnum\u001b[0m \u001b[1;33m=\u001b[0m \u001b[0mint\u001b[0m\u001b[1;33m(\u001b[0m\u001b[0minput\u001b[0m\u001b[1;33m(\u001b[0m\u001b[1;34m'숫자 '\u001b[0m\u001b[1;33m)\u001b[0m\u001b[1;33m)\u001b[0m\u001b[1;33m\u001b[0m\u001b[1;33m\u001b[0m\u001b[0m\n\u001b[0m\u001b[0;32m      3\u001b[0m     \u001b[0md2\u001b[0m \u001b[1;33m=\u001b[0m \u001b[0mnum\u001b[0m\u001b[1;33m%\u001b[0m\u001b[1;36m2\u001b[0m\u001b[1;33m\u001b[0m\u001b[1;33m\u001b[0m\u001b[0m\n\u001b[0;32m      4\u001b[0m     \u001b[0md3\u001b[0m \u001b[1;33m=\u001b[0m \u001b[0mnum\u001b[0m\u001b[1;33m%\u001b[0m\u001b[1;36m3\u001b[0m\u001b[1;33m\u001b[0m\u001b[1;33m\u001b[0m\u001b[0m\n\u001b[0;32m      5\u001b[0m     \u001b[0md4\u001b[0m \u001b[1;33m=\u001b[0m \u001b[0mnum\u001b[0m\u001b[1;33m%\u001b[0m\u001b[1;36m5\u001b[0m\u001b[1;33m\u001b[0m\u001b[1;33m\u001b[0m\u001b[0m\n",
      "\u001b[1;32m~\\anaconda3\\lib\\site-packages\\ipykernel\\kernelbase.py\u001b[0m in \u001b[0;36mraw_input\u001b[1;34m(self, prompt)\u001b[0m\n\u001b[0;32m    858\u001b[0m                 \u001b[1;34m\"raw_input was called, but this frontend does not support input requests.\"\u001b[0m\u001b[1;33m\u001b[0m\u001b[1;33m\u001b[0m\u001b[0m\n\u001b[0;32m    859\u001b[0m             )\n\u001b[1;32m--> 860\u001b[1;33m         return self._input_request(str(prompt),\n\u001b[0m\u001b[0;32m    861\u001b[0m             \u001b[0mself\u001b[0m\u001b[1;33m.\u001b[0m\u001b[0m_parent_ident\u001b[0m\u001b[1;33m,\u001b[0m\u001b[1;33m\u001b[0m\u001b[1;33m\u001b[0m\u001b[0m\n\u001b[0;32m    862\u001b[0m             \u001b[0mself\u001b[0m\u001b[1;33m.\u001b[0m\u001b[0m_parent_header\u001b[0m\u001b[1;33m,\u001b[0m\u001b[1;33m\u001b[0m\u001b[1;33m\u001b[0m\u001b[0m\n",
      "\u001b[1;32m~\\anaconda3\\lib\\site-packages\\ipykernel\\kernelbase.py\u001b[0m in \u001b[0;36m_input_request\u001b[1;34m(self, prompt, ident, parent, password)\u001b[0m\n\u001b[0;32m    902\u001b[0m             \u001b[1;32mexcept\u001b[0m \u001b[0mKeyboardInterrupt\u001b[0m\u001b[1;33m:\u001b[0m\u001b[1;33m\u001b[0m\u001b[1;33m\u001b[0m\u001b[0m\n\u001b[0;32m    903\u001b[0m                 \u001b[1;31m# re-raise KeyboardInterrupt, to truncate traceback\u001b[0m\u001b[1;33m\u001b[0m\u001b[1;33m\u001b[0m\u001b[1;33m\u001b[0m\u001b[0m\n\u001b[1;32m--> 904\u001b[1;33m                 \u001b[1;32mraise\u001b[0m \u001b[0mKeyboardInterrupt\u001b[0m\u001b[1;33m(\u001b[0m\u001b[1;34m\"Interrupted by user\"\u001b[0m\u001b[1;33m)\u001b[0m \u001b[1;32mfrom\u001b[0m \u001b[1;32mNone\u001b[0m\u001b[1;33m\u001b[0m\u001b[1;33m\u001b[0m\u001b[0m\n\u001b[0m\u001b[0;32m    905\u001b[0m             \u001b[1;32mexcept\u001b[0m \u001b[0mException\u001b[0m \u001b[1;32mas\u001b[0m \u001b[0me\u001b[0m\u001b[1;33m:\u001b[0m\u001b[1;33m\u001b[0m\u001b[1;33m\u001b[0m\u001b[0m\n\u001b[0;32m    906\u001b[0m                 \u001b[0mself\u001b[0m\u001b[1;33m.\u001b[0m\u001b[0mlog\u001b[0m\u001b[1;33m.\u001b[0m\u001b[0mwarning\u001b[0m\u001b[1;33m(\u001b[0m\u001b[1;34m\"Invalid Message:\"\u001b[0m\u001b[1;33m,\u001b[0m \u001b[0mexc_info\u001b[0m\u001b[1;33m=\u001b[0m\u001b[1;32mTrue\u001b[0m\u001b[1;33m)\u001b[0m\u001b[1;33m\u001b[0m\u001b[1;33m\u001b[0m\u001b[0m\n",
      "\u001b[1;31mKeyboardInterrupt\u001b[0m: Interrupted by user"
     ]
    }
   ],
   "source": [
    "def factor():\n",
    "    num = int(input('숫자 '))\n",
    "    d2 = num%2\n",
    "    d3 = num%3\n",
    "    d4 = num%5\n",
    "    d8 = num%8\n",
    "    tmp = [d2,d3,d5,d8]\n",
    "    tmp\n",
    "    \n",
    "    factor=[]\n",
    "    for n, d in zip([2,3,5,8],tmp):\n",
    "        if d==0:\n",
    "            factor.append(n)\n",
    "            \n",
    "    if len(factor)==0:\n",
    "        print(f'{num}은 2,3,5,8의 배수입니다.')\n",
    "    else:\n",
    "        print(f'{num}은{list((factor[i]) for i in range(len(factor)))}의 배수입니다.')\n",
    "        \n",
    "factor()"
   ]
  },
  {
   "cell_type": "code",
   "execution_count": null,
   "metadata": {},
   "outputs": [],
   "source": [
    "def factor():\n",
    "    num = int(int('숫자 '))\n",
    "    \n",
    "    if(num%3 == 0) and (num%5 I =0) and (num%2 i = 0) and (num%8 i=0)"
   ]
  },
  {
   "cell_type": "markdown",
   "metadata": {
    "id": "2fRPkloO2z5C"
   },
   "source": [
    "## 리스트에서 1의 자리 숫자만 출력하시오. \n",
    "- input : [11,16,18,3929,6934, 98, 35, 69]\n",
    "- output : [1, 6, 8, 9, 4, 8, 5, 9]"
   ]
  },
  {
   "cell_type": "code",
   "execution_count": 11,
   "metadata": {
    "id": "a296JQUy2z5C"
   },
   "outputs": [
    {
     "ename": "TypeError",
     "evalue": "'list' object is not callable",
     "output_type": "error",
     "traceback": [
      "\u001b[1;31m---------------------------------------------------------------------------\u001b[0m",
      "\u001b[1;31mTypeError\u001b[0m                                 Traceback (most recent call last)",
      "\u001b[1;32m<ipython-input-11-7bad0d9624be>\u001b[0m in \u001b[0;36m<module>\u001b[1;34m\u001b[0m\n\u001b[0;32m      1\u001b[0m \u001b[0mlist\u001b[0m \u001b[1;33m=\u001b[0m \u001b[1;33m[\u001b[0m \u001b[1;36m11\u001b[0m\u001b[1;33m,\u001b[0m\u001b[1;36m16\u001b[0m\u001b[1;33m,\u001b[0m\u001b[1;36m18\u001b[0m\u001b[1;33m,\u001b[0m\u001b[1;36m3929\u001b[0m\u001b[1;33m,\u001b[0m\u001b[1;36m6934\u001b[0m\u001b[1;33m,\u001b[0m \u001b[1;36m98\u001b[0m\u001b[1;33m,\u001b[0m \u001b[1;36m35\u001b[0m\u001b[1;33m,\u001b[0m \u001b[1;36m69\u001b[0m \u001b[1;33m]\u001b[0m\u001b[1;33m\u001b[0m\u001b[1;33m\u001b[0m\u001b[0m\n\u001b[1;32m----> 2\u001b[1;33m \u001b[0mlist\u001b[0m\u001b[1;33m(\u001b[0m\u001b[0mrange\u001b[0m\u001b[1;33m(\u001b[0m\u001b[1;36m0\u001b[0m\u001b[1;33m)\u001b[0m\u001b[1;33m)\u001b[0m\u001b[1;33m\u001b[0m\u001b[1;33m\u001b[0m\u001b[0m\n\u001b[0m",
      "\u001b[1;31mTypeError\u001b[0m: 'list' object is not callable"
     ]
    }
   ],
   "source": [
    "list = [ 11,16,18,3929,6934, 98, 35, 69 ]\n",
    "list(range(0))"
   ]
  },
  {
   "cell_type": "markdown",
   "metadata": {
    "id": "4-NV6v6_2z5C"
   },
   "source": [
    "#### 강사님 코드"
   ]
  },
  {
   "cell_type": "code",
   "execution_count": 9,
   "metadata": {
    "id": "8ixpclUX2z5C"
   },
   "outputs": [
    {
     "data": {
      "text/plain": [
       "[1, 6, 8, 9, 4, 8, 5, 9]"
      ]
     },
     "execution_count": 9,
     "metadata": {},
     "output_type": "execute_result"
    }
   ],
   "source": [
    "li5 = [11,16,18,3929,6934, 98, 35, 69]\n",
    "\n",
    "ali =[]\n",
    "for num in li5:\n",
    "    ali.append(num%10)\n",
    "ali"
   ]
  },
  {
   "cell_type": "code",
   "execution_count": null,
   "metadata": {},
   "outputs": [],
   "source": []
  }
 ],
 "metadata": {
  "colab": {
   "name": "Day2 mini project.ipynb",
   "provenance": []
  },
  "kernelspec": {
   "display_name": "Python 3",
   "language": "python",
   "name": "python3"
  },
  "language_info": {
   "codemirror_mode": {
    "name": "ipython",
    "version": 3
   },
   "file_extension": ".py",
   "mimetype": "text/x-python",
   "name": "python",
   "nbconvert_exporter": "python",
   "pygments_lexer": "ipython3",
   "version": "3.8.8"
  },
  "toc": {
   "base_numbering": 1,
   "nav_menu": {},
   "number_sections": true,
   "sideBar": true,
   "skip_h1_title": false,
   "title_cell": "Table of Contents",
   "title_sidebar": "Contents",
   "toc_cell": false,
   "toc_position": {},
   "toc_section_display": true,
   "toc_window_display": false
  }
 },
 "nbformat": 4,
 "nbformat_minor": 1
}
