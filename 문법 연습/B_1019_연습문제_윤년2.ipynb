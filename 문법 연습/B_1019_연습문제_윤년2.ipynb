{
 "cells": [
  {
   "cell_type": "code",
   "execution_count": null,
   "id": "b845613c",
   "metadata": {},
   "outputs": [
    {
     "name": "stdout",
     "output_type": "stream",
     "text": [
      "1990\n",
      "년은 평년입니다\n",
      "2014\n",
      "년은 평년입니다\n",
      "2021\n",
      "년은 평년입니다\n",
      "2022\n",
      "년은 평년입니다\n",
      "2023\n",
      "년은 평년입니다\n",
      "1988\n",
      "년은 윤년입니다\n",
      "1000\n",
      "년은 평년입니다\n"
     ]
    }
   ],
   "source": [
    "while True:\n",
    "    isleapyear = None\n",
    "\n",
    "    year = int(input())\n",
    "\n",
    "    if year % 4 == 0:\n",
    "        if year % 100 == 0:\n",
    "            if year % 400 == 0:\n",
    "                isleapyear = True\n",
    "            else:\n",
    "                isleapyear = False\n",
    "        else:\n",
    "            isleapyear = True\n",
    "    else:\n",
    "        isleapyear = False\n",
    "\n",
    "    if isleapyear:\n",
    "        print('년은 윤년입니다')\n",
    "    else:\n",
    "        print('년은 평년입니다')"
   ]
  },
  {
   "cell_type": "code",
   "execution_count": null,
   "id": "8ffa6587",
   "metadata": {},
   "outputs": [],
   "source": []
  },
  {
   "cell_type": "code",
   "execution_count": null,
   "id": "d69cece7",
   "metadata": {},
   "outputs": [],
   "source": []
  }
 ],
 "metadata": {
  "kernelspec": {
   "display_name": "Python 3",
   "language": "python",
   "name": "python3"
  },
  "language_info": {
   "codemirror_mode": {
    "name": "ipython",
    "version": 3
   },
   "file_extension": ".py",
   "mimetype": "text/x-python",
   "name": "python",
   "nbconvert_exporter": "python",
   "pygments_lexer": "ipython3",
   "version": "3.8.8"
  }
 },
 "nbformat": 4,
 "nbformat_minor": 5
}
