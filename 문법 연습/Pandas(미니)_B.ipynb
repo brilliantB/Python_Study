{
 "cells": [
  {
   "cell_type": "markdown",
   "id": "ac12e407",
   "metadata": {},
   "source": [
    "# 미니 프로젝트\n",
    "1. 주어진 데이터를 보고 데이터 프레임을 생성하고 데이터 프레임 출력하기\n",
    "2. DataFrame() 함수를 사용하고 지점명을 인덱스로 설정하여 변수 df에 저장하기\n",
    "3. loc 인덱서를 사용하여 서울지점의 행 데이터만 선택하여 출력하기\n",
    "4. iloc 인덱서를 사용하여 부산지점의 행 데이터만 선택하여 출력하기\n",
    "5. 기타는 프로그램 실행 결과 화면 참조"
   ]
  },
  {
   "cell_type": "code",
   "execution_count": 6,
   "id": "c2c3f5d2",
   "metadata": {},
   "outputs": [
    {
     "name": "stdout",
     "output_type": "stream",
     "text": [
      "Requirement already satisfied: numpy in c:\\users\\user\\anaconda3\\lib\\site-packages (1.20.1)\n"
     ]
    }
   ],
   "source": [
    "!pip install numpy"
   ]
  },
  {
   "cell_type": "code",
   "execution_count": 7,
   "id": "96a3a977",
   "metadata": {},
   "outputs": [],
   "source": [
    "import pandas as pd"
   ]
  },
  {
   "cell_type": "code",
   "execution_count": 25,
   "id": "174a3109",
   "metadata": {},
   "outputs": [
    {
     "name": "stdout",
     "output_type": "stream",
     "text": [
      "      컴퓨터  모니터  노트북  스마트폰\n",
      "서울지점  869  374  569   197\n",
      "부산지점  578  286  427    89\n",
      "제주지점  321  148  335    66\n",
      "\n",
      "\n"
     ]
    },
    {
     "data": {
      "text/html": [
       "<div>\n",
       "<style scoped>\n",
       "    .dataframe tbody tr th:only-of-type {\n",
       "        vertical-align: middle;\n",
       "    }\n",
       "\n",
       "    .dataframe tbody tr th {\n",
       "        vertical-align: top;\n",
       "    }\n",
       "\n",
       "    .dataframe thead th {\n",
       "        text-align: right;\n",
       "    }\n",
       "</style>\n",
       "<table border=\"1\" class=\"dataframe\">\n",
       "  <thead>\n",
       "    <tr style=\"text-align: right;\">\n",
       "      <th></th>\n",
       "      <th>컴퓨터</th>\n",
       "      <th>모니터</th>\n",
       "      <th>노트북</th>\n",
       "      <th>스마트폰</th>\n",
       "    </tr>\n",
       "  </thead>\n",
       "  <tbody>\n",
       "    <tr>\n",
       "      <th>서울지점</th>\n",
       "      <td>869</td>\n",
       "      <td>374</td>\n",
       "      <td>569</td>\n",
       "      <td>197</td>\n",
       "    </tr>\n",
       "    <tr>\n",
       "      <th>부산지점</th>\n",
       "      <td>578</td>\n",
       "      <td>286</td>\n",
       "      <td>427</td>\n",
       "      <td>89</td>\n",
       "    </tr>\n",
       "    <tr>\n",
       "      <th>제주지점</th>\n",
       "      <td>321</td>\n",
       "      <td>148</td>\n",
       "      <td>335</td>\n",
       "      <td>66</td>\n",
       "    </tr>\n",
       "  </tbody>\n",
       "</table>\n",
       "</div>"
      ],
      "text/plain": [
       "      컴퓨터  모니터  노트북  스마트폰\n",
       "서울지점  869  374  569   197\n",
       "부산지점  578  286  427    89\n",
       "제주지점  321  148  335    66"
      ]
     },
     "metadata": {},
     "output_type": "display_data"
    }
   ],
   "source": [
    "bio_data = {'컴퓨터':[869, 578, 321], \n",
    "            '모니터':[374, 286, 148], \n",
    "            '노트북':[569, 427, 335],\n",
    "            '스마트폰':[197, 89, 66]}\n",
    "\n",
    "df = pd.DataFrame(bio_data, index=['서울지점', '부산지점', '제주지점'])\n",
    "\n",
    "print(df)      \n",
    "print('\\n')\n",
    "display(df)    # 예쁘게 나온다, display 형태로 출력하려면 범위를 지정해줘야한다."
   ]
  },
  {
   "cell_type": "code",
   "execution_count": 26,
   "id": "f00b1948",
   "metadata": {},
   "outputs": [
    {
     "data": {
      "text/html": [
       "<div>\n",
       "<style scoped>\n",
       "    .dataframe tbody tr th:only-of-type {\n",
       "        vertical-align: middle;\n",
       "    }\n",
       "\n",
       "    .dataframe tbody tr th {\n",
       "        vertical-align: top;\n",
       "    }\n",
       "\n",
       "    .dataframe thead th {\n",
       "        text-align: right;\n",
       "    }\n",
       "</style>\n",
       "<table border=\"1\" class=\"dataframe\">\n",
       "  <thead>\n",
       "    <tr style=\"text-align: right;\">\n",
       "      <th></th>\n",
       "      <th>컴퓨터</th>\n",
       "      <th>모니터</th>\n",
       "      <th>노트북</th>\n",
       "      <th>스마트폰</th>\n",
       "    </tr>\n",
       "  </thead>\n",
       "  <tbody>\n",
       "    <tr>\n",
       "      <th>서울지점</th>\n",
       "      <td>869</td>\n",
       "      <td>374</td>\n",
       "      <td>569</td>\n",
       "      <td>197</td>\n",
       "    </tr>\n",
       "  </tbody>\n",
       "</table>\n",
       "</div>"
      ],
      "text/plain": [
       "      컴퓨터  모니터  노트북  스마트폰\n",
       "서울지점  869  374  569   197"
      ]
     },
     "execution_count": 26,
     "metadata": {},
     "output_type": "execute_result"
    }
   ],
   "source": [
    "df.loc[['서울지점']]"
   ]
  },
  {
   "cell_type": "code",
   "execution_count": 17,
   "id": "6e081cd4",
   "metadata": {},
   "outputs": [
    {
     "data": {
      "text/html": [
       "<div>\n",
       "<style scoped>\n",
       "    .dataframe tbody tr th:only-of-type {\n",
       "        vertical-align: middle;\n",
       "    }\n",
       "\n",
       "    .dataframe tbody tr th {\n",
       "        vertical-align: top;\n",
       "    }\n",
       "\n",
       "    .dataframe thead th {\n",
       "        text-align: right;\n",
       "    }\n",
       "</style>\n",
       "<table border=\"1\" class=\"dataframe\">\n",
       "  <thead>\n",
       "    <tr style=\"text-align: right;\">\n",
       "      <th></th>\n",
       "      <th>컴퓨터</th>\n",
       "      <th>모니터</th>\n",
       "      <th>노트북</th>\n",
       "      <th>스마트폰</th>\n",
       "    </tr>\n",
       "  </thead>\n",
       "  <tbody>\n",
       "    <tr>\n",
       "      <th>부산지점</th>\n",
       "      <td>578</td>\n",
       "      <td>286</td>\n",
       "      <td>427</td>\n",
       "      <td>89</td>\n",
       "    </tr>\n",
       "  </tbody>\n",
       "</table>\n",
       "</div>"
      ],
      "text/plain": [
       "      컴퓨터  모니터  노트북  스마트폰\n",
       "부산지점  578  286  427    89"
      ]
     },
     "execution_count": 17,
     "metadata": {},
     "output_type": "execute_result"
    }
   ],
   "source": [
    "df.iloc[[1]]"
   ]
  },
  {
   "cell_type": "code",
   "execution_count": 20,
   "id": "a439d75a",
   "metadata": {},
   "outputs": [
    {
     "data": {
      "text/html": [
       "<div>\n",
       "<style scoped>\n",
       "    .dataframe tbody tr th:only-of-type {\n",
       "        vertical-align: middle;\n",
       "    }\n",
       "\n",
       "    .dataframe tbody tr th {\n",
       "        vertical-align: top;\n",
       "    }\n",
       "\n",
       "    .dataframe thead th {\n",
       "        text-align: right;\n",
       "    }\n",
       "</style>\n",
       "<table border=\"1\" class=\"dataframe\">\n",
       "  <thead>\n",
       "    <tr style=\"text-align: right;\">\n",
       "      <th></th>\n",
       "      <th>컴퓨터</th>\n",
       "      <th>모니터</th>\n",
       "      <th>노트북</th>\n",
       "      <th>스마트폰</th>\n",
       "    </tr>\n",
       "  </thead>\n",
       "  <tbody>\n",
       "    <tr>\n",
       "      <th>제주지점</th>\n",
       "      <td>321</td>\n",
       "      <td>148</td>\n",
       "      <td>335</td>\n",
       "      <td>66</td>\n",
       "    </tr>\n",
       "  </tbody>\n",
       "</table>\n",
       "</div>"
      ],
      "text/plain": [
       "      컴퓨터  모니터  노트북  스마트폰\n",
       "제주지점  321  148  335    66"
      ]
     },
     "execution_count": 20,
     "metadata": {},
     "output_type": "execute_result"
    }
   ],
   "source": [
    "df.iloc[[2]]"
   ]
  },
  {
   "cell_type": "code",
   "execution_count": 28,
   "id": "a6fb1509",
   "metadata": {},
   "outputs": [
    {
     "name": "stdout",
     "output_type": "stream",
     "text": [
      "      컴퓨터  모니터  노트북  스마트폰\n",
      "서울지점  869  374  569   197\n",
      "부산지점  578  286  427    89\n",
      "제주지점  321  148  335    66\n",
      "\n",
      "\n",
      ">> loc 인덱서로 서울지점의 행 데이터 출력\n",
      "컴퓨터     869\n",
      "모니터     374\n",
      "노트북     569\n",
      "스마트폰    197\n",
      "Name: 서울지점, dtype: int64\n",
      "\n",
      "\n",
      ">> loc 인덱서로 제주지점의 행 데이터 출력\n",
      "컴퓨터     321\n",
      "모니터     148\n",
      "노트북     335\n",
      "스마트폰     66\n",
      "Name: 제주지점, dtype: int64\n",
      "\n",
      "\n"
     ]
    }
   ],
   "source": [
    "hw_data = {'컴퓨터':[869, 578, 321], '모니터':[374, 286, 148], \n",
    "           '노트북':[569, 427, 335], '스마트폰':[197, 89, 66]}\n",
    "\n",
    "# DataFrame() 함수를 사용하고 지점명 인덱스로 \n",
    "df = pd.DataFrame(hw_data, index=['서울지점', '부산지점', '제주지점'])\n",
    "\n",
    "# 데이터 프레임 df 출력\n",
    "print(df)\n",
    "print('\\n')\n",
    "\n",
    "print('>> loc 인덱서로 서울지점의 행 데이터 출력')\n",
    "search_01 = df.loc['서울지점']\n",
    "print(search_01)\n",
    "print('\\n')\n",
    "\n",
    "print('>> loc 인덱서로 제주지점의 행 데이터 출력')\n",
    "search_02 = df.iloc[2]\n",
    "print(search_02)\n",
    "print('\\n')"
   ]
  },
  {
   "cell_type": "markdown",
   "id": "31412fb0",
   "metadata": {},
   "source": [
    "## 열 데이터 선택\n",
    "### 특정 열 데이터만 선택하기\n",
    "- 데이터 프레임에서 '성명' 열데이터와 '나이' 열 데이터만 각각 따로 선택하여 출력되는 과정을 표현"
   ]
  },
  {
   "cell_type": "code",
   "execution_count": 39,
   "id": "9dbf6aa7",
   "metadata": {},
   "outputs": [
    {
     "data": {
      "text/html": [
       "<div>\n",
       "<style scoped>\n",
       "    .dataframe tbody tr th:only-of-type {\n",
       "        vertical-align: middle;\n",
       "    }\n",
       "\n",
       "    .dataframe tbody tr th {\n",
       "        vertical-align: top;\n",
       "    }\n",
       "\n",
       "    .dataframe thead th {\n",
       "        text-align: right;\n",
       "    }\n",
       "</style>\n",
       "<table border=\"1\" class=\"dataframe\">\n",
       "  <thead>\n",
       "    <tr style=\"text-align: right;\">\n",
       "      <th></th>\n",
       "      <th>성명</th>\n",
       "      <th>나이</th>\n",
       "      <th>성별</th>\n",
       "      <th>키</th>\n",
       "      <th>체중</th>\n",
       "    </tr>\n",
       "  </thead>\n",
       "  <tbody>\n",
       "    <tr>\n",
       "      <th>이겨레</th>\n",
       "      <td>이겨레</td>\n",
       "      <td>25</td>\n",
       "      <td>남</td>\n",
       "      <td>185</td>\n",
       "      <td>89</td>\n",
       "    </tr>\n",
       "    <tr>\n",
       "      <th>조약돌</th>\n",
       "      <td>조약돌</td>\n",
       "      <td>19</td>\n",
       "      <td>여</td>\n",
       "      <td>163</td>\n",
       "      <td>53</td>\n",
       "    </tr>\n",
       "  </tbody>\n",
       "</table>\n",
       "</div>"
      ],
      "text/plain": [
       "      성명  나이 성별    키  체중\n",
       "이겨레  이겨레  25  남  185  89\n",
       "조약돌  조약돌  19  여  163  53"
      ]
     },
     "metadata": {},
     "output_type": "display_data"
    },
    {
     "name": "stdout",
     "output_type": "stream",
     "text": [
      "<class 'pandas.core.frame.DataFrame'>\n"
     ]
    }
   ],
   "source": [
    "df =pd.DataFrame([['이겨레', 25, '남', 185, 89],\n",
    "                  ['조약돌', 19, '여', 163, 53]],\n",
    "                  index = ['이겨레', '조약돌'],  \n",
    "                  columns = ['성명', '나이', '성별', '키', '체중'])\n",
    "\n",
    "display(df)"
   ]
  },
  {
   "cell_type": "code",
   "execution_count": 41,
   "id": "3238bd31",
   "metadata": {},
   "outputs": [
    {
     "name": "stdout",
     "output_type": "stream",
     "text": [
      "    성명  나이 성별    키  체중\n",
      "0  이겨레  25  남  185  89\n",
      "1  조약돌  19  여  163  53\n",
      "\n",
      "\n"
     ]
    }
   ],
   "source": [
    "# 강사님 버전\n",
    "\n",
    "bio_data = {'성명' : ['이겨레', '조약돌'],\n",
    "            '나이':[25, 19], '성별':['남', '여'], \n",
    "            '키':[185, 163], '체중':[89, 53]}\n",
    "\n",
    "# DataFrame()함수를 사용하고 성멸을 인덱스로 설정하여 변수 df 에 저장\n",
    "df = pd.DataFrame(bio_data)\n",
    "\n",
    "print(df)       # 데이터 프레임 df 출력\n",
    "print('\\n')"
   ]
  },
  {
   "cell_type": "code",
   "execution_count": 45,
   "id": "1726e083",
   "metadata": {},
   "outputs": [
    {
     "name": "stdout",
     "output_type": "stream",
     "text": [
      "0    이겨레\n",
      "1    조약돌\n",
      "Name: 성명, dtype: object\n",
      "<class 'pandas.core.series.Series'>\n",
      "\n",
      "\n",
      "0    25\n",
      "1    19\n",
      "Name: 나이, dtype: int64\n",
      "<class 'pandas.core.series.Series'>\n"
     ]
    }
   ],
   "source": [
    "# 대괄호로 '성명' 열 데이터 선택\n",
    "name_01 = df['성명']     #'성명' 열 데이터만 선택\n",
    "print(name_01) \n",
    "print(type(name_01))\n",
    "print('\\n')\n",
    "\n",
    "# 도트(.)로 '나이' 열 데이터 선택\n",
    "age_01 = df.나이         #'나이' 열 데이터만 선택\n",
    "print(age_01)\n",
    "print(type(age_01))"
   ]
  },
  {
   "cell_type": "markdown",
   "id": "326ede78",
   "metadata": {},
   "source": [
    "### 특졍 열 데이터 2개 이상 선택하기"
   ]
  },
  {
   "cell_type": "code",
   "execution_count": 52,
   "id": "bcdd7073",
   "metadata": {},
   "outputs": [
    {
     "name": "stdout",
     "output_type": "stream",
     "text": [
      "    성명  나이 성별    키  체중\n",
      "0  이겨레  25  남  185  89\n",
      "1  조약돌  19  여  163  53\n",
      "\n",
      "\n",
      "    성명    키  체중\n",
      "0  이겨레  185  89\n",
      "1  조약돌  163  53\n",
      "\n",
      "\n",
      "   나이\n",
      "0  25\n",
      "1  19\n"
     ]
    }
   ],
   "source": [
    "bio_data = {'성명' : ['이겨레', '조약돌'],\n",
    "            '나이':[25, 19], '성별':['남', '여'], \n",
    "            '키':[185, 163], '체중':[89, 53]}\n",
    "\n",
    "df = pd.DataFrame(bio_data)\n",
    "\n",
    "print(df)      \n",
    "print('\\n')\n",
    "\n",
    "# 성명, 키, 체중 출력\n",
    "d1 = df[['성명', '키', '체중']]\n",
    "print(d1)\n",
    "print('\\n')\n",
    "\n",
    "# 나이 출력\n",
    "d2 = df[['나이']]\n",
    "print(d2)"
   ]
  },
  {
   "cell_type": "code",
   "execution_count": 55,
   "id": "bdf29f6a",
   "metadata": {},
   "outputs": [
    {
     "name": "stdout",
     "output_type": "stream",
     "text": [
      "    성명    키  체중\n",
      "0  이겨레  185  89\n",
      "1  조약돌  163  53\n",
      "<class 'pandas.core.frame.DataFrame'>\n",
      "\n",
      "\n",
      "   나이\n",
      "0  25\n",
      "1  19\n",
      "<class 'pandas.core.frame.DataFrame'>\n"
     ]
    }
   ],
   "source": [
    "# 강사님 버전\n",
    "# 이중 대괄호로 '성명', '키', '체중' 열 데이터만 선택\n",
    "name_02 = df[['성명', '키', '체중']]\n",
    "print(name_02)\n",
    "print(type(name_02))\n",
    "print('\\n')\n",
    "\n",
    "#이중 대괄호를 사용하여 '나이'를 시리즈가 아닌 데이터 프레임으로 반환\n",
    "age_02 = df[['나이']]\n",
    "print(age_02)\n",
    "print(type(age_02))"
   ]
  },
  {
   "cell_type": "markdown",
   "id": "70d8c3ef",
   "metadata": {},
   "source": [
    "## 예제 실습\n",
    "1. 주어진 데이터를 보고 데이터 프레임을 생성하고 데이터 프레임 출력하기\n",
    "2. 도트(.)를 사용하여 지점명에 대한 1개의 열 데이터만 선택하여 출력하기\n",
    "3. 대괄호([])를 사용하여 지점명과 노트북에 대한 2개의 열 데이터만 선택하여 출력하기\n",
    "4. 기타는 프로그램 실행 결과 화면 참조"
   ]
  },
  {
   "cell_type": "code",
   "execution_count": 75,
   "id": "7a0c8027",
   "metadata": {},
   "outputs": [
    {
     "data": {
      "text/html": [
       "<div>\n",
       "<style scoped>\n",
       "    .dataframe tbody tr th:only-of-type {\n",
       "        vertical-align: middle;\n",
       "    }\n",
       "\n",
       "    .dataframe tbody tr th {\n",
       "        vertical-align: top;\n",
       "    }\n",
       "\n",
       "    .dataframe thead th {\n",
       "        text-align: right;\n",
       "    }\n",
       "</style>\n",
       "<table border=\"1\" class=\"dataframe\">\n",
       "  <thead>\n",
       "    <tr style=\"text-align: right;\">\n",
       "      <th></th>\n",
       "      <th>지점명</th>\n",
       "      <th>컴퓨터</th>\n",
       "      <th>모니터</th>\n",
       "      <th>노트북</th>\n",
       "      <th>스마트폰</th>\n",
       "    </tr>\n",
       "  </thead>\n",
       "  <tbody>\n",
       "    <tr>\n",
       "      <th>0</th>\n",
       "      <td>서울지점</td>\n",
       "      <td>869</td>\n",
       "      <td>374</td>\n",
       "      <td>569</td>\n",
       "      <td>197</td>\n",
       "    </tr>\n",
       "    <tr>\n",
       "      <th>1</th>\n",
       "      <td>부산지점</td>\n",
       "      <td>578</td>\n",
       "      <td>286</td>\n",
       "      <td>427</td>\n",
       "      <td>89</td>\n",
       "    </tr>\n",
       "    <tr>\n",
       "      <th>2</th>\n",
       "      <td>제주지점</td>\n",
       "      <td>321</td>\n",
       "      <td>148</td>\n",
       "      <td>335</td>\n",
       "      <td>66</td>\n",
       "    </tr>\n",
       "  </tbody>\n",
       "</table>\n",
       "</div>"
      ],
      "text/plain": [
       "    지점명  컴퓨터  모니터  노트북  스마트폰\n",
       "0  서울지점  869  374  569   197\n",
       "1  부산지점  578  286  427    89\n",
       "2  제주지점  321  148  335    66"
      ]
     },
     "execution_count": 75,
     "metadata": {},
     "output_type": "execute_result"
    }
   ],
   "source": [
    "hw_data = {'지점명' : ['서울지점', '부산지점', '제주지점'],\n",
    "           '컴퓨터':[869, 578, 321], '모니터':[374, 286, 148], \n",
    "           '노트북':[569, 427, 335], '스마트폰':[197, 89, 66]}\n",
    "\n",
    "df = pd.DataFrame(hw_data)\n",
    "df"
   ]
  },
  {
   "cell_type": "code",
   "execution_count": 76,
   "id": "e55bd6e7",
   "metadata": {},
   "outputs": [
    {
     "data": {
      "text/plain": [
       "0    서울지점\n",
       "1    부산지점\n",
       "2    제주지점\n",
       "Name: 지점명, dtype: object"
      ]
     },
     "execution_count": 76,
     "metadata": {},
     "output_type": "execute_result"
    }
   ],
   "source": [
    "# 도트(.) 사용하여 1개 열데이터만 출력\n",
    "h1 = df['지점명']\n",
    "h1"
   ]
  },
  {
   "cell_type": "code",
   "execution_count": 78,
   "id": "0e15b4ae",
   "metadata": {},
   "outputs": [
    {
     "data": {
      "text/plain": [
       "0    서울지점\n",
       "1    부산지점\n",
       "2    제주지점\n",
       "Name: 지점명, dtype: object"
      ]
     },
     "execution_count": 78,
     "metadata": {},
     "output_type": "execute_result"
    }
   ],
   "source": [
    "df.지점명"
   ]
  },
  {
   "cell_type": "code",
   "execution_count": 79,
   "id": "dacb57d6",
   "metadata": {},
   "outputs": [
    {
     "data": {
      "text/html": [
       "<div>\n",
       "<style scoped>\n",
       "    .dataframe tbody tr th:only-of-type {\n",
       "        vertical-align: middle;\n",
       "    }\n",
       "\n",
       "    .dataframe tbody tr th {\n",
       "        vertical-align: top;\n",
       "    }\n",
       "\n",
       "    .dataframe thead th {\n",
       "        text-align: right;\n",
       "    }\n",
       "</style>\n",
       "<table border=\"1\" class=\"dataframe\">\n",
       "  <thead>\n",
       "    <tr style=\"text-align: right;\">\n",
       "      <th></th>\n",
       "      <th>지점명</th>\n",
       "      <th>노트북</th>\n",
       "    </tr>\n",
       "  </thead>\n",
       "  <tbody>\n",
       "    <tr>\n",
       "      <th>0</th>\n",
       "      <td>서울지점</td>\n",
       "      <td>569</td>\n",
       "    </tr>\n",
       "    <tr>\n",
       "      <th>1</th>\n",
       "      <td>부산지점</td>\n",
       "      <td>427</td>\n",
       "    </tr>\n",
       "    <tr>\n",
       "      <th>2</th>\n",
       "      <td>제주지점</td>\n",
       "      <td>335</td>\n",
       "    </tr>\n",
       "  </tbody>\n",
       "</table>\n",
       "</div>"
      ],
      "text/plain": [
       "    지점명  노트북\n",
       "0  서울지점  569\n",
       "1  부산지점  427\n",
       "2  제주지점  335"
      ]
     },
     "execution_count": 79,
     "metadata": {},
     "output_type": "execute_result"
    }
   ],
   "source": [
    "# 지점명, 노트북 출력\n",
    "h2 = df[['지점명', '노트북']]\n",
    "h2"
   ]
  },
  {
   "cell_type": "code",
   "execution_count": 81,
   "id": "84b929f9",
   "metadata": {},
   "outputs": [
    {
     "name": "stdout",
     "output_type": "stream",
     "text": [
      "    지점명  컴퓨터  모니터  노트북  스마트폰\n",
      "0  서울지점  869  374  569   197\n",
      "1  부산지점  578  286  427    89\n",
      "2  제주지점  321  148  335    66\n",
      "\n",
      "\n",
      ">>도트(.)를 사용하여 지점명에 대한 1개 열 데잍만 출력\n",
      "0    서울지점\n",
      "1    부산지점\n",
      "2    제주지점\n",
      "Name: 지점명, dtype: object\n",
      "<class 'pandas.core.series.Series'>\n",
      "\n",
      "\n",
      ">> 대괄호를 사용하여 지점명과 노트북에 대한 2개 열 데이터만 출력\n",
      "지점명     제주지점\n",
      "컴퓨터      321\n",
      "모니터      148\n",
      "노트북      335\n",
      "스마트폰      66\n",
      "Name: 2, dtype: object\n",
      "<class 'pandas.core.series.Series'>\n"
     ]
    }
   ],
   "source": [
    "# 강사님 버전\n",
    "hw_data = {'지점명' : ['서울지점', '부산지점', '제주지점'],\n",
    "           '컴퓨터':[869, 578, 321], '모니터':[374, 286, 148], \n",
    "           '노트북':[569, 427, 335], '스마트폰':[197, 89, 66]}\n",
    "\n",
    "# DataFrame() 함수를 사용하여 데이터 프레임을 변환하고 변수 df에 저장\n",
    "df = pd.DataFrame(hw_data)\n",
    "\n",
    "print(df)\n",
    "print('\\n')\n",
    "\n",
    "print('>>도트(.)를 사용하여 지점명에 대한 1개 열 데잍만 출력')\n",
    "search_01 = df.지점명\n",
    "print(search_01)\n",
    "print(type(search_01))\n",
    "print('\\n')\n",
    "\n",
    "print('>> 대괄호를 사용하여 지점명과 노트북에 대한 2개 열 데이터만 출력')\n",
    "search_02 = df.iloc[2]\n",
    "print(search_02)\n",
    "print(type(search_02))"
   ]
  },
  {
   "cell_type": "markdown",
   "id": "fccf7686",
   "metadata": {},
   "source": [
    "### 열 추가하기"
   ]
  },
  {
   "cell_type": "code",
   "execution_count": 91,
   "id": "16cfdafa",
   "metadata": {},
   "outputs": [
    {
     "data": {
      "text/html": [
       "<div>\n",
       "<style scoped>\n",
       "    .dataframe tbody tr th:only-of-type {\n",
       "        vertical-align: middle;\n",
       "    }\n",
       "\n",
       "    .dataframe tbody tr th {\n",
       "        vertical-align: top;\n",
       "    }\n",
       "\n",
       "    .dataframe thead th {\n",
       "        text-align: right;\n",
       "    }\n",
       "</style>\n",
       "<table border=\"1\" class=\"dataframe\">\n",
       "  <thead>\n",
       "    <tr style=\"text-align: right;\">\n",
       "      <th></th>\n",
       "      <th>성명</th>\n",
       "      <th>나이</th>\n",
       "      <th>성별</th>\n",
       "      <th>키</th>\n",
       "      <th>체중</th>\n",
       "    </tr>\n",
       "  </thead>\n",
       "  <tbody>\n",
       "    <tr>\n",
       "      <th>0</th>\n",
       "      <td>이겨레</td>\n",
       "      <td>25</td>\n",
       "      <td>남</td>\n",
       "      <td>185</td>\n",
       "      <td>89</td>\n",
       "    </tr>\n",
       "    <tr>\n",
       "      <th>1</th>\n",
       "      <td>조약돌</td>\n",
       "      <td>19</td>\n",
       "      <td>여</td>\n",
       "      <td>163</td>\n",
       "      <td>53</td>\n",
       "    </tr>\n",
       "  </tbody>\n",
       "</table>\n",
       "</div>"
      ],
      "text/plain": [
       "    성명  나이 성별    키  체중\n",
       "0  이겨레  25  남  185  89\n",
       "1  조약돌  19  여  163  53"
      ]
     },
     "execution_count": 91,
     "metadata": {},
     "output_type": "execute_result"
    }
   ],
   "source": [
    "# 데이터 프레임에 새로운 열 추가\n",
    "# 새로 추가하는 열 데이터의 값을 모두 0으로 대입\n",
    "\n",
    "bio_data = {'성명' : ['이겨레', '조약돌'],\n",
    "            '나이':[25, 19], '성별':['남', '여'], \n",
    "            '키':[185, 163], '체중':[89, 53]}\n",
    "\n",
    "df = pd.DataFrame(bio_data)\n",
    "df"
   ]
  },
  {
   "cell_type": "code",
   "execution_count": 92,
   "id": "39f28890",
   "metadata": {},
   "outputs": [
    {
     "data": {
      "text/html": [
       "<div>\n",
       "<style scoped>\n",
       "    .dataframe tbody tr th:only-of-type {\n",
       "        vertical-align: middle;\n",
       "    }\n",
       "\n",
       "    .dataframe tbody tr th {\n",
       "        vertical-align: top;\n",
       "    }\n",
       "\n",
       "    .dataframe thead th {\n",
       "        text-align: right;\n",
       "    }\n",
       "</style>\n",
       "<table border=\"1\" class=\"dataframe\">\n",
       "  <thead>\n",
       "    <tr style=\"text-align: right;\">\n",
       "      <th></th>\n",
       "      <th>성명</th>\n",
       "      <th>나이</th>\n",
       "      <th>성별</th>\n",
       "      <th>키</th>\n",
       "      <th>체중</th>\n",
       "      <th>BMI</th>\n",
       "    </tr>\n",
       "  </thead>\n",
       "  <tbody>\n",
       "    <tr>\n",
       "      <th>0</th>\n",
       "      <td>이겨레</td>\n",
       "      <td>25</td>\n",
       "      <td>남</td>\n",
       "      <td>185</td>\n",
       "      <td>89</td>\n",
       "      <td>0</td>\n",
       "    </tr>\n",
       "    <tr>\n",
       "      <th>1</th>\n",
       "      <td>조약돌</td>\n",
       "      <td>19</td>\n",
       "      <td>여</td>\n",
       "      <td>163</td>\n",
       "      <td>53</td>\n",
       "      <td>0</td>\n",
       "    </tr>\n",
       "  </tbody>\n",
       "</table>\n",
       "</div>"
      ],
      "text/plain": [
       "    성명  나이 성별    키  체중  BMI\n",
       "0  이겨레  25  남  185  89    0\n",
       "1  조약돌  19  여  163  53    0"
      ]
     },
     "execution_count": 92,
     "metadata": {},
     "output_type": "execute_result"
    }
   ],
   "source": [
    "# 새로운 'BMI' 열 추가하고 공통된 데이터 값은 모두 0으로 대입\n",
    "\n",
    "df['BMI'] = 0\n",
    "df"
   ]
  },
  {
   "cell_type": "code",
   "execution_count": 93,
   "id": "97e65882",
   "metadata": {},
   "outputs": [
    {
     "data": {
      "text/html": [
       "<div>\n",
       "<style scoped>\n",
       "    .dataframe tbody tr th:only-of-type {\n",
       "        vertical-align: middle;\n",
       "    }\n",
       "\n",
       "    .dataframe tbody tr th {\n",
       "        vertical-align: top;\n",
       "    }\n",
       "\n",
       "    .dataframe thead th {\n",
       "        text-align: right;\n",
       "    }\n",
       "</style>\n",
       "<table border=\"1\" class=\"dataframe\">\n",
       "  <thead>\n",
       "    <tr style=\"text-align: right;\">\n",
       "      <th></th>\n",
       "      <th>성명</th>\n",
       "      <th>나이</th>\n",
       "      <th>성별</th>\n",
       "      <th>키</th>\n",
       "      <th>체중</th>\n",
       "      <th>BMI</th>\n",
       "    </tr>\n",
       "  </thead>\n",
       "  <tbody>\n",
       "    <tr>\n",
       "      <th>0</th>\n",
       "      <td>이겨레</td>\n",
       "      <td>25</td>\n",
       "      <td>남</td>\n",
       "      <td>185</td>\n",
       "      <td>89</td>\n",
       "      <td>0</td>\n",
       "    </tr>\n",
       "    <tr>\n",
       "      <th>1</th>\n",
       "      <td>조약돌</td>\n",
       "      <td>19</td>\n",
       "      <td>여</td>\n",
       "      <td>163</td>\n",
       "      <td>53</td>\n",
       "      <td>0</td>\n",
       "    </tr>\n",
       "    <tr>\n",
       "      <th>2</th>\n",
       "      <td>0</td>\n",
       "      <td>0</td>\n",
       "      <td>0</td>\n",
       "      <td>0</td>\n",
       "      <td>0</td>\n",
       "      <td>0</td>\n",
       "    </tr>\n",
       "  </tbody>\n",
       "</table>\n",
       "</div>"
      ],
      "text/plain": [
       "    성명  나이 성별    키  체중  BMI\n",
       "0  이겨레  25  남  185  89    0\n",
       "1  조약돌  19  여  163  53    0\n",
       "2    0   0  0    0   0    0"
      ]
     },
     "execution_count": 93,
     "metadata": {},
     "output_type": "execute_result"
    }
   ],
   "source": [
    "# 데이터 프레임에 행을 추가하는 방법\n",
    "\n",
    "#2\n",
    "df.loc[2] = 0\n",
    "df"
   ]
  },
  {
   "cell_type": "code",
   "execution_count": 95,
   "id": "2682b21d",
   "metadata": {},
   "outputs": [
    {
     "data": {
      "text/html": [
       "<div>\n",
       "<style scoped>\n",
       "    .dataframe tbody tr th:only-of-type {\n",
       "        vertical-align: middle;\n",
       "    }\n",
       "\n",
       "    .dataframe tbody tr th {\n",
       "        vertical-align: top;\n",
       "    }\n",
       "\n",
       "    .dataframe thead th {\n",
       "        text-align: right;\n",
       "    }\n",
       "</style>\n",
       "<table border=\"1\" class=\"dataframe\">\n",
       "  <thead>\n",
       "    <tr style=\"text-align: right;\">\n",
       "      <th></th>\n",
       "      <th>성명</th>\n",
       "      <th>나이</th>\n",
       "      <th>성별</th>\n",
       "      <th>키</th>\n",
       "      <th>체중</th>\n",
       "      <th>BMI</th>\n",
       "    </tr>\n",
       "  </thead>\n",
       "  <tbody>\n",
       "    <tr>\n",
       "      <th>0</th>\n",
       "      <td>이겨레</td>\n",
       "      <td>25</td>\n",
       "      <td>남</td>\n",
       "      <td>185</td>\n",
       "      <td>89</td>\n",
       "      <td>0</td>\n",
       "    </tr>\n",
       "    <tr>\n",
       "      <th>1</th>\n",
       "      <td>조약돌</td>\n",
       "      <td>19</td>\n",
       "      <td>여</td>\n",
       "      <td>163</td>\n",
       "      <td>53</td>\n",
       "      <td>0</td>\n",
       "    </tr>\n",
       "    <tr>\n",
       "      <th>2</th>\n",
       "      <td>0</td>\n",
       "      <td>0</td>\n",
       "      <td>0</td>\n",
       "      <td>0</td>\n",
       "      <td>0</td>\n",
       "      <td>0</td>\n",
       "    </tr>\n",
       "    <tr>\n",
       "      <th>3</th>\n",
       "      <td>강산에</td>\n",
       "      <td>27</td>\n",
       "      <td>남</td>\n",
       "      <td>177</td>\n",
       "      <td>63</td>\n",
       "      <td>0</td>\n",
       "    </tr>\n",
       "  </tbody>\n",
       "</table>\n",
       "</div>"
      ],
      "text/plain": [
       "    성명  나이 성별    키  체중  BMI\n",
       "0  이겨레  25  남  185  89    0\n",
       "1  조약돌  19  여  163  53    0\n",
       "2    0   0  0    0   0    0\n",
       "3  강산에  27  남  177  63    0"
      ]
     },
     "execution_count": 95,
     "metadata": {},
     "output_type": "execute_result"
    }
   ],
   "source": [
    "#4\n",
    "\n",
    "df.loc[3] = ['강산에', 27, '남', 177, 63, 0]\n",
    "df"
   ]
  },
  {
   "cell_type": "markdown",
   "id": "96ee3c3b",
   "metadata": {},
   "source": [
    "### 단독 원소 선택하기"
   ]
  },
  {
   "cell_type": "code",
   "execution_count": 121,
   "id": "7a25ec86",
   "metadata": {},
   "outputs": [
    {
     "data": {
      "text/html": [
       "<div>\n",
       "<style scoped>\n",
       "    .dataframe tbody tr th:only-of-type {\n",
       "        vertical-align: middle;\n",
       "    }\n",
       "\n",
       "    .dataframe tbody tr th {\n",
       "        vertical-align: top;\n",
       "    }\n",
       "\n",
       "    .dataframe thead th {\n",
       "        text-align: right;\n",
       "    }\n",
       "</style>\n",
       "<table border=\"1\" class=\"dataframe\">\n",
       "  <thead>\n",
       "    <tr style=\"text-align: right;\">\n",
       "      <th></th>\n",
       "      <th>성명</th>\n",
       "      <th>나이</th>\n",
       "      <th>성별</th>\n",
       "      <th>키</th>\n",
       "      <th>체중</th>\n",
       "    </tr>\n",
       "  </thead>\n",
       "  <tbody>\n",
       "    <tr>\n",
       "      <th>0</th>\n",
       "      <td>이겨레</td>\n",
       "      <td>25</td>\n",
       "      <td>남</td>\n",
       "      <td>185</td>\n",
       "      <td>89</td>\n",
       "    </tr>\n",
       "    <tr>\n",
       "      <th>1</th>\n",
       "      <td>조약돌</td>\n",
       "      <td>19</td>\n",
       "      <td>여</td>\n",
       "      <td>163</td>\n",
       "      <td>53</td>\n",
       "    </tr>\n",
       "  </tbody>\n",
       "</table>\n",
       "</div>"
      ],
      "text/plain": [
       "    성명  나이 성별    키  체중\n",
       "0  이겨레  25  남  185  89\n",
       "1  조약돌  19  여  163  53"
      ]
     },
     "execution_count": 121,
     "metadata": {},
     "output_type": "execute_result"
    }
   ],
   "source": [
    "# 단독 원소를 선택하는 2가지 방법\n",
    "\n",
    "bio_data = {'성명' : ['이겨레', '조약돌'],\n",
    "            '나이':[25, 19], '성별':['남', '여'], \n",
    "            '키':[185, 163], '체중':[89, 53]}\n",
    "\n",
    "df = pd.DataFrame(bio_data)\n",
    "df"
   ]
  },
  {
   "cell_type": "code",
   "execution_count": 122,
   "id": "5f7d365d",
   "metadata": {},
   "outputs": [
    {
     "data": {
      "text/html": [
       "<div>\n",
       "<style scoped>\n",
       "    .dataframe tbody tr th:only-of-type {\n",
       "        vertical-align: middle;\n",
       "    }\n",
       "\n",
       "    .dataframe tbody tr th {\n",
       "        vertical-align: top;\n",
       "    }\n",
       "\n",
       "    .dataframe thead th {\n",
       "        text-align: right;\n",
       "    }\n",
       "</style>\n",
       "<table border=\"1\" class=\"dataframe\">\n",
       "  <thead>\n",
       "    <tr style=\"text-align: right;\">\n",
       "      <th></th>\n",
       "      <th>나이</th>\n",
       "      <th>성별</th>\n",
       "      <th>키</th>\n",
       "      <th>체중</th>\n",
       "    </tr>\n",
       "    <tr>\n",
       "      <th>성명</th>\n",
       "      <th></th>\n",
       "      <th></th>\n",
       "      <th></th>\n",
       "      <th></th>\n",
       "    </tr>\n",
       "  </thead>\n",
       "  <tbody>\n",
       "    <tr>\n",
       "      <th>이겨레</th>\n",
       "      <td>25</td>\n",
       "      <td>남</td>\n",
       "      <td>185</td>\n",
       "      <td>89</td>\n",
       "    </tr>\n",
       "    <tr>\n",
       "      <th>조약돌</th>\n",
       "      <td>19</td>\n",
       "      <td>여</td>\n",
       "      <td>163</td>\n",
       "      <td>53</td>\n",
       "    </tr>\n",
       "  </tbody>\n",
       "</table>\n",
       "</div>"
      ],
      "text/plain": [
       "     나이 성별    키  체중\n",
       "성명                 \n",
       "이겨레  25  남  185  89\n",
       "조약돌  19  여  163  53"
      ]
     },
     "execution_count": 122,
     "metadata": {},
     "output_type": "execute_result"
    }
   ],
   "source": [
    "# 단독 원소 선택하는 방법\n",
    "\n",
    "df.set_index('성명', inplace=True)\n",
    "df"
   ]
  },
  {
   "cell_type": "code",
   "execution_count": 125,
   "id": "f087b112",
   "metadata": {},
   "outputs": [
    {
     "data": {
      "text/html": [
       "<div>\n",
       "<style scoped>\n",
       "    .dataframe tbody tr th:only-of-type {\n",
       "        vertical-align: middle;\n",
       "    }\n",
       "\n",
       "    .dataframe tbody tr th {\n",
       "        vertical-align: top;\n",
       "    }\n",
       "\n",
       "    .dataframe thead th {\n",
       "        text-align: right;\n",
       "    }\n",
       "</style>\n",
       "<table border=\"1\" class=\"dataframe\">\n",
       "  <thead>\n",
       "    <tr style=\"text-align: right;\">\n",
       "      <th></th>\n",
       "      <th>나이</th>\n",
       "      <th>성별</th>\n",
       "      <th>키</th>\n",
       "      <th>체중</th>\n",
       "    </tr>\n",
       "    <tr>\n",
       "      <th>성명</th>\n",
       "      <th></th>\n",
       "      <th></th>\n",
       "      <th></th>\n",
       "      <th></th>\n",
       "    </tr>\n",
       "  </thead>\n",
       "  <tbody>\n",
       "    <tr>\n",
       "      <th>이겨레</th>\n",
       "      <td>25</td>\n",
       "      <td>남</td>\n",
       "      <td>185</td>\n",
       "      <td>89</td>\n",
       "    </tr>\n",
       "    <tr>\n",
       "      <th>조약돌</th>\n",
       "      <td>19</td>\n",
       "      <td>여</td>\n",
       "      <td>163</td>\n",
       "      <td>53</td>\n",
       "    </tr>\n",
       "  </tbody>\n",
       "</table>\n",
       "</div>"
      ],
      "text/plain": [
       "     나이 성별    키  체중\n",
       "성명                 \n",
       "이겨레  25  남  185  89\n",
       "조약돌  19  여  163  53"
      ]
     },
     "execution_count": 125,
     "metadata": {},
     "output_type": "execute_result"
    }
   ],
   "source": [
    "# 행과 열 이름 지정 : df.loc['행이름', '열이름']\n",
    "\n",
    "df.loc['이겨레', '키']\n",
    "df"
   ]
  },
  {
   "cell_type": "code",
   "execution_count": 126,
   "id": "c29b6136",
   "metadata": {},
   "outputs": [
    {
     "data": {
      "text/html": [
       "<div>\n",
       "<style scoped>\n",
       "    .dataframe tbody tr th:only-of-type {\n",
       "        vertical-align: middle;\n",
       "    }\n",
       "\n",
       "    .dataframe tbody tr th {\n",
       "        vertical-align: top;\n",
       "    }\n",
       "\n",
       "    .dataframe thead th {\n",
       "        text-align: right;\n",
       "    }\n",
       "</style>\n",
       "<table border=\"1\" class=\"dataframe\">\n",
       "  <thead>\n",
       "    <tr style=\"text-align: right;\">\n",
       "      <th></th>\n",
       "      <th>나이</th>\n",
       "      <th>성별</th>\n",
       "      <th>키</th>\n",
       "      <th>체중</th>\n",
       "    </tr>\n",
       "    <tr>\n",
       "      <th>성명</th>\n",
       "      <th></th>\n",
       "      <th></th>\n",
       "      <th></th>\n",
       "      <th></th>\n",
       "    </tr>\n",
       "  </thead>\n",
       "  <tbody>\n",
       "    <tr>\n",
       "      <th>이겨레</th>\n",
       "      <td>25</td>\n",
       "      <td>남</td>\n",
       "      <td>185</td>\n",
       "      <td>89</td>\n",
       "    </tr>\n",
       "    <tr>\n",
       "      <th>조약돌</th>\n",
       "      <td>19</td>\n",
       "      <td>여</td>\n",
       "      <td>163</td>\n",
       "      <td>53</td>\n",
       "    </tr>\n",
       "  </tbody>\n",
       "</table>\n",
       "</div>"
      ],
      "text/plain": [
       "     나이 성별    키  체중\n",
       "성명                 \n",
       "이겨레  25  남  185  89\n",
       "조약돌  19  여  163  53"
      ]
     },
     "execution_count": 126,
     "metadata": {},
     "output_type": "execute_result"
    }
   ],
   "source": [
    "# 행과 열 좌표 지정\n",
    "\n",
    "df.iloc[[0,1]]"
   ]
  },
  {
   "cell_type": "code",
   "execution_count": 127,
   "id": "5720b6c3",
   "metadata": {},
   "outputs": [
    {
     "data": {
      "text/plain": [
       "185"
      ]
     },
     "execution_count": 127,
     "metadata": {},
     "output_type": "execute_result"
    }
   ],
   "source": [
    "# 강사님 버전 1\n",
    "\n",
    "target_01 = df.loc['이겨레', '키']\n",
    "target_01"
   ]
  },
  {
   "cell_type": "code",
   "execution_count": 128,
   "id": "da24a2c8",
   "metadata": {},
   "outputs": [
    {
     "data": {
      "text/plain": [
       "185"
      ]
     },
     "execution_count": 128,
     "metadata": {},
     "output_type": "execute_result"
    }
   ],
   "source": [
    "# 강사님 버전 2\n",
    "\n",
    "target_02 = df.iloc[0, 2]\n",
    "target_02"
   ]
  },
  {
   "cell_type": "markdown",
   "id": "3df5e1c6",
   "metadata": {},
   "source": [
    "### 여러 개의 원소 선택하기"
   ]
  },
  {
   "cell_type": "code",
   "execution_count": 156,
   "id": "94ba676d",
   "metadata": {},
   "outputs": [
    {
     "data": {
      "text/html": [
       "<div>\n",
       "<style scoped>\n",
       "    .dataframe tbody tr th:only-of-type {\n",
       "        vertical-align: middle;\n",
       "    }\n",
       "\n",
       "    .dataframe tbody tr th {\n",
       "        vertical-align: top;\n",
       "    }\n",
       "\n",
       "    .dataframe thead th {\n",
       "        text-align: right;\n",
       "    }\n",
       "</style>\n",
       "<table border=\"1\" class=\"dataframe\">\n",
       "  <thead>\n",
       "    <tr style=\"text-align: right;\">\n",
       "      <th></th>\n",
       "      <th>성명</th>\n",
       "      <th>나이</th>\n",
       "      <th>성별</th>\n",
       "      <th>키</th>\n",
       "      <th>체중</th>\n",
       "    </tr>\n",
       "  </thead>\n",
       "  <tbody>\n",
       "    <tr>\n",
       "      <th>0</th>\n",
       "      <td>이겨레</td>\n",
       "      <td>25</td>\n",
       "      <td>남</td>\n",
       "      <td>185</td>\n",
       "      <td>89</td>\n",
       "    </tr>\n",
       "    <tr>\n",
       "      <th>1</th>\n",
       "      <td>조약돌</td>\n",
       "      <td>19</td>\n",
       "      <td>여</td>\n",
       "      <td>163</td>\n",
       "      <td>53</td>\n",
       "    </tr>\n",
       "  </tbody>\n",
       "</table>\n",
       "</div>"
      ],
      "text/plain": [
       "    성명  나이 성별    키  체중\n",
       "0  이겨레  25  남  185  89\n",
       "1  조약돌  19  여  163  53"
      ]
     },
     "execution_count": 156,
     "metadata": {},
     "output_type": "execute_result"
    }
   ],
   "source": [
    "bio_data = {'성명' : ['이겨레', '조약돌'],\n",
    "            '나이':[25, 19], '성별':['남', '여'], \n",
    "            '키':[185, 163], '체중':[89, 53]}\n",
    "\n",
    "df = pd.DataFrame(bio_data)\n",
    "df"
   ]
  },
  {
   "cell_type": "code",
   "execution_count": 157,
   "id": "07cca7c7",
   "metadata": {},
   "outputs": [
    {
     "name": "stdout",
     "output_type": "stream",
     "text": [
      "None\n",
      "\n",
      "\n",
      "키     185\n",
      "체중     89\n",
      "Name: 이겨레, dtype: object\n"
     ]
    }
   ],
   "source": [
    "d1 = df.set_index('성명', inplace=True)\n",
    "print(d1)\n",
    "print('\\n')\n",
    "\n",
    "d2 = df.iloc[0, [2, 3]]\n",
    "print(d2)"
   ]
  },
  {
   "cell_type": "code",
   "execution_count": 161,
   "id": "69e73e69",
   "metadata": {},
   "outputs": [
    {
     "data": {
      "text/html": [
       "<div>\n",
       "<style scoped>\n",
       "    .dataframe tbody tr th:only-of-type {\n",
       "        vertical-align: middle;\n",
       "    }\n",
       "\n",
       "    .dataframe tbody tr th {\n",
       "        vertical-align: top;\n",
       "    }\n",
       "\n",
       "    .dataframe thead th {\n",
       "        text-align: right;\n",
       "    }\n",
       "</style>\n",
       "<table border=\"1\" class=\"dataframe\">\n",
       "  <thead>\n",
       "    <tr style=\"text-align: right;\">\n",
       "      <th></th>\n",
       "      <th>키</th>\n",
       "      <th>체중</th>\n",
       "    </tr>\n",
       "    <tr>\n",
       "      <th>성명</th>\n",
       "      <th></th>\n",
       "      <th></th>\n",
       "    </tr>\n",
       "  </thead>\n",
       "  <tbody>\n",
       "    <tr>\n",
       "      <th>이겨레</th>\n",
       "      <td>185</td>\n",
       "      <td>89</td>\n",
       "    </tr>\n",
       "    <tr>\n",
       "      <th>조약돌</th>\n",
       "      <td>163</td>\n",
       "      <td>53</td>\n",
       "    </tr>\n",
       "  </tbody>\n",
       "</table>\n",
       "</div>"
      ],
      "text/plain": [
       "       키  체중\n",
       "성명          \n",
       "이겨레  185  89\n",
       "조약돌  163  53"
      ]
     },
     "execution_count": 161,
     "metadata": {},
     "output_type": "execute_result"
    }
   ],
   "source": [
    "# 데이터 프레임에서 2행 2열의 복수 개 특정 원소 선택 1\n",
    "\n",
    "d3 = df.iloc[[0,1], [2,3]]\n",
    "d3"
   ]
  },
  {
   "cell_type": "code",
   "execution_count": 163,
   "id": "525c590a",
   "metadata": {},
   "outputs": [
    {
     "data": {
      "text/html": [
       "<div>\n",
       "<style scoped>\n",
       "    .dataframe tbody tr th:only-of-type {\n",
       "        vertical-align: middle;\n",
       "    }\n",
       "\n",
       "    .dataframe tbody tr th {\n",
       "        vertical-align: top;\n",
       "    }\n",
       "\n",
       "    .dataframe thead th {\n",
       "        text-align: right;\n",
       "    }\n",
       "</style>\n",
       "<table border=\"1\" class=\"dataframe\">\n",
       "  <thead>\n",
       "    <tr style=\"text-align: right;\">\n",
       "      <th></th>\n",
       "      <th>나이</th>\n",
       "      <th>성별</th>\n",
       "      <th>키</th>\n",
       "      <th>체중</th>\n",
       "    </tr>\n",
       "    <tr>\n",
       "      <th>성명</th>\n",
       "      <th></th>\n",
       "      <th></th>\n",
       "      <th></th>\n",
       "      <th></th>\n",
       "    </tr>\n",
       "  </thead>\n",
       "  <tbody>\n",
       "    <tr>\n",
       "      <th>이겨레</th>\n",
       "      <td>25</td>\n",
       "      <td>남</td>\n",
       "      <td>185</td>\n",
       "      <td>89</td>\n",
       "    </tr>\n",
       "    <tr>\n",
       "      <th>조약돌</th>\n",
       "      <td>19</td>\n",
       "      <td>여</td>\n",
       "      <td>163</td>\n",
       "      <td>53</td>\n",
       "    </tr>\n",
       "  </tbody>\n",
       "</table>\n",
       "</div>"
      ],
      "text/plain": [
       "     나이 성별    키  체중\n",
       "성명                 \n",
       "이겨레  25  남  185  89\n",
       "조약돌  19  여  163  53"
      ]
     },
     "execution_count": 163,
     "metadata": {},
     "output_type": "execute_result"
    }
   ],
   "source": [
    "# 데이터 프레임에서 2행 2열의 복수 개 특정 원소 선택 2\n",
    "\n",
    "df. iloc[0:2, 2:]\n",
    "df"
   ]
  },
  {
   "cell_type": "code",
   "execution_count": 165,
   "id": "f6ed9c8b",
   "metadata": {},
   "outputs": [
    {
     "data": {
      "text/html": [
       "<div>\n",
       "<style scoped>\n",
       "    .dataframe tbody tr th:only-of-type {\n",
       "        vertical-align: middle;\n",
       "    }\n",
       "\n",
       "    .dataframe tbody tr th {\n",
       "        vertical-align: top;\n",
       "    }\n",
       "\n",
       "    .dataframe thead th {\n",
       "        text-align: right;\n",
       "    }\n",
       "</style>\n",
       "<table border=\"1\" class=\"dataframe\">\n",
       "  <thead>\n",
       "    <tr style=\"text-align: right;\">\n",
       "      <th></th>\n",
       "      <th>나이</th>\n",
       "      <th>성별</th>\n",
       "      <th>키</th>\n",
       "      <th>체중</th>\n",
       "    </tr>\n",
       "    <tr>\n",
       "      <th>성명</th>\n",
       "      <th></th>\n",
       "      <th></th>\n",
       "      <th></th>\n",
       "      <th></th>\n",
       "    </tr>\n",
       "  </thead>\n",
       "  <tbody>\n",
       "    <tr>\n",
       "      <th>이겨레</th>\n",
       "      <td>25</td>\n",
       "      <td>남</td>\n",
       "      <td>185</td>\n",
       "      <td>89</td>\n",
       "    </tr>\n",
       "    <tr>\n",
       "      <th>조약돌</th>\n",
       "      <td>19</td>\n",
       "      <td>여</td>\n",
       "      <td>163</td>\n",
       "      <td>53</td>\n",
       "    </tr>\n",
       "  </tbody>\n",
       "</table>\n",
       "</div>"
      ],
      "text/plain": [
       "     나이 성별    키  체중\n",
       "성명                 \n",
       "이겨레  25  남  185  89\n",
       "조약돌  19  여  163  53"
      ]
     },
     "execution_count": 165,
     "metadata": {},
     "output_type": "execute_result"
    }
   ],
   "source": [
    "# 강사님 버전\n",
    "# 데이터 프레임에서 2행 2열의 복수 개 특정 원소 선택 3\n",
    "\n",
    "df.loc[['이겨레', '조약돌'], ['키', '체중']]\n",
    "df"
   ]
  },
  {
   "cell_type": "markdown",
   "id": "72d5219e",
   "metadata": {},
   "source": [
    "### 열의 원소값 변경하기"
   ]
  },
  {
   "cell_type": "code",
   "execution_count": 172,
   "id": "f18b657f",
   "metadata": {},
   "outputs": [
    {
     "data": {
      "text/html": [
       "<div>\n",
       "<style scoped>\n",
       "    .dataframe tbody tr th:only-of-type {\n",
       "        vertical-align: middle;\n",
       "    }\n",
       "\n",
       "    .dataframe tbody tr th {\n",
       "        vertical-align: top;\n",
       "    }\n",
       "\n",
       "    .dataframe thead th {\n",
       "        text-align: right;\n",
       "    }\n",
       "</style>\n",
       "<table border=\"1\" class=\"dataframe\">\n",
       "  <thead>\n",
       "    <tr style=\"text-align: right;\">\n",
       "      <th></th>\n",
       "      <th>성명</th>\n",
       "      <th>나이</th>\n",
       "      <th>성별</th>\n",
       "      <th>키</th>\n",
       "      <th>체중</th>\n",
       "    </tr>\n",
       "  </thead>\n",
       "  <tbody>\n",
       "    <tr>\n",
       "      <th>0</th>\n",
       "      <td>이겨레</td>\n",
       "      <td>25</td>\n",
       "      <td>남</td>\n",
       "      <td>185</td>\n",
       "      <td>89</td>\n",
       "    </tr>\n",
       "    <tr>\n",
       "      <th>1</th>\n",
       "      <td>조약돌</td>\n",
       "      <td>19</td>\n",
       "      <td>여</td>\n",
       "      <td>163</td>\n",
       "      <td>53</td>\n",
       "    </tr>\n",
       "  </tbody>\n",
       "</table>\n",
       "</div>"
      ],
      "text/plain": [
       "    성명  나이 성별    키  체중\n",
       "0  이겨레  25  남  185  89\n",
       "1  조약돌  19  여  163  53"
      ]
     },
     "execution_count": 172,
     "metadata": {},
     "output_type": "execute_result"
    }
   ],
   "source": [
    "bio_data = {'성명' : ['이겨레', '조약돌'],\n",
    "            '나이':[25, 19], '성별':['남', '여'], \n",
    "            '키':[185, 163], '체중':[89, 53]}\n",
    "\n",
    "df = pd.DataFrame(bio_data)\n",
    "df"
   ]
  },
  {
   "cell_type": "code",
   "execution_count": 173,
   "id": "1b6ebded",
   "metadata": {},
   "outputs": [
    {
     "name": "stdout",
     "output_type": "stream",
     "text": [
      "     나이 성별    키  체중\n",
      "성명                 \n",
      "이겨레  25  남  185  89\n",
      "조약돌  19  여  163  53\n"
     ]
    }
   ],
   "source": [
    "# '성명' 열을 행 인덱스로 지정하고 새로운 열을 추가하기 전 데이터 프레임 출력\n",
    "df.set_index('성명', inplace=True)\n",
    "print(df)"
   ]
  },
  {
   "cell_type": "code",
   "execution_count": 180,
   "id": "4bc0d81e",
   "metadata": {},
   "outputs": [
    {
     "data": {
      "text/html": [
       "<div>\n",
       "<style scoped>\n",
       "    .dataframe tbody tr th:only-of-type {\n",
       "        vertical-align: middle;\n",
       "    }\n",
       "\n",
       "    .dataframe tbody tr th {\n",
       "        vertical-align: top;\n",
       "    }\n",
       "\n",
       "    .dataframe thead th {\n",
       "        text-align: right;\n",
       "    }\n",
       "</style>\n",
       "<table border=\"1\" class=\"dataframe\">\n",
       "  <thead>\n",
       "    <tr style=\"text-align: right;\">\n",
       "      <th></th>\n",
       "      <th>나이</th>\n",
       "      <th>성별</th>\n",
       "      <th>키</th>\n",
       "      <th>체중</th>\n",
       "      <th>BMI</th>\n",
       "    </tr>\n",
       "    <tr>\n",
       "      <th>성명</th>\n",
       "      <th></th>\n",
       "      <th></th>\n",
       "      <th></th>\n",
       "      <th></th>\n",
       "      <th></th>\n",
       "    </tr>\n",
       "  </thead>\n",
       "  <tbody>\n",
       "    <tr>\n",
       "      <th>이겨레</th>\n",
       "      <td>25</td>\n",
       "      <td>남</td>\n",
       "      <td>185</td>\n",
       "      <td>89</td>\n",
       "      <td>26.00</td>\n",
       "    </tr>\n",
       "    <tr>\n",
       "      <th>조약돌</th>\n",
       "      <td>19</td>\n",
       "      <td>여</td>\n",
       "      <td>163</td>\n",
       "      <td>53</td>\n",
       "      <td>19.95</td>\n",
       "    </tr>\n",
       "    <tr>\n",
       "      <th>BMI</th>\n",
       "      <td>0</td>\n",
       "      <td>0</td>\n",
       "      <td>0</td>\n",
       "      <td>0</td>\n",
       "      <td>0.00</td>\n",
       "    </tr>\n",
       "  </tbody>\n",
       "</table>\n",
       "</div>"
      ],
      "text/plain": [
       "     나이 성별    키  체중    BMI\n",
       "성명                        \n",
       "이겨레  25  남  185  89  26.00\n",
       "조약돌  19  여  163  53  19.95\n",
       "BMI   0  0    0   0   0.00"
      ]
     },
     "execution_count": 180,
     "metadata": {},
     "output_type": "execute_result"
    }
   ],
   "source": [
    "# 새로운 'BMI' 열을 추가하고 공통된 데이터 값은 모두 0으로 \n",
    "df.loc['BMI'] = 0\n",
    "df"
   ]
  },
  {
   "cell_type": "code",
   "execution_count": 182,
   "id": "76706698",
   "metadata": {},
   "outputs": [
    {
     "name": "stdout",
     "output_type": "stream",
     "text": [
      "     나이 성별    키  체중    BMI\n",
      "성명                        \n",
      "이겨레  25  남  185  89  26.00\n",
      "조약돌  19  여  163  53  19.95\n",
      "BMI   0  0    0   0   0.00\n"
     ]
    }
   ],
   "source": [
    "# 'BMI' 열의 원소값을 인덱싱과 슬라이싱 기법으로 변경\n",
    "df.loc['이겨레', 'BMI'] = 26.00     # 'BMI' 열의 원소값을 슬라이싱 기법으로 변경 \n",
    "df.iloc[1, 4] = 19.95               # 'BMI' 열의 원소값을 인덱싱으로 변경\n",
    "print(df)"
   ]
  },
  {
   "cell_type": "markdown",
   "id": "888a2f9e",
   "metadata": {},
   "source": [
    "### 행의 원소값 변경하기"
   ]
  },
  {
   "cell_type": "code",
   "execution_count": 183,
   "id": "d1ca28e3",
   "metadata": {},
   "outputs": [
    {
     "data": {
      "text/html": [
       "<div>\n",
       "<style scoped>\n",
       "    .dataframe tbody tr th:only-of-type {\n",
       "        vertical-align: middle;\n",
       "    }\n",
       "\n",
       "    .dataframe tbody tr th {\n",
       "        vertical-align: top;\n",
       "    }\n",
       "\n",
       "    .dataframe thead th {\n",
       "        text-align: right;\n",
       "    }\n",
       "</style>\n",
       "<table border=\"1\" class=\"dataframe\">\n",
       "  <thead>\n",
       "    <tr style=\"text-align: right;\">\n",
       "      <th></th>\n",
       "      <th>성명</th>\n",
       "      <th>나이</th>\n",
       "      <th>성별</th>\n",
       "      <th>키</th>\n",
       "      <th>체중</th>\n",
       "    </tr>\n",
       "  </thead>\n",
       "  <tbody>\n",
       "    <tr>\n",
       "      <th>0</th>\n",
       "      <td>이겨레</td>\n",
       "      <td>25</td>\n",
       "      <td>남</td>\n",
       "      <td>185</td>\n",
       "      <td>89</td>\n",
       "    </tr>\n",
       "    <tr>\n",
       "      <th>1</th>\n",
       "      <td>조약돌</td>\n",
       "      <td>19</td>\n",
       "      <td>여</td>\n",
       "      <td>163</td>\n",
       "      <td>53</td>\n",
       "    </tr>\n",
       "  </tbody>\n",
       "</table>\n",
       "</div>"
      ],
      "text/plain": [
       "    성명  나이 성별    키  체중\n",
       "0  이겨레  25  남  185  89\n",
       "1  조약돌  19  여  163  53"
      ]
     },
     "execution_count": 183,
     "metadata": {},
     "output_type": "execute_result"
    }
   ],
   "source": [
    "bio_data = {'성명' : ['이겨레', '조약돌'],\n",
    "            '나이':[25, 19], '성별':['남', '여'], \n",
    "            '키':[185, 163], '체중':[89, 53]}\n",
    "\n",
    "df = pd.DataFrame(bio_data)\n",
    "df"
   ]
  },
  {
   "cell_type": "code",
   "execution_count": 184,
   "id": "932db97b",
   "metadata": {},
   "outputs": [
    {
     "data": {
      "text/html": [
       "<div>\n",
       "<style scoped>\n",
       "    .dataframe tbody tr th:only-of-type {\n",
       "        vertical-align: middle;\n",
       "    }\n",
       "\n",
       "    .dataframe tbody tr th {\n",
       "        vertical-align: top;\n",
       "    }\n",
       "\n",
       "    .dataframe thead th {\n",
       "        text-align: right;\n",
       "    }\n",
       "</style>\n",
       "<table border=\"1\" class=\"dataframe\">\n",
       "  <thead>\n",
       "    <tr style=\"text-align: right;\">\n",
       "      <th></th>\n",
       "      <th>나이</th>\n",
       "      <th>성별</th>\n",
       "      <th>키</th>\n",
       "      <th>체중</th>\n",
       "    </tr>\n",
       "    <tr>\n",
       "      <th>성명</th>\n",
       "      <th></th>\n",
       "      <th></th>\n",
       "      <th></th>\n",
       "      <th></th>\n",
       "    </tr>\n",
       "  </thead>\n",
       "  <tbody>\n",
       "    <tr>\n",
       "      <th>이겨레</th>\n",
       "      <td>25</td>\n",
       "      <td>남</td>\n",
       "      <td>185</td>\n",
       "      <td>89</td>\n",
       "    </tr>\n",
       "    <tr>\n",
       "      <th>조약돌</th>\n",
       "      <td>19</td>\n",
       "      <td>여</td>\n",
       "      <td>163</td>\n",
       "      <td>53</td>\n",
       "    </tr>\n",
       "  </tbody>\n",
       "</table>\n",
       "</div>"
      ],
      "text/plain": [
       "     나이 성별    키  체중\n",
       "성명                 \n",
       "이겨레  25  남  185  89\n",
       "조약돌  19  여  163  53"
      ]
     },
     "execution_count": 184,
     "metadata": {},
     "output_type": "execute_result"
    }
   ],
   "source": [
    "df.set_index('성명', inplace=True)\n",
    "df"
   ]
  },
  {
   "cell_type": "code",
   "execution_count": 187,
   "id": "a2c2e4dc",
   "metadata": {},
   "outputs": [
    {
     "data": {
      "text/html": [
       "<div>\n",
       "<style scoped>\n",
       "    .dataframe tbody tr th:only-of-type {\n",
       "        vertical-align: middle;\n",
       "    }\n",
       "\n",
       "    .dataframe tbody tr th {\n",
       "        vertical-align: top;\n",
       "    }\n",
       "\n",
       "    .dataframe thead th {\n",
       "        text-align: right;\n",
       "    }\n",
       "</style>\n",
       "<table border=\"1\" class=\"dataframe\">\n",
       "  <thead>\n",
       "    <tr style=\"text-align: right;\">\n",
       "      <th></th>\n",
       "      <th>나이</th>\n",
       "      <th>성별</th>\n",
       "      <th>키</th>\n",
       "      <th>체중</th>\n",
       "    </tr>\n",
       "    <tr>\n",
       "      <th>성명</th>\n",
       "      <th></th>\n",
       "      <th></th>\n",
       "      <th></th>\n",
       "      <th></th>\n",
       "    </tr>\n",
       "  </thead>\n",
       "  <tbody>\n",
       "    <tr>\n",
       "      <th>이겨레</th>\n",
       "      <td>25.0</td>\n",
       "      <td>남</td>\n",
       "      <td>185.0</td>\n",
       "      <td>89.0</td>\n",
       "    </tr>\n",
       "    <tr>\n",
       "      <th>조약돌</th>\n",
       "      <td>19.0</td>\n",
       "      <td>여</td>\n",
       "      <td>163.0</td>\n",
       "      <td>53.0</td>\n",
       "    </tr>\n",
       "    <tr>\n",
       "      <th>강산애</th>\n",
       "      <td>27.0</td>\n",
       "      <td>남</td>\n",
       "      <td>177.0</td>\n",
       "      <td>63.0</td>\n",
       "    </tr>\n",
       "  </tbody>\n",
       "</table>\n",
       "</div>"
      ],
      "text/plain": [
       "       나이 성별      키    체중\n",
       "성명                       \n",
       "이겨레  25.0  남  185.0  89.0\n",
       "조약돌  19.0  여  163.0  53.0\n",
       "강산애  27.0  남  177.0  63.0"
      ]
     },
     "execution_count": 187,
     "metadata": {},
     "output_type": "execute_result"
    }
   ],
   "source": [
    "# 데이터 프레임에서 특정 행의 원소값 변경\n",
    "\n",
    "df.loc['강산애', '나이' : '체중'] = 27, '남', 177, 63\n",
    "df"
   ]
  },
  {
   "cell_type": "code",
   "execution_count": 188,
   "id": "c40caab8",
   "metadata": {},
   "outputs": [
    {
     "data": {
      "text/html": [
       "<div>\n",
       "<style scoped>\n",
       "    .dataframe tbody tr th:only-of-type {\n",
       "        vertical-align: middle;\n",
       "    }\n",
       "\n",
       "    .dataframe tbody tr th {\n",
       "        vertical-align: top;\n",
       "    }\n",
       "\n",
       "    .dataframe thead th {\n",
       "        text-align: right;\n",
       "    }\n",
       "</style>\n",
       "<table border=\"1\" class=\"dataframe\">\n",
       "  <thead>\n",
       "    <tr style=\"text-align: right;\">\n",
       "      <th></th>\n",
       "      <th>나이</th>\n",
       "      <th>성별</th>\n",
       "      <th>키</th>\n",
       "      <th>체중</th>\n",
       "    </tr>\n",
       "    <tr>\n",
       "      <th>성명</th>\n",
       "      <th></th>\n",
       "      <th></th>\n",
       "      <th></th>\n",
       "      <th></th>\n",
       "    </tr>\n",
       "  </thead>\n",
       "  <tbody>\n",
       "    <tr>\n",
       "      <th>이겨레</th>\n",
       "      <td>25.0</td>\n",
       "      <td>남</td>\n",
       "      <td>185.0</td>\n",
       "      <td>89.0</td>\n",
       "    </tr>\n",
       "    <tr>\n",
       "      <th>조약돌</th>\n",
       "      <td>19.0</td>\n",
       "      <td>여</td>\n",
       "      <td>163.0</td>\n",
       "      <td>53.0</td>\n",
       "    </tr>\n",
       "    <tr>\n",
       "      <th>강산애</th>\n",
       "      <td>27.0</td>\n",
       "      <td>남</td>\n",
       "      <td>177.0</td>\n",
       "      <td>63.0</td>\n",
       "    </tr>\n",
       "  </tbody>\n",
       "</table>\n",
       "</div>"
      ],
      "text/plain": [
       "       나이 성별      키    체중\n",
       "성명                       \n",
       "이겨레  25.0  남  185.0  89.0\n",
       "조약돌  19.0  여  163.0  53.0\n",
       "강산애  27.0  남  177.0  63.0"
      ]
     },
     "execution_count": 188,
     "metadata": {},
     "output_type": "execute_result"
    }
   ],
   "source": [
    "df.iloc[2, 0:4] = 27, '남', 177, 63\n",
    "df"
   ]
  },
  {
   "cell_type": "markdown",
   "id": "44ffb26b",
   "metadata": {},
   "source": [
    "# 미니 프로젝트\n",
    "1. 주어진 데이터를 보고 데이터 프레임을 생성하고 데이터 프레임 출력하기\n",
    "2. set_index()메소드를 사용하여 지점명 열을 행 인덱스로 지정하기\n",
    "3. 스마트폰 열을 추가하고 모두 0의 값으로 초기화하여 데이터 프레임 출력하기\n",
    "4. 스마트폰 열의 데이터를 다음에 주어진 값으로 변경하고 데이터 프레임 출력하기\n",
    "5. loc 인덱서를 사용하여 서울지점의 스마트폰 데이터를 변경하고 데이터 프레임 출력하기\n",
    "6. iloc 인덱서를 사용하여 제주지점의 스마트폰 데이터를 변경하고 데이터 프레임 출력하기\n",
    "7. 기타는 프로그램 실행 결과 화면 참조"
   ]
  },
  {
   "cell_type": "code",
   "execution_count": 200,
   "id": "34e42671",
   "metadata": {},
   "outputs": [
    {
     "data": {
      "text/html": [
       "<div>\n",
       "<style scoped>\n",
       "    .dataframe tbody tr th:only-of-type {\n",
       "        vertical-align: middle;\n",
       "    }\n",
       "\n",
       "    .dataframe tbody tr th {\n",
       "        vertical-align: top;\n",
       "    }\n",
       "\n",
       "    .dataframe thead th {\n",
       "        text-align: right;\n",
       "    }\n",
       "</style>\n",
       "<table border=\"1\" class=\"dataframe\">\n",
       "  <thead>\n",
       "    <tr style=\"text-align: right;\">\n",
       "      <th></th>\n",
       "      <th>지점명</th>\n",
       "      <th>컴퓨터</th>\n",
       "      <th>모니터</th>\n",
       "      <th>노트북</th>\n",
       "      <th>스마트폰</th>\n",
       "    </tr>\n",
       "  </thead>\n",
       "  <tbody>\n",
       "    <tr>\n",
       "      <th>0</th>\n",
       "      <td>서울지점</td>\n",
       "      <td>869</td>\n",
       "      <td>374</td>\n",
       "      <td>569</td>\n",
       "      <td>197</td>\n",
       "    </tr>\n",
       "    <tr>\n",
       "      <th>1</th>\n",
       "      <td>제주지점</td>\n",
       "      <td>321</td>\n",
       "      <td>148</td>\n",
       "      <td>335</td>\n",
       "      <td>66</td>\n",
       "    </tr>\n",
       "  </tbody>\n",
       "</table>\n",
       "</div>"
      ],
      "text/plain": [
       "    지점명  컴퓨터  모니터  노트북  스마트폰\n",
       "0  서울지점  869  374  569   197\n",
       "1  제주지점  321  148  335    66"
      ]
     },
     "execution_count": 200,
     "metadata": {},
     "output_type": "execute_result"
    }
   ],
   "source": [
    "hw_data = {'지점명' : ['서울지점', '제주지점'],\n",
    "           '컴퓨터':[869, 321], '모니터':[374, 148], \n",
    "           '노트북':[569, 335], '스마트폰':[197, 66]}\n",
    "\n",
    "df = pd.DataFrame(hw_data)\n",
    "df"
   ]
  },
  {
   "cell_type": "code",
   "execution_count": 201,
   "id": "3eca8bf5",
   "metadata": {},
   "outputs": [
    {
     "data": {
      "text/html": [
       "<div>\n",
       "<style scoped>\n",
       "    .dataframe tbody tr th:only-of-type {\n",
       "        vertical-align: middle;\n",
       "    }\n",
       "\n",
       "    .dataframe tbody tr th {\n",
       "        vertical-align: top;\n",
       "    }\n",
       "\n",
       "    .dataframe thead th {\n",
       "        text-align: right;\n",
       "    }\n",
       "</style>\n",
       "<table border=\"1\" class=\"dataframe\">\n",
       "  <thead>\n",
       "    <tr style=\"text-align: right;\">\n",
       "      <th></th>\n",
       "      <th>컴퓨터</th>\n",
       "      <th>모니터</th>\n",
       "      <th>노트북</th>\n",
       "      <th>스마트폰</th>\n",
       "    </tr>\n",
       "    <tr>\n",
       "      <th>지점명</th>\n",
       "      <th></th>\n",
       "      <th></th>\n",
       "      <th></th>\n",
       "      <th></th>\n",
       "    </tr>\n",
       "  </thead>\n",
       "  <tbody>\n",
       "    <tr>\n",
       "      <th>서울지점</th>\n",
       "      <td>869</td>\n",
       "      <td>374</td>\n",
       "      <td>569</td>\n",
       "      <td>197</td>\n",
       "    </tr>\n",
       "    <tr>\n",
       "      <th>제주지점</th>\n",
       "      <td>321</td>\n",
       "      <td>148</td>\n",
       "      <td>335</td>\n",
       "      <td>66</td>\n",
       "    </tr>\n",
       "  </tbody>\n",
       "</table>\n",
       "</div>"
      ],
      "text/plain": [
       "      컴퓨터  모니터  노트북  스마트폰\n",
       "지점명                      \n",
       "서울지점  869  374  569   197\n",
       "제주지점  321  148  335    66"
      ]
     },
     "execution_count": 201,
     "metadata": {},
     "output_type": "execute_result"
    }
   ],
   "source": [
    "# set_index()메소드를 사용하여 지점명 열을 행 인덱스로 지정하기\n",
    "\n",
    "df.set_index('지점명', inplace=True)\n",
    "df"
   ]
  },
  {
   "cell_type": "code",
   "execution_count": 202,
   "id": "0e929661",
   "metadata": {},
   "outputs": [
    {
     "data": {
      "text/html": [
       "<div>\n",
       "<style scoped>\n",
       "    .dataframe tbody tr th:only-of-type {\n",
       "        vertical-align: middle;\n",
       "    }\n",
       "\n",
       "    .dataframe tbody tr th {\n",
       "        vertical-align: top;\n",
       "    }\n",
       "\n",
       "    .dataframe thead th {\n",
       "        text-align: right;\n",
       "    }\n",
       "</style>\n",
       "<table border=\"1\" class=\"dataframe\">\n",
       "  <thead>\n",
       "    <tr style=\"text-align: right;\">\n",
       "      <th></th>\n",
       "      <th>컴퓨터</th>\n",
       "      <th>모니터</th>\n",
       "      <th>노트북</th>\n",
       "      <th>스마트폰</th>\n",
       "    </tr>\n",
       "    <tr>\n",
       "      <th>지점명</th>\n",
       "      <th></th>\n",
       "      <th></th>\n",
       "      <th></th>\n",
       "      <th></th>\n",
       "    </tr>\n",
       "  </thead>\n",
       "  <tbody>\n",
       "    <tr>\n",
       "      <th>서울지점</th>\n",
       "      <td>869</td>\n",
       "      <td>374</td>\n",
       "      <td>569</td>\n",
       "      <td>0</td>\n",
       "    </tr>\n",
       "    <tr>\n",
       "      <th>제주지점</th>\n",
       "      <td>321</td>\n",
       "      <td>148</td>\n",
       "      <td>335</td>\n",
       "      <td>0</td>\n",
       "    </tr>\n",
       "  </tbody>\n",
       "</table>\n",
       "</div>"
      ],
      "text/plain": [
       "      컴퓨터  모니터  노트북  스마트폰\n",
       "지점명                      \n",
       "서울지점  869  374  569     0\n",
       "제주지점  321  148  335     0"
      ]
     },
     "execution_count": 202,
     "metadata": {},
     "output_type": "execute_result"
    }
   ],
   "source": [
    "# 스마트폰 열을 추가하고 모두 0의 값으로 초기화하여 데이터 프레임 출력하기\n",
    "\n",
    "df['스마트폰'] = 0\n",
    "df"
   ]
  },
  {
   "cell_type": "code",
   "execution_count": 210,
   "id": "38390d0d",
   "metadata": {},
   "outputs": [
    {
     "data": {
      "text/html": [
       "<div>\n",
       "<style scoped>\n",
       "    .dataframe tbody tr th:only-of-type {\n",
       "        vertical-align: middle;\n",
       "    }\n",
       "\n",
       "    .dataframe tbody tr th {\n",
       "        vertical-align: top;\n",
       "    }\n",
       "\n",
       "    .dataframe thead th {\n",
       "        text-align: right;\n",
       "    }\n",
       "</style>\n",
       "<table border=\"1\" class=\"dataframe\">\n",
       "  <thead>\n",
       "    <tr style=\"text-align: right;\">\n",
       "      <th></th>\n",
       "      <th>컴퓨터</th>\n",
       "      <th>모니터</th>\n",
       "      <th>노트북</th>\n",
       "      <th>스마트폰</th>\n",
       "    </tr>\n",
       "    <tr>\n",
       "      <th>지점명</th>\n",
       "      <th></th>\n",
       "      <th></th>\n",
       "      <th></th>\n",
       "      <th></th>\n",
       "    </tr>\n",
       "  </thead>\n",
       "  <tbody>\n",
       "    <tr>\n",
       "      <th>서울지점</th>\n",
       "      <td>869</td>\n",
       "      <td>374</td>\n",
       "      <td>569</td>\n",
       "      <td>197</td>\n",
       "    </tr>\n",
       "    <tr>\n",
       "      <th>제주지점</th>\n",
       "      <td>321</td>\n",
       "      <td>148</td>\n",
       "      <td>335</td>\n",
       "      <td>66</td>\n",
       "    </tr>\n",
       "  </tbody>\n",
       "</table>\n",
       "</div>"
      ],
      "text/plain": [
       "      컴퓨터  모니터  노트북  스마트폰\n",
       "지점명                      \n",
       "서울지점  869  374  569   197\n",
       "제주지점  321  148  335    66"
      ]
     },
     "execution_count": 210,
     "metadata": {},
     "output_type": "execute_result"
    }
   ],
   "source": [
    "# 스마트폰 열의 데이터를 다음에 주어진 값으로 변경하고 데이터 프레임 출력하기\n",
    "\n",
    "df.loc['서울지점', '스마트폰'] = 197\n",
    "df.loc['제주지점', '스마트폰'] = 66\n",
    "df"
   ]
  },
  {
   "cell_type": "code",
   "execution_count": 211,
   "id": "36a56a64",
   "metadata": {},
   "outputs": [
    {
     "data": {
      "text/html": [
       "<div>\n",
       "<style scoped>\n",
       "    .dataframe tbody tr th:only-of-type {\n",
       "        vertical-align: middle;\n",
       "    }\n",
       "\n",
       "    .dataframe tbody tr th {\n",
       "        vertical-align: top;\n",
       "    }\n",
       "\n",
       "    .dataframe thead th {\n",
       "        text-align: right;\n",
       "    }\n",
       "</style>\n",
       "<table border=\"1\" class=\"dataframe\">\n",
       "  <thead>\n",
       "    <tr style=\"text-align: right;\">\n",
       "      <th></th>\n",
       "      <th>컴퓨터</th>\n",
       "      <th>모니터</th>\n",
       "      <th>노트북</th>\n",
       "      <th>스마트폰</th>\n",
       "    </tr>\n",
       "    <tr>\n",
       "      <th>지점명</th>\n",
       "      <th></th>\n",
       "      <th></th>\n",
       "      <th></th>\n",
       "      <th></th>\n",
       "    </tr>\n",
       "  </thead>\n",
       "  <tbody>\n",
       "    <tr>\n",
       "      <th>서울지점</th>\n",
       "      <td>869</td>\n",
       "      <td>374</td>\n",
       "      <td>569</td>\n",
       "      <td>100</td>\n",
       "    </tr>\n",
       "    <tr>\n",
       "      <th>제주지점</th>\n",
       "      <td>321</td>\n",
       "      <td>148</td>\n",
       "      <td>335</td>\n",
       "      <td>66</td>\n",
       "    </tr>\n",
       "  </tbody>\n",
       "</table>\n",
       "</div>"
      ],
      "text/plain": [
       "      컴퓨터  모니터  노트북  스마트폰\n",
       "지점명                      \n",
       "서울지점  869  374  569   100\n",
       "제주지점  321  148  335    66"
      ]
     },
     "execution_count": 211,
     "metadata": {},
     "output_type": "execute_result"
    }
   ],
   "source": [
    "# loc 인덱서를 사용하여 서울지점의 스마트폰 데이터를 변경하고 데이터 프레임 출력하기\n",
    "\n",
    "df.loc['서울지점', '스마트폰'] = 100\n",
    "df"
   ]
  },
  {
   "cell_type": "code",
   "execution_count": 213,
   "id": "d4f04cf7",
   "metadata": {},
   "outputs": [
    {
     "data": {
      "text/html": [
       "<div>\n",
       "<style scoped>\n",
       "    .dataframe tbody tr th:only-of-type {\n",
       "        vertical-align: middle;\n",
       "    }\n",
       "\n",
       "    .dataframe tbody tr th {\n",
       "        vertical-align: top;\n",
       "    }\n",
       "\n",
       "    .dataframe thead th {\n",
       "        text-align: right;\n",
       "    }\n",
       "</style>\n",
       "<table border=\"1\" class=\"dataframe\">\n",
       "  <thead>\n",
       "    <tr style=\"text-align: right;\">\n",
       "      <th></th>\n",
       "      <th>컴퓨터</th>\n",
       "      <th>모니터</th>\n",
       "      <th>노트북</th>\n",
       "      <th>스마트폰</th>\n",
       "    </tr>\n",
       "    <tr>\n",
       "      <th>지점명</th>\n",
       "      <th></th>\n",
       "      <th></th>\n",
       "      <th></th>\n",
       "      <th></th>\n",
       "    </tr>\n",
       "  </thead>\n",
       "  <tbody>\n",
       "    <tr>\n",
       "      <th>서울지점</th>\n",
       "      <td>869</td>\n",
       "      <td>374</td>\n",
       "      <td>569</td>\n",
       "      <td>100</td>\n",
       "    </tr>\n",
       "    <tr>\n",
       "      <th>제주지점</th>\n",
       "      <td>321</td>\n",
       "      <td>148</td>\n",
       "      <td>335</td>\n",
       "      <td>50</td>\n",
       "    </tr>\n",
       "  </tbody>\n",
       "</table>\n",
       "</div>"
      ],
      "text/plain": [
       "      컴퓨터  모니터  노트북  스마트폰\n",
       "지점명                      \n",
       "서울지점  869  374  569   100\n",
       "제주지점  321  148  335    50"
      ]
     },
     "execution_count": 213,
     "metadata": {},
     "output_type": "execute_result"
    }
   ],
   "source": [
    "# iloc 인덱서를 사용하여 제주지점의 스마트폰 데이터를 변경하고 데이터 프레임 출력하기\n",
    "\n",
    "df.iloc[1, 3] = 50\n",
    "df"
   ]
  },
  {
   "cell_type": "code",
   "execution_count": null,
   "id": "173fa751",
   "metadata": {},
   "outputs": [],
   "source": []
  }
 ],
 "metadata": {
  "kernelspec": {
   "display_name": "Python 3",
   "language": "python",
   "name": "python3"
  },
  "language_info": {
   "codemirror_mode": {
    "name": "ipython",
    "version": 3
   },
   "file_extension": ".py",
   "mimetype": "text/x-python",
   "name": "python",
   "nbconvert_exporter": "python",
   "pygments_lexer": "ipython3",
   "version": "3.8.8"
  },
  "toc": {
   "base_numbering": 1,
   "nav_menu": {},
   "number_sections": true,
   "sideBar": true,
   "skip_h1_title": false,
   "title_cell": "Table of Contents",
   "title_sidebar": "Contents",
   "toc_cell": false,
   "toc_position": {},
   "toc_section_display": true,
   "toc_window_display": false
  }
 },
 "nbformat": 4,
 "nbformat_minor": 5
}
