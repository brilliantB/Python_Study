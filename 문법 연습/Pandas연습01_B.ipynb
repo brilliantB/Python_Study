{
 "cells": [
  {
   "cell_type": "code",
   "execution_count": 22,
   "id": "f755c934",
   "metadata": {},
   "outputs": [
    {
     "name": "stdout",
     "output_type": "stream",
     "text": [
      "Requirement already satisfied: pandas in c:\\users\\user\\anaconda3\\lib\\site-packages (1.2.4)\n",
      "Requirement already satisfied: python-dateutil>=2.7.3 in c:\\users\\user\\anaconda3\\lib\\site-packages (from pandas) (2.8.1)\n",
      "Requirement already satisfied: numpy>=1.16.5 in c:\\users\\user\\anaconda3\\lib\\site-packages (from pandas) (1.20.1)\n",
      "Requirement already satisfied: pytz>=2017.3 in c:\\users\\user\\anaconda3\\lib\\site-packages (from pandas) (2021.1)\n",
      "Requirement already satisfied: six>=1.5 in c:\\users\\user\\anaconda3\\lib\\site-packages (from python-dateutil>=2.7.3->pandas) (1.15.0)\n"
     ]
    }
   ],
   "source": [
    "!pip install pandas"
   ]
  },
  {
   "cell_type": "code",
   "execution_count": 23,
   "id": "db9210d5",
   "metadata": {},
   "outputs": [],
   "source": [
    "import pandas as pd"
   ]
  },
  {
   "cell_type": "markdown",
   "id": "a1b17336",
   "metadata": {},
   "source": [
    "# 시리즈\n",
    "- 복수의 행(row)으로 이루어진 하나의 열(column)구조\n",
    "- 색인(index)을 가지고 원하는 데이터에 접근할 수 있음\n",
    "- 자동으로 색인을 만들어줌"
   ]
  },
  {
   "cell_type": "code",
   "execution_count": 24,
   "id": "6d1b3567",
   "metadata": {},
   "outputs": [
    {
     "name": "stdout",
     "output_type": "stream",
     "text": [
      "서울    7\n",
      "대구    3\n",
      "부산    5\n",
      "광주    8\n",
      "dtype: int64\n",
      "서울    7\n",
      "대구    3\n",
      "dtype: int64\n",
      "Index(['서울', '대구', '부산', '광주'], dtype='object')\n",
      "[7 3 5 8]\n"
     ]
    }
   ],
   "source": [
    "x = pd.Series([7, 3, 5, 8], index = [\"서울\", \"대구\", \"부산\", \"광주\"])\n",
    "print(x)\n",
    "print(x[[\"서울\",\"대구\"]])\n",
    "print(x.index)\n",
    "print(x.values)"
   ]
  },
  {
   "cell_type": "code",
   "execution_count": 25,
   "id": "d6d4dc6f",
   "metadata": {},
   "outputs": [
    {
     "name": "stdout",
     "output_type": "stream",
     "text": [
      "광주    10.0\n",
      "대구     9.0\n",
      "대전     NaN\n",
      "부산    14.0\n",
      "서울     NaN\n",
      "dtype: float64\n"
     ]
    }
   ],
   "source": [
    "y = pd.Series([3, 6, 9, 2], index=[\"대전\", \"대구\", \"부산\", \"광주\"])\n",
    "print(x+y)"
   ]
  },
  {
   "cell_type": "code",
   "execution_count": 26,
   "id": "6d863a49",
   "metadata": {},
   "outputs": [
    {
     "name": "stdout",
     "output_type": "stream",
     "text": [
      "[1 2 3 4 5 6 7]\n"
     ]
    }
   ],
   "source": [
    "test1 = pd.Series([1,2,2,2,3,4,4,4,5,6,7])\n",
    "print(pd.unique(test1))"
   ]
  },
  {
   "cell_type": "code",
   "execution_count": 27,
   "id": "1df62d87",
   "metadata": {},
   "outputs": [
    {
     "data": {
      "text/plain": [
       "민준    23\n",
       "강훈    42\n",
       "동현    25\n",
       "dtype: int64"
      ]
     },
     "execution_count": 27,
     "metadata": {},
     "output_type": "execute_result"
    }
   ],
   "source": [
    "dic1 = {\"민준\":23, \"강훈\":42, \"동현\":25}\n",
    "x = pd.Series(dic1)\n",
    "x"
   ]
  },
  {
   "cell_type": "code",
   "execution_count": 28,
   "id": "625d807a",
   "metadata": {},
   "outputs": [
    {
     "name": "stdout",
     "output_type": "stream",
     "text": [
      "광주\n"
     ]
    }
   ],
   "source": [
    "x = pd.Series([\"서울\", \"대구\", \"부산\", \"광주\"], index=[7, 3, 5, 8])\n",
    "print(x[8])"
   ]
  },
  {
   "cell_type": "markdown",
   "id": "b6909f00",
   "metadata": {},
   "source": [
    "# DataFrame"
   ]
  },
  {
   "cell_type": "code",
   "execution_count": 29,
   "id": "c7b081fa",
   "metadata": {},
   "outputs": [
    {
     "name": "stdout",
     "output_type": "stream",
     "text": [
      "   age name   아무   거나\n",
      "0   23   강훈  NaN  NaN\n",
      "1   25   훈이  NaN  NaN\n",
      "2   26   짱구  NaN  NaN\n",
      "3   27   영희  NaN  NaN\n",
      "0    23\n",
      "1    25\n",
      "2    26\n",
      "3    27\n",
      "Name: age, dtype: int64\n"
     ]
    }
   ],
   "source": [
    "data = {\"age\": [23, 25, 26, 27],\n",
    "        \"name\" : [\"강훈\", \"훈이\", \"짱구\", \"영희\"]}\n",
    "\n",
    "x = pd.DataFrame(data, columns=[\"age\", \"name\", \"아무\", \"거나\"])\n",
    "\n",
    "print(x)\n",
    "print(x.age)"
   ]
  },
  {
   "cell_type": "code",
   "execution_count": 30,
   "id": "dd390874",
   "metadata": {},
   "outputs": [
    {
     "name": "stdout",
     "output_type": "stream",
     "text": [
      "   내맘  대로\n",
      "0   1   2\n",
      "1   2   3\n",
      "2   5   6\n",
      "내맘    1\n",
      "대로    2\n",
      "Name: 0, dtype: int64\n",
      "내맘    2\n",
      "대로    3\n",
      "Name: 1, dtype: int64\n"
     ]
    }
   ],
   "source": [
    "ary = [[1,2], [2,3], [5,6]]\n",
    "data = pd.DataFrame(ary, columns=[\"내맘\", \"대로\"])\n",
    "print(data)\n",
    "print(data.iloc[0])\n",
    "print(data.iloc[1])"
   ]
  },
  {
   "cell_type": "code",
   "execution_count": 42,
   "id": "a01f2da5",
   "metadata": {},
   "outputs": [
    {
     "ename": "SyntaxError",
     "evalue": "(unicode error) 'unicodeescape' codec can't decode bytes in position 1-2: truncated \\uXXXX escape (<ipython-input-42-7a28a320039f>, line 1)",
     "output_type": "error",
     "traceback": [
      "\u001b[1;36m  File \u001b[1;32m\"<ipython-input-42-7a28a320039f>\"\u001b[1;36m, line \u001b[1;32m1\u001b[0m\n\u001b[1;33m    accident = pd.read_csv('.\\user\\acci.csv', encoding='cp949')\u001b[0m\n\u001b[1;37m                           ^\u001b[0m\n\u001b[1;31mSyntaxError\u001b[0m\u001b[1;31m:\u001b[0m (unicode error) 'unicodeescape' codec can't decode bytes in position 1-2: truncated \\uXXXX escape\n"
     ]
    }
   ],
   "source": [
    "accident = pd.read_csv('.\\user\\acci.csv', encoding='cp949')\n",
    "accident.head()"
   ]
  },
  {
   "cell_type": "code",
   "execution_count": null,
   "id": "09a735e3",
   "metadata": {},
   "outputs": [],
   "source": []
  },
  {
   "cell_type": "code",
   "execution_count": null,
   "id": "cc3b401c",
   "metadata": {},
   "outputs": [],
   "source": []
  },
  {
   "cell_type": "code",
   "execution_count": null,
   "id": "2eb6dfec",
   "metadata": {},
   "outputs": [],
   "source": []
  },
  {
   "cell_type": "code",
   "execution_count": null,
   "id": "c7e14b58",
   "metadata": {},
   "outputs": [],
   "source": []
  }
 ],
 "metadata": {
  "kernelspec": {
   "display_name": "Python 3",
   "language": "python",
   "name": "python3"
  },
  "language_info": {
   "codemirror_mode": {
    "name": "ipython",
    "version": 3
   },
   "file_extension": ".py",
   "mimetype": "text/x-python",
   "name": "python",
   "nbconvert_exporter": "python",
   "pygments_lexer": "ipython3",
   "version": "3.8.8"
  },
  "toc": {
   "base_numbering": 1,
   "nav_menu": {},
   "number_sections": true,
   "sideBar": true,
   "skip_h1_title": false,
   "title_cell": "Table of Contents",
   "title_sidebar": "Contents",
   "toc_cell": false,
   "toc_position": {},
   "toc_section_display": true,
   "toc_window_display": false
  }
 },
 "nbformat": 4,
 "nbformat_minor": 5
}
