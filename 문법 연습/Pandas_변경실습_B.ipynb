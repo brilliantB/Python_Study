{
 "cells": [
  {
   "cell_type": "markdown",
   "id": "c0eb9d86",
   "metadata": {},
   "source": [
    "## 행과 열의 위치 변경하기"
   ]
  },
  {
   "cell_type": "code",
   "execution_count": 1,
   "id": "506216cf",
   "metadata": {},
   "outputs": [
    {
     "name": "stdout",
     "output_type": "stream",
     "text": [
      "Requirement already satisfied: pandas in c:\\users\\user\\anaconda3\\lib\\site-packages (1.2.4)\n",
      "Requirement already satisfied: pytz>=2017.3 in c:\\users\\user\\anaconda3\\lib\\site-packages (from pandas) (2021.1)\n",
      "Requirement already satisfied: numpy>=1.16.5 in c:\\users\\user\\anaconda3\\lib\\site-packages (from pandas) (1.20.1)\n",
      "Requirement already satisfied: python-dateutil>=2.7.3 in c:\\users\\user\\anaconda3\\lib\\site-packages (from pandas) (2.8.1)\n",
      "Requirement already satisfied: six>=1.5 in c:\\users\\user\\anaconda3\\lib\\site-packages (from python-dateutil>=2.7.3->pandas) (1.15.0)\n"
     ]
    }
   ],
   "source": [
    "!pip install pandas"
   ]
  },
  {
   "cell_type": "code",
   "execution_count": 2,
   "id": "4390ece3",
   "metadata": {},
   "outputs": [],
   "source": [
    "import pandas as pd"
   ]
  },
  {
   "cell_type": "code",
   "execution_count": 3,
   "id": "ae95a713",
   "metadata": {},
   "outputs": [
    {
     "data": {
      "text/html": [
       "<div>\n",
       "<style scoped>\n",
       "    .dataframe tbody tr th:only-of-type {\n",
       "        vertical-align: middle;\n",
       "    }\n",
       "\n",
       "    .dataframe tbody tr th {\n",
       "        vertical-align: top;\n",
       "    }\n",
       "\n",
       "    .dataframe thead th {\n",
       "        text-align: right;\n",
       "    }\n",
       "</style>\n",
       "<table border=\"1\" class=\"dataframe\">\n",
       "  <thead>\n",
       "    <tr style=\"text-align: right;\">\n",
       "      <th></th>\n",
       "      <th>성명</th>\n",
       "      <th>나이</th>\n",
       "      <th>성별</th>\n",
       "      <th>키</th>\n",
       "      <th>체중</th>\n",
       "    </tr>\n",
       "  </thead>\n",
       "  <tbody>\n",
       "    <tr>\n",
       "      <th>이겨레</th>\n",
       "      <td>이겨레</td>\n",
       "      <td>25</td>\n",
       "      <td>남</td>\n",
       "      <td>185</td>\n",
       "      <td>89</td>\n",
       "    </tr>\n",
       "    <tr>\n",
       "      <th>조약돌</th>\n",
       "      <td>조약돌</td>\n",
       "      <td>19</td>\n",
       "      <td>여</td>\n",
       "      <td>163</td>\n",
       "      <td>53</td>\n",
       "    </tr>\n",
       "  </tbody>\n",
       "</table>\n",
       "</div>"
      ],
      "text/plain": [
       "      성명  나이 성별    키  체중\n",
       "이겨레  이겨레  25  남  185  89\n",
       "조약돌  조약돌  19  여  163  53"
      ]
     },
     "execution_count": 3,
     "metadata": {},
     "output_type": "execute_result"
    }
   ],
   "source": [
    "df =pd.DataFrame([['이겨레', 25, '남', 185, 89],\n",
    "                  ['조약돌', 19, '여', 163, 53]],\n",
    "                  index = ['이겨레', '조약돌'],      # index를 넣어야 loc 가 출력된다.\n",
    "                  columns = ['성명', '나이', '성별', '키', '체중'])\n",
    "\n",
    "df"
   ]
  },
  {
   "cell_type": "code",
   "execution_count": 4,
   "id": "f4df3fe0",
   "metadata": {},
   "outputs": [
    {
     "data": {
      "text/html": [
       "<div>\n",
       "<style scoped>\n",
       "    .dataframe tbody tr th:only-of-type {\n",
       "        vertical-align: middle;\n",
       "    }\n",
       "\n",
       "    .dataframe tbody tr th {\n",
       "        vertical-align: top;\n",
       "    }\n",
       "\n",
       "    .dataframe thead th {\n",
       "        text-align: right;\n",
       "    }\n",
       "</style>\n",
       "<table border=\"1\" class=\"dataframe\">\n",
       "  <thead>\n",
       "    <tr style=\"text-align: right;\">\n",
       "      <th></th>\n",
       "      <th>이겨레</th>\n",
       "      <th>조약돌</th>\n",
       "    </tr>\n",
       "  </thead>\n",
       "  <tbody>\n",
       "    <tr>\n",
       "      <th>성명</th>\n",
       "      <td>이겨레</td>\n",
       "      <td>조약돌</td>\n",
       "    </tr>\n",
       "    <tr>\n",
       "      <th>나이</th>\n",
       "      <td>25</td>\n",
       "      <td>19</td>\n",
       "    </tr>\n",
       "    <tr>\n",
       "      <th>성별</th>\n",
       "      <td>남</td>\n",
       "      <td>여</td>\n",
       "    </tr>\n",
       "    <tr>\n",
       "      <th>키</th>\n",
       "      <td>185</td>\n",
       "      <td>163</td>\n",
       "    </tr>\n",
       "    <tr>\n",
       "      <th>체중</th>\n",
       "      <td>89</td>\n",
       "      <td>53</td>\n",
       "    </tr>\n",
       "  </tbody>\n",
       "</table>\n",
       "</div>"
      ],
      "text/plain": [
       "    이겨레  조약돌\n",
       "성명  이겨레  조약돌\n",
       "나이   25   19\n",
       "성별    남    여\n",
       "키   185  163\n",
       "체중   89   53"
      ]
     },
     "execution_count": 4,
     "metadata": {},
     "output_type": "execute_result"
    }
   ],
   "source": [
    "# 데이터 프레임의 행과 열의 위치 변경하기\n",
    "df_01 = df.transpose()\n",
    "df_01"
   ]
  },
  {
   "cell_type": "code",
   "execution_count": 5,
   "id": "6ce9d502",
   "metadata": {},
   "outputs": [
    {
     "data": {
      "text/html": [
       "<div>\n",
       "<style scoped>\n",
       "    .dataframe tbody tr th:only-of-type {\n",
       "        vertical-align: middle;\n",
       "    }\n",
       "\n",
       "    .dataframe tbody tr th {\n",
       "        vertical-align: top;\n",
       "    }\n",
       "\n",
       "    .dataframe thead th {\n",
       "        text-align: right;\n",
       "    }\n",
       "</style>\n",
       "<table border=\"1\" class=\"dataframe\">\n",
       "  <thead>\n",
       "    <tr style=\"text-align: right;\">\n",
       "      <th></th>\n",
       "      <th>성명</th>\n",
       "      <th>나이</th>\n",
       "      <th>성별</th>\n",
       "      <th>키</th>\n",
       "      <th>체중</th>\n",
       "    </tr>\n",
       "  </thead>\n",
       "  <tbody>\n",
       "    <tr>\n",
       "      <th>이겨레</th>\n",
       "      <td>이겨레</td>\n",
       "      <td>25</td>\n",
       "      <td>남</td>\n",
       "      <td>185</td>\n",
       "      <td>89</td>\n",
       "    </tr>\n",
       "    <tr>\n",
       "      <th>조약돌</th>\n",
       "      <td>조약돌</td>\n",
       "      <td>19</td>\n",
       "      <td>여</td>\n",
       "      <td>163</td>\n",
       "      <td>53</td>\n",
       "    </tr>\n",
       "  </tbody>\n",
       "</table>\n",
       "</div>"
      ],
      "text/plain": [
       "      성명  나이 성별    키  체중\n",
       "이겨레  이겨레  25  남  185  89\n",
       "조약돌  조약돌  19  여  163  53"
      ]
     },
     "execution_count": 5,
     "metadata": {},
     "output_type": "execute_result"
    }
   ],
   "source": [
    "# 변경된 데이터 프레임의 행과 열에 대해 다시 변경하기\n",
    "\n",
    "df_02 = df_01.T\n",
    "df_02"
   ]
  },
  {
   "cell_type": "markdown",
   "id": "e2147a1b",
   "metadata": {},
   "source": [
    "## 행 삭제하기\n",
    "### Missing Value(결측치)란? \n",
    "- 누락된 데이터가 있을 때, 제대로 역할을 하지 못할때 사용"
   ]
  },
  {
   "cell_type": "code",
   "execution_count": 6,
   "id": "389e38ed",
   "metadata": {},
   "outputs": [
    {
     "data": {
      "text/html": [
       "<div>\n",
       "<style scoped>\n",
       "    .dataframe tbody tr th:only-of-type {\n",
       "        vertical-align: middle;\n",
       "    }\n",
       "\n",
       "    .dataframe tbody tr th {\n",
       "        vertical-align: top;\n",
       "    }\n",
       "\n",
       "    .dataframe thead th {\n",
       "        text-align: right;\n",
       "    }\n",
       "</style>\n",
       "<table border=\"1\" class=\"dataframe\">\n",
       "  <thead>\n",
       "    <tr style=\"text-align: right;\">\n",
       "      <th></th>\n",
       "      <th>성명</th>\n",
       "      <th>나이</th>\n",
       "      <th>성별</th>\n",
       "      <th>키</th>\n",
       "      <th>체중</th>\n",
       "    </tr>\n",
       "  </thead>\n",
       "  <tbody>\n",
       "    <tr>\n",
       "      <th>이겨레</th>\n",
       "      <td>이겨레</td>\n",
       "      <td>25</td>\n",
       "      <td>남</td>\n",
       "      <td>185</td>\n",
       "      <td>89</td>\n",
       "    </tr>\n",
       "  </tbody>\n",
       "</table>\n",
       "</div>"
      ],
      "text/plain": [
       "      성명  나이 성별    키  체중\n",
       "이겨레  이겨레  25  남  185  89"
      ]
     },
     "execution_count": 6,
     "metadata": {},
     "output_type": "execute_result"
    }
   ],
   "source": [
    "# 데이터 프레임의 특정 행을 삭제하는 방법 1\n",
    "# 데이트 프레임을 복제하여 변수에 대입 => 변수명 df.drop()\n",
    "\n",
    "df_01 = df.copy()\n",
    "df_01.drop('조약돌', axis=0, inplace=True)\n",
    "df_01"
   ]
  },
  {
   "cell_type": "code",
   "execution_count": 7,
   "id": "ee56589f",
   "metadata": {},
   "outputs": [
    {
     "data": {
      "text/html": [
       "<div>\n",
       "<style scoped>\n",
       "    .dataframe tbody tr th:only-of-type {\n",
       "        vertical-align: middle;\n",
       "    }\n",
       "\n",
       "    .dataframe tbody tr th {\n",
       "        vertical-align: top;\n",
       "    }\n",
       "\n",
       "    .dataframe thead th {\n",
       "        text-align: right;\n",
       "    }\n",
       "</style>\n",
       "<table border=\"1\" class=\"dataframe\">\n",
       "  <thead>\n",
       "    <tr style=\"text-align: right;\">\n",
       "      <th></th>\n",
       "      <th>성명</th>\n",
       "      <th>나이</th>\n",
       "      <th>성별</th>\n",
       "      <th>키</th>\n",
       "      <th>체중</th>\n",
       "    </tr>\n",
       "  </thead>\n",
       "  <tbody>\n",
       "  </tbody>\n",
       "</table>\n",
       "</div>"
      ],
      "text/plain": [
       "Empty DataFrame\n",
       "Columns: [성명, 나이, 성별, 키, 체중]\n",
       "Index: []"
      ]
     },
     "execution_count": 7,
     "metadata": {},
     "output_type": "execute_result"
    }
   ],
   "source": [
    "# 데이터 프레임의 특정 행을 삭제하는 방법 2\n",
    "# 데이터 프레임 df를 복제하여 변수 df_02에 대입 후 2개의 행 삭제\n",
    "\n",
    "df_02 = df.copy()\n",
    "df_02.drop(['이겨레','조약돌'], inplace=True)\n",
    "df_02"
   ]
  },
  {
   "cell_type": "markdown",
   "id": "8651e73a",
   "metadata": {},
   "source": [
    "## 열 삭제하기"
   ]
  },
  {
   "cell_type": "code",
   "execution_count": 8,
   "id": "0402adde",
   "metadata": {},
   "outputs": [
    {
     "data": {
      "text/html": [
       "<div>\n",
       "<style scoped>\n",
       "    .dataframe tbody tr th:only-of-type {\n",
       "        vertical-align: middle;\n",
       "    }\n",
       "\n",
       "    .dataframe tbody tr th {\n",
       "        vertical-align: top;\n",
       "    }\n",
       "\n",
       "    .dataframe thead th {\n",
       "        text-align: right;\n",
       "    }\n",
       "</style>\n",
       "<table border=\"1\" class=\"dataframe\">\n",
       "  <thead>\n",
       "    <tr style=\"text-align: right;\">\n",
       "      <th></th>\n",
       "      <th>성명</th>\n",
       "      <th>성별</th>\n",
       "      <th>키</th>\n",
       "      <th>체중</th>\n",
       "    </tr>\n",
       "  </thead>\n",
       "  <tbody>\n",
       "    <tr>\n",
       "      <th>이겨레</th>\n",
       "      <td>이겨레</td>\n",
       "      <td>남</td>\n",
       "      <td>185</td>\n",
       "      <td>89</td>\n",
       "    </tr>\n",
       "    <tr>\n",
       "      <th>조약돌</th>\n",
       "      <td>조약돌</td>\n",
       "      <td>여</td>\n",
       "      <td>163</td>\n",
       "      <td>53</td>\n",
       "    </tr>\n",
       "  </tbody>\n",
       "</table>\n",
       "</div>"
      ],
      "text/plain": [
       "      성명 성별    키  체중\n",
       "이겨레  이겨레  남  185  89\n",
       "조약돌  조약돌  여  163  53"
      ]
     },
     "execution_count": 8,
     "metadata": {},
     "output_type": "execute_result"
    }
   ],
   "source": [
    "# 데이터 프레임 df를 복제하여 변수 df_01에 대입 후 1개의 열 삭제\n",
    "\n",
    "df_01 = df.copy()\n",
    "df_01.drop('나이',axis=1, inplace=True)\n",
    "df_01"
   ]
  },
  {
   "cell_type": "code",
   "execution_count": 9,
   "id": "e864e276",
   "metadata": {},
   "outputs": [
    {
     "data": {
      "text/html": [
       "<div>\n",
       "<style scoped>\n",
       "    .dataframe tbody tr th:only-of-type {\n",
       "        vertical-align: middle;\n",
       "    }\n",
       "\n",
       "    .dataframe tbody tr th {\n",
       "        vertical-align: top;\n",
       "    }\n",
       "\n",
       "    .dataframe thead th {\n",
       "        text-align: right;\n",
       "    }\n",
       "</style>\n",
       "<table border=\"1\" class=\"dataframe\">\n",
       "  <thead>\n",
       "    <tr style=\"text-align: right;\">\n",
       "      <th></th>\n",
       "      <th>성명</th>\n",
       "      <th>키</th>\n",
       "      <th>체중</th>\n",
       "    </tr>\n",
       "  </thead>\n",
       "  <tbody>\n",
       "    <tr>\n",
       "      <th>이겨레</th>\n",
       "      <td>이겨레</td>\n",
       "      <td>185</td>\n",
       "      <td>89</td>\n",
       "    </tr>\n",
       "    <tr>\n",
       "      <th>조약돌</th>\n",
       "      <td>조약돌</td>\n",
       "      <td>163</td>\n",
       "      <td>53</td>\n",
       "    </tr>\n",
       "  </tbody>\n",
       "</table>\n",
       "</div>"
      ],
      "text/plain": [
       "      성명    키  체중\n",
       "이겨레  이겨레  185  89\n",
       "조약돌  조약돌  163  53"
      ]
     },
     "execution_count": 9,
     "metadata": {},
     "output_type": "execute_result"
    }
   ],
   "source": [
    "# 데이터 프레임 df를 복제하여 변수 df_02에 대입 후 2개의 열 삭제\n",
    "\n",
    "df_02 = df.copy()\n",
    "df_02.drop(['나이','성별'],axis=1, inplace=True)\n",
    "df_02"
   ]
  },
  {
   "cell_type": "markdown",
   "id": "5c09024e",
   "metadata": {},
   "source": [
    "# 데이터 파일 읽기"
   ]
  },
  {
   "cell_type": "markdown",
   "id": "48e1d6a4",
   "metadata": {},
   "source": [
    "## 데이터 전처리란\n",
    "## 레코드와 필드\n",
    "## 데이터 읽기와 쓰기 함수\n",
    "- 판다스에서 제공하는 함수 (PDF p.109) : csv, Ms Excel, JSON 가장 많이 사용"
   ]
  },
  {
   "cell_type": "markdown",
   "id": "0546cb57",
   "metadata": {},
   "source": [
    "### Excel 파일로 저장하기"
   ]
  },
  {
   "cell_type": "code",
   "execution_count": 22,
   "id": "5610146a",
   "metadata": {},
   "outputs": [
    {
     "data": {
      "text/html": [
       "<div>\n",
       "<style scoped>\n",
       "    .dataframe tbody tr th:only-of-type {\n",
       "        vertical-align: middle;\n",
       "    }\n",
       "\n",
       "    .dataframe tbody tr th {\n",
       "        vertical-align: top;\n",
       "    }\n",
       "\n",
       "    .dataframe thead th {\n",
       "        text-align: right;\n",
       "    }\n",
       "</style>\n",
       "<table border=\"1\" class=\"dataframe\">\n",
       "  <thead>\n",
       "    <tr style=\"text-align: right;\">\n",
       "      <th></th>\n",
       "      <th>나이</th>\n",
       "      <th>성별</th>\n",
       "      <th>키</th>\n",
       "      <th>체중</th>\n",
       "    </tr>\n",
       "    <tr>\n",
       "      <th>성명</th>\n",
       "      <th></th>\n",
       "      <th></th>\n",
       "      <th></th>\n",
       "      <th></th>\n",
       "    </tr>\n",
       "  </thead>\n",
       "  <tbody>\n",
       "    <tr>\n",
       "      <th>이겨레</th>\n",
       "      <td>25</td>\n",
       "      <td>남</td>\n",
       "      <td>185</td>\n",
       "      <td>89</td>\n",
       "    </tr>\n",
       "    <tr>\n",
       "      <th>조약돌</th>\n",
       "      <td>19</td>\n",
       "      <td>여</td>\n",
       "      <td>163</td>\n",
       "      <td>53</td>\n",
       "    </tr>\n",
       "  </tbody>\n",
       "</table>\n",
       "</div>"
      ],
      "text/plain": [
       "     나이 성별    키  체중\n",
       "성명                 \n",
       "이겨레  25  남  185  89\n",
       "조약돌  19  여  163  53"
      ]
     },
     "execution_count": 22,
     "metadata": {},
     "output_type": "execute_result"
    }
   ],
   "source": [
    "bio_data = {'성명' : ['이겨레', '조약돌'],\n",
    "            '나이' : [25, 19], '성별' : ['남', '여'],\n",
    "             '키' : [185, 163], '체중' : [89, 53]}\n",
    "\n",
    "df = pd.DataFrame(bio_data)\n",
    "df.set_index('성명', inplace=True)\n",
    "df"
   ]
  },
  {
   "cell_type": "code",
   "execution_count": 23,
   "id": "9602dee5",
   "metadata": {},
   "outputs": [],
   "source": [
    "# 데이터 프레임을 Excel 파일로 저장하기 (저장 파일명 : df_patient.xlsx)\n",
    "\n",
    "df.to_excel('df_patient.xlsx')"
   ]
  },
  {
   "cell_type": "code",
   "execution_count": 24,
   "id": "abb0d80c",
   "metadata": {},
   "outputs": [],
   "source": [
    "# 데이터 프레임을 csv 파일로 저장하기 (저장 파일명 : df_patient.csv)\n",
    "\n",
    "df.to_csv('df_patient.csv')"
   ]
  },
  {
   "cell_type": "markdown",
   "id": "71f45b13",
   "metadata": {},
   "source": [
    "### Excel 파일로 저장하기"
   ]
  },
  {
   "cell_type": "code",
   "execution_count": 25,
   "id": "5148f981",
   "metadata": {},
   "outputs": [],
   "source": [
    "bio_data = {'성명' : ['이겨레', '조약돌'],\n",
    "            '나이' : [25, 19], '성별' : ['남', '여'],\n",
    "             '키' : [185, 163], '체중' : [89, 53]}\n",
    "\n",
    "pulse_data = {'환자코드' : ['A00301', 'D00809'],\n",
    "              '수축기' : [123, 118], '이완기' : [88, 79]}"
   ]
  },
  {
   "cell_type": "code",
   "execution_count": 26,
   "id": "4469b02a",
   "metadata": {},
   "outputs": [
    {
     "data": {
      "text/html": [
       "<div>\n",
       "<style scoped>\n",
       "    .dataframe tbody tr th:only-of-type {\n",
       "        vertical-align: middle;\n",
       "    }\n",
       "\n",
       "    .dataframe tbody tr th {\n",
       "        vertical-align: top;\n",
       "    }\n",
       "\n",
       "    .dataframe thead th {\n",
       "        text-align: right;\n",
       "    }\n",
       "</style>\n",
       "<table border=\"1\" class=\"dataframe\">\n",
       "  <thead>\n",
       "    <tr style=\"text-align: right;\">\n",
       "      <th></th>\n",
       "      <th>나이</th>\n",
       "      <th>성별</th>\n",
       "      <th>키</th>\n",
       "      <th>체중</th>\n",
       "    </tr>\n",
       "    <tr>\n",
       "      <th>성명</th>\n",
       "      <th></th>\n",
       "      <th></th>\n",
       "      <th></th>\n",
       "      <th></th>\n",
       "    </tr>\n",
       "  </thead>\n",
       "  <tbody>\n",
       "    <tr>\n",
       "      <th>이겨레</th>\n",
       "      <td>25</td>\n",
       "      <td>남</td>\n",
       "      <td>185</td>\n",
       "      <td>89</td>\n",
       "    </tr>\n",
       "    <tr>\n",
       "      <th>조약돌</th>\n",
       "      <td>19</td>\n",
       "      <td>여</td>\n",
       "      <td>163</td>\n",
       "      <td>53</td>\n",
       "    </tr>\n",
       "  </tbody>\n",
       "</table>\n",
       "</div>"
      ],
      "text/plain": [
       "     나이 성별    키  체중\n",
       "성명                 \n",
       "이겨레  25  남  185  89\n",
       "조약돌  19  여  163  53"
      ]
     },
     "execution_count": 26,
     "metadata": {},
     "output_type": "execute_result"
    }
   ],
   "source": [
    "# 성명 열을 인덱스로 지정\n",
    "\n",
    "df_01 = pd.DataFrame(bio_data)\n",
    "df_01.set_index('성명', inplace=True)\n",
    "df_01"
   ]
  },
  {
   "cell_type": "code",
   "execution_count": 27,
   "id": "659e948a",
   "metadata": {},
   "outputs": [
    {
     "data": {
      "text/html": [
       "<div>\n",
       "<style scoped>\n",
       "    .dataframe tbody tr th:only-of-type {\n",
       "        vertical-align: middle;\n",
       "    }\n",
       "\n",
       "    .dataframe tbody tr th {\n",
       "        vertical-align: top;\n",
       "    }\n",
       "\n",
       "    .dataframe thead th {\n",
       "        text-align: right;\n",
       "    }\n",
       "</style>\n",
       "<table border=\"1\" class=\"dataframe\">\n",
       "  <thead>\n",
       "    <tr style=\"text-align: right;\">\n",
       "      <th></th>\n",
       "      <th>수축기</th>\n",
       "      <th>이완기</th>\n",
       "    </tr>\n",
       "    <tr>\n",
       "      <th>환자코드</th>\n",
       "      <th></th>\n",
       "      <th></th>\n",
       "    </tr>\n",
       "  </thead>\n",
       "  <tbody>\n",
       "    <tr>\n",
       "      <th>A00301</th>\n",
       "      <td>123</td>\n",
       "      <td>88</td>\n",
       "    </tr>\n",
       "    <tr>\n",
       "      <th>D00809</th>\n",
       "      <td>118</td>\n",
       "      <td>79</td>\n",
       "    </tr>\n",
       "  </tbody>\n",
       "</table>\n",
       "</div>"
      ],
      "text/plain": [
       "        수축기  이완기\n",
       "환자코드            \n",
       "A00301  123   88\n",
       "D00809  118   79"
      ]
     },
     "execution_count": 27,
     "metadata": {},
     "output_type": "execute_result"
    }
   ],
   "source": [
    "# 환자코드 열을 인덱스로 지정\n",
    "\n",
    "df_02 = pd.DataFrame(pulse_data)\n",
    "df_02.set_index('환자코드', inplace=True)\n",
    "df_02"
   ]
  },
  {
   "cell_type": "code",
   "execution_count": 28,
   "id": "b9d08588",
   "metadata": {},
   "outputs": [],
   "source": [
    "# 데이터 프레임 2개를 Excel 파일로 저장\n",
    "\n",
    "d_save = pd.ExcelWriter('df_blood.xlsx')\n",
    "df_01.to_excel(d_save, sheet_name='생체 데이터')  # 첫번째 Excel 시트에 저장\n",
    "df_02.to_excel(d_save, sheet_name='혈압 데이터')  # 두번째 Excel 시트에 저장\n",
    "d_save.save()"
   ]
  },
  {
   "cell_type": "markdown",
   "id": "1ed20099",
   "metadata": {},
   "source": [
    "## 미니프로젝트"
   ]
  },
  {
   "cell_type": "code",
   "execution_count": 29,
   "id": "5c2247ed",
   "metadata": {},
   "outputs": [
    {
     "data": {
      "text/html": [
       "<div>\n",
       "<style scoped>\n",
       "    .dataframe tbody tr th:only-of-type {\n",
       "        vertical-align: middle;\n",
       "    }\n",
       "\n",
       "    .dataframe tbody tr th {\n",
       "        vertical-align: top;\n",
       "    }\n",
       "\n",
       "    .dataframe thead th {\n",
       "        text-align: right;\n",
       "    }\n",
       "</style>\n",
       "<table border=\"1\" class=\"dataframe\">\n",
       "  <thead>\n",
       "    <tr style=\"text-align: right;\">\n",
       "      <th></th>\n",
       "      <th>도시명</th>\n",
       "      <th>1/4분기</th>\n",
       "      <th>2/4분기</th>\n",
       "      <th>3/4분기</th>\n",
       "      <th>4/4분기</th>\n",
       "    </tr>\n",
       "  </thead>\n",
       "  <tbody>\n",
       "    <tr>\n",
       "      <th>0</th>\n",
       "      <td>서울</td>\n",
       "      <td>785</td>\n",
       "      <td>693</td>\n",
       "      <td>885</td>\n",
       "      <td>697</td>\n",
       "    </tr>\n",
       "    <tr>\n",
       "      <th>1</th>\n",
       "      <td>런던</td>\n",
       "      <td>543</td>\n",
       "      <td>608</td>\n",
       "      <td>724</td>\n",
       "      <td>815</td>\n",
       "    </tr>\n",
       "  </tbody>\n",
       "</table>\n",
       "</div>"
      ],
      "text/plain": [
       "  도시명  1/4분기  2/4분기  3/4분기  4/4분기\n",
       "0  서울    785    693    885    697\n",
       "1  런던    543    608    724    815"
      ]
     },
     "execution_count": 29,
     "metadata": {},
     "output_type": "execute_result"
    }
   ],
   "source": [
    "city_data = {'도시명' : ['서울', '런던'],\n",
    "             '1/4분기' : [785, 543], '2/4분기' : [693, 608],\n",
    "             '3/4분기' : [885, 724], '4/4분기' : [697, 815]}\n",
    "\n",
    "df = pd.DataFrame(city_data)\n",
    "df"
   ]
  },
  {
   "cell_type": "code",
   "execution_count": 34,
   "id": "91294605",
   "metadata": {},
   "outputs": [],
   "source": [
    "# 데이터 프레임을 df_cp0901.xlsx 파일로 저장하기\n",
    "\n",
    "c_save = df.to_excel('df_cp0901.xlsx')"
   ]
  },
  {
   "cell_type": "code",
   "execution_count": 35,
   "id": "af6db958",
   "metadata": {},
   "outputs": [],
   "source": [
    "# 데이터 프레임을 df_cp0901.csv 파일로 저장하기\n",
    "\n",
    "df.to_csv('df_cp0901.csv')"
   ]
  },
  {
   "cell_type": "code",
   "execution_count": 36,
   "id": "a90ed988",
   "metadata": {},
   "outputs": [],
   "source": [
    "# 데이터 프레임을 df_cp0901.json 파일로 저장하기\n",
    "\n",
    "df.to_json('df_cp0901.json')"
   ]
  },
  {
   "cell_type": "markdown",
   "id": "354fc462",
   "metadata": {},
   "source": [
    "## Excel 파일 읽어오기"
   ]
  },
  {
   "cell_type": "code",
   "execution_count": 37,
   "id": "ca9a946e",
   "metadata": {},
   "outputs": [
    {
     "name": "stdout",
     "output_type": "stream",
     "text": [
      "    코드번호 성별    키  체중    BMI  수축기  이완기\n",
      "0  33001  남  175  65  21.22  143  110\n",
      "1  34037  여  165  52  19.10  119   78\n",
      "2  35123  여  159  67  26.50  130   83\n",
      "\n",
      "\n",
      "       0   1    2   3      4    5    6\n",
      "0   코드번호  성별    키  체중    BMI  수축기  이완기\n",
      "1  33001   남  175  65  21.22  143  110\n",
      "2  34037   여  165  52   19.1  119   78\n",
      "3  35123   여  159  67   26.5  130   83\n"
     ]
    }
   ],
   "source": [
    "# Excel 파일명 변수에 대입\n",
    "data = 'health_data.xlsx'\n",
    "\n",
    "# 데이터 프레임을 변환\n",
    "df_01 = pd.read_excel(data)\n",
    "df_02 = pd.read_excel(data, header=None)  # 인덱스를 열이름으로 자동할당\n",
    "\n",
    "# 데이터 프레임 출력\n",
    "print(df_01)\n",
    "print('\\n')\n",
    "print(df_02)"
   ]
  },
  {
   "cell_type": "code",
   "execution_count": 38,
   "id": "09432511",
   "metadata": {},
   "outputs": [
    {
     "data": {
      "text/html": [
       "<div>\n",
       "<style scoped>\n",
       "    .dataframe tbody tr th:only-of-type {\n",
       "        vertical-align: middle;\n",
       "    }\n",
       "\n",
       "    .dataframe tbody tr th {\n",
       "        vertical-align: top;\n",
       "    }\n",
       "\n",
       "    .dataframe thead th {\n",
       "        text-align: right;\n",
       "    }\n",
       "</style>\n",
       "<table border=\"1\" class=\"dataframe\">\n",
       "  <thead>\n",
       "    <tr style=\"text-align: right;\">\n",
       "      <th></th>\n",
       "      <th>코드번호</th>\n",
       "      <th>성별</th>\n",
       "      <th>키</th>\n",
       "      <th>체중</th>\n",
       "      <th>BMI</th>\n",
       "      <th>수축기</th>\n",
       "      <th>이완기</th>\n",
       "    </tr>\n",
       "  </thead>\n",
       "  <tbody>\n",
       "    <tr>\n",
       "      <th>0</th>\n",
       "      <td>33001</td>\n",
       "      <td>남</td>\n",
       "      <td>175</td>\n",
       "      <td>65</td>\n",
       "      <td>21.22</td>\n",
       "      <td>143</td>\n",
       "      <td>110</td>\n",
       "    </tr>\n",
       "    <tr>\n",
       "      <th>1</th>\n",
       "      <td>34037</td>\n",
       "      <td>여</td>\n",
       "      <td>165</td>\n",
       "      <td>52</td>\n",
       "      <td>19.10</td>\n",
       "      <td>119</td>\n",
       "      <td>78</td>\n",
       "    </tr>\n",
       "    <tr>\n",
       "      <th>2</th>\n",
       "      <td>35123</td>\n",
       "      <td>여</td>\n",
       "      <td>159</td>\n",
       "      <td>67</td>\n",
       "      <td>26.50</td>\n",
       "      <td>130</td>\n",
       "      <td>83</td>\n",
       "    </tr>\n",
       "  </tbody>\n",
       "</table>\n",
       "</div>"
      ],
      "text/plain": [
       "    코드번호 성별    키  체중    BMI  수축기  이완기\n",
       "0  33001  남  175  65  21.22  143  110\n",
       "1  34037  여  165  52  19.10  119   78\n",
       "2  35123  여  159  67  26.50  130   83"
      ]
     },
     "execution_count": 38,
     "metadata": {},
     "output_type": "execute_result"
    }
   ],
   "source": [
    "# CSV 파일 읽어오기\n",
    "data = 'health_data_02.csv'\n",
    "\n",
    "# 데이터 프레임으로 변환 (환경에 따라 encoding 설정하기)\n",
    "df = pd.read_csv(data)\n",
    "df"
   ]
  },
  {
   "cell_type": "code",
   "execution_count": 39,
   "id": "80d4d599",
   "metadata": {},
   "outputs": [
    {
     "data": {
      "text/html": [
       "<div>\n",
       "<style scoped>\n",
       "    .dataframe tbody tr th:only-of-type {\n",
       "        vertical-align: middle;\n",
       "    }\n",
       "\n",
       "    .dataframe tbody tr th {\n",
       "        vertical-align: top;\n",
       "    }\n",
       "\n",
       "    .dataframe thead th {\n",
       "        text-align: right;\n",
       "    }\n",
       "</style>\n",
       "<table border=\"1\" class=\"dataframe\">\n",
       "  <thead>\n",
       "    <tr style=\"text-align: right;\">\n",
       "      <th></th>\n",
       "      <th>나이</th>\n",
       "      <th>성별</th>\n",
       "      <th>키</th>\n",
       "      <th>체중</th>\n",
       "    </tr>\n",
       "  </thead>\n",
       "  <tbody>\n",
       "    <tr>\n",
       "      <th>이겨레</th>\n",
       "      <td>25</td>\n",
       "      <td>남</td>\n",
       "      <td>185</td>\n",
       "      <td>89</td>\n",
       "    </tr>\n",
       "    <tr>\n",
       "      <th>조약돌</th>\n",
       "      <td>19</td>\n",
       "      <td>여</td>\n",
       "      <td>163</td>\n",
       "      <td>53</td>\n",
       "    </tr>\n",
       "  </tbody>\n",
       "</table>\n",
       "</div>"
      ],
      "text/plain": [
       "     나이 성별    키  체중\n",
       "이겨레  25  남  185  89\n",
       "조약돌  19  여  163  53"
      ]
     },
     "execution_count": 39,
     "metadata": {},
     "output_type": "execute_result"
    }
   ],
   "source": [
    "# Json 파일 읽어오기\n",
    "data = 'df_patient.json'\n",
    "\n",
    "df = pd.read_json(data)\n",
    "df"
   ]
  },
  {
   "cell_type": "markdown",
   "id": "c16219dc",
   "metadata": {},
   "source": [
    "## 행 인덱스 설정\n",
    "- Set_index() 메소드"
   ]
  },
  {
   "cell_type": "code",
   "execution_count": 40,
   "id": "0187af0e",
   "metadata": {},
   "outputs": [],
   "source": [
    "bio_data = {'성명' : ['이겨레', '조약돌'],\n",
    "            '나이' : [25, 19], '성별' : ['남', '여'],\n",
    "             '키' : [185, 163], '체중' : [89, 53]}\n",
    "\n",
    "df = pd.DataFrame(bio_data)"
   ]
  },
  {
   "cell_type": "code",
   "execution_count": 41,
   "id": "1f05416c",
   "metadata": {},
   "outputs": [
    {
     "data": {
      "text/html": [
       "<div>\n",
       "<style scoped>\n",
       "    .dataframe tbody tr th:only-of-type {\n",
       "        vertical-align: middle;\n",
       "    }\n",
       "\n",
       "    .dataframe tbody tr th {\n",
       "        vertical-align: top;\n",
       "    }\n",
       "\n",
       "    .dataframe thead th {\n",
       "        text-align: right;\n",
       "    }\n",
       "</style>\n",
       "<table border=\"1\" class=\"dataframe\">\n",
       "  <thead>\n",
       "    <tr style=\"text-align: right;\">\n",
       "      <th></th>\n",
       "      <th>나이</th>\n",
       "      <th>성별</th>\n",
       "      <th>키</th>\n",
       "      <th>체중</th>\n",
       "    </tr>\n",
       "    <tr>\n",
       "      <th>성명</th>\n",
       "      <th></th>\n",
       "      <th></th>\n",
       "      <th></th>\n",
       "      <th></th>\n",
       "    </tr>\n",
       "  </thead>\n",
       "  <tbody>\n",
       "    <tr>\n",
       "      <th>이겨레</th>\n",
       "      <td>25</td>\n",
       "      <td>남</td>\n",
       "      <td>185</td>\n",
       "      <td>89</td>\n",
       "    </tr>\n",
       "    <tr>\n",
       "      <th>조약돌</th>\n",
       "      <td>19</td>\n",
       "      <td>여</td>\n",
       "      <td>163</td>\n",
       "      <td>53</td>\n",
       "    </tr>\n",
       "  </tbody>\n",
       "</table>\n",
       "</div>"
      ],
      "text/plain": [
       "     나이 성별    키  체중\n",
       "성명                 \n",
       "이겨레  25  남  185  89\n",
       "조약돌  19  여  163  53"
      ]
     },
     "execution_count": 41,
     "metadata": {},
     "output_type": "execute_result"
    }
   ],
   "source": [
    "# 서로 다른 데이터 프레임\n",
    "\n",
    "df_01 = df.set_index('성명')\n",
    "df_01"
   ]
  },
  {
   "cell_type": "code",
   "execution_count": 42,
   "id": "ad8c2fe2",
   "metadata": {},
   "outputs": [
    {
     "data": {
      "text/html": [
       "<div>\n",
       "<style scoped>\n",
       "    .dataframe tbody tr th:only-of-type {\n",
       "        vertical-align: middle;\n",
       "    }\n",
       "\n",
       "    .dataframe tbody tr th {\n",
       "        vertical-align: top;\n",
       "    }\n",
       "\n",
       "    .dataframe thead th {\n",
       "        text-align: right;\n",
       "    }\n",
       "</style>\n",
       "<table border=\"1\" class=\"dataframe\">\n",
       "  <thead>\n",
       "    <tr style=\"text-align: right;\">\n",
       "      <th></th>\n",
       "      <th></th>\n",
       "      <th>키</th>\n",
       "      <th>체중</th>\n",
       "    </tr>\n",
       "    <tr>\n",
       "      <th>나이</th>\n",
       "      <th>성별</th>\n",
       "      <th></th>\n",
       "      <th></th>\n",
       "    </tr>\n",
       "  </thead>\n",
       "  <tbody>\n",
       "    <tr>\n",
       "      <th>25</th>\n",
       "      <th>남</th>\n",
       "      <td>185</td>\n",
       "      <td>89</td>\n",
       "    </tr>\n",
       "    <tr>\n",
       "      <th>19</th>\n",
       "      <th>여</th>\n",
       "      <td>163</td>\n",
       "      <td>53</td>\n",
       "    </tr>\n",
       "  </tbody>\n",
       "</table>\n",
       "</div>"
      ],
      "text/plain": [
       "         키  체중\n",
       "나이 성별         \n",
       "25 남   185  89\n",
       "19 여   163  53"
      ]
     },
     "execution_count": 42,
     "metadata": {},
     "output_type": "execute_result"
    }
   ],
   "source": [
    "# 나이와 성별 - 2개 열을 행 인덱스로 설정\n",
    "\n",
    "df_02 = df_01.set_index(['나이', '성별'])\n",
    "df_02"
   ]
  },
  {
   "cell_type": "markdown",
   "id": "afb16fb7",
   "metadata": {},
   "source": [
    "## 행 인덱스 재배열"
   ]
  },
  {
   "cell_type": "code",
   "execution_count": 43,
   "id": "eb6b09c1",
   "metadata": {},
   "outputs": [
    {
     "data": {
      "text/html": [
       "<div>\n",
       "<style scoped>\n",
       "    .dataframe tbody tr th:only-of-type {\n",
       "        vertical-align: middle;\n",
       "    }\n",
       "\n",
       "    .dataframe tbody tr th {\n",
       "        vertical-align: top;\n",
       "    }\n",
       "\n",
       "    .dataframe thead th {\n",
       "        text-align: right;\n",
       "    }\n",
       "</style>\n",
       "<table border=\"1\" class=\"dataframe\">\n",
       "  <thead>\n",
       "    <tr style=\"text-align: right;\">\n",
       "      <th></th>\n",
       "      <th>A</th>\n",
       "      <th>B</th>\n",
       "    </tr>\n",
       "  </thead>\n",
       "  <tbody>\n",
       "    <tr>\n",
       "      <th>R0</th>\n",
       "      <td>10</td>\n",
       "      <td>40</td>\n",
       "    </tr>\n",
       "    <tr>\n",
       "      <th>R1</th>\n",
       "      <td>20</td>\n",
       "      <td>50</td>\n",
       "    </tr>\n",
       "    <tr>\n",
       "      <th>R2</th>\n",
       "      <td>30</td>\n",
       "      <td>60</td>\n",
       "    </tr>\n",
       "  </tbody>\n",
       "</table>\n",
       "</div>"
      ],
      "text/plain": [
       "     A   B\n",
       "R0  10  40\n",
       "R1  20  50\n",
       "R2  30  60"
      ]
     },
     "execution_count": 43,
     "metadata": {},
     "output_type": "execute_result"
    }
   ],
   "source": [
    "# 딕셔너리 정의\n",
    "dic_data = {'A': [10, 20, 30], 'B' : [40, 50, 60]}\n",
    "\n",
    "# 딕셔너리를 데이터 프레임으로 변환하고 행 인덱스 3개 지정\n",
    "df = pd.DataFrame(dic_data, index=['R0', 'R1', 'R2'])\n",
    "df"
   ]
  },
  {
   "cell_type": "code",
   "execution_count": 44,
   "id": "69ac5b2b",
   "metadata": {},
   "outputs": [
    {
     "data": {
      "text/html": [
       "<div>\n",
       "<style scoped>\n",
       "    .dataframe tbody tr th:only-of-type {\n",
       "        vertical-align: middle;\n",
       "    }\n",
       "\n",
       "    .dataframe tbody tr th {\n",
       "        vertical-align: top;\n",
       "    }\n",
       "\n",
       "    .dataframe thead th {\n",
       "        text-align: right;\n",
       "    }\n",
       "</style>\n",
       "<table border=\"1\" class=\"dataframe\">\n",
       "  <thead>\n",
       "    <tr style=\"text-align: right;\">\n",
       "      <th></th>\n",
       "      <th>A</th>\n",
       "      <th>B</th>\n",
       "    </tr>\n",
       "  </thead>\n",
       "  <tbody>\n",
       "    <tr>\n",
       "      <th>R0</th>\n",
       "      <td>10.0</td>\n",
       "      <td>40.0</td>\n",
       "    </tr>\n",
       "    <tr>\n",
       "      <th>R1</th>\n",
       "      <td>20.0</td>\n",
       "      <td>50.0</td>\n",
       "    </tr>\n",
       "    <tr>\n",
       "      <th>R2</th>\n",
       "      <td>30.0</td>\n",
       "      <td>60.0</td>\n",
       "    </tr>\n",
       "    <tr>\n",
       "      <th>R3</th>\n",
       "      <td>NaN</td>\n",
       "      <td>NaN</td>\n",
       "    </tr>\n",
       "    <tr>\n",
       "      <th>R4</th>\n",
       "      <td>NaN</td>\n",
       "      <td>NaN</td>\n",
       "    </tr>\n",
       "  </tbody>\n",
       "</table>\n",
       "</div>"
      ],
      "text/plain": [
       "       A     B\n",
       "R0  10.0  40.0\n",
       "R1  20.0  50.0\n",
       "R2  30.0  60.0\n",
       "R3   NaN   NaN\n",
       "R4   NaN   NaN"
      ]
     },
     "execution_count": 44,
     "metadata": {},
     "output_type": "execute_result"
    }
   ],
   "source": [
    "# 행 인덱스를 5개로 재지정\n",
    "new_index = ['R0', 'R1', 'R2', 'R3', 'R4']\n",
    "df_01 = df.reindex(new_index)\n",
    "df_01"
   ]
  },
  {
   "cell_type": "code",
   "execution_count": 45,
   "id": "8ca6f8bf",
   "metadata": {},
   "outputs": [
    {
     "data": {
      "text/html": [
       "<div>\n",
       "<style scoped>\n",
       "    .dataframe tbody tr th:only-of-type {\n",
       "        vertical-align: middle;\n",
       "    }\n",
       "\n",
       "    .dataframe tbody tr th {\n",
       "        vertical-align: top;\n",
       "    }\n",
       "\n",
       "    .dataframe thead th {\n",
       "        text-align: right;\n",
       "    }\n",
       "</style>\n",
       "<table border=\"1\" class=\"dataframe\">\n",
       "  <thead>\n",
       "    <tr style=\"text-align: right;\">\n",
       "      <th></th>\n",
       "      <th>A</th>\n",
       "      <th>B</th>\n",
       "    </tr>\n",
       "  </thead>\n",
       "  <tbody>\n",
       "    <tr>\n",
       "      <th>R0</th>\n",
       "      <td>10</td>\n",
       "      <td>40</td>\n",
       "    </tr>\n",
       "    <tr>\n",
       "      <th>R1</th>\n",
       "      <td>20</td>\n",
       "      <td>50</td>\n",
       "    </tr>\n",
       "    <tr>\n",
       "      <th>R2</th>\n",
       "      <td>30</td>\n",
       "      <td>60</td>\n",
       "    </tr>\n",
       "    <tr>\n",
       "      <th>R3</th>\n",
       "      <td>0</td>\n",
       "      <td>0</td>\n",
       "    </tr>\n",
       "    <tr>\n",
       "      <th>R4</th>\n",
       "      <td>0</td>\n",
       "      <td>0</td>\n",
       "    </tr>\n",
       "  </tbody>\n",
       "</table>\n",
       "</div>"
      ],
      "text/plain": [
       "     A   B\n",
       "R0  10  40\n",
       "R1  20  50\n",
       "R2  30  60\n",
       "R3   0   0\n",
       "R4   0   0"
      ]
     },
     "execution_count": 45,
     "metadata": {},
     "output_type": "execute_result"
    }
   ],
   "source": [
    "# 행 인덱스 재배열로 발생한 NaN의 값을 0으로 채우기\n",
    "# NaN -> Not a Number -> 유효한 값이 존재하지 않는 누락된 데이터\n",
    "\n",
    "new_index = ['R0', 'R1', 'R2', 'R3', 'R4']\n",
    "df_02 = df.reindex(new_index, fill_value=0)\n",
    "df_02"
   ]
  },
  {
   "cell_type": "markdown",
   "id": "e426d536",
   "metadata": {},
   "source": [
    "## 행 인덱스 초기화"
   ]
  },
  {
   "cell_type": "code",
   "execution_count": 46,
   "id": "b26623a1",
   "metadata": {},
   "outputs": [
    {
     "data": {
      "text/html": [
       "<div>\n",
       "<style scoped>\n",
       "    .dataframe tbody tr th:only-of-type {\n",
       "        vertical-align: middle;\n",
       "    }\n",
       "\n",
       "    .dataframe tbody tr th {\n",
       "        vertical-align: top;\n",
       "    }\n",
       "\n",
       "    .dataframe thead th {\n",
       "        text-align: right;\n",
       "    }\n",
       "</style>\n",
       "<table border=\"1\" class=\"dataframe\">\n",
       "  <thead>\n",
       "    <tr style=\"text-align: right;\">\n",
       "      <th></th>\n",
       "      <th>index</th>\n",
       "      <th>A</th>\n",
       "      <th>B</th>\n",
       "    </tr>\n",
       "  </thead>\n",
       "  <tbody>\n",
       "    <tr>\n",
       "      <th>0</th>\n",
       "      <td>R0</td>\n",
       "      <td>10</td>\n",
       "      <td>40</td>\n",
       "    </tr>\n",
       "    <tr>\n",
       "      <th>1</th>\n",
       "      <td>R1</td>\n",
       "      <td>20</td>\n",
       "      <td>50</td>\n",
       "    </tr>\n",
       "    <tr>\n",
       "      <th>2</th>\n",
       "      <td>R2</td>\n",
       "      <td>30</td>\n",
       "      <td>60</td>\n",
       "    </tr>\n",
       "  </tbody>\n",
       "</table>\n",
       "</div>"
      ],
      "text/plain": [
       "  index   A   B\n",
       "0    R0  10  40\n",
       "1    R1  20  50\n",
       "2    R2  30  60"
      ]
     },
     "execution_count": 46,
     "metadata": {},
     "output_type": "execute_result"
    }
   ],
   "source": [
    "# 행 인덱스를 정수형 인덱스로 초기화\n",
    "\n",
    "df_01 = df.reset_index()\n",
    "df_01"
   ]
  },
  {
   "cell_type": "code",
   "execution_count": 47,
   "id": "73144d90",
   "metadata": {},
   "outputs": [
    {
     "data": {
      "text/html": [
       "<div>\n",
       "<style scoped>\n",
       "    .dataframe tbody tr th:only-of-type {\n",
       "        vertical-align: middle;\n",
       "    }\n",
       "\n",
       "    .dataframe tbody tr th {\n",
       "        vertical-align: top;\n",
       "    }\n",
       "\n",
       "    .dataframe thead th {\n",
       "        text-align: right;\n",
       "    }\n",
       "</style>\n",
       "<table border=\"1\" class=\"dataframe\">\n",
       "  <thead>\n",
       "    <tr style=\"text-align: right;\">\n",
       "      <th></th>\n",
       "      <th>A</th>\n",
       "      <th>B</th>\n",
       "    </tr>\n",
       "  </thead>\n",
       "  <tbody>\n",
       "    <tr>\n",
       "      <th>R2</th>\n",
       "      <td>30</td>\n",
       "      <td>60</td>\n",
       "    </tr>\n",
       "    <tr>\n",
       "      <th>R1</th>\n",
       "      <td>20</td>\n",
       "      <td>50</td>\n",
       "    </tr>\n",
       "    <tr>\n",
       "      <th>R0</th>\n",
       "      <td>10</td>\n",
       "      <td>40</td>\n",
       "    </tr>\n",
       "  </tbody>\n",
       "</table>\n",
       "</div>"
      ],
      "text/plain": [
       "     A   B\n",
       "R2  30  60\n",
       "R1  20  50\n",
       "R0  10  40"
      ]
     },
     "execution_count": 47,
     "metadata": {},
     "output_type": "execute_result"
    }
   ],
   "source": [
    "# 행 인덱스를 기준으로 데이터 프레임을 내림차순으로 정렬\n",
    "\n",
    "df_01 = df.sort_index(ascending=False)\n",
    "df_01"
   ]
  },
  {
   "cell_type": "code",
   "execution_count": 48,
   "id": "b706cf91",
   "metadata": {},
   "outputs": [
    {
     "name": "stdout",
     "output_type": "stream",
     "text": [
      "       코드   이름 성별  연령 혈액형    키  체중   BMI       운동시작일\n",
      "0  330531  이겨레  남  26   A  181  76  23.2  2021-01-01\n",
      "1  340037  조약돌  여  25   B  185  89  26.0  2020-12-25\n",
      "\n",
      "\n",
      "       코드   이름 성별  연령 혈액형    키  체중    BMI       운동시작일\n",
      "5  341257  송가인  여  45   O  157  48  19.47         NaN\n",
      "6  472358  성공찬  여  53   B  159  50  19.78  1997-10-24\n",
      "7  185823  황산성  남  52   B  178  87  27.46         NaN\n",
      "8  232305  신영웅  남  19  AB  163  53  19.95  2021-05-08\n",
      "9  489602  최고봉  남  64   A  168  57  20.20  1988-08-15\n"
     ]
    }
   ],
   "source": [
    "data = 'member.csv'\n",
    "\n",
    "df = pd.read_csv(data)\n",
    "\n",
    "print(df.head(2))    #데이터 프레임의 앞부분 2행과 뒷부분 5행만 출력\n",
    "print('\\n')\n",
    "\n",
    "print(df.tail())     #데이터 프레임의 뒷부분 5행만 출력"
   ]
  },
  {
   "cell_type": "markdown",
   "id": "518abda7",
   "metadata": {},
   "source": [
    "# 데이터 프레임의 크기"
   ]
  },
  {
   "cell_type": "code",
   "execution_count": 49,
   "id": "bd0283c0",
   "metadata": {},
   "outputs": [
    {
     "name": "stdout",
     "output_type": "stream",
     "text": [
      ">> (행, 열)의 크기 :  (10, 9)\n"
     ]
    }
   ],
   "source": [
    "# shape 속성\n",
    "# 데이터 프레임의 행과 열의 크기에 대한 정보\n",
    "\n",
    "print('>> (행, 열)의 크기 : ', df.shape)   "
   ]
  },
  {
   "cell_type": "markdown",
   "id": "ed92fa84",
   "metadata": {},
   "source": [
    "### 특정 열에 대한 자료형 정보 확인"
   ]
  },
  {
   "cell_type": "code",
   "execution_count": 50,
   "id": "ed079b83",
   "metadata": {},
   "outputs": [
    {
     "name": "stdout",
     "output_type": "stream",
     "text": [
      ">> 데이터 프레임의 특정 열에 대한 자료형 정보 출력\n",
      ">> 1. 이름 열의 자료형 :  object\n",
      ">> 2. 연령 열의 자료형 :  int64\n",
      ">> 3. BMI 열의 자료형 :  float64\n"
     ]
    }
   ],
   "source": [
    "# 지정한 특정 열에 대한 자료형의 정보 출력\n",
    "\n",
    "print('>> 데이터 프레임의 특정 열에 대한 자료형 정보 출력')\n",
    "print('>> 1. 이름 열의 자료형 : ', df.이름.dtypes)\n",
    "print('>> 2. 연령 열의 자료형 : ', df.연령.dtypes) \n",
    "print('>> 3. BMI 열의 자료형 : ', df.BMI.dtypes) "
   ]
  },
  {
   "cell_type": "markdown",
   "id": "e8b5a573",
   "metadata": {},
   "source": [
    "### 산술 데이터의 기술 통계 정보\n",
    "- describe() 메소드    정말 많이 사용하는 메소드"
   ]
  },
  {
   "cell_type": "code",
   "execution_count": 51,
   "id": "d139f02c",
   "metadata": {},
   "outputs": [
    {
     "name": "stdout",
     "output_type": "stream",
     "text": [
      ">> 산술 데이터에 대해서만 기술 통계 출력\n"
     ]
    },
    {
     "data": {
      "text/html": [
       "<div>\n",
       "<style scoped>\n",
       "    .dataframe tbody tr th:only-of-type {\n",
       "        vertical-align: middle;\n",
       "    }\n",
       "\n",
       "    .dataframe tbody tr th {\n",
       "        vertical-align: top;\n",
       "    }\n",
       "\n",
       "    .dataframe thead th {\n",
       "        text-align: right;\n",
       "    }\n",
       "</style>\n",
       "<table border=\"1\" class=\"dataframe\">\n",
       "  <thead>\n",
       "    <tr style=\"text-align: right;\">\n",
       "      <th></th>\n",
       "      <th>코드</th>\n",
       "      <th>연령</th>\n",
       "      <th>키</th>\n",
       "      <th>체중</th>\n",
       "      <th>BMI</th>\n",
       "    </tr>\n",
       "  </thead>\n",
       "  <tbody>\n",
       "    <tr>\n",
       "      <th>count</th>\n",
       "      <td>10.000000</td>\n",
       "      <td>10.000000</td>\n",
       "      <td>10.000000</td>\n",
       "      <td>10.000000</td>\n",
       "      <td>10.000000</td>\n",
       "    </tr>\n",
       "    <tr>\n",
       "      <th>mean</th>\n",
       "      <td>342056.500000</td>\n",
       "      <td>39.000000</td>\n",
       "      <td>172.700000</td>\n",
       "      <td>67.300000</td>\n",
       "      <td>22.163000</td>\n",
       "    </tr>\n",
       "    <tr>\n",
       "      <th>std</th>\n",
       "      <td>117049.733168</td>\n",
       "      <td>15.202339</td>\n",
       "      <td>11.898179</td>\n",
       "      <td>17.807926</td>\n",
       "      <td>3.086555</td>\n",
       "    </tr>\n",
       "    <tr>\n",
       "      <th>min</th>\n",
       "      <td>185823.000000</td>\n",
       "      <td>19.000000</td>\n",
       "      <td>157.000000</td>\n",
       "      <td>48.000000</td>\n",
       "      <td>19.470000</td>\n",
       "    </tr>\n",
       "    <tr>\n",
       "      <th>25%</th>\n",
       "      <td>256861.500000</td>\n",
       "      <td>26.250000</td>\n",
       "      <td>163.750000</td>\n",
       "      <td>53.500000</td>\n",
       "      <td>19.952500</td>\n",
       "    </tr>\n",
       "    <tr>\n",
       "      <th>50%</th>\n",
       "      <td>335290.000000</td>\n",
       "      <td>38.000000</td>\n",
       "      <td>172.500000</td>\n",
       "      <td>60.000000</td>\n",
       "      <td>20.155000</td>\n",
       "    </tr>\n",
       "    <tr>\n",
       "      <th>75%</th>\n",
       "      <td>439582.750000</td>\n",
       "      <td>51.000000</td>\n",
       "      <td>180.250000</td>\n",
       "      <td>84.250000</td>\n",
       "      <td>24.925000</td>\n",
       "    </tr>\n",
       "    <tr>\n",
       "      <th>max</th>\n",
       "      <td>503546.000000</td>\n",
       "      <td>64.000000</td>\n",
       "      <td>193.000000</td>\n",
       "      <td>95.000000</td>\n",
       "      <td>27.460000</td>\n",
       "    </tr>\n",
       "  </tbody>\n",
       "</table>\n",
       "</div>"
      ],
      "text/plain": [
       "                  코드         연령           키         체중        BMI\n",
       "count      10.000000  10.000000   10.000000  10.000000  10.000000\n",
       "mean   342056.500000  39.000000  172.700000  67.300000  22.163000\n",
       "std    117049.733168  15.202339   11.898179  17.807926   3.086555\n",
       "min    185823.000000  19.000000  157.000000  48.000000  19.470000\n",
       "25%    256861.500000  26.250000  163.750000  53.500000  19.952500\n",
       "50%    335290.000000  38.000000  172.500000  60.000000  20.155000\n",
       "75%    439582.750000  51.000000  180.250000  84.250000  24.925000\n",
       "max    503546.000000  64.000000  193.000000  95.000000  27.460000"
      ]
     },
     "execution_count": 51,
     "metadata": {},
     "output_type": "execute_result"
    }
   ],
   "source": [
    "# describe() 메소드 사용해보기\n",
    "\n",
    "print('>> 산술 데이터에 대해서만 기술 통계 출력')\n",
    "df.describe()"
   ]
  },
  {
   "cell_type": "markdown",
   "id": "38af7010",
   "metadata": {},
   "source": [
    "- describe() 메소드와 include='all' 옵션"
   ]
  },
  {
   "cell_type": "code",
   "execution_count": 52,
   "id": "6e65e574",
   "metadata": {},
   "outputs": [
    {
     "data": {
      "text/html": [
       "<div>\n",
       "<style scoped>\n",
       "    .dataframe tbody tr th:only-of-type {\n",
       "        vertical-align: middle;\n",
       "    }\n",
       "\n",
       "    .dataframe tbody tr th {\n",
       "        vertical-align: top;\n",
       "    }\n",
       "\n",
       "    .dataframe thead th {\n",
       "        text-align: right;\n",
       "    }\n",
       "</style>\n",
       "<table border=\"1\" class=\"dataframe\">\n",
       "  <thead>\n",
       "    <tr style=\"text-align: right;\">\n",
       "      <th></th>\n",
       "      <th>코드</th>\n",
       "      <th>이름</th>\n",
       "      <th>성별</th>\n",
       "      <th>연령</th>\n",
       "      <th>혈액형</th>\n",
       "      <th>키</th>\n",
       "      <th>체중</th>\n",
       "      <th>BMI</th>\n",
       "      <th>운동시작일</th>\n",
       "    </tr>\n",
       "  </thead>\n",
       "  <tbody>\n",
       "    <tr>\n",
       "      <th>count</th>\n",
       "      <td>10.000000</td>\n",
       "      <td>10</td>\n",
       "      <td>10</td>\n",
       "      <td>10.000000</td>\n",
       "      <td>10</td>\n",
       "      <td>10.000000</td>\n",
       "      <td>10.000000</td>\n",
       "      <td>10.000000</td>\n",
       "      <td>6</td>\n",
       "    </tr>\n",
       "    <tr>\n",
       "      <th>unique</th>\n",
       "      <td>NaN</td>\n",
       "      <td>10</td>\n",
       "      <td>2</td>\n",
       "      <td>NaN</td>\n",
       "      <td>4</td>\n",
       "      <td>NaN</td>\n",
       "      <td>NaN</td>\n",
       "      <td>NaN</td>\n",
       "      <td>6</td>\n",
       "    </tr>\n",
       "    <tr>\n",
       "      <th>top</th>\n",
       "      <td>NaN</td>\n",
       "      <td>신영웅</td>\n",
       "      <td>남</td>\n",
       "      <td>NaN</td>\n",
       "      <td>A</td>\n",
       "      <td>NaN</td>\n",
       "      <td>NaN</td>\n",
       "      <td>NaN</td>\n",
       "      <td>1988-08-15</td>\n",
       "    </tr>\n",
       "    <tr>\n",
       "      <th>freq</th>\n",
       "      <td>NaN</td>\n",
       "      <td>1</td>\n",
       "      <td>6</td>\n",
       "      <td>NaN</td>\n",
       "      <td>3</td>\n",
       "      <td>NaN</td>\n",
       "      <td>NaN</td>\n",
       "      <td>NaN</td>\n",
       "      <td>1</td>\n",
       "    </tr>\n",
       "    <tr>\n",
       "      <th>mean</th>\n",
       "      <td>342056.500000</td>\n",
       "      <td>NaN</td>\n",
       "      <td>NaN</td>\n",
       "      <td>39.000000</td>\n",
       "      <td>NaN</td>\n",
       "      <td>172.700000</td>\n",
       "      <td>67.300000</td>\n",
       "      <td>22.163000</td>\n",
       "      <td>NaN</td>\n",
       "    </tr>\n",
       "    <tr>\n",
       "      <th>std</th>\n",
       "      <td>117049.733168</td>\n",
       "      <td>NaN</td>\n",
       "      <td>NaN</td>\n",
       "      <td>15.202339</td>\n",
       "      <td>NaN</td>\n",
       "      <td>11.898179</td>\n",
       "      <td>17.807926</td>\n",
       "      <td>3.086555</td>\n",
       "      <td>NaN</td>\n",
       "    </tr>\n",
       "    <tr>\n",
       "      <th>min</th>\n",
       "      <td>185823.000000</td>\n",
       "      <td>NaN</td>\n",
       "      <td>NaN</td>\n",
       "      <td>19.000000</td>\n",
       "      <td>NaN</td>\n",
       "      <td>157.000000</td>\n",
       "      <td>48.000000</td>\n",
       "      <td>19.470000</td>\n",
       "      <td>NaN</td>\n",
       "    </tr>\n",
       "    <tr>\n",
       "      <th>25%</th>\n",
       "      <td>256861.500000</td>\n",
       "      <td>NaN</td>\n",
       "      <td>NaN</td>\n",
       "      <td>26.250000</td>\n",
       "      <td>NaN</td>\n",
       "      <td>163.750000</td>\n",
       "      <td>53.500000</td>\n",
       "      <td>19.952500</td>\n",
       "      <td>NaN</td>\n",
       "    </tr>\n",
       "    <tr>\n",
       "      <th>50%</th>\n",
       "      <td>335290.000000</td>\n",
       "      <td>NaN</td>\n",
       "      <td>NaN</td>\n",
       "      <td>38.000000</td>\n",
       "      <td>NaN</td>\n",
       "      <td>172.500000</td>\n",
       "      <td>60.000000</td>\n",
       "      <td>20.155000</td>\n",
       "      <td>NaN</td>\n",
       "    </tr>\n",
       "    <tr>\n",
       "      <th>75%</th>\n",
       "      <td>439582.750000</td>\n",
       "      <td>NaN</td>\n",
       "      <td>NaN</td>\n",
       "      <td>51.000000</td>\n",
       "      <td>NaN</td>\n",
       "      <td>180.250000</td>\n",
       "      <td>84.250000</td>\n",
       "      <td>24.925000</td>\n",
       "      <td>NaN</td>\n",
       "    </tr>\n",
       "    <tr>\n",
       "      <th>max</th>\n",
       "      <td>503546.000000</td>\n",
       "      <td>NaN</td>\n",
       "      <td>NaN</td>\n",
       "      <td>64.000000</td>\n",
       "      <td>NaN</td>\n",
       "      <td>193.000000</td>\n",
       "      <td>95.000000</td>\n",
       "      <td>27.460000</td>\n",
       "      <td>NaN</td>\n",
       "    </tr>\n",
       "  </tbody>\n",
       "</table>\n",
       "</div>"
      ],
      "text/plain": [
       "                   코드   이름   성별         연령  혈액형           키         체중  \\\n",
       "count       10.000000   10   10  10.000000   10   10.000000  10.000000   \n",
       "unique            NaN   10    2        NaN    4         NaN        NaN   \n",
       "top               NaN  신영웅    남        NaN    A         NaN        NaN   \n",
       "freq              NaN    1    6        NaN    3         NaN        NaN   \n",
       "mean    342056.500000  NaN  NaN  39.000000  NaN  172.700000  67.300000   \n",
       "std     117049.733168  NaN  NaN  15.202339  NaN   11.898179  17.807926   \n",
       "min     185823.000000  NaN  NaN  19.000000  NaN  157.000000  48.000000   \n",
       "25%     256861.500000  NaN  NaN  26.250000  NaN  163.750000  53.500000   \n",
       "50%     335290.000000  NaN  NaN  38.000000  NaN  172.500000  60.000000   \n",
       "75%     439582.750000  NaN  NaN  51.000000  NaN  180.250000  84.250000   \n",
       "max     503546.000000  NaN  NaN  64.000000  NaN  193.000000  95.000000   \n",
       "\n",
       "              BMI       운동시작일  \n",
       "count   10.000000           6  \n",
       "unique        NaN           6  \n",
       "top           NaN  1988-08-15  \n",
       "freq          NaN           1  \n",
       "mean    22.163000         NaN  \n",
       "std      3.086555         NaN  \n",
       "min     19.470000         NaN  \n",
       "25%     19.952500         NaN  \n",
       "50%     20.155000         NaN  \n",
       "75%     24.925000         NaN  \n",
       "max     27.460000         NaN  "
      ]
     },
     "execution_count": 52,
     "metadata": {},
     "output_type": "execute_result"
    }
   ],
   "source": [
    "df.describe(include='all')      # 산술 데이터가 아닌 열 포함 기술 통계 정보 출력"
   ]
  },
  {
   "cell_type": "markdown",
   "id": "9a57bc71",
   "metadata": {},
   "source": [
    "## 각 열의 데이터 개수 확인"
   ]
  },
  {
   "cell_type": "code",
   "execution_count": 56,
   "id": "a1e4344c",
   "metadata": {},
   "outputs": [
    {
     "data": {
      "text/plain": [
       "코드       10\n",
       "이름       10\n",
       "성별       10\n",
       "연령       10\n",
       "혈액형      10\n",
       "키        10\n",
       "체중       10\n",
       "BMI      10\n",
       "운동시작일     6\n",
       "dtype: int64"
      ]
     },
     "execution_count": 56,
     "metadata": {},
     "output_type": "execute_result"
    }
   ],
   "source": [
    "# count() 메소드\n",
    "# 데이터 프레임에 존재하는 각 열의 데이터 개수 출력\n",
    "df.count()"
   ]
  },
  {
   "cell_type": "code",
   "execution_count": 32,
   "id": "4e4d2a16",
   "metadata": {},
   "outputs": [
    {
     "data": {
      "text/plain": [
       "A     3\n",
       "B     3\n",
       "AB    2\n",
       "O     2\n",
       "Name: 혈액형, dtype: int64"
      ]
     },
     "execution_count": 32,
     "metadata": {},
     "output_type": "execute_result"
    }
   ],
   "source": [
    "data = 'member.csv'\n",
    "df = pd.read_csv(data)\n",
    "# 혈액형 열의 고유값 개수 출력\n",
    "result = df['혈액형'].value_counts()\n",
    "result"
   ]
  },
  {
   "cell_type": "code",
   "execution_count": 33,
   "id": "2fbdee95",
   "metadata": {},
   "outputs": [
    {
     "data": {
      "text/plain": [
       "pandas.core.series.Series"
      ]
     },
     "execution_count": 33,
     "metadata": {},
     "output_type": "execute_result"
    }
   ],
   "source": [
    "# 반환되는 객체의 타입 출력\n",
    "type(result)"
   ]
  },
  {
   "cell_type": "markdown",
   "id": "afd50151",
   "metadata": {},
   "source": [
    "### 미니 프로젝트\n",
    "- 1) member.csv 파일을 불러와서 변수 target 에 저장하기\n",
    "- 2) 불러온 CSV 파일을 데이터 프레임 프레임으로 변환하여 변수 df 에 저장하기\n",
    "- 3) value_counts ( ) 메소드를 사용하여 ‘BMI’ 열에 대한 고유값 개수 출력하기\n",
    "- 4) type( ) 메소드를 사용하여 반환되는 객체의 타입 정보 출력하기\n",
    "- 5) 기타 사항은 실행 결과 화면 참조"
   ]
  },
  {
   "cell_type": "code",
   "execution_count": 62,
   "id": "7a7bfbf5",
   "metadata": {},
   "outputs": [
    {
     "data": {
      "text/plain": [
       "23.20    1\n",
       "19.47    1\n",
       "19.95    1\n",
       "27.46    1\n",
       "26.00    1\n",
       "20.11    1\n",
       "25.50    1\n",
       "20.20    1\n",
       "19.96    1\n",
       "19.78    1\n",
       "Name: BMI, dtype: int64"
      ]
     },
     "execution_count": 62,
     "metadata": {},
     "output_type": "execute_result"
    }
   ],
   "source": [
    "# member.csv 파일을 불러와서 변수 target에 저장하기\n",
    "# 불러온 CSV 파일을 데이터 프레임 프레임으로 변환하여 변수 df 에 저장하기\n",
    "target = 'member.csv'\n",
    "df = pd.read_csv(target)\n",
    "\n",
    "# value_counts ( ) 메소드를 사용하여 ‘BMI’ 열에 대한 고유값 개수 출력하기\n",
    "result = df['BMI'].value_counts()\n",
    "result"
   ]
  },
  {
   "cell_type": "code",
   "execution_count": 61,
   "id": "289d35d0",
   "metadata": {},
   "outputs": [
    {
     "data": {
      "text/plain": [
       "pandas.core.series.Series"
      ]
     },
     "execution_count": 61,
     "metadata": {},
     "output_type": "execute_result"
    }
   ],
   "source": [
    "# type() 메소드를 사용하여 반환되는 객체의 타입 정보 출력하기\n",
    "\n",
    "type(result)"
   ]
  },
  {
   "cell_type": "markdown",
   "id": "1c1be226",
   "metadata": {},
   "source": [
    "# 평균값과 중간값 산출"
   ]
  },
  {
   "cell_type": "code",
   "execution_count": 63,
   "id": "b6ce2a4b",
   "metadata": {},
   "outputs": [
    {
     "data": {
      "text/plain": [
       "코드     342056.500\n",
       "연령         39.000\n",
       "키         172.700\n",
       "체중         67.300\n",
       "BMI        22.163\n",
       "dtype: float64"
      ]
     },
     "execution_count": 63,
     "metadata": {},
     "output_type": "execute_result"
    }
   ],
   "source": [
    "# 데이터 프레임의 각 열에 대한 평균값 출력\n",
    "\n",
    "df.mean()"
   ]
  },
  {
   "cell_type": "code",
   "execution_count": 66,
   "id": "3915d15b",
   "metadata": {},
   "outputs": [
    {
     "name": "stdout",
     "output_type": "stream",
     "text": [
      "22.163\n"
     ]
    }
   ],
   "source": [
    "# 데이터 프레임에서 '열이름'에 대해서만 평균값 출력\n",
    "\n",
    "print(df['BMI'].mean())"
   ]
  },
  {
   "cell_type": "code",
   "execution_count": 69,
   "id": "2b190c5d",
   "metadata": {},
   "outputs": [
    {
     "data": {
      "text/plain": [
       "키     172.7\n",
       "체중     67.3\n",
       "dtype: float64"
      ]
     },
     "execution_count": 69,
     "metadata": {},
     "output_type": "execute_result"
    }
   ],
   "source": [
    "# 키와 체중 열에 대해서만 평균값 출력\n",
    "\n",
    "df[['키', '체중']].mean()"
   ]
  },
  {
   "cell_type": "markdown",
   "id": "d985f973",
   "metadata": {},
   "source": [
    "- 중간값 산출하기"
   ]
  },
  {
   "cell_type": "code",
   "execution_count": 70,
   "id": "e4fb156e",
   "metadata": {},
   "outputs": [
    {
     "data": {
      "text/plain": [
       "코드     335290.000\n",
       "연령         38.000\n",
       "키         172.500\n",
       "체중         60.000\n",
       "BMI        20.155\n",
       "dtype: float64"
      ]
     },
     "execution_count": 70,
     "metadata": {},
     "output_type": "execute_result"
    }
   ],
   "source": [
    "# 데이터 프레임의 각 열에 대한 중간값 출력\n",
    "\n",
    "df.median()"
   ]
  },
  {
   "cell_type": "code",
   "execution_count": 73,
   "id": "dc2d687e",
   "metadata": {},
   "outputs": [
    {
     "data": {
      "text/plain": [
       "20.155"
      ]
     },
     "execution_count": 73,
     "metadata": {},
     "output_type": "execute_result"
    }
   ],
   "source": [
    "# 데이터 프레임에서 ' 열이름 '대해서만 중간값 출력\n",
    "\n",
    "df['BMI'].median()"
   ]
  },
  {
   "cell_type": "markdown",
   "id": "cf80d09d",
   "metadata": {},
   "source": [
    "### 미니 프로젝트\n",
    "- 1) member.csv 파일 불러와서 변수 choice 에 저장하기\n",
    "- 2) 불러온 CSV 파일을 데이터 프레임으로 변환하여 변수 df 에 저장하기\n",
    "- 3) mean( ) 메소드를 사용하여 '키' 열에 대한 평균값 산출하기\n",
    "- 4) 산출한 '키' 열의 평균값을 변수 heigh 에 저장 후 출력하기\n",
    "- 5) median( ) 메소드를 사용하여 '체중' 열에 대한 중간값 산출하기\n",
    "- 6) 산출한 '체중' 열의 중간값을 변수 weight 에 저장 후 출력하기\n",
    "- 7) 기타 사항은 실행 결과 화면 참조"
   ]
  },
  {
   "cell_type": "code",
   "execution_count": 84,
   "id": "63e36440",
   "metadata": {},
   "outputs": [],
   "source": [
    "# member.csv 파일 불러와서 변수 choice 에 저장하기\n",
    "# 불러온 CSV 파일을 데이터 프레임으로 변환하여 변수 df 에 저장하기\n",
    "choice = 'member.csv'\n",
    "df = pd.read_csv(choice)"
   ]
  },
  {
   "cell_type": "code",
   "execution_count": 87,
   "id": "16047d5d",
   "metadata": {},
   "outputs": [
    {
     "name": "stdout",
     "output_type": "stream",
     "text": [
      "평균값 :  172.7\n"
     ]
    }
   ],
   "source": [
    "# mean() 메소드를 사용하여 '키' 열에 대한 평균값 산출하기\n",
    "# 산출한 '키' 열의 평균값을 변수 heigh 에 저장 후 출력하기\n",
    "height = df['키'].mean()\n",
    "print('평균값 : ', height)"
   ]
  },
  {
   "cell_type": "code",
   "execution_count": 88,
   "id": "ae27b561",
   "metadata": {},
   "outputs": [
    {
     "name": "stdout",
     "output_type": "stream",
     "text": [
      "중간값 :  60.0\n"
     ]
    }
   ],
   "source": [
    "# median( ) 메소드를 사용하여 '체중' 열에 대한 중간값 산출하기\n",
    "# 산출한 '체중' 열의 중간값을 변수 weight 에 저장 후 출력하기\n",
    "\n",
    "median = df['체중'].median()\n",
    "print('중간값 : ', median)"
   ]
  },
  {
   "cell_type": "markdown",
   "id": "08814c07",
   "metadata": {},
   "source": [
    "## 최대값과 최소값 산출"
   ]
  },
  {
   "cell_type": "code",
   "execution_count": 90,
   "id": "63b36b0a",
   "metadata": {},
   "outputs": [
    {
     "data": {
      "text/plain": [
       "코드     503546\n",
       "이름        황산성\n",
       "성별          여\n",
       "연령         64\n",
       "혈액형         O\n",
       "키         193\n",
       "체중         95\n",
       "BMI     27.46\n",
       "dtype: object"
      ]
     },
     "execution_count": 90,
     "metadata": {},
     "output_type": "execute_result"
    }
   ],
   "source": [
    "# 데이터 프레임의 모든 열에 대한 최대값 출력\n",
    "\n",
    "df.max()"
   ]
  },
  {
   "cell_type": "code",
   "execution_count": 93,
   "id": "2e1fd3d3",
   "metadata": {},
   "outputs": [
    {
     "data": {
      "text/plain": [
       "64"
      ]
     },
     "execution_count": 93,
     "metadata": {},
     "output_type": "execute_result"
    }
   ],
   "source": [
    "# 연령 열에 대해서만 최대값 출력\n",
    "\n",
    "df['연령'].max()"
   ]
  },
  {
   "cell_type": "code",
   "execution_count": 98,
   "id": "3c3fdc10",
   "metadata": {},
   "outputs": [
    {
     "data": {
      "text/plain": [
       "키     193\n",
       "체중     95\n",
       "dtype: int64"
      ]
     },
     "execution_count": 98,
     "metadata": {},
     "output_type": "execute_result"
    }
   ],
   "source": [
    "# 키와 체중 열에 대해서만 최대값 출력\n",
    "\n",
    "df[['키', '체중']].max()"
   ]
  },
  {
   "cell_type": "markdown",
   "id": "0bf3aad6",
   "metadata": {},
   "source": [
    "## 표준 편차와 상관 계수"
   ]
  },
  {
   "cell_type": "code",
   "execution_count": 99,
   "id": "c3b98993",
   "metadata": {},
   "outputs": [
    {
     "data": {
      "text/plain": [
       "코드     117049.733168\n",
       "연령         15.202339\n",
       "키          11.898179\n",
       "체중         17.807926\n",
       "BMI         3.086555\n",
       "dtype: float64"
      ]
     },
     "execution_count": 99,
     "metadata": {},
     "output_type": "execute_result"
    }
   ],
   "source": [
    "# 표준 편차 산출하기\n",
    "df.std()"
   ]
  },
  {
   "cell_type": "code",
   "execution_count": 100,
   "id": "16f4c0a1",
   "metadata": {},
   "outputs": [
    {
     "data": {
      "text/plain": [
       "15.20233900132184"
      ]
     },
     "execution_count": 100,
     "metadata": {},
     "output_type": "execute_result"
    }
   ],
   "source": [
    "#'연령'열에 대해서만 표준 편차 출력\n",
    "\n",
    "df['연령'].std()"
   ]
  },
  {
   "cell_type": "code",
   "execution_count": 101,
   "id": "156fd619",
   "metadata": {},
   "outputs": [
    {
     "data": {
      "text/plain": [
       "키     11.898179\n",
       "체중    17.807926\n",
       "dtype: float64"
      ]
     },
     "execution_count": 101,
     "metadata": {},
     "output_type": "execute_result"
    }
   ],
   "source": [
    "# 키와 체중 열에 대해서만 표준 편차 출력\n",
    "\n",
    "df[['키', '체중']].std()"
   ]
  },
  {
   "cell_type": "code",
   "execution_count": 102,
   "id": "6034a346",
   "metadata": {},
   "outputs": [
    {
     "data": {
      "text/html": [
       "<div>\n",
       "<style scoped>\n",
       "    .dataframe tbody tr th:only-of-type {\n",
       "        vertical-align: middle;\n",
       "    }\n",
       "\n",
       "    .dataframe tbody tr th {\n",
       "        vertical-align: top;\n",
       "    }\n",
       "\n",
       "    .dataframe thead th {\n",
       "        text-align: right;\n",
       "    }\n",
       "</style>\n",
       "<table border=\"1\" class=\"dataframe\">\n",
       "  <thead>\n",
       "    <tr style=\"text-align: right;\">\n",
       "      <th></th>\n",
       "      <th>코드</th>\n",
       "      <th>연령</th>\n",
       "      <th>키</th>\n",
       "      <th>체중</th>\n",
       "      <th>BMI</th>\n",
       "    </tr>\n",
       "  </thead>\n",
       "  <tbody>\n",
       "    <tr>\n",
       "      <th>코드</th>\n",
       "      <td>1.000000</td>\n",
       "      <td>0.572318</td>\n",
       "      <td>-0.343057</td>\n",
       "      <td>-0.377510</td>\n",
       "      <td>-0.397892</td>\n",
       "    </tr>\n",
       "    <tr>\n",
       "      <th>연령</th>\n",
       "      <td>0.572318</td>\n",
       "      <td>1.000000</td>\n",
       "      <td>-0.426925</td>\n",
       "      <td>-0.316438</td>\n",
       "      <td>-0.176555</td>\n",
       "    </tr>\n",
       "    <tr>\n",
       "      <th>키</th>\n",
       "      <td>-0.343057</td>\n",
       "      <td>-0.426925</td>\n",
       "      <td>1.000000</td>\n",
       "      <td>0.942296</td>\n",
       "      <td>0.796228</td>\n",
       "    </tr>\n",
       "    <tr>\n",
       "      <th>체중</th>\n",
       "      <td>-0.377510</td>\n",
       "      <td>-0.316438</td>\n",
       "      <td>0.942296</td>\n",
       "      <td>1.000000</td>\n",
       "      <td>0.950220</td>\n",
       "    </tr>\n",
       "    <tr>\n",
       "      <th>BMI</th>\n",
       "      <td>-0.397892</td>\n",
       "      <td>-0.176555</td>\n",
       "      <td>0.796228</td>\n",
       "      <td>0.950220</td>\n",
       "      <td>1.000000</td>\n",
       "    </tr>\n",
       "  </tbody>\n",
       "</table>\n",
       "</div>"
      ],
      "text/plain": [
       "           코드        연령         키        체중       BMI\n",
       "코드   1.000000  0.572318 -0.343057 -0.377510 -0.397892\n",
       "연령   0.572318  1.000000 -0.426925 -0.316438 -0.176555\n",
       "키   -0.343057 -0.426925  1.000000  0.942296  0.796228\n",
       "체중  -0.377510 -0.316438  0.942296  1.000000  0.950220\n",
       "BMI -0.397892 -0.176555  0.796228  0.950220  1.000000"
      ]
     },
     "execution_count": 102,
     "metadata": {},
     "output_type": "execute_result"
    }
   ],
   "source": [
    "# 상관 계수 산출하기\n",
    "\n",
    "df.corr()"
   ]
  },
  {
   "cell_type": "code",
   "execution_count": 103,
   "id": "0500bc33",
   "metadata": {},
   "outputs": [
    {
     "data": {
      "text/html": [
       "<div>\n",
       "<style scoped>\n",
       "    .dataframe tbody tr th:only-of-type {\n",
       "        vertical-align: middle;\n",
       "    }\n",
       "\n",
       "    .dataframe tbody tr th {\n",
       "        vertical-align: top;\n",
       "    }\n",
       "\n",
       "    .dataframe thead th {\n",
       "        text-align: right;\n",
       "    }\n",
       "</style>\n",
       "<table border=\"1\" class=\"dataframe\">\n",
       "  <thead>\n",
       "    <tr style=\"text-align: right;\">\n",
       "      <th></th>\n",
       "      <th>연령</th>\n",
       "      <th>BMI</th>\n",
       "    </tr>\n",
       "  </thead>\n",
       "  <tbody>\n",
       "    <tr>\n",
       "      <th>연령</th>\n",
       "      <td>1.000000</td>\n",
       "      <td>-0.176555</td>\n",
       "    </tr>\n",
       "    <tr>\n",
       "      <th>BMI</th>\n",
       "      <td>-0.176555</td>\n",
       "      <td>1.000000</td>\n",
       "    </tr>\n",
       "  </tbody>\n",
       "</table>\n",
       "</div>"
      ],
      "text/plain": [
       "           연령       BMI\n",
       "연령   1.000000 -0.176555\n",
       "BMI -0.176555  1.000000"
      ]
     },
     "execution_count": 103,
     "metadata": {},
     "output_type": "execute_result"
    }
   ],
   "source": [
    "# 연령과 BMI 열에 대한 상관 계수 출력\n",
    "\n",
    "df[['연령', 'BMI']].corr()"
   ]
  },
  {
   "cell_type": "code",
   "execution_count": 104,
   "id": "976cc538",
   "metadata": {},
   "outputs": [
    {
     "data": {
      "text/html": [
       "<div>\n",
       "<style scoped>\n",
       "    .dataframe tbody tr th:only-of-type {\n",
       "        vertical-align: middle;\n",
       "    }\n",
       "\n",
       "    .dataframe tbody tr th {\n",
       "        vertical-align: top;\n",
       "    }\n",
       "\n",
       "    .dataframe thead th {\n",
       "        text-align: right;\n",
       "    }\n",
       "</style>\n",
       "<table border=\"1\" class=\"dataframe\">\n",
       "  <thead>\n",
       "    <tr style=\"text-align: right;\">\n",
       "      <th></th>\n",
       "      <th>키</th>\n",
       "      <th>체중</th>\n",
       "    </tr>\n",
       "  </thead>\n",
       "  <tbody>\n",
       "    <tr>\n",
       "      <th>키</th>\n",
       "      <td>1.000000</td>\n",
       "      <td>0.942296</td>\n",
       "    </tr>\n",
       "    <tr>\n",
       "      <th>체중</th>\n",
       "      <td>0.942296</td>\n",
       "      <td>1.000000</td>\n",
       "    </tr>\n",
       "  </tbody>\n",
       "</table>\n",
       "</div>"
      ],
      "text/plain": [
       "           키        체중\n",
       "키   1.000000  0.942296\n",
       "체중  0.942296  1.000000"
      ]
     },
     "execution_count": 104,
     "metadata": {},
     "output_type": "execute_result"
    }
   ],
   "source": [
    "# 키와 체중 열에 대한 상관 계수 출력\n",
    "\n",
    "df[['키', '체중']].corr()"
   ]
  },
  {
   "cell_type": "markdown",
   "id": "62c1c280",
   "metadata": {},
   "source": [
    "## 미니 프로젝트\n",
    "- 1) member.csv 파일을 불러와서 변수 select 에 저장하기\n",
    "- 2) 불러온 CSV 파일을 데이터 프레임 프레임으로 변환하여 변수 df 에 저장하기\n",
    "- 3) std() 메소드를 사용하여 'BMI' 열에 대한 표준 편차 산출하기\n",
    "- 4) 산출한 ‘BMI’ 열의 표준 편차를 변수 result_01 에 저장 후 출력하기\n",
    "- 5) corr() 메소드를 사용하여 '연령'과 '체중' 열에 대한 상관 계수 산출하기\n",
    "- 6) 산출한 '연령'과 '체중' 열의 상관 계쑤를 변수 result_02 에 저장 후 출력하기\n",
    "- 7) 기타 사항은 실행 결과 화면 참조"
   ]
  },
  {
   "cell_type": "code",
   "execution_count": 105,
   "id": "d05f62ce",
   "metadata": {},
   "outputs": [
    {
     "data": {
      "text/html": [
       "<div>\n",
       "<style scoped>\n",
       "    .dataframe tbody tr th:only-of-type {\n",
       "        vertical-align: middle;\n",
       "    }\n",
       "\n",
       "    .dataframe tbody tr th {\n",
       "        vertical-align: top;\n",
       "    }\n",
       "\n",
       "    .dataframe thead th {\n",
       "        text-align: right;\n",
       "    }\n",
       "</style>\n",
       "<table border=\"1\" class=\"dataframe\">\n",
       "  <thead>\n",
       "    <tr style=\"text-align: right;\">\n",
       "      <th></th>\n",
       "      <th>코드</th>\n",
       "      <th>이름</th>\n",
       "      <th>성별</th>\n",
       "      <th>연령</th>\n",
       "      <th>혈액형</th>\n",
       "      <th>키</th>\n",
       "      <th>체중</th>\n",
       "      <th>BMI</th>\n",
       "      <th>운동시작일</th>\n",
       "    </tr>\n",
       "  </thead>\n",
       "  <tbody>\n",
       "    <tr>\n",
       "      <th>0</th>\n",
       "      <td>330531</td>\n",
       "      <td>이겨레</td>\n",
       "      <td>남</td>\n",
       "      <td>26</td>\n",
       "      <td>A</td>\n",
       "      <td>181</td>\n",
       "      <td>76</td>\n",
       "      <td>23.20</td>\n",
       "      <td>2021-01-01</td>\n",
       "    </tr>\n",
       "    <tr>\n",
       "      <th>1</th>\n",
       "      <td>340037</td>\n",
       "      <td>조약돌</td>\n",
       "      <td>여</td>\n",
       "      <td>25</td>\n",
       "      <td>B</td>\n",
       "      <td>185</td>\n",
       "      <td>89</td>\n",
       "      <td>26.00</td>\n",
       "      <td>2020-12-25</td>\n",
       "    </tr>\n",
       "    <tr>\n",
       "      <th>2</th>\n",
       "      <td>194563</td>\n",
       "      <td>강산애</td>\n",
       "      <td>남</td>\n",
       "      <td>27</td>\n",
       "      <td>A</td>\n",
       "      <td>177</td>\n",
       "      <td>63</td>\n",
       "      <td>20.11</td>\n",
       "      <td>NaN</td>\n",
       "    </tr>\n",
       "    <tr>\n",
       "      <th>3</th>\n",
       "      <td>503546</td>\n",
       "      <td>원미연</td>\n",
       "      <td>여</td>\n",
       "      <td>48</td>\n",
       "      <td>O</td>\n",
       "      <td>166</td>\n",
       "      <td>55</td>\n",
       "      <td>19.96</td>\n",
       "      <td>2021-03-05</td>\n",
       "    </tr>\n",
       "    <tr>\n",
       "      <th>4</th>\n",
       "      <td>330543</td>\n",
       "      <td>오대양</td>\n",
       "      <td>남</td>\n",
       "      <td>31</td>\n",
       "      <td>AB</td>\n",
       "      <td>193</td>\n",
       "      <td>95</td>\n",
       "      <td>25.50</td>\n",
       "      <td>NaN</td>\n",
       "    </tr>\n",
       "    <tr>\n",
       "      <th>5</th>\n",
       "      <td>341257</td>\n",
       "      <td>송가인</td>\n",
       "      <td>여</td>\n",
       "      <td>45</td>\n",
       "      <td>O</td>\n",
       "      <td>157</td>\n",
       "      <td>48</td>\n",
       "      <td>19.47</td>\n",
       "      <td>NaN</td>\n",
       "    </tr>\n",
       "    <tr>\n",
       "      <th>6</th>\n",
       "      <td>472358</td>\n",
       "      <td>성공찬</td>\n",
       "      <td>여</td>\n",
       "      <td>53</td>\n",
       "      <td>B</td>\n",
       "      <td>159</td>\n",
       "      <td>50</td>\n",
       "      <td>19.78</td>\n",
       "      <td>1997-10-24</td>\n",
       "    </tr>\n",
       "    <tr>\n",
       "      <th>7</th>\n",
       "      <td>185823</td>\n",
       "      <td>황산성</td>\n",
       "      <td>남</td>\n",
       "      <td>52</td>\n",
       "      <td>B</td>\n",
       "      <td>178</td>\n",
       "      <td>87</td>\n",
       "      <td>27.46</td>\n",
       "      <td>NaN</td>\n",
       "    </tr>\n",
       "    <tr>\n",
       "      <th>8</th>\n",
       "      <td>232305</td>\n",
       "      <td>신영웅</td>\n",
       "      <td>남</td>\n",
       "      <td>19</td>\n",
       "      <td>AB</td>\n",
       "      <td>163</td>\n",
       "      <td>53</td>\n",
       "      <td>19.95</td>\n",
       "      <td>2021-05-08</td>\n",
       "    </tr>\n",
       "    <tr>\n",
       "      <th>9</th>\n",
       "      <td>489602</td>\n",
       "      <td>최고봉</td>\n",
       "      <td>남</td>\n",
       "      <td>64</td>\n",
       "      <td>A</td>\n",
       "      <td>168</td>\n",
       "      <td>57</td>\n",
       "      <td>20.20</td>\n",
       "      <td>1988-08-15</td>\n",
       "    </tr>\n",
       "  </tbody>\n",
       "</table>\n",
       "</div>"
      ],
      "text/plain": [
       "       코드   이름 성별  연령 혈액형    키  체중    BMI       운동시작일\n",
       "0  330531  이겨레  남  26   A  181  76  23.20  2021-01-01\n",
       "1  340037  조약돌  여  25   B  185  89  26.00  2020-12-25\n",
       "2  194563  강산애  남  27   A  177  63  20.11         NaN\n",
       "3  503546  원미연  여  48   O  166  55  19.96  2021-03-05\n",
       "4  330543  오대양  남  31  AB  193  95  25.50         NaN\n",
       "5  341257  송가인  여  45   O  157  48  19.47         NaN\n",
       "6  472358  성공찬  여  53   B  159  50  19.78  1997-10-24\n",
       "7  185823  황산성  남  52   B  178  87  27.46         NaN\n",
       "8  232305  신영웅  남  19  AB  163  53  19.95  2021-05-08\n",
       "9  489602  최고봉  남  64   A  168  57  20.20  1988-08-15"
      ]
     },
     "execution_count": 105,
     "metadata": {},
     "output_type": "execute_result"
    }
   ],
   "source": [
    "# member.csv 파일을 불러와서 변수 target에 저장하기\n",
    "# 불러온 CSV 파일을 데이터 프레임 프레임으로 변환하여 변수 df 에 저장하기\n",
    "select = 'member.csv'\n",
    "df = pd.read_csv(select)\n",
    "df"
   ]
  },
  {
   "cell_type": "code",
   "execution_count": 107,
   "id": "95489892",
   "metadata": {},
   "outputs": [
    {
     "data": {
      "text/plain": [
       "BMI    3.086555\n",
       "dtype: float64"
      ]
     },
     "execution_count": 107,
     "metadata": {},
     "output_type": "execute_result"
    }
   ],
   "source": [
    "# std() 메소드를 사용하여 'BMI' 열에 대한 표준 편차 산출하기\n",
    "# 산출한 ‘BMI’ 열의 표준 편차를 변수 result_01 에 저장 후 출력하기\n",
    "\n",
    "result_01 = df[['BMI']].std()\n",
    "result_01"
   ]
  },
  {
   "cell_type": "code",
   "execution_count": 109,
   "id": "f9e1f340",
   "metadata": {},
   "outputs": [
    {
     "data": {
      "text/html": [
       "<div>\n",
       "<style scoped>\n",
       "    .dataframe tbody tr th:only-of-type {\n",
       "        vertical-align: middle;\n",
       "    }\n",
       "\n",
       "    .dataframe tbody tr th {\n",
       "        vertical-align: top;\n",
       "    }\n",
       "\n",
       "    .dataframe thead th {\n",
       "        text-align: right;\n",
       "    }\n",
       "</style>\n",
       "<table border=\"1\" class=\"dataframe\">\n",
       "  <thead>\n",
       "    <tr style=\"text-align: right;\">\n",
       "      <th></th>\n",
       "      <th>연령</th>\n",
       "      <th>체중</th>\n",
       "    </tr>\n",
       "  </thead>\n",
       "  <tbody>\n",
       "    <tr>\n",
       "      <th>연령</th>\n",
       "      <td>1.000000</td>\n",
       "      <td>-0.316438</td>\n",
       "    </tr>\n",
       "    <tr>\n",
       "      <th>체중</th>\n",
       "      <td>-0.316438</td>\n",
       "      <td>1.000000</td>\n",
       "    </tr>\n",
       "  </tbody>\n",
       "</table>\n",
       "</div>"
      ],
      "text/plain": [
       "          연령        체중\n",
       "연령  1.000000 -0.316438\n",
       "체중 -0.316438  1.000000"
      ]
     },
     "execution_count": 109,
     "metadata": {},
     "output_type": "execute_result"
    }
   ],
   "source": [
    "# corr() 메소드를 사용하여 '연령'과 '체중' 열에 대한 상관 계수 산출하기\n",
    "# 산출한 '연령'과 '체중' 열의 상관 계쑤를 변수 result_02 에 저장 후 출력하기\n",
    "\n",
    "result_02 = df[['연령', '체중']].corr()\n",
    "result_02"
   ]
  }
 ],
 "metadata": {
  "kernelspec": {
   "display_name": "Python 3",
   "language": "python",
   "name": "python3"
  },
  "language_info": {
   "codemirror_mode": {
    "name": "ipython",
    "version": 3
   },
   "file_extension": ".py",
   "mimetype": "text/x-python",
   "name": "python",
   "nbconvert_exporter": "python",
   "pygments_lexer": "ipython3",
   "version": "3.8.8"
  },
  "toc": {
   "base_numbering": 1,
   "nav_menu": {},
   "number_sections": true,
   "sideBar": true,
   "skip_h1_title": false,
   "title_cell": "Table of Contents",
   "title_sidebar": "Contents",
   "toc_cell": false,
   "toc_position": {},
   "toc_section_display": true,
   "toc_window_display": false
  }
 },
 "nbformat": 4,
 "nbformat_minor": 5
}
