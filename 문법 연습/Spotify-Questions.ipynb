{
 "cells": [
  {
   "cell_type": "markdown",
   "metadata": {},
   "source": [
    "## 분석을 위한 셋팅 import"
   ]
  },
  {
   "cell_type": "code",
   "execution_count": 4,
   "metadata": {},
   "outputs": [],
   "source": [
    "# 판다스, 넘파이 모듈을 불러옵니다.\n"
   ]
  },
  {
   "cell_type": "markdown",
   "metadata": {},
   "source": [
    "## 데이터프레임 - 만들기(CSV 파일)"
   ]
  },
  {
   "cell_type": "code",
   "execution_count": 1,
   "metadata": {
    "scrolled": true
   },
   "outputs": [],
   "source": [
    "# csv 파일 불러와서 만들기\n",
    "# csv 파일을 불러와서 df_spotify DataFrame에 담습니다.\n",
    "\n",
    "\n"
   ]
  },
  {
   "cell_type": "markdown",
   "metadata": {},
   "source": [
    "## 데이터프레임 - head() 함수"
   ]
  },
  {
   "cell_type": "code",
   "execution_count": 2,
   "metadata": {},
   "outputs": [],
   "source": [
    "# 상위 5개 행(row) 출력\n"
   ]
  },
  {
   "cell_type": "markdown",
   "metadata": {},
   "source": [
    "## 데이터프레임 데이터 구조 확인을 위한 함수들 출력"
   ]
  },
  {
   "cell_type": "code",
   "execution_count": 3,
   "metadata": {},
   "outputs": [],
   "source": [
    "# print 함수를 사용해서 기본적 확인\n",
    "# index, columns, values, shape, info \n"
   ]
  },
  {
   "cell_type": "code",
   "execution_count": 4,
   "metadata": {},
   "outputs": [],
   "source": [
    "# describe를 통한 확인\n"
   ]
  },
  {
   "cell_type": "markdown",
   "metadata": {},
   "source": [
    "## 인덱싱, 슬라이싱, 불리언 출력"
   ]
  },
  {
   "cell_type": "code",
   "execution_count": 9,
   "metadata": {},
   "outputs": [
    {
     "data": {
      "text/html": [
       "<div>\n",
       "<style scoped>\n",
       "    .dataframe tbody tr th:only-of-type {\n",
       "        vertical-align: middle;\n",
       "    }\n",
       "\n",
       "    .dataframe tbody tr th {\n",
       "        vertical-align: top;\n",
       "    }\n",
       "\n",
       "    .dataframe thead th {\n",
       "        text-align: right;\n",
       "    }\n",
       "</style>\n",
       "<table border=\"1\" class=\"dataframe\">\n",
       "  <thead>\n",
       "    <tr style=\"text-align: right;\">\n",
       "      <th></th>\n",
       "      <th>Artist</th>\n",
       "    </tr>\n",
       "  </thead>\n",
       "  <tbody>\n",
       "    <tr>\n",
       "      <th>0</th>\n",
       "      <td>Ava Max</td>\n",
       "    </tr>\n",
       "    <tr>\n",
       "      <th>1</th>\n",
       "      <td>Billie Eilish</td>\n",
       "    </tr>\n",
       "    <tr>\n",
       "      <th>2</th>\n",
       "      <td>Ariana Grande</td>\n",
       "    </tr>\n",
       "    <tr>\n",
       "      <th>3</th>\n",
       "      <td>Tones and I</td>\n",
       "    </tr>\n",
       "    <tr>\n",
       "      <th>4</th>\n",
       "      <td>Shawn Mendes</td>\n",
       "    </tr>\n",
       "    <tr>\n",
       "      <th>...</th>\n",
       "      <td>...</td>\n",
       "    </tr>\n",
       "    <tr>\n",
       "      <th>1712</th>\n",
       "      <td>Sia</td>\n",
       "    </tr>\n",
       "    <tr>\n",
       "      <th>1713</th>\n",
       "      <td>LX</td>\n",
       "    </tr>\n",
       "    <tr>\n",
       "      <th>1714</th>\n",
       "      <td>Bee Gees</td>\n",
       "    </tr>\n",
       "    <tr>\n",
       "      <th>1715</th>\n",
       "      <td>MC Kevin o Chris</td>\n",
       "    </tr>\n",
       "    <tr>\n",
       "      <th>1716</th>\n",
       "      <td>Henrique &amp; Juliano</td>\n",
       "    </tr>\n",
       "  </tbody>\n",
       "</table>\n",
       "<p>1717 rows × 1 columns</p>\n",
       "</div>"
      ],
      "text/plain": [
       "                  Artist\n",
       "0                Ava Max\n",
       "1          Billie Eilish\n",
       "2          Ariana Grande\n",
       "3            Tones and I\n",
       "4           Shawn Mendes\n",
       "...                  ...\n",
       "1712                 Sia\n",
       "1713                  LX\n",
       "1714            Bee Gees\n",
       "1715    MC Kevin o Chris\n",
       "1716  Henrique & Juliano\n",
       "\n",
       "[1717 rows x 1 columns]"
      ]
     },
     "execution_count": 9,
     "metadata": {},
     "output_type": "execute_result"
    }
   ],
   "source": [
    "df_spotify[['Artist']]"
   ]
  },
  {
   "cell_type": "code",
   "execution_count": 10,
   "metadata": {},
   "outputs": [
    {
     "name": "stdout",
     "output_type": "stream",
     "text": [
      "<class 'pandas.core.series.Series'>\n"
     ]
    }
   ],
   "source": [
    "# DataFrame['컬럼명']의 경우 Series 타입으로 반환\n",
    "print(type(df_spotify['Artist']))"
   ]
  },
  {
   "cell_type": "code",
   "execution_count": 11,
   "metadata": {},
   "outputs": [
    {
     "data": {
      "text/html": [
       "<div>\n",
       "<style scoped>\n",
       "    .dataframe tbody tr th:only-of-type {\n",
       "        vertical-align: middle;\n",
       "    }\n",
       "\n",
       "    .dataframe tbody tr th {\n",
       "        vertical-align: top;\n",
       "    }\n",
       "\n",
       "    .dataframe thead th {\n",
       "        text-align: right;\n",
       "    }\n",
       "</style>\n",
       "<table border=\"1\" class=\"dataframe\">\n",
       "  <thead>\n",
       "    <tr style=\"text-align: right;\">\n",
       "      <th></th>\n",
       "      <th>Rank</th>\n",
       "      <th>Artist</th>\n",
       "    </tr>\n",
       "  </thead>\n",
       "  <tbody>\n",
       "    <tr>\n",
       "      <th>0</th>\n",
       "      <td>1.0</td>\n",
       "      <td>Ava Max</td>\n",
       "    </tr>\n",
       "    <tr>\n",
       "      <th>1</th>\n",
       "      <td>2.0</td>\n",
       "      <td>Billie Eilish</td>\n",
       "    </tr>\n",
       "    <tr>\n",
       "      <th>2</th>\n",
       "      <td>3.0</td>\n",
       "      <td>Ariana Grande</td>\n",
       "    </tr>\n",
       "    <tr>\n",
       "      <th>3</th>\n",
       "      <td>4.0</td>\n",
       "      <td>Tones and I</td>\n",
       "    </tr>\n",
       "    <tr>\n",
       "      <th>4</th>\n",
       "      <td>5.0</td>\n",
       "      <td>Shawn Mendes</td>\n",
       "    </tr>\n",
       "    <tr>\n",
       "      <th>...</th>\n",
       "      <td>...</td>\n",
       "      <td>...</td>\n",
       "    </tr>\n",
       "    <tr>\n",
       "      <th>1712</th>\n",
       "      <td>1713.0</td>\n",
       "      <td>Sia</td>\n",
       "    </tr>\n",
       "    <tr>\n",
       "      <th>1713</th>\n",
       "      <td>1714.0</td>\n",
       "      <td>LX</td>\n",
       "    </tr>\n",
       "    <tr>\n",
       "      <th>1714</th>\n",
       "      <td>1715.0</td>\n",
       "      <td>Bee Gees</td>\n",
       "    </tr>\n",
       "    <tr>\n",
       "      <th>1715</th>\n",
       "      <td>1716.0</td>\n",
       "      <td>MC Kevin o Chris</td>\n",
       "    </tr>\n",
       "    <tr>\n",
       "      <th>1716</th>\n",
       "      <td>1717.0</td>\n",
       "      <td>Henrique &amp; Juliano</td>\n",
       "    </tr>\n",
       "  </tbody>\n",
       "</table>\n",
       "<p>1717 rows × 2 columns</p>\n",
       "</div>"
      ],
      "text/plain": [
       "        Rank              Artist\n",
       "0        1.0             Ava Max\n",
       "1        2.0       Billie Eilish\n",
       "2        3.0       Ariana Grande\n",
       "3        4.0         Tones and I\n",
       "4        5.0        Shawn Mendes\n",
       "...      ...                 ...\n",
       "1712  1713.0                 Sia\n",
       "1713  1714.0                  LX\n",
       "1714  1715.0            Bee Gees\n",
       "1715  1716.0    MC Kevin o Chris\n",
       "1716  1717.0  Henrique & Juliano\n",
       "\n",
       "[1717 rows x 2 columns]"
      ]
     },
     "execution_count": 11,
     "metadata": {},
     "output_type": "execute_result"
    }
   ],
   "source": [
    "df_spotify[['Rank','Artist']]"
   ]
  },
  {
   "cell_type": "code",
   "execution_count": 12,
   "metadata": {},
   "outputs": [
    {
     "name": "stdout",
     "output_type": "stream",
     "text": [
      "['Ava Max' 'Billie Eilish' 'Ariana Grande' ... 'Bee Gees'\n",
      " 'MC Kevin o Chris' 'Henrique & Juliano']\n",
      "<class 'numpy.ndarray'>\n",
      "(1717,)\n",
      "[[1.0 'Ava Max']\n",
      " [2.0 'Billie Eilish']\n",
      " [3.0 'Ariana Grande']\n",
      " ...\n",
      " [1715.0 'Bee Gees']\n",
      " [1716.0 'MC Kevin o Chris']\n",
      " [1717.0 'Henrique & Juliano']]\n",
      "<class 'numpy.ndarray'>\n",
      "(1717, 2)\n"
     ]
    }
   ],
   "source": [
    "# 1개의 컬럼값\n",
    "print(df_spotify['Artist'].values)\n",
    "print(type(df_spotify['Artist'].values))\n",
    "# 1차원 ndarray\n",
    "print(df_spotify['Artist'].values.shape)\n",
    "\n",
    "# 2개의 컬럼값\n",
    "print(df_spotify[['Rank','Artist']].values)\n",
    "print(type(df_spotify[['Rank','Artist']].values))\n",
    "# 2차원 ndarray\n",
    "print(df_spotify[['Rank','Artist']].values.shape) "
   ]
  },
  {
   "cell_type": "code",
   "execution_count": 5,
   "metadata": {},
   "outputs": [],
   "source": [
    "# 특정 조건을 만족하는 데이터값\n",
    "# Artist가 BTS인 것만 분석해 보기\n"
   ]
  },
  {
   "cell_type": "code",
   "execution_count": 6,
   "metadata": {},
   "outputs": [],
   "source": [
    "# Artist_popularity가 92보다 큰 것들만 출력\n"
   ]
  },
  {
   "cell_type": "code",
   "execution_count": 7,
   "metadata": {},
   "outputs": [],
   "source": [
    "# 가장 많은 곡이 리스트에 있는 가수를 보고자 할 때.\n"
   ]
  },
  {
   "cell_type": "code",
   "execution_count": 8,
   "metadata": {
    "scrolled": true
   },
   "outputs": [],
   "source": [
    "# in 연산자를 이용하여 순위에 BTS가 있는지 확인(불리언 대답으로 확인)\n"
   ]
  },
  {
   "cell_type": "code",
   "execution_count": 9,
   "metadata": {},
   "outputs": [],
   "source": [
    "# index를 사용하여 챠트에 오른 BTS곡 개수 확인\n"
   ]
  },
  {
   "cell_type": "code",
   "execution_count": 10,
   "metadata": {},
   "outputs": [],
   "source": [
    "# values를 사용하여 챠트에 가장 많이 오른 곡 리스트로 출력\n"
   ]
  },
  {
   "cell_type": "code",
   "execution_count": 11,
   "metadata": {},
   "outputs": [],
   "source": [
    "# tempo: The overall estimated tempo of a track in beats per minute (BPM).\n",
    "\n",
    "# 한 가지 조건에 원하는 컬럼만 보고 싶을 때 => 조건 뒤에 원하는 컬럼을 명시하여 사용\n",
    "# 템포(tempo)가 평균(122)보다 큰 조건으로 Rank, Track Name, Artist, tempo 컬럼을 확인해 보기\n"
   ]
  },
  {
   "cell_type": "code",
   "execution_count": 12,
   "metadata": {},
   "outputs": [],
   "source": [
    "# energy column: energetic tracks feel fast, loud, and noisy.\n",
    "\n",
    "# 복합 조건에 원하는 컬럼만 보고 싶을 경우 각각의 조건을 괄호()로 표시하고 AND조건(&기호)와 OR조건(|)를 사용\n",
    "# Artist가 BTS이면서 energy는 0.8보다 큰 Rank, Track Name, Artist, energy 분석\n"
   ]
  },
  {
   "cell_type": "markdown",
   "metadata": {},
   "source": [
    "## reindex, reset_index 출력"
   ]
  },
  {
   "cell_type": "code",
   "execution_count": 13,
   "metadata": {},
   "outputs": [],
   "source": [
    "# 연습)\n",
    "# reindex를 위해서 arange를 16으로 정하고, reshape(4,4)로 변경\n",
    "# index는 a, b, c, d로 하고 컬럼의 이름은 Seoul, Busan, Incheon, Ulsan이라고 변경\n"
   ]
  },
  {
   "cell_type": "code",
   "execution_count": 14,
   "metadata": {},
   "outputs": [],
   "source": [
    "# 연습)\n",
    "# reindex를 다시 호출하면 새로운 색인에 맞춰서 재배열\n",
    "# reindex를 b, c, a, d, e 순으로 재배열\n",
    "# 없는 값(결측치)은 NaN으로 표시됨\n"
   ]
  },
  {
   "cell_type": "code",
   "execution_count": 15,
   "metadata": {},
   "outputs": [],
   "source": [
    "# Artist컬럼이 BTS인 데이터를 다시 읽어 들여 df_artist_bts에 대입 후 상위 5개 행 확인\n",
    "# BTS의 곡들 \n",
    "\n"
   ]
  },
  {
   "cell_type": "code",
   "execution_count": 16,
   "metadata": {},
   "outputs": [],
   "source": [
    "# df_artist_bts의 기존 인덱스를 출력해서 확인\n",
    "\n",
    "\n",
    "# reset_index (기존 인덱스 유지)\n",
    "\n",
    "\n",
    "# reset_index (기존 인덱스 삭제, drop=True)\n",
    "\n"
   ]
  },
  {
   "cell_type": "code",
   "execution_count": 17,
   "metadata": {},
   "outputs": [],
   "source": [
    "# reset_index1 데이터 상위 5개 행만 확인\n"
   ]
  },
  {
   "cell_type": "code",
   "execution_count": 18,
   "metadata": {},
   "outputs": [],
   "source": [
    "# reset_index2 데이터 상위 5개 행만 확인\n"
   ]
  },
  {
   "cell_type": "markdown",
   "metadata": {},
   "source": [
    "## 데이터프레임 - column 추가 출력"
   ]
  },
  {
   "cell_type": "code",
   "execution_count": 19,
   "metadata": {
    "scrolled": true
   },
   "outputs": [],
   "source": [
    "# 데이터 프레임에 컬럼은 [] 연산자를 사용하여 추가\n",
    "# df_spotify_2 데이터프레임을 생성하고 새로운 컬럼 Rank_a 추가 후 0을 대입\n",
    "# 결과는 오른쪽 끝 열을 확인 -> Rank_a 컬럼 추가되고 0이 할당 된 것을 확인\n",
    "\n",
    "\n"
   ]
  },
  {
   "cell_type": "code",
   "execution_count": 20,
   "metadata": {},
   "outputs": [],
   "source": [
    "# 기존 컬럼을 기반으로 연산을 추가하여 새로운 컬럼을 생성\n",
    "# Rank_b, Streams_and_Artist_follower 두 필드 추가\n",
    "\n"
   ]
  },
  {
   "cell_type": "code",
   "execution_count": 21,
   "metadata": {},
   "outputs": [],
   "source": [
    "# 기존 컬럼의 값 변경을 원한다면 가능 \n",
    "# 예를 들어 Rank_b 컬럼에 0.1을 곱하여 값을 변경한 업데이트된 값을 확인\n",
    "\n"
   ]
  },
  {
   "cell_type": "markdown",
   "metadata": {},
   "source": [
    "## 데이터프레임 - 삭제"
   ]
  },
  {
   "cell_type": "code",
   "execution_count": 22,
   "metadata": {},
   "outputs": [],
   "source": [
    "# drop 함수를 사용하여 행(row), 열(column)을 삭제\n",
    "# axis=0은 행을 axis=1 열을 의미\n",
    "# drop 함수를 사용해서 삭제 시 axis 값을 어떻게 정할지는 여러분의 판단이므로 중요\n",
    "# drop(숫자)를 넣고 해당하는 인덱스 행을 삭제\n",
    "# 기본적으로 axis를 넣지 않는 경우 drop 함수는 axis=0을 디폴트로 적용 됨 => axis = 0을 사용하면 결과는 같음\n",
    "\n",
    "#drop 함수를 사용하여 index 컬럼을 삭제하기\n",
    "# 삭제된 내용 확인\n",
    "\n",
    "\n"
   ]
  },
  {
   "cell_type": "code",
   "execution_count": null,
   "metadata": {},
   "outputs": [],
   "source": [
    "\n"
   ]
  },
  {
   "cell_type": "code",
   "execution_count": 23,
   "metadata": {},
   "outputs": [],
   "source": [
    "# 여러 행을 삭제시 drop([인덱스a, 인덱스b, 인덱스c]) 형식으로 사용\n",
    "\n",
    "# 0,1,2 행을 삭제 \n"
   ]
  },
  {
   "cell_type": "code",
   "execution_count": 24,
   "metadata": {},
   "outputs": [],
   "source": [
    "# Track_id를 삭제하기\n",
    "# 삭제된 결과 상위 3개 확인\n",
    "\n"
   ]
  },
  {
   "cell_type": "code",
   "execution_count": 25,
   "metadata": {},
   "outputs": [],
   "source": [
    "# Country, Streams, Track_id, url 컬럼을 제거\n",
    "\n"
   ]
  },
  {
   "cell_type": "code",
   "execution_count": 26,
   "metadata": {},
   "outputs": [],
   "source": [
    "# 데이터 확인 \n"
   ]
  },
  {
   "cell_type": "code",
   "execution_count": 27,
   "metadata": {
    "scrolled": true
   },
   "outputs": [],
   "source": [
    "# df_spotify_2에서 'Country','Streams','Track_id','URL' 컬럼 제거 \n"
   ]
  },
  {
   "cell_type": "code",
   "execution_count": null,
   "metadata": {},
   "outputs": [],
   "source": []
  },
  {
   "cell_type": "markdown",
   "metadata": {},
   "source": [
    "## 데이터 추출(loc)"
   ]
  },
  {
   "cell_type": "code",
   "execution_count": 28,
   "metadata": {},
   "outputs": [],
   "source": [
    "# df_spotify 의 0번 행의 데이터 \n",
    "\n"
   ]
  },
  {
   "cell_type": "code",
   "execution_count": 29,
   "metadata": {},
   "outputs": [],
   "source": [
    "# 0번 행의 Artist 값 \n"
   ]
  },
  {
   "cell_type": "code",
   "execution_count": 30,
   "metadata": {},
   "outputs": [],
   "source": [
    "# 인덱스 87번의 데이터 중 Rank, Artist, Track Name 확인\n",
    "\n"
   ]
  },
  {
   "cell_type": "code",
   "execution_count": 31,
   "metadata": {},
   "outputs": [],
   "source": [
    "# 데이터에서 아티스트가 BTS인 값만 출력 \n"
   ]
  },
  {
   "cell_type": "code",
   "execution_count": 32,
   "metadata": {},
   "outputs": [],
   "source": [
    "# 차트에서 BTS 곡들의 인덱스 확인 \n",
    "\n"
   ]
  },
  {
   "cell_type": "code",
   "execution_count": 33,
   "metadata": {},
   "outputs": [],
   "source": [
    "# BTS 곡들의 순위, 아티스트, 곡 제목만 확인 \n"
   ]
  },
  {
   "cell_type": "code",
   "execution_count": 34,
   "metadata": {},
   "outputs": [],
   "source": [
    "# 순위 0~2번 데이터의 순위, 제목, 가수\n",
    "\n"
   ]
  },
  {
   "cell_type": "code",
   "execution_count": 35,
   "metadata": {},
   "outputs": [],
   "source": [
    "# Rank와 Artist의 모든 행을 보고 싶을 경우\n",
    "\n"
   ]
  },
  {
   "cell_type": "code",
   "execution_count": 36,
   "metadata": {},
   "outputs": [],
   "source": [
    "# BTS 곡의 행(row)index를 지정하고 모든 열 정보를 보고 싶을 경우\n",
    "\n"
   ]
  },
  {
   "cell_type": "markdown",
   "metadata": {},
   "source": [
    "## 데이터 추출(iloc)"
   ]
  },
  {
   "cell_type": "code",
   "execution_count": 37,
   "metadata": {},
   "outputs": [],
   "source": [
    "# 행(인덱스 3번째 ~ 5번째), 열(1번 ~ 5번째) 데이터\n",
    "\n"
   ]
  },
  {
   "cell_type": "code",
   "execution_count": 38,
   "metadata": {},
   "outputs": [],
   "source": [
    "# 콤마(,)로 행과 열을 지정해서 데이터를 가져 올 수 있음.\n",
    "# iloc [행, 열] 방법으로 데이터 추출\n",
    "# 추출 방법\n",
    "# 1) BTS 곡 = 86, 464, 676, 678, 681, 710, 725, 778, 883, 1057, 1265 \n",
    "# 2) Artist == BTS\n",
    "# 3) 컬럼(열) = Rank, Track Name, Artist\n",
    "\n"
   ]
  },
  {
   "cell_type": "code",
   "execution_count": 39,
   "metadata": {},
   "outputs": [],
   "source": [
    "# 콜론(:)을 사용하면 전체의 의미, 여러 행과 열의 데이터를 가져올 경우 콤마(,) 사용\n",
    "# 행은 범위를 주었고 열은 전체 선택\n",
    "\n",
    "\n"
   ]
  },
  {
   "cell_type": "code",
   "execution_count": 40,
   "metadata": {},
   "outputs": [],
   "source": [
    "# 콜론(:)은 해당하는 행 또는 열의 전체를 선택\n",
    "\n"
   ]
  },
  {
   "cell_type": "code",
   "execution_count": null,
   "metadata": {
    "scrolled": true
   },
   "outputs": [],
   "source": []
  },
  {
   "cell_type": "markdown",
   "metadata": {},
   "source": [
    "## 정렬"
   ]
  },
  {
   "cell_type": "code",
   "execution_count": 41,
   "metadata": {},
   "outputs": [],
   "source": [
    "# 데이터 열을 줄이는 것 \n",
    "\n"
   ]
  },
  {
   "cell_type": "code",
   "execution_count": 42,
   "metadata": {},
   "outputs": [],
   "source": [
    "# ascending을 따로 설정하지 않은 경우 기본은 ascending=True, 오름차순으로 정렬)\n",
    "\n"
   ]
  },
  {
   "cell_type": "code",
   "execution_count": 43,
   "metadata": {},
   "outputs": [],
   "source": [
    "# Artist_popularity','Streams' 열들의 내림차순으로 데이터 정렬 \n",
    "\n"
   ]
  },
  {
   "cell_type": "code",
   "execution_count": null,
   "metadata": {},
   "outputs": [],
   "source": []
  },
  {
   "cell_type": "code",
   "execution_count": 44,
   "metadata": {},
   "outputs": [],
   "source": [
    "# 인덱스 번호별로 데이터 정렬 \n"
   ]
  },
  {
   "cell_type": "code",
   "execution_count": 45,
   "metadata": {},
   "outputs": [],
   "source": [
    "# 컬럼명 오름차순으로 데이터 정렬 (A-Z)\n",
    "\n"
   ]
  },
  {
   "cell_type": "markdown",
   "metadata": {},
   "source": [
    "## 통계 및 수학 함수 출력"
   ]
  },
  {
   "cell_type": "code",
   "execution_count": 47,
   "metadata": {},
   "outputs": [],
   "source": [
    "# 리스트에 있는 BTS 음원 Stream 횟수\n",
    "\n",
    "print(\"BTS 음원 모든곡의 Stream 총 횟수: \",\n",
    "print(\"BTS 음원 중 한곡의 minimum Stream 횟수: \", \n",
    "print(\"BTS 음원 중 한곡의 maximum Stream 횟수: \", \n",
    "print(\"BTS 음원 중 한곡의 minimum Stream 의 index: \", \n",
    "print(\"BTS 음원 중 한곡의 maximum Stream 의 index: \",\n",
    "print(\"BTS 음원 모든곡의 Stream 횟수의 평균: \", \n",
    "print(\"BTS 음원 모든곡의 Stream 중간값: \", \n",
    "      \n",
    "      "
   ]
  },
  {
   "cell_type": "code",
   "execution_count": null,
   "metadata": {},
   "outputs": [],
   "source": []
  },
  {
   "cell_type": "code",
   "execution_count": 48,
   "metadata": {},
   "outputs": [],
   "source": [
    "# unique() - 유일값을 확인 할 수 있습니다.\n",
    "\n"
   ]
  },
  {
   "cell_type": "code",
   "execution_count": null,
   "metadata": {},
   "outputs": [],
   "source": []
  },
  {
   "cell_type": "markdown",
   "metadata": {},
   "source": [
    "## 함수 적용 - apply lambda"
   ]
  },
  {
   "cell_type": "markdown",
   "metadata": {},
   "source": [
    "### 구문: lamda [입력값]:[입력값을 가지고 연산처리, 연산 결과 반환]"
   ]
  },
  {
   "cell_type": "markdown",
   "metadata": {},
   "source": [
    "- 대용량 처리 시 사용할 경우 효율적으로 데이터 가공이 가능함 - 속도적 장점을 가짐"
   ]
  },
  {
   "cell_type": "code",
   "execution_count": null,
   "metadata": {},
   "outputs": [],
   "source": []
  },
  {
   "cell_type": "code",
   "execution_count": 66,
   "metadata": {},
   "outputs": [
    {
     "name": "stdout",
     "output_type": "stream",
     "text": [
      "평균값:  51661752.19510774\n",
      "중간값:  9623926.0\n"
     ]
    },
    {
     "data": {
      "text/html": [
       "<div>\n",
       "<style scoped>\n",
       "    .dataframe tbody tr th:only-of-type {\n",
       "        vertical-align: middle;\n",
       "    }\n",
       "\n",
       "    .dataframe tbody tr th {\n",
       "        vertical-align: top;\n",
       "    }\n",
       "\n",
       "    .dataframe thead th {\n",
       "        text-align: right;\n",
       "    }\n",
       "</style>\n",
       "<table border=\"1\" class=\"dataframe\">\n",
       "  <thead>\n",
       "    <tr style=\"text-align: right;\">\n",
       "      <th></th>\n",
       "      <th>Streams</th>\n",
       "      <th>Stream_counts</th>\n",
       "    </tr>\n",
       "  </thead>\n",
       "  <tbody>\n",
       "    <tr>\n",
       "      <th>0</th>\n",
       "      <td>1166185736</td>\n",
       "      <td>1156561810</td>\n",
       "    </tr>\n",
       "    <tr>\n",
       "      <th>1</th>\n",
       "      <td>1052358787</td>\n",
       "      <td>1042734861</td>\n",
       "    </tr>\n",
       "    <tr>\n",
       "      <th>2</th>\n",
       "      <td>789094044</td>\n",
       "      <td>779470118</td>\n",
       "    </tr>\n",
       "    <tr>\n",
       "      <th>3</th>\n",
       "      <td>764208309</td>\n",
       "      <td>754584383</td>\n",
       "    </tr>\n",
       "    <tr>\n",
       "      <th>4</th>\n",
       "      <td>763064359</td>\n",
       "      <td>753440433</td>\n",
       "    </tr>\n",
       "  </tbody>\n",
       "</table>\n",
       "</div>"
      ],
      "text/plain": [
       "      Streams  Stream_counts\n",
       "0  1166185736     1156561810\n",
       "1  1052358787     1042734861\n",
       "2   789094044      779470118\n",
       "3   764208309      754584383\n",
       "4   763064359      753440433"
      ]
     },
     "execution_count": 66,
     "metadata": {},
     "output_type": "execute_result"
    }
   ],
   "source": [
    "# 음원재생수의 평균과 중간값 \n",
    "\n",
    "print(\"평균값: \", \n",
    "print(\"중간값: \",\n",
    "\n",
    "      \n",
    "# 각 음원재생수에서 총음원재생수 중간값을 뺀것 \n",
    "\n"
   ]
  },
  {
   "cell_type": "code",
   "execution_count": 49,
   "metadata": {},
   "outputs": [],
   "source": [
    "# 총 음원재생수의 중간값보다 재생수가 낮은 곡들 \n"
   ]
  },
  {
   "cell_type": "code",
   "execution_count": 50,
   "metadata": {},
   "outputs": [],
   "source": [
    "# 람다식에서 if 조건문 사용\n",
    "# 음원재생값이 전체중간값보다 높으면 Above_median 값을 입력, 아니면 Under_median 값 \n"
   ]
  },
  {
   "cell_type": "code",
   "execution_count": null,
   "metadata": {},
   "outputs": [],
   "source": []
  },
  {
   "cell_type": "code",
   "execution_count": 70,
   "metadata": {
    "scrolled": true
   },
   "outputs": [
    {
     "data": {
      "text/html": [
       "<div>\n",
       "<style scoped>\n",
       "    .dataframe tbody tr th:only-of-type {\n",
       "        vertical-align: middle;\n",
       "    }\n",
       "\n",
       "    .dataframe tbody tr th {\n",
       "        vertical-align: top;\n",
       "    }\n",
       "\n",
       "    .dataframe thead th {\n",
       "        text-align: right;\n",
       "    }\n",
       "</style>\n",
       "<table border=\"1\" class=\"dataframe\">\n",
       "  <thead>\n",
       "    <tr style=\"text-align: right;\">\n",
       "      <th></th>\n",
       "      <th>Streams</th>\n",
       "      <th>Stream_counts</th>\n",
       "      <th>Track Name</th>\n",
       "      <th>Artist</th>\n",
       "      <th>Stream_level</th>\n",
       "    </tr>\n",
       "  </thead>\n",
       "  <tbody>\n",
       "    <tr>\n",
       "      <th>86</th>\n",
       "      <td>261504425</td>\n",
       "      <td>251880499</td>\n",
       "      <td>Boy With Luv (feat. Halsey)</td>\n",
       "      <td>BTS</td>\n",
       "      <td>Above_median</td>\n",
       "    </tr>\n",
       "    <tr>\n",
       "      <th>464</th>\n",
       "      <td>42873724</td>\n",
       "      <td>33249798</td>\n",
       "      <td>Make It Right (feat. Lauv)</td>\n",
       "      <td>BTS</td>\n",
       "      <td>Above_median</td>\n",
       "    </tr>\n",
       "    <tr>\n",
       "      <th>676</th>\n",
       "      <td>18801822</td>\n",
       "      <td>9177896</td>\n",
       "      <td>Mikrokosmos</td>\n",
       "      <td>BTS</td>\n",
       "      <td>Above_median</td>\n",
       "    </tr>\n",
       "    <tr>\n",
       "      <th>678</th>\n",
       "      <td>18648089</td>\n",
       "      <td>9024163</td>\n",
       "      <td>Dream Glow (BTS World Original Soundtrack) - P...</td>\n",
       "      <td>BTS</td>\n",
       "      <td>Above_median</td>\n",
       "    </tr>\n",
       "    <tr>\n",
       "      <th>681</th>\n",
       "      <td>18423901</td>\n",
       "      <td>8799975</td>\n",
       "      <td>Make It Right</td>\n",
       "      <td>BTS</td>\n",
       "      <td>Above_median</td>\n",
       "    </tr>\n",
       "    <tr>\n",
       "      <th>710</th>\n",
       "      <td>16442038</td>\n",
       "      <td>6818112</td>\n",
       "      <td>HOME</td>\n",
       "      <td>BTS</td>\n",
       "      <td>Above_median</td>\n",
       "    </tr>\n",
       "    <tr>\n",
       "      <th>725</th>\n",
       "      <td>15134946</td>\n",
       "      <td>5511020</td>\n",
       "      <td>Dionysus</td>\n",
       "      <td>BTS</td>\n",
       "      <td>Above_median</td>\n",
       "    </tr>\n",
       "    <tr>\n",
       "      <th>778</th>\n",
       "      <td>12992565</td>\n",
       "      <td>3368639</td>\n",
       "      <td>Jamais Vu</td>\n",
       "      <td>BTS</td>\n",
       "      <td>Above_median</td>\n",
       "    </tr>\n",
       "    <tr>\n",
       "      <th>883</th>\n",
       "      <td>8775556</td>\n",
       "      <td>-848370</td>\n",
       "      <td>Intro : Persona</td>\n",
       "      <td>BTS</td>\n",
       "      <td>Under_median</td>\n",
       "    </tr>\n",
       "    <tr>\n",
       "      <th>1057</th>\n",
       "      <td>4383131</td>\n",
       "      <td>-5240795</td>\n",
       "      <td>A Brand New Day (BTS World Original Soundtrack...</td>\n",
       "      <td>BTS</td>\n",
       "      <td>Under_median</td>\n",
       "    </tr>\n",
       "    <tr>\n",
       "      <th>1265</th>\n",
       "      <td>1921011</td>\n",
       "      <td>-7702915</td>\n",
       "      <td>All Night (BTS World Original Soundtrack) [Pt. 3]</td>\n",
       "      <td>BTS</td>\n",
       "      <td>Under_median</td>\n",
       "    </tr>\n",
       "  </tbody>\n",
       "</table>\n",
       "</div>"
      ],
      "text/plain": [
       "        Streams  Stream_counts  \\\n",
       "86    261504425      251880499   \n",
       "464    42873724       33249798   \n",
       "676    18801822        9177896   \n",
       "678    18648089        9024163   \n",
       "681    18423901        8799975   \n",
       "710    16442038        6818112   \n",
       "725    15134946        5511020   \n",
       "778    12992565        3368639   \n",
       "883     8775556        -848370   \n",
       "1057    4383131       -5240795   \n",
       "1265    1921011       -7702915   \n",
       "\n",
       "                                             Track Name Artist  Stream_level  \n",
       "86                          Boy With Luv (feat. Halsey)    BTS  Above_median  \n",
       "464                          Make It Right (feat. Lauv)    BTS  Above_median  \n",
       "676                                         Mikrokosmos    BTS  Above_median  \n",
       "678   Dream Glow (BTS World Original Soundtrack) - P...    BTS  Above_median  \n",
       "681                                       Make It Right    BTS  Above_median  \n",
       "710                                                HOME    BTS  Above_median  \n",
       "725                                            Dionysus    BTS  Above_median  \n",
       "778                                           Jamais Vu    BTS  Above_median  \n",
       "883                                     Intro : Persona    BTS  Under_median  \n",
       "1057  A Brand New Day (BTS World Original Soundtrack...    BTS  Under_median  \n",
       "1265  All Night (BTS World Original Soundtrack) [Pt. 3]    BTS  Under_median  "
      ]
     },
     "execution_count": 70,
     "metadata": {},
     "output_type": "execute_result"
    }
   ],
   "source": [
    "# bts의 곡들만 음원레벨을 확인 (Stream_level) \n"
   ]
  }
 ],
 "metadata": {
  "kernelspec": {
   "display_name": "Python 3",
   "language": "python",
   "name": "python3"
  },
  "language_info": {
   "codemirror_mode": {
    "name": "ipython",
    "version": 3
   },
   "file_extension": ".py",
   "mimetype": "text/x-python",
   "name": "python",
   "nbconvert_exporter": "python",
   "pygments_lexer": "ipython3",
   "version": "3.8.5"
  },
  "toc": {
   "base_numbering": 1,
   "nav_menu": {},
   "number_sections": true,
   "sideBar": true,
   "skip_h1_title": false,
   "title_cell": "Table of Contents",
   "title_sidebar": "Contents",
   "toc_cell": false,
   "toc_position": {
    "height": "calc(100% - 180px)",
    "left": "10px",
    "top": "150px",
    "width": "216px"
   },
   "toc_section_display": true,
   "toc_window_display": true
  },
  "varInspector": {
   "cols": {
    "lenName": 16,
    "lenType": 16,
    "lenVar": 40
   },
   "kernels_config": {
    "python": {
     "delete_cmd_postfix": "",
     "delete_cmd_prefix": "del ",
     "library": "var_list.py",
     "varRefreshCmd": "print(var_dic_list())"
    },
    "r": {
     "delete_cmd_postfix": ") ",
     "delete_cmd_prefix": "rm(",
     "library": "var_list.r",
     "varRefreshCmd": "cat(var_dic_list()) "
    }
   },
   "types_to_exclude": [
    "module",
    "function",
    "builtin_function_or_method",
    "instance",
    "_Feature"
   ],
   "window_display": false
  }
 },
 "nbformat": 4,
 "nbformat_minor": 2
}
