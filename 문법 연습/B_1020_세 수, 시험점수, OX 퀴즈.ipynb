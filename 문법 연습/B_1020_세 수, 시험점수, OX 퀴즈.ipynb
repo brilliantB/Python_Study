{
 "cells": [
  {
   "cell_type": "markdown",
   "id": "916a5d82",
   "metadata": {},
   "source": [
    "# 1. 시험문제"
   ]
  },
  {
   "cell_type": "markdown",
   "id": "3ab09d31",
   "metadata": {},
   "source": [
    "#### 시험 점수를 입력받아 90-100점은 A, 80~89점은 B, 70-79점은 C, 60-69점은 D, 나머지 점수는 F를 출력하는 프로그램을 작성하시오.  \n",
    "    "
   ]
  },
  {
   "cell_type": "code",
   "execution_count": 20,
   "id": "2291e471",
   "metadata": {},
   "outputs": [
    {
     "name": "stdout",
     "output_type": "stream",
     "text": [
      "점수를 입력해주세요 :99\n",
      "A학점\n"
     ]
    }
   ],
   "source": [
    "score = int(input(\"점수를 입력해주세요 :\"))\n",
    "\n",
    "if 90 <= score <= 100 :\n",
    "    print(\"A학점\")\n",
    "elif 80 <= score <= 90 :\n",
    "    print(\"B학점\")\n",
    "elif 70 <= score <= 80 :\n",
    "    print(\"C학점\")\n",
    "elif 60 <= score <= 70 :\n",
    "    print(\"D학점\")\n",
    "else :\n",
    "    print(\"FFFF학점\")"
   ]
  },
  {
   "cell_type": "markdown",
   "id": "07e63600",
   "metadata": {},
   "source": [
    "# 2. 세 수"
   ]
  },
  {
   "cell_type": "markdown",
   "id": "1dc00bb0",
   "metadata": {},
   "source": [
    "#### 세 정수A, B, C가 주어진다. 이때, 두 번째로 큰 정수를 출력하는 프로그램을 작성하시오."
   ]
  },
  {
   "cell_type": "code",
   "execution_count": 36,
   "id": "f8765ce1",
   "metadata": {},
   "outputs": [
    {
     "name": "stdout",
     "output_type": "stream",
     "text": [
      "세 정수를 공백 구분하여 입력해주세요(10, 20, 30) : 10 40 60\n",
      "['40']\n"
     ]
    }
   ],
   "source": [
    "a = input(\"세 정수를 공백 구분하여 입력해주세요(10, 20, 30) : \").split()    #문자열 나누기 함수_split\n",
    "a.remove(max(a))\n",
    "a.remove(min(a))\n",
    "\n",
    "print(a)\n"
   ]
  },
  {
   "cell_type": "markdown",
   "id": "bc1020fc",
   "metadata": {},
   "source": [
    "# 3. OX 퀴즈"
   ]
  },
  {
   "cell_type": "markdown",
   "id": "bc0e3836",
   "metadata": {},
   "source": [
    "#### OX 퀴즈의 결과가 주어졌을 때, 점수를 구하는 프로그램을 작성하시오.\n",
    "\"OOXXOXXOOO\"와 같은 OX 퀴즈의 결과가 있다. O 는 문제를 맞은 것이고, X 는 문제를 틀린 것이다.  문제를 맞은 경우 그 문제의 점수는 그 문제까지 연속된 O 의 개수가 된다. 예를 들어, 10 번 문제의 점수는 3 이 된다. \"OOXXOXXOOO\"의 점수는 1+2+0+0+1+0+0+1+2+3 = 10 점이다. "
   ]
  },
  {
   "cell_type": "markdown",
   "id": "d0033a13",
   "metadata": {},
   "source": [
    "##### 입력 :\n",
    "첫째 줄에 테스트 케이스의 개수가 주어진다. 각 테스트 케이스는 한 줄로 이루어져 있고, 길이가 0 보다 크고 80 보다 작은 문자열이 주어진다. 문자열은 O 와 X 만으로 이루어져 있다."
   ]
  },
  {
   "cell_type": "code",
   "execution_count": 79,
   "id": "c19f41e4",
   "metadata": {},
   "outputs": [
    {
     "name": "stdout",
     "output_type": "stream",
     "text": [
      "100\n",
      "OX입력 :ooxoooxxxoooxxooxxoo\n",
      "78\n"
     ]
    }
   ],
   "source": [
    "n = int(input())\n",
    "\n",
    "o = 0\n",
    "x = 0\n",
    "\n",
    "i = input(\"OX입력 :\")\n",
    "num = list(i)\n",
    "\n",
    "for ox in num:\n",
    "    if ox == \"o\":\n",
    "        o += 1\n",
    "        x += o\n",
    "    elif ox == \"x\":\n",
    "        score = 0\n",
    "print(x)"
   ]
  },
  {
   "cell_type": "code",
   "execution_count": null,
   "id": "5ec38acd",
   "metadata": {},
   "outputs": [],
   "source": []
  }
 ],
 "metadata": {
  "kernelspec": {
   "display_name": "Python 3",
   "language": "python",
   "name": "python3"
  },
  "language_info": {
   "codemirror_mode": {
    "name": "ipython",
    "version": 3
   },
   "file_extension": ".py",
   "mimetype": "text/x-python",
   "name": "python",
   "nbconvert_exporter": "python",
   "pygments_lexer": "ipython3",
   "version": "3.8.8"
  }
 },
 "nbformat": 4,
 "nbformat_minor": 5
}
