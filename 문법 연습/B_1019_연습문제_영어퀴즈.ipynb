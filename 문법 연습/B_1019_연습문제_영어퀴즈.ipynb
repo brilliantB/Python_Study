{
 "cells": [
  {
   "cell_type": "code",
   "execution_count": null,
   "id": "1a900709",
   "metadata": {},
   "outputs": [
    {
     "name": "stdout",
     "output_type": "stream",
     "text": [
      "Write the following sentence in English.\n",
      "그들은 뉴욕에 있다.\n"
     ]
    }
   ],
   "source": [
    "import random\n",
    "\n",
    "a = dict()\n",
    "\n",
    "# txt 파일 리스트로 담아오기\n",
    "with open('ko_en.txt') as f:    \n",
    "    for line in f.readlines()[1:]:\n",
    "        k, v = tuple(line.split('\\t'))\n",
    "        a[k] = v\n",
    "\n",
    "quiz = list(d.keys())\n",
    "random.shuffle(quiz)\n",
    "\n",
    "while True:\n",
    "    if len(quiz) == 0:\n",
    "        break\n",
    "    \n",
    "    q = quiz.pop()\n",
    "    print(\"Write the following sentence in English.\")\n",
    "    print(q)\n",
    "    a = input(\"\\nyour answer: \")\n",
    "\n",
    "    if a == a[q].rstrip():\n",
    "        print('\\nresult: Correct!')\n",
    "    else:\n",
    "        print(\"\\nresult: Not correct!\")\n",
    "        print(\"right answer:\" + a[q].rstrip() + '\\n')\n",
    "\n",
    "    input()\n",
    "\n",
    "    print('-' * 80)"
   ]
  },
  {
   "cell_type": "code",
   "execution_count": null,
   "id": "4394e515",
   "metadata": {},
   "outputs": [],
   "source": []
  }
 ],
 "metadata": {
  "kernelspec": {
   "display_name": "Python 3",
   "language": "python",
   "name": "python3"
  },
  "language_info": {
   "codemirror_mode": {
    "name": "ipython",
    "version": 3
   },
   "file_extension": ".py",
   "mimetype": "text/x-python",
   "name": "python",
   "nbconvert_exporter": "python",
   "pygments_lexer": "ipython3",
   "version": "3.8.8"
  }
 },
 "nbformat": 4,
 "nbformat_minor": 5
}
